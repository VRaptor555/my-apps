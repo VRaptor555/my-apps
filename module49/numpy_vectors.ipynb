{
 "cells": [
  {
   "cell_type": "code",
   "execution_count": 1,
   "metadata": {},
   "outputs": [
    {
     "data": {
      "text/plain": [
       "array([14. , 10. , 10.6, 15.5])"
      ]
     },
     "execution_count": 1,
     "metadata": {},
     "output_type": "execute_result"
    }
   ],
   "source": [
    "import numpy as np\n",
    "# Для начала произведём сложение двух векторов:\n",
    "vec1 = np.array([2, 4, 7, 2.5])\n",
    "vec2 = np.array([12, 6, 3.6, 13])\n",
    "vec1 + vec2"
   ]
  },
  {
   "cell_type": "code",
   "execution_count": 2,
   "metadata": {},
   "outputs": [
    {
     "data": {
      "text/plain": [
       "[2, 4, 7, 2.5, 12, 6, 3.6, 13]"
      ]
     },
     "execution_count": 2,
     "metadata": {},
     "output_type": "execute_result"
    }
   ],
   "source": [
    "# Что бы произошло при сложении двух списков? Их элементы просто объединились бы в один список:\n",
    "list1 = [2, 4, 7, 2.5]\n",
    "list2 = [12, 6, 3.6, 13]\n",
    "list1 + list2"
   ]
  },
  {
   "cell_type": "code",
   "execution_count": 3,
   "metadata": {},
   "outputs": [
    {
     "data": {
      "text/plain": [
       "[14, 10, 10.6, 15.5]"
      ]
     },
     "execution_count": 3,
     "metadata": {},
     "output_type": "execute_result"
    }
   ],
   "source": [
    "# Чтобы сложить два этих списка поэлементно, нам пришлось бы написать списочное сокращение с применением функции zip():\n",
    "[x + y for x, y in zip(list1, list2)]"
   ]
  },
  {
   "cell_type": "markdown",
   "metadata": {},
   "source": [
    "`Для совершения арифметических операций с векторами они должны быть одинаковой длины.`"
   ]
  },
  {
   "cell_type": "code",
   "execution_count": 4,
   "metadata": {},
   "outputs": [
    {
     "data": {
      "text/plain": [
       "array([24. , 24. , 25.2, 32.5])"
      ]
     },
     "execution_count": 4,
     "metadata": {},
     "output_type": "execute_result"
    }
   ],
   "source": [
    "# Поэлементно умножим два вектора одинаковой длины:\n",
    "vec1 = np.array([2, 4, 7, 2.5])\n",
    "vec2 = np.array([12, 6, 3.6, 13])\n",
    "vec1 * vec2"
   ]
  },
  {
   "cell_type": "code",
   "execution_count": 5,
   "metadata": {},
   "outputs": [
    {
     "ename": "ValueError",
     "evalue": "operands could not be broadcast together with shapes (4,) (3,) ",
     "output_type": "error",
     "traceback": [
      "\u001b[1;31m---------------------------------------------------------------------------\u001b[0m",
      "\u001b[1;31mValueError\u001b[0m                                Traceback (most recent call last)",
      "\u001b[1;32md:\\Docs\\Учеба\\Аналитик данных\\Python\\IDE\\my-apps\\module49\\numpy_vectors.ipynb Ячейка 6\u001b[0m in \u001b[0;36m<cell line: 5>\u001b[1;34m()\u001b[0m\n\u001b[0;32m      <a href='vscode-notebook-cell:/d%3A/Docs/%D0%A3%D1%87%D0%B5%D0%B1%D0%B0/%D0%90%D0%BD%D0%B0%D0%BB%D0%B8%D1%82%D0%B8%D0%BA%20%D0%B4%D0%B0%D0%BD%D0%BD%D1%8B%D1%85/Python/IDE/my-apps/module49/numpy_vectors.ipynb#ch0000005?line=1'>2</a>\u001b[0m vec1 \u001b[39m=\u001b[39m np\u001b[39m.\u001b[39marray([\u001b[39m2\u001b[39m, \u001b[39m4\u001b[39m, \u001b[39m7\u001b[39m, \u001b[39m2.5\u001b[39m])\n\u001b[0;32m      <a href='vscode-notebook-cell:/d%3A/Docs/%D0%A3%D1%87%D0%B5%D0%B1%D0%B0/%D0%90%D0%BD%D0%B0%D0%BB%D0%B8%D1%82%D0%B8%D0%BA%20%D0%B4%D0%B0%D0%BD%D0%BD%D1%8B%D1%85/Python/IDE/my-apps/module49/numpy_vectors.ipynb#ch0000005?line=2'>3</a>\u001b[0m vec2 \u001b[39m=\u001b[39m np\u001b[39m.\u001b[39marray([\u001b[39m12\u001b[39m, \u001b[39m6\u001b[39m, \u001b[39m3.6\u001b[39m])\n\u001b[1;32m----> <a href='vscode-notebook-cell:/d%3A/Docs/%D0%A3%D1%87%D0%B5%D0%B1%D0%B0/%D0%90%D0%BD%D0%B0%D0%BB%D0%B8%D1%82%D0%B8%D0%BA%20%D0%B4%D0%B0%D0%BD%D0%BD%D1%8B%D1%85/Python/IDE/my-apps/module49/numpy_vectors.ipynb#ch0000005?line=4'>5</a>\u001b[0m vec1 \u001b[39m*\u001b[39;49m vec2\n",
      "\u001b[1;31mValueError\u001b[0m: operands could not be broadcast together with shapes (4,) (3,) "
     ]
    }
   ],
   "source": [
    "# А теперь создадим vec2, который будет на один элемент короче, чем vec1:\n",
    "vec1 = np.array([2, 4, 7, 2.5])\n",
    "vec2 = np.array([12, 6, 3.6])\n",
    " \n",
    "vec1 * vec2"
   ]
  },
  {
   "cell_type": "code",
   "execution_count": 6,
   "metadata": {},
   "outputs": [
    {
     "name": "stdout",
     "output_type": "stream",
     "text": [
      "[ 0 10 20 30 40]\n",
      "[ 0  1  4  9 16]\n"
     ]
    }
   ],
   "source": [
    "# Исключением является случай, когда операция происходит с вектором и одним числом.\n",
    "# Например, вектор целиком можно умножить на число или возвести в степень этого числа:\n",
    "vec = np.arange(5)\n",
    "print(vec * 10)\n",
    "print(vec ** 2)"
   ]
  },
  {
   "cell_type": "code",
   "execution_count": 7,
   "metadata": {},
   "outputs": [
    {
     "data": {
      "text/plain": [
       "array([False, False,  True, False])"
      ]
     },
     "execution_count": 7,
     "metadata": {},
     "output_type": "execute_result"
    }
   ],
   "source": [
    "# Также векторы можно сравнивать друг с другом поэлементно:\n",
    "vec1 = np.array([2, 4, 7, 2.5])\n",
    "vec2 = np.array([12, 6, 3.6, 13])\n",
    " \n",
    "vec1 > vec2"
   ]
  },
  {
   "cell_type": "code",
   "execution_count": 8,
   "metadata": {},
   "outputs": [
    {
     "data": {
      "text/plain": [
       "array([ True,  True,  True,  True, False,  True, False])"
      ]
     },
     "execution_count": 8,
     "metadata": {},
     "output_type": "execute_result"
    }
   ],
   "source": [
    "# Аналогично можно сравнивать вектор с числом:\n",
    "\n",
    "vec = np.array([14,15,9,26,53,5,89])\n",
    "vec <= 26"
   ]
  },
  {
   "cell_type": "code",
   "execution_count": 12,
   "metadata": {},
   "outputs": [],
   "source": [
    "# Посчитаем длину следующего вектора:\n",
    "vec = np.array([3, 4])\n"
   ]
  },
  {
   "cell_type": "code",
   "execution_count": 13,
   "metadata": {},
   "outputs": [
    {
     "name": "stdout",
     "output_type": "stream",
     "text": [
      "5.0\n"
     ]
    }
   ],
   "source": [
    "# Для начала воспользуемся формулой: возведём все элементы в квадрат, посчитаем их сумму, а затем найдём квадратный корень.\n",
    "length = np.sqrt(np.sum(vec ** 2))\n",
    "print(length)"
   ]
  },
  {
   "cell_type": "code",
   "execution_count": 14,
   "metadata": {},
   "outputs": [
    {
     "name": "stdout",
     "output_type": "stream",
     "text": [
      "5.0\n"
     ]
    }
   ],
   "source": [
    "# Но можно было поступить проще. В NumPy есть специальный подмодуль linalg, который позволяет производить операции из линейной алгебры.\n",
    "# Для вычисления длины вектора нам потребуется функция norm:\n",
    "length = np.linalg.norm(vec)\n",
    "print(length)"
   ]
  },
  {
   "cell_type": "markdown",
   "metadata": {},
   "source": [
    "#### Растояние между двумя веторами\n",
    "`По сути, расстояние между векторами — это длина такого вектора, который является разностью этих векторов. В самом деле, при вычитании двух векторов вычитаются их соответствующие координаты.`"
   ]
  },
  {
   "cell_type": "code",
   "execution_count": 15,
   "metadata": {},
   "outputs": [
    {
     "data": {
      "text/plain": [
       "12.206555615733702"
      ]
     },
     "execution_count": 15,
     "metadata": {},
     "output_type": "execute_result"
    }
   ],
   "source": [
    "# Реализуем вычисление расстояния в коде. Сначала — «сложным» способом напрямую из формулы:\n",
    "vec1 = np.array([0, 3, 5])\n",
    "vec2 = np.array([12, 4, 7])\n",
    "distance = np.sqrt(np.sum((vec1 - vec2) ** 2))\n",
    "distance"
   ]
  },
  {
   "cell_type": "code",
   "execution_count": 16,
   "metadata": {},
   "outputs": [
    {
     "data": {
      "text/plain": [
       "12.206555615733702"
      ]
     },
     "execution_count": 16,
     "metadata": {},
     "output_type": "execute_result"
    }
   ],
   "source": [
    "# А теперь применим более простой способ — используем уже известную нам функцию np.linalg.norm:\n",
    "distance = np.linalg.norm(vec1 - vec2)\n",
    "distance"
   ]
  },
  {
   "cell_type": "markdown",
   "metadata": {},
   "source": [
    "### Скалярное произведение"
   ]
  },
  {
   "cell_type": "code",
   "execution_count": 17,
   "metadata": {},
   "outputs": [
    {
     "data": {
      "text/plain": [
       "250.0"
      ]
     },
     "execution_count": 17,
     "metadata": {},
     "output_type": "execute_result"
    }
   ],
   "source": [
    "vec1 = np.arange(1, 6)\n",
    "vec2 = np.linspace(10, 20, 5)\n",
    "scalar_product = np.sum(vec1 * vec2)\n",
    "scalar_product"
   ]
  },
  {
   "cell_type": "code",
   "execution_count": 18,
   "metadata": {},
   "outputs": [
    {
     "data": {
      "text/plain": [
       "250.0"
      ]
     },
     "execution_count": 18,
     "metadata": {},
     "output_type": "execute_result"
    }
   ],
   "source": [
    "# используем функцию np.dot(x, y):\n",
    "scalar_product = np.dot(vec1, vec2)\n",
    "scalar_product"
   ]
  },
  {
   "cell_type": "code",
   "execution_count": 20,
   "metadata": {},
   "outputs": [
    {
     "data": {
      "text/plain": [
       "0"
      ]
     },
     "execution_count": 20,
     "metadata": {},
     "output_type": "execute_result"
    }
   ],
   "source": [
    "# Если скалярное произведение = 0, то векторы перпендикулярны\n",
    "x = np.array([25, 0])\n",
    "y = np.array([0, 10])\n",
    "np.dot(x, y)"
   ]
  },
  {
   "cell_type": "markdown",
   "metadata": {},
   "source": [
    "`На практике векторы используются, например, для оценки текстов. С помощью специальных преобразований слова в тексте превращаются в числовые векторы. Затем через определение направлений полученных векторов можно находить слова-синонимы и антонимы, а также оценивать общую эмоциональную окраску текста. Такие алгоритмы для анализа данных используются, чтобы автоматически по отзывам определять степень удовлетворённости клиентов продуктом.`"
   ]
  },
  {
   "cell_type": "code",
   "execution_count": 24,
   "metadata": {},
   "outputs": [
    {
     "name": "stdout",
     "output_type": "stream",
     "text": [
      "a и b -  False\n",
      "b и c -  False\n",
      "a и c -  True\n",
      "Растояние a-b 85.901105930017\n",
      "Растояние a-c 49.13247398615299\n",
      "Растояние b-c 120.6358155772986\n",
      "a - b перпендикулярны:  False\n",
      "a - c перпендикулярны:  False\n",
      "b - c перпендикулярны:  False\n"
     ]
    }
   ],
   "source": [
    "# Задание 49.7.4\n",
    "a = np.array([23, 34, 27])\n",
    "b = np.array([-54, 1,  46])\n",
    "c = np.array([46, 68, 54])\n",
    "\n",
    "# Пишите здесь команды, который помогут\n",
    "# найти ответы на вопросы\n",
    "a_length = np.linalg.norm(a)\n",
    "b_length = np.linalg.norm(b)\n",
    "c_length = np.linalg.norm(c)\n",
    "ab = np.linalg.norm(a+b)\n",
    "bc = np.linalg.norm(b+c)\n",
    "ac = np.linalg.norm(a+c)\n",
    "print('a и b - ', a_length+b_length==ab)\n",
    "print('b и c - ', c_length+b_length==bc)\n",
    "print('a и c - ', a_length+c_length==ac)\n",
    "# 49.7.5 (Растояние между векторами > 100)\n",
    "ab_distance = np.linalg.norm(a - b)\n",
    "ac_distance = np.linalg.norm(a - c)\n",
    "bc_distance = np.linalg.norm(b - c)\n",
    "print('Растояние a-b {}'.format(ab_distance))\n",
    "print('Растояние a-c {}'.format(ac_distance))\n",
    "print('Растояние b-c {}'.format(bc_distance))\n",
    "# 49.7.6 (Скалярное произведение)\n",
    "ab_scalar = np.dot(a,b)\n",
    "ac_scalar = np.dot(a,c)\n",
    "bc_scalar = np.dot(c,b)\n",
    "print('a - b перпендикулярны: ', ab_scalar==0)\n",
    "print('a - c перпендикулярны: ', ac_scalar==0)\n",
    "print('b - c перпендикулярны: ', bc_scalar==0)"
   ]
  },
  {
   "cell_type": "code",
   "execution_count": 25,
   "metadata": {},
   "outputs": [
    {
     "name": "stdout",
     "output_type": "stream",
     "text": [
      "1\n",
      "28\n"
     ]
    }
   ],
   "source": [
    "# Функции np.min и np.max позволяют находить максимальное и минимальное значение в векторе.\n",
    "# Их можно записывать как в виде np.min(<vector>), так и в виде <vector>.min():\n",
    "vec = np.array([2,7,18,28,18,1,8,4])\n",
    "\n",
    "print(vec.min())\n",
    "\n",
    "print(np.max(vec))"
   ]
  },
  {
   "cell_type": "code",
   "execution_count": null,
   "metadata": {},
   "outputs": [],
   "source": [
    "# Функция mean позволяет посчитать среднее значение. Больше не требуется реализовывать её «руками»!\n",
    "vec.mean()"
   ]
  }
 ],
 "metadata": {
  "kernelspec": {
   "display_name": "Python 3.10.5 64-bit",
   "language": "python",
   "name": "python3"
  },
  "language_info": {
   "codemirror_mode": {
    "name": "ipython",
    "version": 3
   },
   "file_extension": ".py",
   "mimetype": "text/x-python",
   "name": "python",
   "nbconvert_exporter": "python",
   "pygments_lexer": "ipython3",
   "version": "3.10.5"
  },
  "orig_nbformat": 4,
  "vscode": {
   "interpreter": {
    "hash": "52bb6d70ef49c02ab2aa43ab31bba4edd1c59a51e59b9fce56cbe4e55ae05671"
   }
  }
 },
 "nbformat": 4,
 "nbformat_minor": 2
}
