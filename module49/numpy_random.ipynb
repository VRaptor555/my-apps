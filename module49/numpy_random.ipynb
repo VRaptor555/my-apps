{
 "cells": [
  {
   "cell_type": "code",
   "execution_count": 3,
   "metadata": {},
   "outputs": [
    {
     "data": {
      "text/plain": [
       "0.6465077795650006"
      ]
     },
     "execution_count": 3,
     "metadata": {},
     "output_type": "execute_result"
    }
   ],
   "source": [
    "import numpy as np\n",
    "np.random.rand()"
   ]
  },
  {
   "cell_type": "code",
   "execution_count": 8,
   "metadata": {},
   "outputs": [
    {
     "data": {
      "text/plain": [
       "48.35720105840531"
      ]
     },
     "execution_count": 8,
     "metadata": {},
     "output_type": "execute_result"
    }
   ],
   "source": [
    "np.random.rand() * 100"
   ]
  },
  {
   "cell_type": "code",
   "execution_count": 9,
   "metadata": {},
   "outputs": [
    {
     "data": {
      "text/plain": [
       "array([0.04592028, 0.7988063 , 0.29397845, 0.80303856, 0.11632293])"
      ]
     },
     "execution_count": 9,
     "metadata": {},
     "output_type": "execute_result"
    }
   ],
   "source": [
    "np.random.rand(5)"
   ]
  },
  {
   "cell_type": "code",
   "execution_count": 10,
   "metadata": {},
   "outputs": [
    {
     "data": {
      "text/plain": [
       "array([[0.95387829, 0.97962712, 0.91025956],\n",
       "       [0.78112557, 0.10387629, 0.54990437]])"
      ]
     },
     "execution_count": 10,
     "metadata": {},
     "output_type": "execute_result"
    }
   ],
   "source": [
    "np.random.rand(2, 3)"
   ]
  },
  {
   "cell_type": "code",
   "execution_count": 38,
   "metadata": {},
   "outputs": [],
   "source": [
    "# Функция rand может принимать неограниченное число целых чисел для задания формы массива:\n",
    "np.random.rand(2, 3, 4, 10, 12, 23)"
   ]
  },
  {
   "cell_type": "code",
   "execution_count": 12,
   "metadata": {},
   "outputs": [
    {
     "ename": "TypeError",
     "evalue": "'tuple' object cannot be interpreted as an integer",
     "output_type": "error",
     "traceback": [
      "\u001b[1;31m---------------------------------------------------------------------------\u001b[0m",
      "\u001b[1;31mTypeError\u001b[0m                                 Traceback (most recent call last)",
      "\u001b[1;32mc:\\Learn_python\\my-apps\\my-apps\\module49\\numpy_random.ipynb Ячейка 6\u001b[0m in \u001b[0;36m<cell line: 3>\u001b[1;34m()\u001b[0m\n\u001b[0;32m      <a href='vscode-notebook-cell:/c%3A/Learn_python/my-apps/my-apps/module49/numpy_random.ipynb#ch0000005?line=0'>1</a>\u001b[0m \u001b[39m# Если передать в rand кортеж, возникнет ошибка\u001b[39;00m\n\u001b[0;32m      <a href='vscode-notebook-cell:/c%3A/Learn_python/my-apps/my-apps/module49/numpy_random.ipynb#ch0000005?line=1'>2</a>\u001b[0m shape \u001b[39m=\u001b[39m (\u001b[39m3\u001b[39m, \u001b[39m4\u001b[39m)\n\u001b[1;32m----> <a href='vscode-notebook-cell:/c%3A/Learn_python/my-apps/my-apps/module49/numpy_random.ipynb#ch0000005?line=2'>3</a>\u001b[0m np\u001b[39m.\u001b[39;49mrandom\u001b[39m.\u001b[39;49mrand(shape)\n",
      "File \u001b[1;32mmtrand.pyx:1182\u001b[0m, in \u001b[0;36mnumpy.random.mtrand.RandomState.rand\u001b[1;34m()\u001b[0m\n",
      "File \u001b[1;32mmtrand.pyx:425\u001b[0m, in \u001b[0;36mnumpy.random.mtrand.RandomState.random_sample\u001b[1;34m()\u001b[0m\n",
      "File \u001b[1;32m_common.pyx:307\u001b[0m, in \u001b[0;36mnumpy.random._common.double_fill\u001b[1;34m()\u001b[0m\n",
      "\u001b[1;31mTypeError\u001b[0m: 'tuple' object cannot be interpreted as an integer"
     ]
    }
   ],
   "source": [
    "# Если передать в rand кортеж, возникнет ошибка\n",
    "shape = (3, 4)\n",
    "np.random.rand(shape)"
   ]
  },
  {
   "cell_type": "code",
   "execution_count": 13,
   "metadata": {},
   "outputs": [
    {
     "data": {
      "text/plain": [
       "array([[0.30604485, 0.72192217, 0.88224761, 0.4808349 ],\n",
       "       [0.14341157, 0.74605659, 0.0631131 , 0.82500832],\n",
       "       [0.27389554, 0.43207754, 0.906694  , 0.03356113]])"
      ]
     },
     "execution_count": 13,
     "metadata": {},
     "output_type": "execute_result"
    }
   ],
   "source": [
    "# Конечно, можно было бы распаковать кортеж, чтобы избавиться от ошибки:\n",
    "shape = (3, 4)\n",
    "np.random.rand(*shape)"
   ]
  },
  {
   "cell_type": "code",
   "execution_count": 14,
   "metadata": {},
   "outputs": [
    {
     "data": {
      "text/plain": [
       "array([[0.15815009, 0.56248599, 0.62704766],\n",
       "       [0.97430082, 0.92670053, 0.80246857]])"
      ]
     },
     "execution_count": 14,
     "metadata": {},
     "output_type": "execute_result"
    }
   ],
   "source": [
    "# Но в NumPy есть и другая функция, генерирующая массивы случайных чисел от 0 до 1,\n",
    "# которая принимает в качестве аргумента именно кортеж без распаковки. Она называется sample:\n",
    "shape = (2, 3)\n",
    "np.random.sample(shape)"
   ]
  },
  {
   "cell_type": "code",
   "execution_count": 15,
   "metadata": {},
   "outputs": [
    {
     "data": {
      "text/plain": [
       "0.006235846117964683"
      ]
     },
     "execution_count": 15,
     "metadata": {},
     "output_type": "execute_result"
    }
   ],
   "source": [
    "# Не всегда требуются числа в диапазоне именно от 0 до 1.\n",
    "# На самом деле с помощью специальных формул можно из диапазона от 0 до 1 получить любой другой желаемый диапазон,\n",
    "# однако это не требуется делать самостоятельно — в NumPy доступна функция uniform:\n",
    "\n",
    "# uniform(low=0.0, high=1.0, size=None)\n",
    "\n",
    "# Первые два аргумента — нижняя и верхняя границы диапазона в формате float, \n",
    "# третий опциональный аргумент — форма массива (если не задан, возвращается одно число). \n",
    "# Форма массива задаётся кортежем или одним числом.\n",
    "\n",
    "np.random.uniform()\n"
   ]
  },
  {
   "cell_type": "code",
   "execution_count": 16,
   "metadata": {},
   "outputs": [
    {
     "data": {
      "text/plain": [
       "-6.643615373217322"
      ]
     },
     "execution_count": 16,
     "metadata": {},
     "output_type": "execute_result"
    }
   ],
   "source": [
    "np.random.uniform(-30, 50)"
   ]
  },
  {
   "cell_type": "code",
   "execution_count": 17,
   "metadata": {},
   "outputs": [
    {
     "data": {
      "text/plain": [
       "array([0.53420108, 0.64459307, 0.6949962 , 0.52868043, 0.50209794])"
      ]
     },
     "execution_count": 17,
     "metadata": {},
     "output_type": "execute_result"
    }
   ],
   "source": [
    "np.random.uniform(0.5, 0.75, size=5)"
   ]
  },
  {
   "cell_type": "code",
   "execution_count": 18,
   "metadata": {},
   "outputs": [
    {
     "data": {
      "text/plain": [
       "array([[  85.86180625, -369.22071241, -638.27183008],\n",
       "       [  23.00507377,  -91.88531907, -889.52230716]])"
      ]
     },
     "execution_count": 18,
     "metadata": {},
     "output_type": "execute_result"
    }
   ],
   "source": [
    "np.random.uniform(-1000, 500, size=(2, 3))"
   ]
  },
  {
   "cell_type": "markdown",
   "metadata": {},
   "source": [
    "### ГЕНЕРАЦИЯ INT"
   ]
  },
  {
   "cell_type": "markdown",
   "metadata": {},
   "source": [
    "- randint(low, high=None, size=None, dtype=int)\n",
    "\n",
    "Функцию randint нельзя запустить совсем без параметров, необходимо указать хотя бы одно число.\n",
    "\n",
    "* Если указан только аргумент low, числа будут генерироваться от 0 до low-1, то есть верхняя граница не включается.\n",
    "* Если задать low и high, числа будут генерироваться от low (включительно) до high (не включительно).\n",
    "* size задаёт форму массива уже привычным для вас образом: одним числом — для одномерного или кортежем — для многомерного.\n",
    "* dtype позволяет задать конкретный тип данных, который должен быть использован в массиве.\n"
   ]
  },
  {
   "cell_type": "code",
   "execution_count": 19,
   "metadata": {},
   "outputs": [
    {
     "data": {
      "text/plain": [
       "array([[3, 1, 3],\n",
       "       [3, 1, 2]])"
      ]
     },
     "execution_count": 19,
     "metadata": {},
     "output_type": "execute_result"
    }
   ],
   "source": [
    "# Сгенерируем таблицу 2x3 от 0 до 3 включительно:\n",
    "np.random.randint(4, size=(2,3))"
   ]
  },
  {
   "cell_type": "code",
   "execution_count": 20,
   "metadata": {},
   "outputs": [
    {
     "data": {
      "text/plain": [
       "array([[ 6, 11,  9],\n",
       "       [11,  8,  7],\n",
       "       [ 7,  6,  8]])"
      ]
     },
     "execution_count": 20,
     "metadata": {},
     "output_type": "execute_result"
    }
   ],
   "source": [
    "np.random.randint(6, 12, size=(3,3))"
   ]
  },
  {
   "cell_type": "markdown",
   "metadata": {},
   "source": [
    "#### ГЕНЕРАЦИЯ ВЫБОРОК"
   ]
  },
  {
   "cell_type": "code",
   "execution_count": 21,
   "metadata": {},
   "outputs": [
    {
     "name": "stdout",
     "output_type": "stream",
     "text": [
      "[0 1 2 3 4 5]\n",
      "None\n"
     ]
    },
    {
     "data": {
      "text/plain": [
       "array([2, 1, 5, 4, 3, 0])"
      ]
     },
     "execution_count": 21,
     "metadata": {},
     "output_type": "execute_result"
    }
   ],
   "source": [
    "# Возьмём массив из целых чисел от 0 до 5 и перемешаем его:\n",
    "arr = np.arange(6)\n",
    "print(arr)\n",
    "print(np.random.shuffle(arr))\n",
    "arr"
   ]
  },
  {
   "cell_type": "code",
   "execution_count": 22,
   "metadata": {},
   "outputs": [
    {
     "name": "stdout",
     "output_type": "stream",
     "text": [
      "['Pink Floyd' 'Deep Purple' 'ACDC' 'The Beatles']\n",
      "['The Beatles', 'Pink Floyd', 'ACDC', 'Deep Purple']\n"
     ]
    }
   ],
   "source": [
    "# Чтобы получить новый перемешанный массив, а исходный оставить без изменений, можно использовать функцию random.permutation.\n",
    "# Она принимает на вход один аргумент — или массив целиком, или одно число:\n",
    "playlist = [\"The Beatles\", \"Pink Floyd\", \"ACDC\", \"Deep Purple\"]\n",
    "shuffled = np.random.permutation(playlist)\n",
    "print(shuffled)\n",
    "print(playlist)"
   ]
  },
  {
   "cell_type": "code",
   "execution_count": 23,
   "metadata": {},
   "outputs": [
    {
     "data": {
      "text/plain": [
       "array([0, 6, 9, 5, 1, 3, 4, 2, 7, 8])"
      ]
     },
     "execution_count": 23,
     "metadata": {},
     "output_type": "execute_result"
    }
   ],
   "source": [
    "# Перемешать набор чисел от 0 до n-1 можно с помощью записи np.random.permutation(n),\n",
    "# где n — верхняя граница, которая бы использовалась для генерации набора чисел функцией arange.\n",
    "np.random.permutation(10)"
   ]
  },
  {
   "cell_type": "markdown",
   "metadata": {},
   "source": [
    "Чтобы получить случайный набор объектов из массива, используется функция random.choice:\n",
    "\n",
    "choice(a, size=None, replace=True)\n",
    "- где\n",
    "* a — массив или число для генерации arange(a);\n",
    "* size — желаемая форма массива (число для получения одномерного массива, кортеж — для многомерного; если параметр не задан, возвращается один объект);\n",
    "* replace — параметр, задающий, могут ли элементы повторяться (по умолчанию могут)."
   ]
  },
  {
   "cell_type": "code",
   "execution_count": 24,
   "metadata": {},
   "outputs": [
    {
     "name": "stdout",
     "output_type": "stream",
     "text": [
      "['John' 'Nikita']\n"
     ]
    }
   ],
   "source": [
    "workers = ['Ivan', 'Nikita', 'Maria', 'John', 'Kate']\n",
    " \n",
    "choice = np.random.choice(workers, size=2, replace=False)\n",
    "print(choice)"
   ]
  },
  {
   "cell_type": "code",
   "execution_count": 25,
   "metadata": {},
   "outputs": [
    {
     "ename": "ValueError",
     "evalue": "Cannot take a larger sample than population when 'replace=False'",
     "output_type": "error",
     "traceback": [
      "\u001b[1;31m---------------------------------------------------------------------------\u001b[0m",
      "\u001b[1;31mValueError\u001b[0m                                Traceback (most recent call last)",
      "\u001b[1;32mc:\\Learn_python\\my-apps\\my-apps\\module49\\numpy_random.ipynb Ячейка 23\u001b[0m in \u001b[0;36m<cell line: 4>\u001b[1;34m()\u001b[0m\n\u001b[0;32m      <a href='vscode-notebook-cell:/c%3A/Learn_python/my-apps/my-apps/module49/numpy_random.ipynb#ch0000022?line=0'>1</a>\u001b[0m \u001b[39m# На выходе получили массив из двух имён без повторений. \u001b[39;00m\n\u001b[0;32m      <a href='vscode-notebook-cell:/c%3A/Learn_python/my-apps/my-apps/module49/numpy_random.ipynb#ch0000022?line=1'>2</a>\u001b[0m \u001b[39m# Если попытаться получить без повторений массив большего размера, чем имеется объектов в исходном, возникнет ошибка:\u001b[39;00m\n\u001b[0;32m      <a href='vscode-notebook-cell:/c%3A/Learn_python/my-apps/my-apps/module49/numpy_random.ipynb#ch0000022?line=2'>3</a>\u001b[0m workers \u001b[39m=\u001b[39m [\u001b[39m'\u001b[39m\u001b[39mIvan\u001b[39m\u001b[39m'\u001b[39m, \u001b[39m'\u001b[39m\u001b[39mNikita\u001b[39m\u001b[39m'\u001b[39m, \u001b[39m'\u001b[39m\u001b[39mMaria\u001b[39m\u001b[39m'\u001b[39m, \u001b[39m'\u001b[39m\u001b[39mJohn\u001b[39m\u001b[39m'\u001b[39m, \u001b[39m'\u001b[39m\u001b[39mKate\u001b[39m\u001b[39m'\u001b[39m]\n\u001b[1;32m----> <a href='vscode-notebook-cell:/c%3A/Learn_python/my-apps/my-apps/module49/numpy_random.ipynb#ch0000022?line=3'>4</a>\u001b[0m choice \u001b[39m=\u001b[39m np\u001b[39m.\u001b[39;49mrandom\u001b[39m.\u001b[39;49mchoice(workers, size\u001b[39m=\u001b[39;49m\u001b[39m10\u001b[39;49m, replace\u001b[39m=\u001b[39;49m\u001b[39mFalse\u001b[39;49;00m)\n\u001b[0;32m      <a href='vscode-notebook-cell:/c%3A/Learn_python/my-apps/my-apps/module49/numpy_random.ipynb#ch0000022?line=4'>5</a>\u001b[0m \u001b[39mprint\u001b[39m(choice)\n",
      "File \u001b[1;32mmtrand.pyx:965\u001b[0m, in \u001b[0;36mnumpy.random.mtrand.RandomState.choice\u001b[1;34m()\u001b[0m\n",
      "\u001b[1;31mValueError\u001b[0m: Cannot take a larger sample than population when 'replace=False'"
     ]
    }
   ],
   "source": [
    "# На выходе получили массив из двух имён без повторений. \n",
    "# Если попытаться получить без повторений массив большего размера, чем имеется объектов в исходном, возникнет ошибка:\n",
    "workers = ['Ivan', 'Nikita', 'Maria', 'John', 'Kate']\n",
    "choice = np.random.choice(workers, size=10, replace=False)\n",
    "print(choice)"
   ]
  },
  {
   "cell_type": "code",
   "execution_count": 26,
   "metadata": {},
   "outputs": [
    {
     "name": "stdout",
     "output_type": "stream",
     "text": [
      "[2 4 3 4 4 1 3 2 3 5]\n"
     ]
    }
   ],
   "source": [
    "# По умолчанию повторения включены, при большем размере чем массив, ошибки не возникает\n",
    "choice = np.random.choice([1,2,3,4,5,6], size=10)\n",
    "print(choice)"
   ]
  },
  {
   "cell_type": "markdown",
   "metadata": {},
   "source": [
    "#### SEED ГЕНЕРАТОРА ПСЕВДОСЛУЧАЙНЫХ ЧИСЕЛ"
   ]
  },
  {
   "cell_type": "code",
   "execution_count": 27,
   "metadata": {},
   "outputs": [
    {
     "data": {
      "text/plain": [
       "array([[3, 6, 8, 9],\n",
       "       [6, 8, 7, 9],\n",
       "       [3, 6, 1, 2]])"
      ]
     },
     "execution_count": 27,
     "metadata": {},
     "output_type": "execute_result"
    }
   ],
   "source": [
    "# Зададим seed и посмотрим, что получится:\n",
    "np.random.seed(23)\n",
    "np.random.randint(10, size=(3,4))"
   ]
  },
  {
   "cell_type": "code",
   "execution_count": 28,
   "metadata": {},
   "outputs": [
    {
     "name": "stdout",
     "output_type": "stream",
     "text": [
      "[8 8 3]\n",
      "[7 7 0]\n",
      "[4 2 5]\n"
     ]
    }
   ],
   "source": [
    "np.random.seed(100)\n",
    "print(np.random.randint(10, size=3))\n",
    "print(np.random.randint(10, size=3))\n",
    "print(np.random.randint(10, size=3))"
   ]
  },
  {
   "cell_type": "code",
   "execution_count": 37,
   "metadata": {},
   "outputs": [
    {
     "name": "stdout",
     "output_type": "stream",
     "text": [
      "[ 6 10  2  8 14 16  4 12]\n"
     ]
    }
   ],
   "source": [
    "# Не забудьте импортировать numpy и сразу задать seed 2021\n",
    "np.random.seed(2021)\n",
    "\n",
    "# В simple сохранте случайное число в диапазоне от 0 до 1\n",
    "simple = np.random.rand()\n",
    "\n",
    "# Сгенерируйте 120 чисел в диапазоне от -150 до 2021, сохраните их\n",
    "# в переменную randoms\n",
    "randoms = np.random.uniform(-150, 2021, size=120)\n",
    "\n",
    "# Получите массив из случайных целых чисел от 1 до 100 (включительно)\n",
    "# из 3 строк и 2 столбцов. Сохраните результат в table\n",
    "table = np.random.randint(1, 101, size=(3,2))\n",
    "\n",
    "# В переменную even сохраните четные числа от 2 до 16 (включительно)\n",
    "even = np.arange(2, 17, 2)\n",
    "\n",
    "# Перемешайте числа в even так, чтобы массив even изменился\n",
    "np.random.shuffle(even)\n",
    "\n",
    "# Получите из even 3 числа без повторений. Сохраните их в переменную select\n",
    "select = np.random.choice(even, size=3, replace=False)\n",
    "\n",
    "# Получите переменную triplet, которая должна содержать перемешанные\n",
    "# значения из массива select (сам select измениться не должен)\n",
    "triplet = np.random.permutation(select)\n",
    "print (even)"
   ]
  },
  {
   "cell_type": "code",
   "execution_count": 30,
   "metadata": {},
   "outputs": [
    {
     "name": "stdout",
     "output_type": "stream",
     "text": [
      "0\n"
     ]
    }
   ],
   "source": [
    "num=\"-65536\"\n",
    "numint = np.int16(num)\n",
    "print(numint)"
   ]
  },
  {
   "cell_type": "code",
   "execution_count": 31,
   "metadata": {},
   "outputs": [],
   "source": [
    "def get_chess(a):\n",
    "    mass=np.zeros([a,a])\n",
    "    mass[::2, 1::2] = 1\n",
    "    mass[1::2, ::2] = 1\n",
    "    return mass"
   ]
  },
  {
   "cell_type": "code",
   "execution_count": 32,
   "metadata": {},
   "outputs": [
    {
     "data": {
      "text/plain": [
       "array([[0., 1., 0., 1.],\n",
       "       [1., 0., 1., 0.],\n",
       "       [0., 1., 0., 1.],\n",
       "       [1., 0., 1., 0.]])"
      ]
     },
     "execution_count": 32,
     "metadata": {},
     "output_type": "execute_result"
    }
   ],
   "source": [
    "get_chess(4)"
   ]
  },
  {
   "cell_type": "code",
   "execution_count": 33,
   "metadata": {},
   "outputs": [],
   "source": [
    "from numpy import uint32\n",
    "\n",
    "\n",
    "def shuffle_seed(array):\n",
    "    # Напишите тело функции принимает на вход массив из чисел, генерирует случайное число для seed в диапазоне от 0 до 2**32 - 1 (включительно) и возвращает кортеж: перемешанный с данным seed массив (исходный массив должен оставаться без изменений),\n",
    "    # а также seed, с которым этот массив был получен.\n",
    "    seed_x = np.random.randint(0, 4294967296, dtype=uint32)\n",
    "    np.random.seed(seed_x)\n",
    "    return np.random.permutation(array), seed_x\n"
   ]
  },
  {
   "cell_type": "code",
   "execution_count": 34,
   "metadata": {},
   "outputs": [
    {
     "data": {
      "text/plain": [
       "(array([1, 3, 5, 4, 2]), 3670196057)"
      ]
     },
     "execution_count": 34,
     "metadata": {},
     "output_type": "execute_result"
    }
   ],
   "source": [
    "array = [1, 2, 3, 4, 5]\n",
    "shuffle_seed(array)"
   ]
  },
  {
   "cell_type": "code",
   "execution_count": 1,
   "metadata": {},
   "outputs": [],
   "source": [
    "def min_max_dist(*vectors):\n",
    "    # Задаем начальные значения\n",
    "    min_ = -1\n",
    "    max_ = -1\n",
    "    i = 0\n",
    "    while True:\n",
    "        if len(vectors)-1 == i:\n",
    "            # Если остался последний вектор, его сравнивать не с чем, выходим\n",
    "            if min_ == -1:\n",
    "                min_ = 0\n",
    "            if max_ == -1:\n",
    "                max_ = 0\n",
    "            # Если это был единственный вектор - ставим мин и макс в 0\n",
    "            break\n",
    "        vector0 = vectors[i] # Сектор от которого считаем растояние до других векторов\n",
    "        for ind in range(i+1, len(vectors)):\n",
    "            ab = np.linalg.norm(vectors[ind]-vector0)\n",
    "            if (min_ == -1) or (min_ > ab):\n",
    "                min_ = ab\n",
    "            if (max_ == -1) or (max_ < ab):\n",
    "                max_ = ab\n",
    "        i += 1\n",
    "    return (min_, max_)"
   ]
  },
  {
   "cell_type": "code",
   "execution_count": 9,
   "metadata": {},
   "outputs": [
    {
     "data": {
      "text/plain": [
       "(5.196152422706632, 5.196152422706632)"
      ]
     },
     "execution_count": 9,
     "metadata": {},
     "output_type": "execute_result"
    }
   ],
   "source": [
    "vec1 = np.array([1,2,3])\n",
    "vec2 = np.array([4,5,6])\n",
    "vec3 = np.array([7, 8, 9])\n",
    " \n",
    "min_max_dist(vec1, vec2)"
   ]
  },
  {
   "cell_type": "code",
   "execution_count": 10,
   "metadata": {},
   "outputs": [],
   "source": [
    "def any_normal(*vectors):\n",
    "    # Задаем начальные значения\n",
    "    i = 0\n",
    "    while True:\n",
    "        if len(vectors)-1 == i:\n",
    "            break\n",
    "        vector0 = vectors[i] # Вектор от которого считаем скалярное произведение\n",
    "        for ind in range(i+1, len(vectors)):\n",
    "            ab = np.dot(vectors[ind],vector0)\n",
    "            if ab == 0:\n",
    "                return True\n",
    "        i += 1\n",
    "    return False"
   ]
  },
  {
   "cell_type": "code",
   "execution_count": 11,
   "metadata": {},
   "outputs": [
    {
     "name": "stdout",
     "output_type": "stream",
     "text": [
      "True\n"
     ]
    }
   ],
   "source": [
    "vec1 = np.array([2, 1])\n",
    "vec2 = np.array([-1, 2])\n",
    "vec3 = np.array([3,4])\n",
    "print(any_normal(vec1, vec2, vec3))"
   ]
  },
  {
   "cell_type": "code",
   "execution_count": 54,
   "metadata": {},
   "outputs": [],
   "source": [
    "x_ar = np.array(\n",
    "    [\n",
    "    [-3, -3, -2],\n",
    "    [-1, 0, 1],\n",
    "    [2, 3, 4]\n",
    "    ]\n",
    "    )"
   ]
  },
  {
   "cell_type": "code",
   "execution_count": 52,
   "metadata": {},
   "outputs": [],
   "source": [
    "a = np.array([-3, -3, -2])\n",
    "b = np.array([-1, 0, 1])\n",
    "c = np.array([2, 3, 4])"
   ]
  },
  {
   "cell_type": "code",
   "execution_count": 53,
   "metadata": {},
   "outputs": [
    {
     "name": "stdout",
     "output_type": "stream",
     "text": [
      "4.69041575982343\n",
      "9.848857801796104\n",
      "5.196152422706632\n"
     ]
    }
   ],
   "source": [
    "print(np.linalg.norm(a-b))\n",
    "print(np.linalg.norm(a-c))\n",
    "print(np.linalg.norm(c-b))"
   ]
  },
  {
   "cell_type": "code",
   "execution_count": 74,
   "metadata": {},
   "outputs": [
    {
     "name": "stdout",
     "output_type": "stream",
     "text": [
      "9.848857801796104\n"
     ]
    }
   ],
   "source": [
    "print(np.linalg.norm(x_ar[0, ::] - x_ar[2, ::]))"
   ]
  },
  {
   "cell_type": "code",
   "execution_count": 75,
   "metadata": {},
   "outputs": [],
   "source": [
    "def get_loto(num):\n",
    "    return np.random.randint(1,101,(num,5,5))\n",
    "    # Напишите тело функции\n",
    "    \n"
   ]
  },
  {
   "cell_type": "code",
   "execution_count": 76,
   "metadata": {},
   "outputs": [
    {
     "data": {
      "text/plain": [
       "array([[[ 90,  20,  30,  91,  98],\n",
       "        [ 43,  68,  24,  98,  60],\n",
       "        [ 92,  86,  24,  57,  19],\n",
       "        [ 44, 100,  68,  91,  11],\n",
       "        [100,  28,  25,  18,  62]],\n",
       "\n",
       "       [[ 63,   8,  19,  76,  33],\n",
       "        [ 99,  40,  48,  50,  11],\n",
       "        [  1,  63,  18,  39,  36],\n",
       "        [ 78,  28,  51,  83,  45],\n",
       "        [ 20,   4,  74,  34,  81]],\n",
       "\n",
       "       [[ 18,  25,   4,  33,  82],\n",
       "        [ 58,  14,  82,  44,  69],\n",
       "        [ 86,  56,  51,  54,  76],\n",
       "        [ 79,  67,  71,  94,   4],\n",
       "        [ 21,   5,  35,  66,  40]]])"
      ]
     },
     "execution_count": 76,
     "metadata": {},
     "output_type": "execute_result"
    }
   ],
   "source": [
    "get_loto(3)"
   ]
  },
  {
   "cell_type": "code",
   "execution_count": 91,
   "metadata": {},
   "outputs": [],
   "source": [
    "import enum\n",
    "\n",
    "\n",
    "def get_unique_loto(num):\n",
    "    temp_arr = np.arange(1, 101)\n",
    "    ret_arr = np.zeros((num, 5, 5))\n",
    "    for ind, arrx in enumerate(ret_arr):\n",
    "        ret_arr[ind] = np.random.choice(temp_arr, size=(5,5), replace=False)    \n",
    "    return ret_arr\n"
   ]
  },
  {
   "cell_type": "code",
   "execution_count": 92,
   "metadata": {},
   "outputs": [
    {
     "data": {
      "text/plain": [
       "array([[[ 77.,  59.,  86.,  23.,  60.],\n",
       "        [ 33., 100.,  29.,  16.,  47.],\n",
       "        [  7.,  64.,  78.,  10.,  63.],\n",
       "        [ 62.,  50.,  79.,  39.,  52.],\n",
       "        [ 89.,  97.,  22.,   3.,  73.]],\n",
       "\n",
       "       [[ 44.,  58.,  91.,  81.,  76.],\n",
       "        [ 35.,  46.,  66.,  89.,  85.],\n",
       "        [ 71.,  56.,  12.,  93.,  77.],\n",
       "        [ 33.,  49.,  74.,  60.,  95.],\n",
       "        [ 70.,  69.,  79.,  37.,  86.]],\n",
       "\n",
       "       [[ 48.,  71.,  31.,  95.,   2.],\n",
       "        [ 77.,   5.,  23.,  54.,  78.],\n",
       "        [ 91.,  92.,  81.,   1.,  85.],\n",
       "        [ 43.,  39.,  26.,  62.,  51.],\n",
       "        [  6.,  52.,  37.,  89.,  10.]]])"
      ]
     },
     "execution_count": 92,
     "metadata": {},
     "output_type": "execute_result"
    }
   ],
   "source": [
    "get_unique_loto(3)"
   ]
  }
 ],
 "metadata": {
  "kernelspec": {
   "display_name": "Python 3.10.5 64-bit",
   "language": "python",
   "name": "python3"
  },
  "language_info": {
   "codemirror_mode": {
    "name": "ipython",
    "version": 3
   },
   "file_extension": ".py",
   "mimetype": "text/x-python",
   "name": "python",
   "nbconvert_exporter": "python",
   "pygments_lexer": "ipython3",
   "version": "3.10.5"
  },
  "orig_nbformat": 4,
  "vscode": {
   "interpreter": {
    "hash": "36c6851108447751ff9a78a375ee7b602a45470c5b7394c41491d0df81785d53"
   }
  }
 },
 "nbformat": 4,
 "nbformat_minor": 2
}
