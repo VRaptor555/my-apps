{
 "cells": [
  {
   "cell_type": "code",
   "execution_count": 1,
   "metadata": {},
   "outputs": [],
   "source": [
    "from collections import OrderedDict"
   ]
  },
  {
   "cell_type": "code",
   "execution_count": 4,
   "metadata": {},
   "outputs": [],
   "source": [
    "temps = [('2000', -4.4), ('2001', -2.5), ('2002', -4.4), ('2003', -9.5),\n",
    "        ('2004', -8.2), ('2005', -1.6), ('2006', -5.9), ('2007', -2.4),\n",
    "        ('2008', -1.7), ('2009', -3.5), ('2010', -12.1), ('2011', -5.8),\n",
    "        ('2012', -4.9), ('2013', -6.1), ('2014', -6.9), ('2015', -2.7),\n",
    "        ('2016', -11.2), ('2017', -3.9), ('2018', -2.9), ('2019', -6.5),\n",
    "        ('2020', 1.5)]\n",
    "# Напечатайте словарь из температур, отсортированный по уменьшению температуры\n",
    "order_temps = OrderedDict(sorted(temps, key=lambda x: x[1], reverse=True))\n",
    "temps_dict = dict(order_temps)"
   ]
  },
  {
   "cell_type": "code",
   "execution_count": 5,
   "metadata": {},
   "outputs": [
    {
     "data": {
      "text/plain": [
       "{'2020': 1.5,\n",
       " '2005': -1.6,\n",
       " '2008': -1.7,\n",
       " '2007': -2.4,\n",
       " '2001': -2.5,\n",
       " '2015': -2.7,\n",
       " '2018': -2.9,\n",
       " '2009': -3.5,\n",
       " '2017': -3.9,\n",
       " '2000': -4.4,\n",
       " '2002': -4.4,\n",
       " '2012': -4.9,\n",
       " '2011': -5.8,\n",
       " '2006': -5.9,\n",
       " '2013': -6.1,\n",
       " '2019': -6.5,\n",
       " '2014': -6.9,\n",
       " '2004': -8.2,\n",
       " '2003': -9.5,\n",
       " '2016': -11.2,\n",
       " '2010': -12.1}"
      ]
     },
     "execution_count": 5,
     "metadata": {},
     "output_type": "execute_result"
    }
   ],
   "source": [
    "temps_dict"
   ]
  }
 ],
 "metadata": {
  "kernelspec": {
   "display_name": "Python 3.10.5 64-bit",
   "language": "python",
   "name": "python3"
  },
  "language_info": {
   "codemirror_mode": {
    "name": "ipython",
    "version": 3
   },
   "file_extension": ".py",
   "mimetype": "text/x-python",
   "name": "python",
   "nbconvert_exporter": "python",
   "pygments_lexer": "ipython3",
   "version": "3.10.5"
  },
  "orig_nbformat": 4,
  "vscode": {
   "interpreter": {
    "hash": "36c6851108447751ff9a78a375ee7b602a45470c5b7394c41491d0df81785d53"
   }
  }
 },
 "nbformat": 4,
 "nbformat_minor": 2
}
