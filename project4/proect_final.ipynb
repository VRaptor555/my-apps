{
 "cells": [
  {
   "cell_type": "code",
   "execution_count": 21,
   "metadata": {},
   "outputs": [],
   "source": [
    "import psycopg2\n",
    "import pandas as pd"
   ]
  },
  {
   "cell_type": "code",
   "execution_count": 22,
   "metadata": {},
   "outputs": [],
   "source": [
    "try:\n",
    "    connection = psycopg2.connect(\n",
    "        user=\"skillfactory\",\n",
    "        password=\"cCkxxLVrDE8EbvjueeMedPKt\",\n",
    "        host=\"84.201.134.129\",\n",
    "        port=\"5432\",\n",
    "        database=\"skillfactory\",\n",
    "    )\n",
    "    cursor = connection.cursor()\n",
    "    # Создаем SQL запрос для получения данных по покупкам курсов\n",
    "    select_Query = \"SELECT\\\n",
    "                        ca.user_id,\\\n",
    "                        ci.resource_id,\\\n",
    "                        ca.promo_code_id,\\\n",
    "                        ca.state\\\n",
    "                    FROM final.cart_items ci\\\n",
    "                        JOIN final.carts ca ON ci.cart_id = ca.id\\\n",
    "                        where ci.resource_type = 'Course'\\\n",
    "                    ORDER by 1,2\"  \n",
    "    cursor.execute(select_Query)  \n",
    "    carts_records = cursor.fetchall()\n",
    "except (Exception, psycopg2.Error) as error:\n",
    "    if connection:\n",
    "        print(\"Error\", error)\n",
    "finally:\n",
    "    if connection:\n",
    "        cursor.close()\n",
    "        connection.close()"
   ]
  },
  {
   "cell_type": "markdown",
   "metadata": {},
   "source": [
    "Создаем DataFrame на основе полученных данных"
   ]
  },
  {
   "cell_type": "code",
   "execution_count": 23,
   "metadata": {},
   "outputs": [],
   "source": [
    "carts_df = pd.DataFrame(carts_records)"
   ]
  },
  {
   "cell_type": "markdown",
   "metadata": {},
   "source": [
    "Переименовываем колонки"
   ]
  },
  {
   "cell_type": "code",
   "execution_count": 24,
   "metadata": {},
   "outputs": [],
   "source": [
    "carts_df.columns = ['id_user', 'id_resource', 'promo', 'state']"
   ]
  },
  {
   "cell_type": "markdown",
   "metadata": {},
   "source": [
    "Подсчет количества клиентов купивших курсы"
   ]
  },
  {
   "cell_type": "code",
   "execution_count": 25,
   "metadata": {},
   "outputs": [
    {
     "data": {
      "text/plain": [
       "49006"
      ]
     },
     "execution_count": 25,
     "metadata": {},
     "output_type": "execute_result"
    }
   ],
   "source": [
    "mask_sucs = carts_df['state']=='successful'\n",
    "carts_df[mask_sucs]['id_user'].nunique()"
   ]
  },
  {
   "cell_type": "markdown",
   "metadata": {},
   "source": [
    "Количество существующих курсов"
   ]
  },
  {
   "cell_type": "code",
   "execution_count": 26,
   "metadata": {},
   "outputs": [
    {
     "data": {
      "text/plain": [
       "127"
      ]
     },
     "execution_count": 26,
     "metadata": {},
     "output_type": "execute_result"
    }
   ],
   "source": [
    "carts_df['id_resource'].nunique()"
   ]
  },
  {
   "cell_type": "markdown",
   "metadata": {},
   "source": [
    "Среднее число купленных курсов на одного клиента"
   ]
  },
  {
   "cell_type": "code",
   "execution_count": 27,
   "metadata": {},
   "outputs": [
    {
     "data": {
      "text/plain": [
       "1.4370485246704485"
      ]
     },
     "execution_count": 27,
     "metadata": {},
     "output_type": "execute_result"
    }
   ],
   "source": [
    "carts_df[mask_sucs].groupby('id_user')['id_resource'].nunique().mean()"
   ]
  },
  {
   "cell_type": "markdown",
   "metadata": {},
   "source": [
    "Сколько клиентов купили больше одного курса?"
   ]
  },
  {
   "cell_type": "code",
   "execution_count": 31,
   "metadata": {},
   "outputs": [
    {
     "data": {
      "text/plain": [
       "12656"
      ]
     },
     "execution_count": 31,
     "metadata": {},
     "output_type": "execute_result"
    }
   ],
   "source": [
    "count_course_df = carts_df[mask_sucs].groupby('id_user')['id_resource'].nunique().reset_index()\n",
    "count_course_df[count_course_df['id_resource'] > 1]['id_user'].nunique()"
   ]
  }
 ],
 "metadata": {
  "kernelspec": {
   "display_name": "Python 3.10.5 64-bit",
   "language": "python",
   "name": "python3"
  },
  "language_info": {
   "codemirror_mode": {
    "name": "ipython",
    "version": 3
   },
   "file_extension": ".py",
   "mimetype": "text/x-python",
   "name": "python",
   "nbconvert_exporter": "python",
   "pygments_lexer": "ipython3",
   "version": "3.10.5"
  },
  "orig_nbformat": 4,
  "vscode": {
   "interpreter": {
    "hash": "36c6851108447751ff9a78a375ee7b602a45470c5b7394c41491d0df81785d53"
   }
  }
 },
 "nbformat": 4,
 "nbformat_minor": 2
}
