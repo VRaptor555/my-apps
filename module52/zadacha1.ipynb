{
 "cells": [
  {
   "cell_type": "code",
   "execution_count": 2,
   "metadata": {},
   "outputs": [],
   "source": [
    "from scipy.stats import norm\n",
    "import numpy as np\n",
    "import math"
   ]
  },
  {
   "cell_type": "code",
   "execution_count": 14,
   "metadata": {},
   "outputs": [],
   "source": [
    "def confidence_interval_norm(alpha, sigma, n, mean):\n",
    "    value = -norm.ppf(alpha / 2) * sigma / math.sqrt(n)\n",
    "    return round(mean - value, 2), round(mean + value, 2)"
   ]
  },
  {
   "cell_type": "code",
   "execution_count": 6,
   "metadata": {},
   "outputs": [],
   "source": [
    "from scipy.stats import t"
   ]
  },
  {
   "cell_type": "code",
   "execution_count": 15,
   "metadata": {},
   "outputs": [],
   "source": [
    "def confidence_interval_t(alpha, s, n, mean):\n",
    "    value = -t.ppf(alpha / 2, n - 1) * s / math.sqrt(n)\n",
    "    return round(mean - value, 2), round(mean + value, 2)"
   ]
  },
  {
   "cell_type": "code",
   "execution_count": 31,
   "metadata": {},
   "outputs": [
    {
     "name": "stdout",
     "output_type": "stream",
     "text": [
      "(-1.0276882340060955, 1.0276882340060955)\n",
      "(-0.8145487463019764, 0.8145487463019764)\n"
     ]
    }
   ],
   "source": [
    "print(confidence_interval_t(0.01, 1, 10, 0))\n",
    "print(confidence_interval_norm(0.01, 1, 10, 0))"
   ]
  },
  {
   "cell_type": "markdown",
   "metadata": {},
   "source": [
    "<code>\n",
    "alpha = 0.03\n",
    "value = -norm.ppf(alpha/2)\n",
    "print(value) # 2.17\n",
    "</code>\n",
    "\n",
    "<code>\n",
    "# 0.95 - доверительный интервал, 100-1 число степеней свободы\n",
    "# для двустороннего t-теста\n",
    "value = t.ppf((1 - 0.95)/2, 100-1)\n",
    "print(value) # 1.98\n",
    "</code>\n",
    "\n"
   ]
  },
  {
   "cell_type": "code",
   "execution_count": 41,
   "metadata": {},
   "outputs": [
    {
     "name": "stdout",
     "output_type": "stream",
     "text": [
      "1.9599639845400545\n"
     ]
    }
   ],
   "source": [
    "alpha = 0.05\n",
    "value = -norm.ppf(alpha/2)\n",
    "print(value)"
   ]
  },
  {
   "cell_type": "code",
   "execution_count": 39,
   "metadata": {},
   "outputs": [
    {
     "name": "stdout",
     "output_type": "stream",
     "text": [
      "-1.9842169515086827\n"
     ]
    }
   ],
   "source": [
    "value = -t.ppf((1-0.95)/2, 100-1)\n",
    "print (value)"
   ]
  },
  {
   "cell_type": "code",
   "execution_count": 43,
   "metadata": {},
   "outputs": [
    {
     "name": "stdout",
     "output_type": "stream",
     "text": [
      "0.022750131948179195\n"
     ]
    }
   ],
   "source": [
    "pvalue = norm.cdf(-2)\n",
    "print(pvalue)"
   ]
  },
  {
   "cell_type": "code",
   "execution_count": 57,
   "metadata": {},
   "outputs": [
    {
     "name": "stdout",
     "output_type": "stream",
     "text": [
      "Zст= 1.7857142857142858\n",
      "p-value= 0.037072765555703414\n"
     ]
    }
   ],
   "source": [
    "mu = 6.5\n",
    "sigma = 1.4\n",
    "n = 25\n",
    "x = 7\n",
    "# H0: mu=6.5\n",
    "# HA: mu>6.5\n",
    "zst = (x-mu)/(sigma/math.sqrt(n))\n",
    "pvalue = norm.cdf(-zst)\n",
    "print(\"Zст=\",zst)\n",
    "print(\"p-value=\",pvalue)"
   ]
  },
  {
   "cell_type": "code",
   "execution_count": 61,
   "metadata": {},
   "outputs": [
    {
     "name": "stdout",
     "output_type": "stream",
     "text": [
      "10\n",
      "8.820000000000002\n"
     ]
    }
   ],
   "source": [
    "# Считаем средний\n",
    "vyborka = np.array([6.1, 9.2, 11.5, 8.6, 12.1, 3.9, 8.4, 10.1, 9.4, 8.9])\n",
    "mu=10\n",
    "n=len(vyborka)\n",
    "x=vyborka.mean()\n",
    "print(n)\n",
    "print(x)\n"
   ]
  },
  {
   "cell_type": "code",
   "execution_count": 62,
   "metadata": {},
   "outputs": [
    {
     "name": "stdout",
     "output_type": "stream",
     "text": [
      "Стандартное отклонение: 2.27806935803105\n"
     ]
    }
   ],
   "source": [
    "# Считаем дисперсию\n",
    "d = 0\n",
    "for vyb in vyborka:\n",
    "    d += (vyb-x)**2*0.1\n",
    "# Стандартное отклонение\n",
    "s = math.sqrt(d)    \n",
    "print(\"Стандартное отклонение:\", s)"
   ]
  },
  {
   "cell_type": "markdown",
   "metadata": {},
   "source": [
    "`Задание 52.6.8`\n",
    "Вычислите необходимые выборочные статистики и найдите 95% доверительный интервал для мю. Укажите нижнюю и верхнюю границу интервала с округлением до двух знаков после разделительной точки."
   ]
  },
  {
   "cell_type": "code",
   "execution_count": 17,
   "metadata": {},
   "outputs": [
    {
     "name": "stdout",
     "output_type": "stream",
     "text": [
      "Выборка N = 10\n",
      "Средний = 1.19\n",
      "Стандартное отклонение: 0.8178630692236935\n"
     ]
    }
   ],
   "source": [
    "# Считаем средний\n",
    "vyborka = np.array([1.2, 0.2, 1.6, 1.9, -0.4, 0.5, 1.4, 1.7, 2.5, 1.3])\n",
    "a=0.95\n",
    "#mu=10\n",
    "n=len(vyborka)\n",
    "x=vyborka.mean()\n",
    "print(\"Выборка N =\",n)\n",
    "print(\"Средний =\",x)\n",
    "# Считаем дисперсию\n",
    "d = 0\n",
    "for vyb in vyborka:\n",
    "    d += (vyb-x)**2*0.1\n",
    "# Стандартное отклонение\n",
    "s = math.sqrt(d)    \n",
    "print(\"Стандартное отклонение:\", s)\n",
    "\n"
   ]
  },
  {
   "cell_type": "code",
   "execution_count": 18,
   "metadata": {},
   "outputs": [
    {
     "name": "stdout",
     "output_type": "stream",
     "text": [
      "(1.17, 1.21)\n"
     ]
    }
   ],
   "source": [
    "print(confidence_interval_t(a, s, n, x))"
   ]
  },
  {
   "cell_type": "code",
   "execution_count": 20,
   "metadata": {},
   "outputs": [
    {
     "name": "stdout",
     "output_type": "stream",
     "text": [
      "Mu: 0    1.19\n",
      "dtype: float64\n",
      "Sigma: 0    0.862103\n",
      "dtype: float64\n",
      "Доверительный интервал:  (0    0.57\n",
      "dtype: float64, 0    1.81\n",
      "dtype: float64)\n"
     ]
    }
   ],
   "source": [
    "import pandas as pd\n",
    "X = [1.2, 0.2, 1.6, 1.9, -0.4, 0.5, 1.4, 1.7, 2.5, 1.3]\n",
    "df_X = pd.DataFrame(X)\n",
    "mu = df_X.mean()\n",
    "sigma = df_X.std()\n",
    "print(\"Mu:\",mu)\n",
    "print(\"Sigma:\",sigma)\n",
    "print(\"Доверительный интервал: \", confidence_interval_t(0.05, sigma, len(df_X), mu))"
   ]
  },
  {
   "cell_type": "code",
   "execution_count": 63,
   "metadata": {},
   "outputs": [
    {
     "name": "stdout",
     "output_type": "stream",
     "text": [
      "Tст= -1.6380044030897418\n",
      "p-value= 0.06792267780093507\n"
     ]
    }
   ],
   "source": [
    "tst = (x-mu)/(s/math.sqrt(n))\n",
    "pvalue = t.cdf(tst, n-1)\n",
    "print(\"Tст=\",tst)\n",
    "print(\"p-value=\",pvalue)"
   ]
  },
  {
   "cell_type": "markdown",
   "metadata": {},
   "source": []
  },
  {
   "cell_type": "code",
   "execution_count": null,
   "metadata": {},
   "outputs": [],
   "source": []
  }
 ],
 "metadata": {
  "kernelspec": {
   "display_name": "Python 3.10.5 64-bit",
   "language": "python",
   "name": "python3"
  },
  "language_info": {
   "codemirror_mode": {
    "name": "ipython",
    "version": 3
   },
   "file_extension": ".py",
   "mimetype": "text/x-python",
   "name": "python",
   "nbconvert_exporter": "python",
   "pygments_lexer": "ipython3",
   "version": "3.10.5"
  },
  "orig_nbformat": 4,
  "vscode": {
   "interpreter": {
    "hash": "36c6851108447751ff9a78a375ee7b602a45470c5b7394c41491d0df81785d53"
   }
  }
 },
 "nbformat": 4,
 "nbformat_minor": 2
}
