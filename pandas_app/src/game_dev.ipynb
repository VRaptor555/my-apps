{
 "cells": [
  {
   "cell_type": "code",
   "execution_count": 1,
   "metadata": {},
   "outputs": [],
   "source": [
    "import pandas as pd"
   ]
  },
  {
   "cell_type": "code",
   "execution_count": 4,
   "metadata": {},
   "outputs": [],
   "source": [
    "purchase_df = pd.read_csv('../data/purchase.csv', sep=',')"
   ]
  },
  {
   "cell_type": "code",
   "execution_count": 5,
   "metadata": {},
   "outputs": [],
   "source": [
    "events74_df = pd.read_csv('../data/7_4_Events.csv', sep=',')"
   ]
  },
  {
   "cell_type": "code",
   "execution_count": 8,
   "metadata": {},
   "outputs": [
    {
     "name": "stdout",
     "output_type": "stream",
     "text": [
      "<class 'pandas.core.frame.DataFrame'>\n",
      "RangeIndex: 5956 entries, 0 to 5955\n",
      "Data columns (total 4 columns):\n",
      " #   Column          Non-Null Count  Dtype \n",
      "---  ------          --------------  ----- \n",
      " 0   id              5956 non-null   int64 \n",
      " 1   user_id         5956 non-null   int64 \n",
      " 2   event_datetime  5956 non-null   object\n",
      " 3   amount          5956 non-null   int64 \n",
      "dtypes: int64(3), object(1)\n",
      "memory usage: 186.2+ KB\n"
     ]
    },
    {
     "data": {
      "text/html": [
       "<div>\n",
       "<style scoped>\n",
       "    .dataframe tbody tr th:only-of-type {\n",
       "        vertical-align: middle;\n",
       "    }\n",
       "\n",
       "    .dataframe tbody tr th {\n",
       "        vertical-align: top;\n",
       "    }\n",
       "\n",
       "    .dataframe thead th {\n",
       "        text-align: right;\n",
       "    }\n",
       "</style>\n",
       "<table border=\"1\" class=\"dataframe\">\n",
       "  <thead>\n",
       "    <tr style=\"text-align: right;\">\n",
       "      <th></th>\n",
       "      <th>id</th>\n",
       "      <th>user_id</th>\n",
       "      <th>event_datetime</th>\n",
       "      <th>amount</th>\n",
       "    </tr>\n",
       "  </thead>\n",
       "  <tbody>\n",
       "    <tr>\n",
       "      <th>0</th>\n",
       "      <td>15674</td>\n",
       "      <td>12584</td>\n",
       "      <td>2016-05-12T10:34:16</td>\n",
       "      <td>100</td>\n",
       "    </tr>\n",
       "    <tr>\n",
       "      <th>1</th>\n",
       "      <td>15675</td>\n",
       "      <td>12985</td>\n",
       "      <td>2016-05-13T08:25:56</td>\n",
       "      <td>50</td>\n",
       "    </tr>\n",
       "    <tr>\n",
       "      <th>2</th>\n",
       "      <td>15676</td>\n",
       "      <td>12828</td>\n",
       "      <td>2016-05-13T16:33:46</td>\n",
       "      <td>50</td>\n",
       "    </tr>\n",
       "    <tr>\n",
       "      <th>3</th>\n",
       "      <td>15677</td>\n",
       "      <td>12598</td>\n",
       "      <td>2016-05-14T01:09:37</td>\n",
       "      <td>150</td>\n",
       "    </tr>\n",
       "    <tr>\n",
       "      <th>4</th>\n",
       "      <td>15678</td>\n",
       "      <td>13037</td>\n",
       "      <td>2016-05-14T01:24:46</td>\n",
       "      <td>100</td>\n",
       "    </tr>\n",
       "  </tbody>\n",
       "</table>\n",
       "</div>"
      ],
      "text/plain": [
       "      id  user_id       event_datetime  amount\n",
       "0  15674    12584  2016-05-12T10:34:16     100\n",
       "1  15675    12985  2016-05-13T08:25:56      50\n",
       "2  15676    12828  2016-05-13T16:33:46      50\n",
       "3  15677    12598  2016-05-14T01:09:37     150\n",
       "4  15678    13037  2016-05-14T01:24:46     100"
      ]
     },
     "execution_count": 8,
     "metadata": {},
     "output_type": "execute_result"
    }
   ],
   "source": [
    "purchase_df.info()\n",
    "purchase_df.head()"
   ]
  },
  {
   "cell_type": "code",
   "execution_count": 9,
   "metadata": {},
   "outputs": [
    {
     "name": "stdout",
     "output_type": "stream",
     "text": [
      "<class 'pandas.core.frame.DataFrame'>\n",
      "RangeIndex: 252334 entries, 0 to 252333\n",
      "Data columns (total 6 columns):\n",
      " #   Column          Non-Null Count   Dtype  \n",
      "---  ------          --------------   -----  \n",
      " 0   id              252334 non-null  int64  \n",
      " 1   event_type      252334 non-null  object \n",
      " 2   selected_level  31086 non-null   object \n",
      " 3   start_time      252334 non-null  object \n",
      " 4   tutorial_id     125103 non-null  float64\n",
      " 5   user_id         252334 non-null  int64  \n",
      "dtypes: float64(1), int64(2), object(3)\n",
      "memory usage: 11.6+ MB\n"
     ]
    },
    {
     "data": {
      "text/html": [
       "<div>\n",
       "<style scoped>\n",
       "    .dataframe tbody tr th:only-of-type {\n",
       "        vertical-align: middle;\n",
       "    }\n",
       "\n",
       "    .dataframe tbody tr th {\n",
       "        vertical-align: top;\n",
       "    }\n",
       "\n",
       "    .dataframe thead th {\n",
       "        text-align: right;\n",
       "    }\n",
       "</style>\n",
       "<table border=\"1\" class=\"dataframe\">\n",
       "  <thead>\n",
       "    <tr style=\"text-align: right;\">\n",
       "      <th></th>\n",
       "      <th>id</th>\n",
       "      <th>event_type</th>\n",
       "      <th>selected_level</th>\n",
       "      <th>start_time</th>\n",
       "      <th>tutorial_id</th>\n",
       "      <th>user_id</th>\n",
       "    </tr>\n",
       "  </thead>\n",
       "  <tbody>\n",
       "    <tr>\n",
       "      <th>0</th>\n",
       "      <td>28903</td>\n",
       "      <td>registration</td>\n",
       "      <td>NaN</td>\n",
       "      <td>2016-05-11T23:40:55</td>\n",
       "      <td>NaN</td>\n",
       "      <td>12583</td>\n",
       "    </tr>\n",
       "    <tr>\n",
       "      <th>1</th>\n",
       "      <td>28904</td>\n",
       "      <td>registration</td>\n",
       "      <td>NaN</td>\n",
       "      <td>2016-05-11T23:49:58</td>\n",
       "      <td>NaN</td>\n",
       "      <td>12584</td>\n",
       "    </tr>\n",
       "    <tr>\n",
       "      <th>2</th>\n",
       "      <td>28905</td>\n",
       "      <td>registration</td>\n",
       "      <td>NaN</td>\n",
       "      <td>2016-05-12T00:53:07</td>\n",
       "      <td>NaN</td>\n",
       "      <td>12585</td>\n",
       "    </tr>\n",
       "    <tr>\n",
       "      <th>3</th>\n",
       "      <td>28906</td>\n",
       "      <td>tutorial_start</td>\n",
       "      <td>NaN</td>\n",
       "      <td>2016-05-12T01:32:20</td>\n",
       "      <td>17562.0</td>\n",
       "      <td>12585</td>\n",
       "    </tr>\n",
       "    <tr>\n",
       "      <th>4</th>\n",
       "      <td>28907</td>\n",
       "      <td>tutorial_finish</td>\n",
       "      <td>NaN</td>\n",
       "      <td>2016-05-12T01:34:53</td>\n",
       "      <td>17562.0</td>\n",
       "      <td>12585</td>\n",
       "    </tr>\n",
       "  </tbody>\n",
       "</table>\n",
       "</div>"
      ],
      "text/plain": [
       "      id       event_type selected_level           start_time  tutorial_id  \\\n",
       "0  28903     registration            NaN  2016-05-11T23:40:55          NaN   \n",
       "1  28904     registration            NaN  2016-05-11T23:49:58          NaN   \n",
       "2  28905     registration            NaN  2016-05-12T00:53:07          NaN   \n",
       "3  28906   tutorial_start            NaN  2016-05-12T01:32:20      17562.0   \n",
       "4  28907  tutorial_finish            NaN  2016-05-12T01:34:53      17562.0   \n",
       "\n",
       "   user_id  \n",
       "0    12583  \n",
       "1    12584  \n",
       "2    12585  \n",
       "3    12585  \n",
       "4    12585  "
      ]
     },
     "execution_count": 9,
     "metadata": {},
     "output_type": "execute_result"
    }
   ],
   "source": [
    "events74_df.info()\n",
    "events74_df.head()"
   ]
  },
  {
   "cell_type": "code",
   "execution_count": 15,
   "metadata": {},
   "outputs": [],
   "source": [
    "mask = (events74_df['start_time'] >= '2018-01-01') & (events74_df['start_time'] < '2019-01-01') & (events74_df['event_type'] == 'registration')\n",
    "regist_2018 = events74_df[mask]['user_id'].to_list() # список пользователей зарегистрировавшихся в 2018 году \n",
    "events_2018 = events74_df[events74_df['user_id'].isin(regist_2018)].copy() # отбираем все записи с этими пользователями в таблице events\n",
    "events_2018['start_time'] = pd.to_datetime(events_2018['start_time'])\n",
    "purchase_2018 = purchase_df[purchase_df['user_id'].isin(regist_2018)].copy() # отбираем все записи с этими пользователями в таблице purchase\n",
    "purchase_2018['event_datetime'] = pd.to_datetime(purchase_2018['event_datetime'])"
   ]
  },
  {
   "cell_type": "markdown",
   "metadata": {},
   "source": [
    "* Читаем данные из Events за 2018 год"
   ]
  },
  {
   "cell_type": "code",
   "execution_count": 16,
   "metadata": {},
   "outputs": [
    {
     "name": "stdout",
     "output_type": "stream",
     "text": [
      "<class 'pandas.core.frame.DataFrame'>\n",
      "Int64Index: 66959 entries, 51405 to 118364\n",
      "Data columns (total 6 columns):\n",
      " #   Column          Non-Null Count  Dtype         \n",
      "---  ------          --------------  -----         \n",
      " 0   id              66959 non-null  int64         \n",
      " 1   event_type      66959 non-null  object        \n",
      " 2   selected_level  8342 non-null   object        \n",
      " 3   start_time      66959 non-null  datetime64[ns]\n",
      " 4   tutorial_id     32954 non-null  float64       \n",
      " 5   user_id         66959 non-null  int64         \n",
      "dtypes: datetime64[ns](1), float64(1), int64(2), object(2)\n",
      "memory usage: 3.6+ MB\n"
     ]
    }
   ],
   "source": [
    "events_2018.info()"
   ]
  },
  {
   "cell_type": "code",
   "execution_count": 17,
   "metadata": {},
   "outputs": [
    {
     "data": {
      "text/html": [
       "<div>\n",
       "<style scoped>\n",
       "    .dataframe tbody tr th:only-of-type {\n",
       "        vertical-align: middle;\n",
       "    }\n",
       "\n",
       "    .dataframe tbody tr th {\n",
       "        vertical-align: top;\n",
       "    }\n",
       "\n",
       "    .dataframe thead th {\n",
       "        text-align: right;\n",
       "    }\n",
       "</style>\n",
       "<table border=\"1\" class=\"dataframe\">\n",
       "  <thead>\n",
       "    <tr style=\"text-align: right;\">\n",
       "      <th></th>\n",
       "      <th>id</th>\n",
       "      <th>event_type</th>\n",
       "      <th>selected_level</th>\n",
       "      <th>start_time</th>\n",
       "      <th>tutorial_id</th>\n",
       "      <th>user_id</th>\n",
       "    </tr>\n",
       "  </thead>\n",
       "  <tbody>\n",
       "    <tr>\n",
       "      <th>51405</th>\n",
       "      <td>80308</td>\n",
       "      <td>registration</td>\n",
       "      <td>NaN</td>\n",
       "      <td>2018-01-01 03:48:40</td>\n",
       "      <td>NaN</td>\n",
       "      <td>27832</td>\n",
       "    </tr>\n",
       "    <tr>\n",
       "      <th>51406</th>\n",
       "      <td>80309</td>\n",
       "      <td>registration</td>\n",
       "      <td>NaN</td>\n",
       "      <td>2018-01-01 04:07:25</td>\n",
       "      <td>NaN</td>\n",
       "      <td>27833</td>\n",
       "    </tr>\n",
       "    <tr>\n",
       "      <th>51407</th>\n",
       "      <td>80310</td>\n",
       "      <td>registration</td>\n",
       "      <td>NaN</td>\n",
       "      <td>2018-01-01 08:35:10</td>\n",
       "      <td>NaN</td>\n",
       "      <td>27834</td>\n",
       "    </tr>\n",
       "    <tr>\n",
       "      <th>51408</th>\n",
       "      <td>80311</td>\n",
       "      <td>registration</td>\n",
       "      <td>NaN</td>\n",
       "      <td>2018-01-01 11:54:47</td>\n",
       "      <td>NaN</td>\n",
       "      <td>27835</td>\n",
       "    </tr>\n",
       "    <tr>\n",
       "      <th>51409</th>\n",
       "      <td>80312</td>\n",
       "      <td>registration</td>\n",
       "      <td>NaN</td>\n",
       "      <td>2018-01-01 13:28:07</td>\n",
       "      <td>NaN</td>\n",
       "      <td>27836</td>\n",
       "    </tr>\n",
       "  </tbody>\n",
       "</table>\n",
       "</div>"
      ],
      "text/plain": [
       "          id    event_type selected_level          start_time  tutorial_id  \\\n",
       "51405  80308  registration            NaN 2018-01-01 03:48:40          NaN   \n",
       "51406  80309  registration            NaN 2018-01-01 04:07:25          NaN   \n",
       "51407  80310  registration            NaN 2018-01-01 08:35:10          NaN   \n",
       "51408  80311  registration            NaN 2018-01-01 11:54:47          NaN   \n",
       "51409  80312  registration            NaN 2018-01-01 13:28:07          NaN   \n",
       "\n",
       "       user_id  \n",
       "51405    27832  \n",
       "51406    27833  \n",
       "51407    27834  \n",
       "51408    27835  \n",
       "51409    27836  "
      ]
     },
     "execution_count": 17,
     "metadata": {},
     "output_type": "execute_result"
    }
   ],
   "source": [
    "events_2018.head()"
   ]
  },
  {
   "cell_type": "code",
   "execution_count": 18,
   "metadata": {},
   "outputs": [
    {
     "name": "stdout",
     "output_type": "stream",
     "text": [
      "<class 'pandas.core.frame.DataFrame'>\n",
      "Int64Index: 8342 entries, 51424 to 118363\n",
      "Data columns (total 6 columns):\n",
      " #   Column          Non-Null Count  Dtype         \n",
      "---  ------          --------------  -----         \n",
      " 0   id              8342 non-null   int64         \n",
      " 1   event_type      8342 non-null   object        \n",
      " 2   selected_level  8342 non-null   object        \n",
      " 3   start_time      8342 non-null   datetime64[ns]\n",
      " 4   tutorial_id     0 non-null      float64       \n",
      " 5   user_id         8342 non-null   int64         \n",
      "dtypes: datetime64[ns](1), float64(1), int64(2), object(2)\n",
      "memory usage: 456.2+ KB\n"
     ]
    }
   ],
   "source": [
    "# посмотрим на events_2018, оставив в нём только такие строки, где event_type = level_choice.\n",
    "events_2018[events_2018['event_type'] == 'level_choice'].info()"
   ]
  },
  {
   "cell_type": "code",
   "execution_count": 19,
   "metadata": {},
   "outputs": [
    {
     "name": "stdout",
     "output_type": "stream",
     "text": [
      "<class 'pandas.core.frame.DataFrame'>\n",
      "Int64Index: 32954 entries, 51412 to 118360\n",
      "Data columns (total 6 columns):\n",
      " #   Column          Non-Null Count  Dtype         \n",
      "---  ------          --------------  -----         \n",
      " 0   id              32954 non-null  int64         \n",
      " 1   event_type      32954 non-null  object        \n",
      " 2   selected_level  0 non-null      object        \n",
      " 3   start_time      32954 non-null  datetime64[ns]\n",
      " 4   tutorial_id     32954 non-null  float64       \n",
      " 5   user_id         32954 non-null  int64         \n",
      "dtypes: datetime64[ns](1), float64(1), int64(2), object(2)\n",
      "memory usage: 1.8+ MB\n"
     ]
    }
   ],
   "source": [
    "# Теперь проверим аналогичные данные, но при условии, что срез будет содержать данные о событиях tutorial_start и tutorial_finish.\n",
    "events_2018[events_2018['event_type'].isin(['tutorial_start','tutorial_finish'])].info()"
   ]
  },
  {
   "cell_type": "code",
   "execution_count": 24,
   "metadata": {},
   "outputs": [
    {
     "name": "stderr",
     "output_type": "stream",
     "text": [
      "C:\\Users\\Lubchanskiy\\AppData\\Local\\Temp\\ipykernel_12600\\15815517.py:1: FutureWarning: Treating datetime data as categorical rather than numeric in `.describe` is deprecated and will be removed in a future version of pandas. Specify `datetime_is_numeric=True` to silence this warning and adopt the future behavior now.\n",
      "  events_2018.describe(include='all')\n"
     ]
    },
    {
     "data": {
      "text/html": [
       "<div>\n",
       "<style scoped>\n",
       "    .dataframe tbody tr th:only-of-type {\n",
       "        vertical-align: middle;\n",
       "    }\n",
       "\n",
       "    .dataframe tbody tr th {\n",
       "        vertical-align: top;\n",
       "    }\n",
       "\n",
       "    .dataframe thead th {\n",
       "        text-align: right;\n",
       "    }\n",
       "</style>\n",
       "<table border=\"1\" class=\"dataframe\">\n",
       "  <thead>\n",
       "    <tr style=\"text-align: right;\">\n",
       "      <th></th>\n",
       "      <th>id</th>\n",
       "      <th>event_type</th>\n",
       "      <th>selected_level</th>\n",
       "      <th>start_time</th>\n",
       "      <th>tutorial_id</th>\n",
       "      <th>user_id</th>\n",
       "    </tr>\n",
       "  </thead>\n",
       "  <tbody>\n",
       "    <tr>\n",
       "      <th>count</th>\n",
       "      <td>66959.000000</td>\n",
       "      <td>66959</td>\n",
       "      <td>8342</td>\n",
       "      <td>66959</td>\n",
       "      <td>32954.000000</td>\n",
       "      <td>66959.000000</td>\n",
       "    </tr>\n",
       "    <tr>\n",
       "      <th>unique</th>\n",
       "      <td>NaN</td>\n",
       "      <td>5</td>\n",
       "      <td>3</td>\n",
       "      <td>66809</td>\n",
       "      <td>NaN</td>\n",
       "      <td>NaN</td>\n",
       "    </tr>\n",
       "    <tr>\n",
       "      <th>top</th>\n",
       "      <td>NaN</td>\n",
       "      <td>registration</td>\n",
       "      <td>medium</td>\n",
       "      <td>2018-03-13 09:37:43</td>\n",
       "      <td>NaN</td>\n",
       "      <td>NaN</td>\n",
       "    </tr>\n",
       "    <tr>\n",
       "      <th>freq</th>\n",
       "      <td>NaN</td>\n",
       "      <td>19926</td>\n",
       "      <td>4645</td>\n",
       "      <td>9</td>\n",
       "      <td>NaN</td>\n",
       "      <td>NaN</td>\n",
       "    </tr>\n",
       "    <tr>\n",
       "      <th>first</th>\n",
       "      <td>NaN</td>\n",
       "      <td>NaN</td>\n",
       "      <td>NaN</td>\n",
       "      <td>2018-01-01 03:48:40</td>\n",
       "      <td>NaN</td>\n",
       "      <td>NaN</td>\n",
       "    </tr>\n",
       "    <tr>\n",
       "      <th>last</th>\n",
       "      <td>NaN</td>\n",
       "      <td>NaN</td>\n",
       "      <td>NaN</td>\n",
       "      <td>2019-01-01 05:50:36</td>\n",
       "      <td>NaN</td>\n",
       "      <td>NaN</td>\n",
       "    </tr>\n",
       "    <tr>\n",
       "      <th>mean</th>\n",
       "      <td>113787.000045</td>\n",
       "      <td>NaN</td>\n",
       "      <td>NaN</td>\n",
       "      <td>NaN</td>\n",
       "      <td>40532.934393</td>\n",
       "      <td>37781.543362</td>\n",
       "    </tr>\n",
       "    <tr>\n",
       "      <th>std</th>\n",
       "      <td>19329.542752</td>\n",
       "      <td>NaN</td>\n",
       "      <td>NaN</td>\n",
       "      <td>NaN</td>\n",
       "      <td>5213.486632</td>\n",
       "      <td>5751.497904</td>\n",
       "    </tr>\n",
       "    <tr>\n",
       "      <th>min</th>\n",
       "      <td>80308.000000</td>\n",
       "      <td>NaN</td>\n",
       "      <td>NaN</td>\n",
       "      <td>NaN</td>\n",
       "      <td>31505.000000</td>\n",
       "      <td>27832.000000</td>\n",
       "    </tr>\n",
       "    <tr>\n",
       "      <th>25%</th>\n",
       "      <td>97047.500000</td>\n",
       "      <td>NaN</td>\n",
       "      <td>NaN</td>\n",
       "      <td>NaN</td>\n",
       "      <td>36008.250000</td>\n",
       "      <td>32849.000000</td>\n",
       "    </tr>\n",
       "    <tr>\n",
       "      <th>50%</th>\n",
       "      <td>113787.000000</td>\n",
       "      <td>NaN</td>\n",
       "      <td>NaN</td>\n",
       "      <td>NaN</td>\n",
       "      <td>40529.500000</td>\n",
       "      <td>37719.000000</td>\n",
       "    </tr>\n",
       "    <tr>\n",
       "      <th>75%</th>\n",
       "      <td>130526.500000</td>\n",
       "      <td>NaN</td>\n",
       "      <td>NaN</td>\n",
       "      <td>NaN</td>\n",
       "      <td>45057.750000</td>\n",
       "      <td>42733.000000</td>\n",
       "    </tr>\n",
       "    <tr>\n",
       "      <th>max</th>\n",
       "      <td>147267.000000</td>\n",
       "      <td>NaN</td>\n",
       "      <td>NaN</td>\n",
       "      <td>NaN</td>\n",
       "      <td>49554.000000</td>\n",
       "      <td>47757.000000</td>\n",
       "    </tr>\n",
       "  </tbody>\n",
       "</table>\n",
       "</div>"
      ],
      "text/plain": [
       "                   id    event_type selected_level           start_time  \\\n",
       "count    66959.000000         66959           8342                66959   \n",
       "unique            NaN             5              3                66809   \n",
       "top               NaN  registration         medium  2018-03-13 09:37:43   \n",
       "freq              NaN         19926           4645                    9   \n",
       "first             NaN           NaN            NaN  2018-01-01 03:48:40   \n",
       "last              NaN           NaN            NaN  2019-01-01 05:50:36   \n",
       "mean    113787.000045           NaN            NaN                  NaN   \n",
       "std      19329.542752           NaN            NaN                  NaN   \n",
       "min      80308.000000           NaN            NaN                  NaN   \n",
       "25%      97047.500000           NaN            NaN                  NaN   \n",
       "50%     113787.000000           NaN            NaN                  NaN   \n",
       "75%     130526.500000           NaN            NaN                  NaN   \n",
       "max     147267.000000           NaN            NaN                  NaN   \n",
       "\n",
       "         tutorial_id       user_id  \n",
       "count   32954.000000  66959.000000  \n",
       "unique           NaN           NaN  \n",
       "top              NaN           NaN  \n",
       "freq             NaN           NaN  \n",
       "first            NaN           NaN  \n",
       "last             NaN           NaN  \n",
       "mean    40532.934393  37781.543362  \n",
       "std      5213.486632   5751.497904  \n",
       "min     31505.000000  27832.000000  \n",
       "25%     36008.250000  32849.000000  \n",
       "50%     40529.500000  37719.000000  \n",
       "75%     45057.750000  42733.000000  \n",
       "max     49554.000000  47757.000000  "
      ]
     },
     "execution_count": 24,
     "metadata": {},
     "output_type": "execute_result"
    }
   ],
   "source": [
    "\"\"\"\n",
    "Вызовем метод describe(), чтобы оценить характеристики каждого столбца. По умолчанию метод describe() выдаёт характеристики\n",
    "только по столбцам с численными типами (например, int64, float64). Мы вызовем этот метод с параметром include='all' для того,\n",
    "чтобы отображать характеристики для всех столбцов.\n",
    "\"\"\"\n",
    "events_2018.describe(include='all')"
   ]
  },
  {
   "cell_type": "code",
   "execution_count": 22,
   "metadata": {},
   "outputs": [
    {
     "data": {
      "text/plain": [
       "array(['registration', 'tutorial_start', 'tutorial_finish',\n",
       "       'level_choice', 'pack_choice'], dtype=object)"
      ]
     },
     "execution_count": 22,
     "metadata": {},
     "output_type": "execute_result"
    }
   ],
   "source": [
    "# Давайте оценим, какие уникальные события есть в колонках event_type и selected_level.\n",
    "events_2018['event_type'].unique()"
   ]
  },
  {
   "cell_type": "code",
   "execution_count": 23,
   "metadata": {},
   "outputs": [
    {
     "data": {
      "text/plain": [
       "array([nan, 'medium', 'hard', 'easy'], dtype=object)"
      ]
     },
     "execution_count": 23,
     "metadata": {},
     "output_type": "execute_result"
    }
   ],
   "source": [
    "events_2018['selected_level'].unique()"
   ]
  },
  {
   "cell_type": "code",
   "execution_count": 25,
   "metadata": {},
   "outputs": [
    {
     "data": {
      "text/plain": [
       "19926"
      ]
     },
     "execution_count": 25,
     "metadata": {},
     "output_type": "execute_result"
    }
   ],
   "source": [
    "# Также оценим, какое количество пользователей совершали события:\n",
    "events_2018['user_id'].nunique()"
   ]
  },
  {
   "cell_type": "markdown",
   "metadata": {},
   "source": [
    "* Читаем данные из Purchase за 2018 год"
   ]
  },
  {
   "cell_type": "code",
   "execution_count": 27,
   "metadata": {},
   "outputs": [
    {
     "data": {
      "text/html": [
       "<div>\n",
       "<style scoped>\n",
       "    .dataframe tbody tr th:only-of-type {\n",
       "        vertical-align: middle;\n",
       "    }\n",
       "\n",
       "    .dataframe tbody tr th {\n",
       "        vertical-align: top;\n",
       "    }\n",
       "\n",
       "    .dataframe thead th {\n",
       "        text-align: right;\n",
       "    }\n",
       "</style>\n",
       "<table border=\"1\" class=\"dataframe\">\n",
       "  <thead>\n",
       "    <tr style=\"text-align: right;\">\n",
       "      <th></th>\n",
       "      <th>id</th>\n",
       "      <th>user_id</th>\n",
       "      <th>event_datetime</th>\n",
       "      <th>amount</th>\n",
       "    </tr>\n",
       "  </thead>\n",
       "  <tbody>\n",
       "    <tr>\n",
       "      <th>1171</th>\n",
       "      <td>16845</td>\n",
       "      <td>27845</td>\n",
       "      <td>2018-01-03 18:53:43</td>\n",
       "      <td>100</td>\n",
       "    </tr>\n",
       "    <tr>\n",
       "      <th>1172</th>\n",
       "      <td>16846</td>\n",
       "      <td>27865</td>\n",
       "      <td>2018-01-04 14:46:10</td>\n",
       "      <td>250</td>\n",
       "    </tr>\n",
       "    <tr>\n",
       "      <th>1174</th>\n",
       "      <td>16848</td>\n",
       "      <td>27911</td>\n",
       "      <td>2018-01-07 08:19:12</td>\n",
       "      <td>50</td>\n",
       "    </tr>\n",
       "    <tr>\n",
       "      <th>1175</th>\n",
       "      <td>16849</td>\n",
       "      <td>27910</td>\n",
       "      <td>2018-01-07 12:11:34</td>\n",
       "      <td>100</td>\n",
       "    </tr>\n",
       "    <tr>\n",
       "      <th>1176</th>\n",
       "      <td>16850</td>\n",
       "      <td>27940</td>\n",
       "      <td>2018-01-07 13:16:41</td>\n",
       "      <td>200</td>\n",
       "    </tr>\n",
       "    <tr>\n",
       "      <th>1177</th>\n",
       "      <td>16851</td>\n",
       "      <td>27965</td>\n",
       "      <td>2018-01-07 22:55:33</td>\n",
       "      <td>100</td>\n",
       "    </tr>\n",
       "    <tr>\n",
       "      <th>1178</th>\n",
       "      <td>16852</td>\n",
       "      <td>27981</td>\n",
       "      <td>2018-01-07 23:20:25</td>\n",
       "      <td>50</td>\n",
       "    </tr>\n",
       "    <tr>\n",
       "      <th>1179</th>\n",
       "      <td>16853</td>\n",
       "      <td>27969</td>\n",
       "      <td>2018-01-08 01:18:23</td>\n",
       "      <td>100</td>\n",
       "    </tr>\n",
       "    <tr>\n",
       "      <th>1180</th>\n",
       "      <td>16854</td>\n",
       "      <td>27884</td>\n",
       "      <td>2018-01-08 19:37:34</td>\n",
       "      <td>150</td>\n",
       "    </tr>\n",
       "    <tr>\n",
       "      <th>1181</th>\n",
       "      <td>16855</td>\n",
       "      <td>27977</td>\n",
       "      <td>2018-01-09 14:09:18</td>\n",
       "      <td>25</td>\n",
       "    </tr>\n",
       "  </tbody>\n",
       "</table>\n",
       "</div>"
      ],
      "text/plain": [
       "         id  user_id      event_datetime  amount\n",
       "1171  16845    27845 2018-01-03 18:53:43     100\n",
       "1172  16846    27865 2018-01-04 14:46:10     250\n",
       "1174  16848    27911 2018-01-07 08:19:12      50\n",
       "1175  16849    27910 2018-01-07 12:11:34     100\n",
       "1176  16850    27940 2018-01-07 13:16:41     200\n",
       "1177  16851    27965 2018-01-07 22:55:33     100\n",
       "1178  16852    27981 2018-01-07 23:20:25      50\n",
       "1179  16853    27969 2018-01-08 01:18:23     100\n",
       "1180  16854    27884 2018-01-08 19:37:34     150\n",
       "1181  16855    27977 2018-01-09 14:09:18      25"
      ]
     },
     "execution_count": 27,
     "metadata": {},
     "output_type": "execute_result"
    }
   ],
   "source": [
    "purchase_2018.head(10)"
   ]
  },
  {
   "cell_type": "code",
   "execution_count": 28,
   "metadata": {},
   "outputs": [
    {
     "name": "stdout",
     "output_type": "stream",
     "text": [
      "<class 'pandas.core.frame.DataFrame'>\n",
      "Int64Index: 1600 entries, 1171 to 2778\n",
      "Data columns (total 4 columns):\n",
      " #   Column          Non-Null Count  Dtype         \n",
      "---  ------          --------------  -----         \n",
      " 0   id              1600 non-null   int64         \n",
      " 1   user_id         1600 non-null   int64         \n",
      " 2   event_datetime  1600 non-null   datetime64[ns]\n",
      " 3   amount          1600 non-null   int64         \n",
      "dtypes: datetime64[ns](1), int64(3)\n",
      "memory usage: 62.5 KB\n"
     ]
    }
   ],
   "source": [
    "purchase_2018.info()"
   ]
  },
  {
   "cell_type": "code",
   "execution_count": 29,
   "metadata": {},
   "outputs": [
    {
     "data": {
      "text/html": [
       "<div>\n",
       "<style scoped>\n",
       "    .dataframe tbody tr th:only-of-type {\n",
       "        vertical-align: middle;\n",
       "    }\n",
       "\n",
       "    .dataframe tbody tr th {\n",
       "        vertical-align: top;\n",
       "    }\n",
       "\n",
       "    .dataframe thead th {\n",
       "        text-align: right;\n",
       "    }\n",
       "</style>\n",
       "<table border=\"1\" class=\"dataframe\">\n",
       "  <thead>\n",
       "    <tr style=\"text-align: right;\">\n",
       "      <th></th>\n",
       "      <th>id</th>\n",
       "      <th>user_id</th>\n",
       "      <th>amount</th>\n",
       "    </tr>\n",
       "  </thead>\n",
       "  <tbody>\n",
       "    <tr>\n",
       "      <th>count</th>\n",
       "      <td>1600.000000</td>\n",
       "      <td>1600.000000</td>\n",
       "      <td>1600.000000</td>\n",
       "    </tr>\n",
       "    <tr>\n",
       "      <th>mean</th>\n",
       "      <td>17645.505625</td>\n",
       "      <td>37752.766250</td>\n",
       "      <td>110.734375</td>\n",
       "    </tr>\n",
       "    <tr>\n",
       "      <th>std</th>\n",
       "      <td>462.038637</td>\n",
       "      <td>5822.621784</td>\n",
       "      <td>54.696628</td>\n",
       "    </tr>\n",
       "    <tr>\n",
       "      <th>min</th>\n",
       "      <td>16845.000000</td>\n",
       "      <td>27845.000000</td>\n",
       "      <td>25.000000</td>\n",
       "    </tr>\n",
       "    <tr>\n",
       "      <th>25%</th>\n",
       "      <td>17245.750000</td>\n",
       "      <td>32815.750000</td>\n",
       "      <td>50.000000</td>\n",
       "    </tr>\n",
       "    <tr>\n",
       "      <th>50%</th>\n",
       "      <td>17645.500000</td>\n",
       "      <td>37633.500000</td>\n",
       "      <td>100.000000</td>\n",
       "    </tr>\n",
       "    <tr>\n",
       "      <th>75%</th>\n",
       "      <td>18045.250000</td>\n",
       "      <td>43023.000000</td>\n",
       "      <td>150.000000</td>\n",
       "    </tr>\n",
       "    <tr>\n",
       "      <th>max</th>\n",
       "      <td>18452.000000</td>\n",
       "      <td>47742.000000</td>\n",
       "      <td>300.000000</td>\n",
       "    </tr>\n",
       "  </tbody>\n",
       "</table>\n",
       "</div>"
      ],
      "text/plain": [
       "                 id       user_id       amount\n",
       "count   1600.000000   1600.000000  1600.000000\n",
       "mean   17645.505625  37752.766250   110.734375\n",
       "std      462.038637   5822.621784    54.696628\n",
       "min    16845.000000  27845.000000    25.000000\n",
       "25%    17245.750000  32815.750000    50.000000\n",
       "50%    17645.500000  37633.500000   100.000000\n",
       "75%    18045.250000  43023.000000   150.000000\n",
       "max    18452.000000  47742.000000   300.000000"
      ]
     },
     "execution_count": 29,
     "metadata": {},
     "output_type": "execute_result"
    }
   ],
   "source": [
    "# Снова обратимся к методу describe(), чтобы оценить характеристики каждого столбца датафрейма purchase_df.\n",
    "purchase_2018.describe()"
   ]
  },
  {
   "cell_type": "markdown",
   "metadata": {},
   "source": [
    "* Анализ пользовательских событий"
   ]
  },
  {
   "cell_type": "code",
   "execution_count": 30,
   "metadata": {},
   "outputs": [
    {
     "data": {
      "text/plain": [
       "19926"
      ]
     },
     "execution_count": 30,
     "metadata": {},
     "output_type": "execute_result"
    }
   ],
   "source": [
    "# Для начала посмотрим, сколько пользователей совершают событие registration.\n",
    "events_2018[events_2018['event_type'] == 'registration']['user_id'].nunique()"
   ]
  },
  {
   "cell_type": "code",
   "execution_count": 31,
   "metadata": {},
   "outputs": [
    {
     "data": {
      "text/plain": [
       "19926"
      ]
     },
     "execution_count": 31,
     "metadata": {},
     "output_type": "execute_result"
    }
   ],
   "source": [
    "events_2018['user_id'].nunique()"
   ]
  },
  {
   "cell_type": "markdown",
   "metadata": {},
   "source": [
    "* Изучаем событие tutorial_start"
   ]
  },
  {
   "cell_type": "code",
   "execution_count": 32,
   "metadata": {},
   "outputs": [
    {
     "data": {
      "text/html": [
       "<div>\n",
       "<style scoped>\n",
       "    .dataframe tbody tr th:only-of-type {\n",
       "        vertical-align: middle;\n",
       "    }\n",
       "\n",
       "    .dataframe tbody tr th {\n",
       "        vertical-align: top;\n",
       "    }\n",
       "\n",
       "    .dataframe thead th {\n",
       "        text-align: right;\n",
       "    }\n",
       "</style>\n",
       "<table border=\"1\" class=\"dataframe\">\n",
       "  <thead>\n",
       "    <tr style=\"text-align: right;\">\n",
       "      <th></th>\n",
       "      <th>id</th>\n",
       "      <th>event_type</th>\n",
       "      <th>selected_level</th>\n",
       "      <th>start_time</th>\n",
       "      <th>tutorial_id</th>\n",
       "      <th>user_id</th>\n",
       "    </tr>\n",
       "  </thead>\n",
       "  <tbody>\n",
       "    <tr>\n",
       "      <th>51412</th>\n",
       "      <td>80315</td>\n",
       "      <td>tutorial_start</td>\n",
       "      <td>NaN</td>\n",
       "      <td>2018-01-01 14:54:40</td>\n",
       "      <td>31505.0</td>\n",
       "      <td>27836</td>\n",
       "    </tr>\n",
       "    <tr>\n",
       "      <th>51413</th>\n",
       "      <td>80316</td>\n",
       "      <td>tutorial_start</td>\n",
       "      <td>NaN</td>\n",
       "      <td>2018-01-01 15:00:51</td>\n",
       "      <td>31506.0</td>\n",
       "      <td>27835</td>\n",
       "    </tr>\n",
       "    <tr>\n",
       "      <th>51415</th>\n",
       "      <td>80318</td>\n",
       "      <td>tutorial_start</td>\n",
       "      <td>NaN</td>\n",
       "      <td>2018-01-01 15:40:43</td>\n",
       "      <td>31507.0</td>\n",
       "      <td>27836</td>\n",
       "    </tr>\n",
       "    <tr>\n",
       "      <th>51417</th>\n",
       "      <td>80320</td>\n",
       "      <td>tutorial_start</td>\n",
       "      <td>NaN</td>\n",
       "      <td>2018-01-01 17:47:40</td>\n",
       "      <td>31508.0</td>\n",
       "      <td>27833</td>\n",
       "    </tr>\n",
       "    <tr>\n",
       "      <th>51420</th>\n",
       "      <td>80323</td>\n",
       "      <td>tutorial_start</td>\n",
       "      <td>NaN</td>\n",
       "      <td>2018-01-01 19:11:36</td>\n",
       "      <td>31509.0</td>\n",
       "      <td>27839</td>\n",
       "    </tr>\n",
       "    <tr>\n",
       "      <th>51422</th>\n",
       "      <td>80325</td>\n",
       "      <td>tutorial_start</td>\n",
       "      <td>NaN</td>\n",
       "      <td>2018-01-01 19:46:11</td>\n",
       "      <td>31510.0</td>\n",
       "      <td>27834</td>\n",
       "    </tr>\n",
       "    <tr>\n",
       "      <th>51434</th>\n",
       "      <td>80337</td>\n",
       "      <td>tutorial_start</td>\n",
       "      <td>NaN</td>\n",
       "      <td>2018-01-02 02:07:07</td>\n",
       "      <td>31511.0</td>\n",
       "      <td>27840</td>\n",
       "    </tr>\n",
       "    <tr>\n",
       "      <th>51435</th>\n",
       "      <td>80338</td>\n",
       "      <td>tutorial_start</td>\n",
       "      <td>NaN</td>\n",
       "      <td>2018-01-02 03:03:44</td>\n",
       "      <td>31512.0</td>\n",
       "      <td>27845</td>\n",
       "    </tr>\n",
       "    <tr>\n",
       "      <th>51437</th>\n",
       "      <td>80340</td>\n",
       "      <td>tutorial_start</td>\n",
       "      <td>NaN</td>\n",
       "      <td>2018-01-02 04:55:11</td>\n",
       "      <td>31513.0</td>\n",
       "      <td>27842</td>\n",
       "    </tr>\n",
       "    <tr>\n",
       "      <th>51446</th>\n",
       "      <td>80349</td>\n",
       "      <td>tutorial_start</td>\n",
       "      <td>NaN</td>\n",
       "      <td>2018-01-02 07:08:00</td>\n",
       "      <td>31514.0</td>\n",
       "      <td>27845</td>\n",
       "    </tr>\n",
       "  </tbody>\n",
       "</table>\n",
       "</div>"
      ],
      "text/plain": [
       "          id      event_type selected_level          start_time  tutorial_id  \\\n",
       "51412  80315  tutorial_start            NaN 2018-01-01 14:54:40      31505.0   \n",
       "51413  80316  tutorial_start            NaN 2018-01-01 15:00:51      31506.0   \n",
       "51415  80318  tutorial_start            NaN 2018-01-01 15:40:43      31507.0   \n",
       "51417  80320  tutorial_start            NaN 2018-01-01 17:47:40      31508.0   \n",
       "51420  80323  tutorial_start            NaN 2018-01-01 19:11:36      31509.0   \n",
       "51422  80325  tutorial_start            NaN 2018-01-01 19:46:11      31510.0   \n",
       "51434  80337  tutorial_start            NaN 2018-01-02 02:07:07      31511.0   \n",
       "51435  80338  tutorial_start            NaN 2018-01-02 03:03:44      31512.0   \n",
       "51437  80340  tutorial_start            NaN 2018-01-02 04:55:11      31513.0   \n",
       "51446  80349  tutorial_start            NaN 2018-01-02 07:08:00      31514.0   \n",
       "\n",
       "       user_id  \n",
       "51412    27836  \n",
       "51413    27835  \n",
       "51415    27836  \n",
       "51417    27833  \n",
       "51420    27839  \n",
       "51422    27834  \n",
       "51434    27840  \n",
       "51435    27845  \n",
       "51437    27842  \n",
       "51446    27845  "
      ]
     },
     "execution_count": 32,
     "metadata": {},
     "output_type": "execute_result"
    }
   ],
   "source": [
    "# Посмотрим на срез данных по событию tutorial_start.\n",
    "events_2018[events_2018['event_type'] == 'tutorial_start'].head(10)"
   ]
  },
  {
   "cell_type": "code",
   "execution_count": 33,
   "metadata": {},
   "outputs": [
    {
     "data": {
      "text/plain": [
       "11858"
      ]
     },
     "execution_count": 33,
     "metadata": {},
     "output_type": "execute_result"
    }
   ],
   "source": [
    "# Посмотрим на количество пользователей, которые совершают событие tutorial_start:\n",
    "events_2018[events_2018['event_type'] == 'tutorial_start']['user_id'].nunique()"
   ]
  },
  {
   "cell_type": "markdown",
   "metadata": {},
   "source": [
    "Как мы видим, число пользователей, которые перешли к выполнению обучения, меньше, чем число пользователей, прошедших регистрацию."
   ]
  },
  {
   "cell_type": "code",
   "execution_count": 34,
   "metadata": {},
   "outputs": [
    {
     "name": "stdout",
     "output_type": "stream",
     "text": [
      "Процент пользователей, начавших обучение (от общего числа зарегистрировавшихся): 59.51%\n"
     ]
    }
   ],
   "source": [
    "# Давайте определим процент пользователей, которые перешли к выполнению обучения, и запишем его в переменную percent_tutorial_start_users.\n",
    "registered_users_count = events_2018[events_2018[\"event_type\"] == \"registration\"][\n",
    "    \"user_id\"\n",
    "].nunique()\n",
    "tutorial_start_users_count = events_2018[events_2018[\"event_type\"] == \"tutorial_start\"][\n",
    "    \"user_id\"\n",
    "].nunique()\n",
    "percent_tutorial_start_users = tutorial_start_users_count / registered_users_count\n",
    "print(\n",
    "    \"Процент пользователей, начавших обучение (от общего числа зарегистрировавшихся): {:.2%}\".format(\n",
    "        percent_tutorial_start_users\n",
    "    )\n",
    ")"
   ]
  },
  {
   "cell_type": "markdown",
   "metadata": {},
   "source": [
    "Изучаем событие tutorial_finish"
   ]
  },
  {
   "cell_type": "code",
   "execution_count": 35,
   "metadata": {},
   "outputs": [
    {
     "data": {
      "text/plain": [
       "10250"
      ]
     },
     "execution_count": 35,
     "metadata": {},
     "output_type": "execute_result"
    }
   ],
   "source": [
    "# Теперь давайте посмотрим, какое количество пользователей проходит обучение до конца (событие tutorial_finish).\n",
    "events_2018[events_2018['event_type'] == 'tutorial_finish']['user_id'].nunique()"
   ]
  },
  {
   "cell_type": "code",
   "execution_count": 36,
   "metadata": {},
   "outputs": [
    {
     "name": "stdout",
     "output_type": "stream",
     "text": [
      "Процент пользователей, завершивших обучение: 86.44%\n"
     ]
    }
   ],
   "source": [
    "# Рассчитаем процент пользователей, завершивших обучение, среди пользователей, которые начали обучение. \n",
    "# Это будет показатель tutorial_completion_rate (коэффициент «завершаемости» обучения).\n",
    "tutorial_finish_users_count = events_2018[events_2018[\"event_type\"] == \"tutorial_finish\"][\n",
    "    \"user_id\"\n",
    "].nunique()\n",
    "tutorial_completion_rate = tutorial_finish_users_count / tutorial_start_users_count\n",
    "print(\n",
    "    \"Процент пользователей, завершивших обучение: {:.2%}\".format(\n",
    "        tutorial_completion_rate\n",
    "    )\n",
    ")"
   ]
  },
  {
   "cell_type": "markdown",
   "metadata": {},
   "source": [
    "* Какой вывод мы можем сделать?\n",
    "\n",
    "** В нашем приложении достаточно хороший процент прохождения обучения. Но есть куда стремиться для его увеличения."
   ]
  },
  {
   "cell_type": "markdown",
   "metadata": {},
   "source": [
    "* Изучаем level_choice"
   ]
  },
  {
   "cell_type": "code",
   "execution_count": 37,
   "metadata": {},
   "outputs": [
    {
     "data": {
      "text/plain": [
       "8342"
      ]
     },
     "execution_count": 37,
     "metadata": {},
     "output_type": "execute_result"
    }
   ],
   "source": [
    "# Следующий этап — это выбор уровня сложности level_choice. Давайте посмотрим на процент тех, кто доходит до этого этапа.\n",
    "events_2018[events_2018['event_type'] == 'level_choice']['user_id'].nunique()"
   ]
  },
  {
   "cell_type": "code",
   "execution_count": 38,
   "metadata": {},
   "outputs": [
    {
     "name": "stdout",
     "output_type": "stream",
     "text": [
      "Процент пользователей, выбравших уровень сложности тренировок (от общего числа зарегистрировавшихся): 41.86%\n"
     ]
    }
   ],
   "source": [
    "\"\"\"\n",
    "Из логики нашего приложения следует, что выбор уровня сложности можно совершить и без прохождения обучения. \n",
    "Поэтому рассчитаем долю пользователей percent_level_choice_users, которые выбрали уровень сложности, от общего числа зарегистрировавшихся:\n",
    "\"\"\"\n",
    "level_choice_users_count = events_2018[events_2018[\"event_type\"] == \"level_choice\"][\n",
    "    \"user_id\"\n",
    "].nunique()\n",
    "percent_level_choice_users = level_choice_users_count / registered_users_count\n",
    "print(\n",
    "    \"Процент пользователей, выбравших уровень сложности тренировок (от общего числа зарегистрировавшихся): {:.2%}\".format(\n",
    "        percent_level_choice_users\n",
    "    )\n",
    ")"
   ]
  },
  {
   "cell_type": "markdown",
   "metadata": {},
   "source": [
    "* Какой вывод мы можем сделать?\n",
    "\n",
    "** Меньше половины пользователей (41.86 %) доходят до этапа выбора уровня сложности вопросов. А ведь этот этап напрямую влияет на то, что пользователь будет пользоваться приложением через бесплатные возможности, которые в дальнейшем могут привести к оплате."
   ]
  },
  {
   "cell_type": "markdown",
   "metadata": {},
   "source": [
    "* Изучаем pack_choice"
   ]
  },
  {
   "cell_type": "code",
   "execution_count": 39,
   "metadata": {},
   "outputs": [
    {
     "data": {
      "text/plain": [
       "5737"
      ]
     },
     "execution_count": 39,
     "metadata": {},
     "output_type": "execute_result"
    }
   ],
   "source": [
    "# Теперь давайте определим число пользователей, которые совершили событие выбора бесплатного пакета вопросов pack_choice.\n",
    "events_2018[events_2018['event_type'] == 'pack_choice']['user_id'].nunique()"
   ]
  },
  {
   "cell_type": "code",
   "execution_count": 40,
   "metadata": {},
   "outputs": [
    {
     "name": "stdout",
     "output_type": "stream",
     "text": [
      "Процент пользователей, выбравших набор бесплатных вопросов (от числа пользователей, которые выбрали уровень сложности): 68.77%\n"
     ]
    }
   ],
   "source": [
    "# Оценим процент таких пользователей от числа пользователей, которые выбрали уровень сложности.\n",
    "training_choice_users_count = events_2018[events_2018[\"event_type\"] == \"pack_choice\"][\n",
    "    \"user_id\"\n",
    "].nunique()\n",
    "percent_training_choice_users = training_choice_users_count / level_choice_users_count\n",
    "print(\n",
    "    \"Процент пользователей, выбравших набор бесплатных вопросов (от числа пользователей, которые выбрали уровень сложности): {:.2%}\".format(\n",
    "        percent_training_choice_users\n",
    "    )\n",
    ")"
   ]
  },
  {
   "cell_type": "markdown",
   "metadata": {},
   "source": [
    "* Изучаем покупку платных пакетов"
   ]
  },
  {
   "cell_type": "code",
   "execution_count": 41,
   "metadata": {},
   "outputs": [
    {
     "data": {
      "text/plain": [
       "1600"
      ]
     },
     "execution_count": 41,
     "metadata": {},
     "output_type": "execute_result"
    }
   ],
   "source": [
    "# Следующий этап после выбора бесплатного набора вопросов — это возможная покупка платных пакетов. Оценим число пользователей,\n",
    "# которые совершили покупку. Для этого нам потребуется датафрейм purchase_df.\n",
    "purchase_2018['user_id'].nunique()"
   ]
  },
  {
   "cell_type": "code",
   "execution_count": 42,
   "metadata": {},
   "outputs": [
    {
     "name": "stdout",
     "output_type": "stream",
     "text": [
      "Процент пользователей, которые оплатили вопросы (от числа пользователей, которые выбрали тренировки): 27.89%\n"
     ]
    }
   ],
   "source": [
    "# Рассчитаем процент пользователей percent_of_paying_users, которые оплатили вопросы, от числа пользователей, которые приобрели бесплатные вопросы:\n",
    "paying_users_count = purchase_2018[\"user_id\"].nunique()\n",
    "percent_of_paying_users = paying_users_count / training_choice_users_count\n",
    "print(\n",
    "    \"Процент пользователей, которые оплатили вопросы (от числа пользователей, которые выбрали тренировки): {:.2%}\".format(\n",
    "        percent_of_paying_users\n",
    "    )\n",
    ")"
   ]
  },
  {
   "cell_type": "markdown",
   "metadata": {},
   "source": [
    "Таким образом, чуть больше четверти пользователей, которые выбирают бесплатные вопросы, в дальнейшем покупают их."
   ]
  },
  {
   "cell_type": "code",
   "execution_count": 43,
   "metadata": {},
   "outputs": [
    {
     "name": "stdout",
     "output_type": "stream",
     "text": [
      "Процент пользователей, которые оплатили вопросы(от числа зарегистрировавшихся пользователей): 8.03%\n"
     ]
    }
   ],
   "source": [
    "# Давайте посмотрим, какой процент составляют покупатели от общего числа зарегистрировавшихся. Для этого создадим переменную purchase_rate.\n",
    "purchase_rate = paying_users_count / registered_users_count\n",
    "print(\n",
    "    \"Процент пользователей, которые оплатили вопросы(от числа зарегистрировавшихся пользователей): {:.2%}\".format(\n",
    "        purchase_rate\n",
    "    )\n",
    ")"
   ]
  },
  {
   "cell_type": "markdown",
   "metadata": {},
   "source": [
    "### Какой вывод мы можем сделать?\n",
    "\n",
    "`Итак, процент зарегистрировавшихся пользователей, которые приобрели платный пакет, составляет 8.03 %.\n",
    "Само по себе это число нам ни о чём не говорит, поэтому в рамках одной из гипотез мы рассмотрим этот процент для пользователей разных групп. И эта информация укажет нам возможные пути оптимизации.`"
   ]
  },
  {
   "cell_type": "markdown",
   "metadata": {},
   "source": [
    "***"
   ]
  },
  {
   "cell_type": "markdown",
   "metadata": {},
   "source": [
    "# `Анализ уникальных пользовательских путей`"
   ]
  },
  {
   "cell_type": "markdown",
   "metadata": {},
   "source": [
    "### Зачем нужны уникальные пользовательские пути\n",
    "<table>\n",
    "    <tr>\n",
    "        <td>\n",
    "Наша воронка достаточно предсказуемая: почти все этапы идут последовательно друг за другом. Однако нужно иметь в виду один нюанс: есть пользователи, которые не начинают обучение, есть такие, кто его не заканчивает, а есть те, кто проходят его по несколько раз.\n",
    "\n",
    "Отследив уникальные пользовательские пути, мы можем визуально оценить, какие успешные пути существуют, а также заметить девиации (например, если у нас будет много путей с очень частым началом обучения).\n",
    "        </td>\n",
    "    </tr>\n",
    "</table>\n",
    "\n",
    "**Чтобы понимать, какие есть различные последовательности прохождения пользователей по воронке и насколько часто они встречаются, можно воспользоваться таким подходом:**\n",
    "\n",
    "   * отсортировать все события по возрастанию во времени;\n",
    "   * объединить для каждого пользователя все его события в один список;\n",
    "   * подсчитать частоту различных списков.\n"
   ]
  },
  {
   "cell_type": "markdown",
   "metadata": {},
   "source": [
    "### Объединяем датафреймы\n",
    "Для начала давайте объединим датафрейм с событиями с датафреймом по оплатам. Это позволит анализировать все эти события в рамках одной структуры данных."
   ]
  },
  {
   "cell_type": "code",
   "execution_count": 44,
   "metadata": {},
   "outputs": [],
   "source": [
    "# Добавим в датафрейм purchase_df столбец event_type, который будет содержать одно значение purchase.\n",
    "# Это нужно, чтобы в объединённом датафрейме однозначно выделить события оплаты.\n",
    "purchase_2018['event_type'] = 'purchase'"
   ]
  },
  {
   "cell_type": "code",
   "execution_count": 45,
   "metadata": {},
   "outputs": [],
   "source": [
    "# Также у нас есть одинаковые столбцы id в двух датафреймах, но смысл их несколько отличается, так как столбец id в events_df указывает на идентификатор события,\n",
    "# а столбец id в purchase_df указывает на идентификатор оплаты. Поэтому применим функцию rename(), чтобы переименовать столбцы в датафреймах.\n",
    "events_2018 = events_2018.rename(columns={\"id\": \"event_id\"})\n",
    "purchase_2018 = purchase_2018.rename(columns={\"id\": \"purchase_id\"})"
   ]
  },
  {
   "cell_type": "code",
   "execution_count": 46,
   "metadata": {},
   "outputs": [],
   "source": [
    "# Следующим шагом объединим датафреймы events_df и purchase_df с помощью функции pd.concat() и запишем объединённый датафрейм в переменную total_events_df.\n",
    "total_events_df = pd.concat([events_2018,purchase_2018],sort=False)"
   ]
  },
  {
   "cell_type": "code",
   "execution_count": 47,
   "metadata": {},
   "outputs": [
    {
     "data": {
      "text/html": [
       "<div>\n",
       "<style scoped>\n",
       "    .dataframe tbody tr th:only-of-type {\n",
       "        vertical-align: middle;\n",
       "    }\n",
       "\n",
       "    .dataframe tbody tr th {\n",
       "        vertical-align: top;\n",
       "    }\n",
       "\n",
       "    .dataframe thead th {\n",
       "        text-align: right;\n",
       "    }\n",
       "</style>\n",
       "<table border=\"1\" class=\"dataframe\">\n",
       "  <thead>\n",
       "    <tr style=\"text-align: right;\">\n",
       "      <th></th>\n",
       "      <th>event_id</th>\n",
       "      <th>event_type</th>\n",
       "      <th>selected_level</th>\n",
       "      <th>start_time</th>\n",
       "      <th>tutorial_id</th>\n",
       "      <th>user_id</th>\n",
       "      <th>purchase_id</th>\n",
       "      <th>event_datetime</th>\n",
       "      <th>amount</th>\n",
       "    </tr>\n",
       "  </thead>\n",
       "  <tbody>\n",
       "    <tr>\n",
       "      <th>51405</th>\n",
       "      <td>80308.0</td>\n",
       "      <td>registration</td>\n",
       "      <td>NaN</td>\n",
       "      <td>2018-01-01 03:48:40</td>\n",
       "      <td>NaN</td>\n",
       "      <td>27832</td>\n",
       "      <td>NaN</td>\n",
       "      <td>NaT</td>\n",
       "      <td>NaN</td>\n",
       "    </tr>\n",
       "    <tr>\n",
       "      <th>51406</th>\n",
       "      <td>80309.0</td>\n",
       "      <td>registration</td>\n",
       "      <td>NaN</td>\n",
       "      <td>2018-01-01 04:07:25</td>\n",
       "      <td>NaN</td>\n",
       "      <td>27833</td>\n",
       "      <td>NaN</td>\n",
       "      <td>NaT</td>\n",
       "      <td>NaN</td>\n",
       "    </tr>\n",
       "    <tr>\n",
       "      <th>51407</th>\n",
       "      <td>80310.0</td>\n",
       "      <td>registration</td>\n",
       "      <td>NaN</td>\n",
       "      <td>2018-01-01 08:35:10</td>\n",
       "      <td>NaN</td>\n",
       "      <td>27834</td>\n",
       "      <td>NaN</td>\n",
       "      <td>NaT</td>\n",
       "      <td>NaN</td>\n",
       "    </tr>\n",
       "    <tr>\n",
       "      <th>51408</th>\n",
       "      <td>80311.0</td>\n",
       "      <td>registration</td>\n",
       "      <td>NaN</td>\n",
       "      <td>2018-01-01 11:54:47</td>\n",
       "      <td>NaN</td>\n",
       "      <td>27835</td>\n",
       "      <td>NaN</td>\n",
       "      <td>NaT</td>\n",
       "      <td>NaN</td>\n",
       "    </tr>\n",
       "    <tr>\n",
       "      <th>51409</th>\n",
       "      <td>80312.0</td>\n",
       "      <td>registration</td>\n",
       "      <td>NaN</td>\n",
       "      <td>2018-01-01 13:28:07</td>\n",
       "      <td>NaN</td>\n",
       "      <td>27836</td>\n",
       "      <td>NaN</td>\n",
       "      <td>NaT</td>\n",
       "      <td>NaN</td>\n",
       "    </tr>\n",
       "    <tr>\n",
       "      <th>51410</th>\n",
       "      <td>80313.0</td>\n",
       "      <td>registration</td>\n",
       "      <td>NaN</td>\n",
       "      <td>2018-01-01 14:08:40</td>\n",
       "      <td>NaN</td>\n",
       "      <td>27837</td>\n",
       "      <td>NaN</td>\n",
       "      <td>NaT</td>\n",
       "      <td>NaN</td>\n",
       "    </tr>\n",
       "    <tr>\n",
       "      <th>51411</th>\n",
       "      <td>80314.0</td>\n",
       "      <td>registration</td>\n",
       "      <td>NaN</td>\n",
       "      <td>2018-01-01 14:42:58</td>\n",
       "      <td>NaN</td>\n",
       "      <td>27838</td>\n",
       "      <td>NaN</td>\n",
       "      <td>NaT</td>\n",
       "      <td>NaN</td>\n",
       "    </tr>\n",
       "    <tr>\n",
       "      <th>51412</th>\n",
       "      <td>80315.0</td>\n",
       "      <td>tutorial_start</td>\n",
       "      <td>NaN</td>\n",
       "      <td>2018-01-01 14:54:40</td>\n",
       "      <td>31505.0</td>\n",
       "      <td>27836</td>\n",
       "      <td>NaN</td>\n",
       "      <td>NaT</td>\n",
       "      <td>NaN</td>\n",
       "    </tr>\n",
       "    <tr>\n",
       "      <th>51413</th>\n",
       "      <td>80316.0</td>\n",
       "      <td>tutorial_start</td>\n",
       "      <td>NaN</td>\n",
       "      <td>2018-01-01 15:00:51</td>\n",
       "      <td>31506.0</td>\n",
       "      <td>27835</td>\n",
       "      <td>NaN</td>\n",
       "      <td>NaT</td>\n",
       "      <td>NaN</td>\n",
       "    </tr>\n",
       "    <tr>\n",
       "      <th>51414</th>\n",
       "      <td>80317.0</td>\n",
       "      <td>tutorial_finish</td>\n",
       "      <td>NaN</td>\n",
       "      <td>2018-01-01 15:06:15</td>\n",
       "      <td>31506.0</td>\n",
       "      <td>27835</td>\n",
       "      <td>NaN</td>\n",
       "      <td>NaT</td>\n",
       "      <td>NaN</td>\n",
       "    </tr>\n",
       "  </tbody>\n",
       "</table>\n",
       "</div>"
      ],
      "text/plain": [
       "       event_id       event_type selected_level          start_time  \\\n",
       "51405   80308.0     registration            NaN 2018-01-01 03:48:40   \n",
       "51406   80309.0     registration            NaN 2018-01-01 04:07:25   \n",
       "51407   80310.0     registration            NaN 2018-01-01 08:35:10   \n",
       "51408   80311.0     registration            NaN 2018-01-01 11:54:47   \n",
       "51409   80312.0     registration            NaN 2018-01-01 13:28:07   \n",
       "51410   80313.0     registration            NaN 2018-01-01 14:08:40   \n",
       "51411   80314.0     registration            NaN 2018-01-01 14:42:58   \n",
       "51412   80315.0   tutorial_start            NaN 2018-01-01 14:54:40   \n",
       "51413   80316.0   tutorial_start            NaN 2018-01-01 15:00:51   \n",
       "51414   80317.0  tutorial_finish            NaN 2018-01-01 15:06:15   \n",
       "\n",
       "       tutorial_id  user_id  purchase_id event_datetime  amount  \n",
       "51405          NaN    27832          NaN            NaT     NaN  \n",
       "51406          NaN    27833          NaN            NaT     NaN  \n",
       "51407          NaN    27834          NaN            NaT     NaN  \n",
       "51408          NaN    27835          NaN            NaT     NaN  \n",
       "51409          NaN    27836          NaN            NaT     NaN  \n",
       "51410          NaN    27837          NaN            NaT     NaN  \n",
       "51411          NaN    27838          NaN            NaT     NaN  \n",
       "51412      31505.0    27836          NaN            NaT     NaN  \n",
       "51413      31506.0    27835          NaN            NaT     NaN  \n",
       "51414      31506.0    27835          NaN            NaT     NaN  "
      ]
     },
     "execution_count": 47,
     "metadata": {},
     "output_type": "execute_result"
    }
   ],
   "source": [
    "# Посмотрим, что получилось:\n",
    "total_events_df.head(10)"
   ]
  },
  {
   "cell_type": "code",
   "execution_count": 48,
   "metadata": {},
   "outputs": [
    {
     "name": "stdout",
     "output_type": "stream",
     "text": [
      "<class 'pandas.core.frame.DataFrame'>\n",
      "Int64Index: 68559 entries, 51405 to 2778\n",
      "Data columns (total 9 columns):\n",
      " #   Column          Non-Null Count  Dtype         \n",
      "---  ------          --------------  -----         \n",
      " 0   event_id        66959 non-null  float64       \n",
      " 1   event_type      68559 non-null  object        \n",
      " 2   selected_level  8342 non-null   object        \n",
      " 3   start_time      66959 non-null  datetime64[ns]\n",
      " 4   tutorial_id     32954 non-null  float64       \n",
      " 5   user_id         68559 non-null  int64         \n",
      " 6   purchase_id     1600 non-null   float64       \n",
      " 7   event_datetime  1600 non-null   datetime64[ns]\n",
      " 8   amount          1600 non-null   float64       \n",
      "dtypes: datetime64[ns](2), float64(4), int64(1), object(2)\n",
      "memory usage: 5.2+ MB\n"
     ]
    }
   ],
   "source": [
    "total_events_df.info()"
   ]
  },
  {
   "cell_type": "code",
   "execution_count": 49,
   "metadata": {},
   "outputs": [],
   "source": [
    "# Теперь сбросим индексы объединённого датафрейма (так как после объединения они дублировались и несут мало смысла) с помощью метода reset_index()\n",
    "# и отсортируем все события по возрастанию времени с помощью sort_values().\n",
    "total_events_df = total_events_df.reset_index(drop=True).sort_values('start_time')"
   ]
  },
  {
   "cell_type": "markdown",
   "metadata": {},
   "source": [
    "#### Воссоздаём последовательность событий\n",
    "*Теперь можно для каждого пользователя создать список, который будет содержать во временной последовательности все события, совершаемые данным пользователем.*"
   ]
  },
  {
   "cell_type": "code",
   "execution_count": 50,
   "metadata": {},
   "outputs": [
    {
     "data": {
      "text/html": [
       "<div>\n",
       "<style scoped>\n",
       "    .dataframe tbody tr th:only-of-type {\n",
       "        vertical-align: middle;\n",
       "    }\n",
       "\n",
       "    .dataframe tbody tr th {\n",
       "        vertical-align: top;\n",
       "    }\n",
       "\n",
       "    .dataframe thead th {\n",
       "        text-align: right;\n",
       "    }\n",
       "</style>\n",
       "<table border=\"1\" class=\"dataframe\">\n",
       "  <thead>\n",
       "    <tr style=\"text-align: right;\">\n",
       "      <th></th>\n",
       "      <th>user_id</th>\n",
       "      <th>event_type</th>\n",
       "    </tr>\n",
       "  </thead>\n",
       "  <tbody>\n",
       "    <tr>\n",
       "      <th>0</th>\n",
       "      <td>27832</td>\n",
       "      <td>[registration]</td>\n",
       "    </tr>\n",
       "    <tr>\n",
       "      <th>1</th>\n",
       "      <td>27833</td>\n",
       "      <td>[registration, tutorial_start, tutorial_finish]</td>\n",
       "    </tr>\n",
       "    <tr>\n",
       "      <th>2</th>\n",
       "      <td>27834</td>\n",
       "      <td>[registration, tutorial_start, tutorial_finish]</td>\n",
       "    </tr>\n",
       "    <tr>\n",
       "      <th>3</th>\n",
       "      <td>27835</td>\n",
       "      <td>[registration, tutorial_start, tutorial_finish...</td>\n",
       "    </tr>\n",
       "    <tr>\n",
       "      <th>4</th>\n",
       "      <td>27836</td>\n",
       "      <td>[registration, tutorial_start, tutorial_start,...</td>\n",
       "    </tr>\n",
       "    <tr>\n",
       "      <th>5</th>\n",
       "      <td>27837</td>\n",
       "      <td>[registration]</td>\n",
       "    </tr>\n",
       "    <tr>\n",
       "      <th>6</th>\n",
       "      <td>27838</td>\n",
       "      <td>[registration]</td>\n",
       "    </tr>\n",
       "    <tr>\n",
       "      <th>7</th>\n",
       "      <td>27839</td>\n",
       "      <td>[registration, tutorial_start, tutorial_finish...</td>\n",
       "    </tr>\n",
       "    <tr>\n",
       "      <th>8</th>\n",
       "      <td>27840</td>\n",
       "      <td>[registration, tutorial_start, level_choice]</td>\n",
       "    </tr>\n",
       "    <tr>\n",
       "      <th>9</th>\n",
       "      <td>27841</td>\n",
       "      <td>[registration, tutorial_start, tutorial_finish]</td>\n",
       "    </tr>\n",
       "  </tbody>\n",
       "</table>\n",
       "</div>"
      ],
      "text/plain": [
       "   user_id                                         event_type\n",
       "0    27832                                     [registration]\n",
       "1    27833    [registration, tutorial_start, tutorial_finish]\n",
       "2    27834    [registration, tutorial_start, tutorial_finish]\n",
       "3    27835  [registration, tutorial_start, tutorial_finish...\n",
       "4    27836  [registration, tutorial_start, tutorial_start,...\n",
       "5    27837                                     [registration]\n",
       "6    27838                                     [registration]\n",
       "7    27839  [registration, tutorial_start, tutorial_finish...\n",
       "8    27840       [registration, tutorial_start, level_choice]\n",
       "9    27841    [registration, tutorial_start, tutorial_finish]"
      ]
     },
     "execution_count": 50,
     "metadata": {},
     "output_type": "execute_result"
    }
   ],
   "source": [
    "\"\"\"\n",
    "Для этого воспользуемся методом groupby по столбцу event_type и применим агрегирующую функцию apply(list).\n",
    "Таким образом мы сгруппируем строки по пользователю, а затем объединим в списки содержимое столбца event_type по каждому пользователю.\n",
    "Запишем результат в датафрейм user_path_df.\n",
    "\"\"\"\n",
    "user_path_df = (\n",
    "    total_events_df.groupby([\"user_id\"])[\"event_type\"].apply(list).reset_index()\n",
    ")\n",
    "user_path_df.head(10)"
   ]
  },
  {
   "cell_type": "markdown",
   "metadata": {},
   "source": [
    "**Теперь у нас есть датафрейм, где для каждого пользователя в столбце event_type указаны последовательно все его события — пути пользователя.**\n",
    "**Если мы объединим данные по этой колонке и подсчитаем количество пользователей по каждому пути, то получим наиболее популярные пути пользователей.**"
   ]
  },
  {
   "cell_type": "markdown",
   "metadata": {},
   "source": [
    "## Выявляем наиболее популярные пути"
   ]
  },
  {
   "cell_type": "code",
   "execution_count": 51,
   "metadata": {},
   "outputs": [
    {
     "data": {
      "text/plain": [
       "0                                         registration\n",
       "1      registration > tutorial_start > tutorial_finish\n",
       "2      registration > tutorial_start > tutorial_finish\n",
       "3    registration > tutorial_start > tutorial_finis...\n",
       "4    registration > tutorial_start > tutorial_start...\n",
       "Name: event_path, dtype: object"
      ]
     },
     "execution_count": 51,
     "metadata": {},
     "output_type": "execute_result"
    }
   ],
   "source": [
    "# Прежде чем мы сможем оценить популярные пути пользователей, преобразуем список событий в строку event_path.\n",
    "# Эта операция нужна для оптимизации скорости объединения, так как иначе Pandas может делать подсчёт слишком долго.\n",
    "user_path_df[\"event_path\"] = user_path_df[\"event_type\"].apply(lambda x: \" > \".join(x))\n",
    "user_path_df[\"event_path\"].head()"
   ]
  },
  {
   "cell_type": "code",
   "execution_count": 52,
   "metadata": {},
   "outputs": [],
   "source": [
    "# Теперь можно сгруппировать датафрейм по столбцу event_path, подсчитав число пользователей.\n",
    "user_paths = (\n",
    "    user_path_df.groupby([\"event_path\"])[\"user_id\"]\n",
    "    .nunique()\n",
    "    .sort_values(ascending=False)\n",
    ")"
   ]
  },
  {
   "cell_type": "code",
   "execution_count": 53,
   "metadata": {},
   "outputs": [
    {
     "data": {
      "text/plain": [
       "event_path\n",
       "registration                                                                                                       7970\n",
       "registration > tutorial_start > tutorial_finish > level_choice > pack_choice                                       2796\n",
       "registration > tutorial_start > tutorial_finish                                                                    1956\n",
       "registration > tutorial_start > tutorial_finish > level_choice                                                     1713\n",
       "registration > tutorial_start > tutorial_finish > level_choice > pack_choice > purchase                            1083\n",
       "registration > tutorial_start                                                                                       842\n",
       "registration > tutorial_start > level_choice > pack_choice                                                          346\n",
       "registration > tutorial_start > tutorial_finish > tutorial_start > tutorial_finish                                  323\n",
       "registration > tutorial_start > level_choice                                                                        243\n",
       "registration > tutorial_start > tutorial_finish > level_choice > pack_choice > tutorial_start > tutorial_finish     236\n",
       "Name: user_id, dtype: int64"
      ]
     },
     "execution_count": 53,
     "metadata": {},
     "output_type": "execute_result"
    }
   ],
   "source": [
    "# Выведем 10 самых популярных последовательностей.\n",
    "user_paths.head(10)"
   ]
  },
  {
   "cell_type": "markdown",
   "metadata": {},
   "source": [
    "### Какой вывод мы можем сделать?\n",
    "Как мы видим, среди 10 самых популярных последовательностей только одна содержит этап оплаты. Это последовательность **registration > tutorial_start > tutorial_finish > level_choice > pack_choice > purchase.**"
   ]
  },
  {
   "cell_type": "markdown",
   "metadata": {},
   "source": [
    "Давайте посмотрим, какие ещё последовательности содержат в себе оплату."
   ]
  },
  {
   "cell_type": "code",
   "execution_count": 54,
   "metadata": {},
   "outputs": [
    {
     "data": {
      "text/plain": [
       "event_path\n",
       "registration > tutorial_start > tutorial_finish > level_choice > pack_choice > purchase                                                                                                             1083\n",
       "registration > tutorial_start > level_choice > pack_choice > purchase                                                                                                                                124\n",
       "registration > tutorial_start > tutorial_finish > level_choice > pack_choice > tutorial_start > tutorial_finish > purchase                                                                           101\n",
       "registration > tutorial_start > tutorial_finish > tutorial_start > tutorial_finish > level_choice > pack_choice > purchase                                                                            52\n",
       "registration > tutorial_start > tutorial_start > tutorial_finish > level_choice > pack_choice > purchase                                                                                              26\n",
       "registration > level_choice > pack_choice > purchase                                                                                                                                                  22\n",
       "registration > tutorial_start > tutorial_finish > level_choice > pack_choice > tutorial_start > purchase                                                                                              21\n",
       "registration > tutorial_start > tutorial_finish > level_choice > pack_choice > tutorial_start > tutorial_finish > tutorial_start > tutorial_finish > purchase                                         12\n",
       "registration > tutorial_start > tutorial_finish > tutorial_start > tutorial_finish > level_choice > pack_choice > tutorial_start > tutorial_finish > purchase                                          8\n",
       "registration > tutorial_start > tutorial_finish > level_choice > pack_choice > tutorial_start > tutorial_finish > tutorial_start > tutorial_finish > tutorial_start > tutorial_finish > purchase       7\n",
       "Name: user_id, dtype: int64"
      ]
     },
     "execution_count": 54,
     "metadata": {},
     "output_type": "execute_result"
    }
   ],
   "source": [
    "user_paths[user_paths.index.str.contains('purchase')].head(10)"
   ]
  },
  {
   "cell_type": "markdown",
   "metadata": {},
   "source": [
    "#### Какой вывод мы можем сделать?\n",
    "`Большинство последовательностей, которые содержат в себе оплату, также содержат старт обучения. Это наводит нас на гипотезу, что вероятность оплаты зависит от того, проходил ли пользователь обучение.`"
   ]
  },
  {
   "cell_type": "markdown",
   "metadata": {},
   "source": [
    "***\n",
    "# Анализ временных промежутков"
   ]
  },
  {
   "cell_type": "markdown",
   "metadata": {},
   "source": [
    "## Определяем время между registration и tutorial_start"
   ]
  },
  {
   "cell_type": "markdown",
   "metadata": {},
   "source": [
    "*Сначала определим, какое время проходит между регистрацией и началом обучения.*\n",
    "*Важно понимать, что это время мы можем определить только для таких пользователей, которые хотя бы раз начинали обучение.*"
   ]
  },
  {
   "cell_type": "code",
   "execution_count": 55,
   "metadata": {},
   "outputs": [],
   "source": [
    "# Первым делом выделим отдельный датафрейм registration_df, который будет содержать только события с event_type = registration.\n",
    "# Этот датафрейм будет вспомогательным для определения времени между регистрацией и началом обучения.\n",
    "registration_df = total_events_df[total_events_df['event_type'] == 'registration']"
   ]
  },
  {
   "cell_type": "markdown",
   "metadata": {},
   "source": [
    "*Проверим, что в нашем датафрейме registration_df для каждого пользователя содержится только по одному событию, то есть по одной регистрации на пользователя. Это важно, чтобы однозначно для одного пользователя присоединить только одного событие, по которому мы будем считать время.*"
   ]
  },
  {
   "cell_type": "code",
   "execution_count": 56,
   "metadata": {},
   "outputs": [
    {
     "data": {
      "text/plain": [
       "1.0"
      ]
     },
     "execution_count": 56,
     "metadata": {},
     "output_type": "execute_result"
    }
   ],
   "source": [
    "# Для определения среднего количества событий на пользователя мы можем воспользоваться методом value_counts(),\n",
    "# результатом которого будет серия с количеством событий на каждого пользователя. Затем, усреднив эти значения между собой,\n",
    "# мы получим среднее число событий типа registration на одного пользователя.\n",
    "registration_df['user_id'].value_counts().mean()\n",
    "\n"
   ]
  },
  {
   "cell_type": "markdown",
   "metadata": {},
   "source": [
    "*Среднее число регистраций на одного пользователя равняется 1. Отлично!*"
   ]
  },
  {
   "cell_type": "code",
   "execution_count": 57,
   "metadata": {},
   "outputs": [],
   "source": [
    "# Оставим в датафрейме registration_df только те данные, которые нужны для наших вычислений — столбец user_id с идентификатором пользователя \n",
    "# и столбец start_time со временем регистрации. Также переименуем столбец start_time в столбец registration_time для понятности.\n",
    "registration_df = registration_df[[\"user_id\", \"start_time\"]].rename(\n",
    "    columns={\"start_time\": \"registration_time\"}\n",
    ")"
   ]
  },
  {
   "cell_type": "code",
   "execution_count": 58,
   "metadata": {},
   "outputs": [],
   "source": [
    "# Теперь возьмёмся за следующее событие. Выделим отдельный датафрейм tutorial_start_df, который будет содержать только события с event_type = tutorial_start (начало обучения).\n",
    "tutorial_start_df = total_events_df[total_events_df['event_type'] == 'tutorial_start']"
   ]
  },
  {
   "cell_type": "code",
   "execution_count": 59,
   "metadata": {},
   "outputs": [
    {
     "data": {
      "text/plain": [
       "1.522179119581717"
      ]
     },
     "execution_count": 59,
     "metadata": {},
     "output_type": "execute_result"
    }
   ],
   "source": [
    "# Так же, как и в случае с регистрациями, посчитаем, сколько таких событий приходится на пользователя.\n",
    "tutorial_start_df['user_id'].value_counts().mean()"
   ]
  },
  {
   "cell_type": "markdown",
   "metadata": {},
   "source": [
    "А вот это уже интересно. Мы получили значение больше 1.\n",
    "\n",
    "* **Один пользователь может начать более чем одно обучение за время пользования приложением.**\n",
    "\n",
    "*У некоторых наших пользователей более чем по одному событию начала обучения. Оставим только первое обучение. Таким образом мы будем искать время между регистрацией и началом первого обучения пользователя.*"
   ]
  },
  {
   "cell_type": "code",
   "execution_count": 60,
   "metadata": {},
   "outputs": [],
   "source": [
    "\"\"\"\n",
    "Создадим датафрейм tutorial_start_df_wo_duplicates, где будет присутствовать только первое обучение. \n",
    "Для этого отсортируем датафрейм по start_time, чтобы сначала шли более ранние события начала обучения,\n",
    "а затем удалим дубликаты по столбцу user_id.\n",
    "Таким образом, для каждого user_id останется только первое событие типа tutorial_start.\n",
    "\"\"\"\n",
    "tutorial_start_df_wo_duplicates = tutorial_start_df.sort_values(\n",
    "    \"start_time\"\n",
    ").drop_duplicates(\"user_id\")"
   ]
  },
  {
   "cell_type": "code",
   "execution_count": 61,
   "metadata": {},
   "outputs": [
    {
     "data": {
      "text/plain": [
       "1.0"
      ]
     },
     "execution_count": 61,
     "metadata": {},
     "output_type": "execute_result"
    }
   ],
   "source": [
    "# Проверим, что для каждого пользователя осталось только одно событие.\n",
    "tutorial_start_df_wo_duplicates['user_id'].value_counts().mean()"
   ]
  },
  {
   "cell_type": "code",
   "execution_count": 62,
   "metadata": {},
   "outputs": [],
   "source": [
    "# Так же, как и в случае с датафреймом registration_df, оставим только такие столбцы, которые пригодятся нам в дальнейшем. \n",
    "# Это столбцы user_id, start_time, tutorial_id. Также переименуем колонку start_time в tutorial_start_time:\n",
    "tutorial_start_df_wo_duplicates = tutorial_start_df_wo_duplicates[\n",
    "    [\"user_id\", \"tutorial_id\", \"start_time\"]\n",
    "].rename(columns={\"start_time\": \"tutorial_start_time\"})"
   ]
  },
  {
   "cell_type": "markdown",
   "metadata": {},
   "source": [
    "### Объединяем датафреймы\n",
    "\n",
    "*Настало время объединить между собой данные двух получившихся датафреймов: registration_df и tutorial_start_df_wo_duplicates. Объединение позволит для каждого пользователя в рамках одного датафрейма указать и время регистрации, и время начала первого обучения в приложении.*"
   ]
  },
  {
   "cell_type": "code",
   "execution_count": 63,
   "metadata": {},
   "outputs": [
    {
     "data": {
      "text/html": [
       "<div>\n",
       "<style scoped>\n",
       "    .dataframe tbody tr th:only-of-type {\n",
       "        vertical-align: middle;\n",
       "    }\n",
       "\n",
       "    .dataframe tbody tr th {\n",
       "        vertical-align: top;\n",
       "    }\n",
       "\n",
       "    .dataframe thead th {\n",
       "        text-align: right;\n",
       "    }\n",
       "</style>\n",
       "<table border=\"1\" class=\"dataframe\">\n",
       "  <thead>\n",
       "    <tr style=\"text-align: right;\">\n",
       "      <th></th>\n",
       "      <th>user_id</th>\n",
       "      <th>registration_time</th>\n",
       "      <th>tutorial_id</th>\n",
       "      <th>tutorial_start_time</th>\n",
       "    </tr>\n",
       "  </thead>\n",
       "  <tbody>\n",
       "    <tr>\n",
       "      <th>0</th>\n",
       "      <td>27833</td>\n",
       "      <td>2018-01-01 04:07:25</td>\n",
       "      <td>31508.0</td>\n",
       "      <td>2018-01-01 17:47:40</td>\n",
       "    </tr>\n",
       "    <tr>\n",
       "      <th>1</th>\n",
       "      <td>27834</td>\n",
       "      <td>2018-01-01 08:35:10</td>\n",
       "      <td>31510.0</td>\n",
       "      <td>2018-01-01 19:46:11</td>\n",
       "    </tr>\n",
       "    <tr>\n",
       "      <th>2</th>\n",
       "      <td>27835</td>\n",
       "      <td>2018-01-01 11:54:47</td>\n",
       "      <td>31506.0</td>\n",
       "      <td>2018-01-01 15:00:51</td>\n",
       "    </tr>\n",
       "    <tr>\n",
       "      <th>3</th>\n",
       "      <td>27836</td>\n",
       "      <td>2018-01-01 13:28:07</td>\n",
       "      <td>31505.0</td>\n",
       "      <td>2018-01-01 14:54:40</td>\n",
       "    </tr>\n",
       "    <tr>\n",
       "      <th>4</th>\n",
       "      <td>27839</td>\n",
       "      <td>2018-01-01 18:24:01</td>\n",
       "      <td>31509.0</td>\n",
       "      <td>2018-01-01 19:11:36</td>\n",
       "    </tr>\n",
       "  </tbody>\n",
       "</table>\n",
       "</div>"
      ],
      "text/plain": [
       "   user_id   registration_time  tutorial_id tutorial_start_time\n",
       "0    27833 2018-01-01 04:07:25      31508.0 2018-01-01 17:47:40\n",
       "1    27834 2018-01-01 08:35:10      31510.0 2018-01-01 19:46:11\n",
       "2    27835 2018-01-01 11:54:47      31506.0 2018-01-01 15:00:51\n",
       "3    27836 2018-01-01 13:28:07      31505.0 2018-01-01 14:54:40\n",
       "4    27839 2018-01-01 18:24:01      31509.0 2018-01-01 19:11:36"
      ]
     },
     "execution_count": 63,
     "metadata": {},
     "output_type": "execute_result"
    }
   ],
   "source": [
    "\"\"\"\n",
    "    Объединить датафреймы мы можем с помощью функции merge(), объединяя данные по параметру user_id. \n",
    "    Также нам нужно объединить данные с использованием параметра how='inner', это позволит в объединённом датафрейме оставить только такие идентификаторы пользователей,\n",
    "    которые есть в обоих датафреймах. Вспомните SQL, это очень похоже на INNER JOIN.\n",
    "\"\"\"\n",
    "merged_df = registration_df.merge(\n",
    "    tutorial_start_df_wo_duplicates, on=\"user_id\", how=\"inner\"\n",
    ")\n",
    "merged_df.head()"
   ]
  },
  {
   "cell_type": "code",
   "execution_count": 64,
   "metadata": {},
   "outputs": [
    {
     "data": {
      "text/html": [
       "<div>\n",
       "<style scoped>\n",
       "    .dataframe tbody tr th:only-of-type {\n",
       "        vertical-align: middle;\n",
       "    }\n",
       "\n",
       "    .dataframe tbody tr th {\n",
       "        vertical-align: top;\n",
       "    }\n",
       "\n",
       "    .dataframe thead th {\n",
       "        text-align: right;\n",
       "    }\n",
       "</style>\n",
       "<table border=\"1\" class=\"dataframe\">\n",
       "  <thead>\n",
       "    <tr style=\"text-align: right;\">\n",
       "      <th></th>\n",
       "      <th>user_id</th>\n",
       "      <th>registration_time</th>\n",
       "      <th>tutorial_id</th>\n",
       "      <th>tutorial_start_time</th>\n",
       "      <th>timedelta</th>\n",
       "    </tr>\n",
       "  </thead>\n",
       "  <tbody>\n",
       "    <tr>\n",
       "      <th>0</th>\n",
       "      <td>27833</td>\n",
       "      <td>2018-01-01 04:07:25</td>\n",
       "      <td>31508.0</td>\n",
       "      <td>2018-01-01 17:47:40</td>\n",
       "      <td>0 days 13:40:15</td>\n",
       "    </tr>\n",
       "    <tr>\n",
       "      <th>1</th>\n",
       "      <td>27834</td>\n",
       "      <td>2018-01-01 08:35:10</td>\n",
       "      <td>31510.0</td>\n",
       "      <td>2018-01-01 19:46:11</td>\n",
       "      <td>0 days 11:11:01</td>\n",
       "    </tr>\n",
       "    <tr>\n",
       "      <th>2</th>\n",
       "      <td>27835</td>\n",
       "      <td>2018-01-01 11:54:47</td>\n",
       "      <td>31506.0</td>\n",
       "      <td>2018-01-01 15:00:51</td>\n",
       "      <td>0 days 03:06:04</td>\n",
       "    </tr>\n",
       "    <tr>\n",
       "      <th>3</th>\n",
       "      <td>27836</td>\n",
       "      <td>2018-01-01 13:28:07</td>\n",
       "      <td>31505.0</td>\n",
       "      <td>2018-01-01 14:54:40</td>\n",
       "      <td>0 days 01:26:33</td>\n",
       "    </tr>\n",
       "    <tr>\n",
       "      <th>4</th>\n",
       "      <td>27839</td>\n",
       "      <td>2018-01-01 18:24:01</td>\n",
       "      <td>31509.0</td>\n",
       "      <td>2018-01-01 19:11:36</td>\n",
       "      <td>0 days 00:47:35</td>\n",
       "    </tr>\n",
       "  </tbody>\n",
       "</table>\n",
       "</div>"
      ],
      "text/plain": [
       "   user_id   registration_time  tutorial_id tutorial_start_time  \\\n",
       "0    27833 2018-01-01 04:07:25      31508.0 2018-01-01 17:47:40   \n",
       "1    27834 2018-01-01 08:35:10      31510.0 2018-01-01 19:46:11   \n",
       "2    27835 2018-01-01 11:54:47      31506.0 2018-01-01 15:00:51   \n",
       "3    27836 2018-01-01 13:28:07      31505.0 2018-01-01 14:54:40   \n",
       "4    27839 2018-01-01 18:24:01      31509.0 2018-01-01 19:11:36   \n",
       "\n",
       "        timedelta  \n",
       "0 0 days 13:40:15  \n",
       "1 0 days 11:11:01  \n",
       "2 0 days 03:06:04  \n",
       "3 0 days 01:26:33  \n",
       "4 0 days 00:47:35  "
      ]
     },
     "execution_count": 64,
     "metadata": {},
     "output_type": "execute_result"
    }
   ],
   "source": [
    "# Сделаем столбец timedelta, в котором посчитаем разницу между временем начала обучения (tutorial_start_time) и временем регистрации (registration_time):\n",
    "merged_df[\"timedelta\"] = (\n",
    "    merged_df[\"tutorial_start_time\"] - merged_df[\"registration_time\"]\n",
    ")\n",
    "merged_df.head()"
   ]
  },
  {
   "cell_type": "code",
   "execution_count": 65,
   "metadata": {},
   "outputs": [
    {
     "data": {
      "text/plain": [
       "Timedelta('0 days 04:38:24.019817844')"
      ]
     },
     "execution_count": 65,
     "metadata": {},
     "output_type": "execute_result"
    }
   ],
   "source": [
    "# Усреднив с помощью функции mean() значения в столбце timedelta, мы получим среднее время, которое проходит между регистрацией пользователя и началом первого обучения:\n",
    "merged_df[\"timedelta\"].mean()"
   ]
  },
  {
   "cell_type": "code",
   "execution_count": 66,
   "metadata": {},
   "outputs": [
    {
     "data": {
      "text/plain": [
       "count                        11858\n",
       "mean     0 days 04:38:24.019817844\n",
       "std      0 days 04:15:09.650705034\n",
       "min                0 days 00:00:34\n",
       "25%         0 days 01:21:37.500000\n",
       "50%         0 days 03:22:08.500000\n",
       "75%         0 days 06:47:42.750000\n",
       "max                1 days 16:03:46\n",
       "Name: timedelta, dtype: object"
      ]
     },
     "execution_count": 66,
     "metadata": {},
     "output_type": "execute_result"
    }
   ],
   "source": [
    "# Но это в среднем. Среднее бывает коварно, особенно если у нас есть несколько пользователей, которые слишком долго проходят обучение.\n",
    "# Давайте воспользуемся методом describe(), чтобы понять некоторые важные параметры.\n",
    "merged_df['timedelta'].describe()"
   ]
  },
  {
   "cell_type": "markdown",
   "metadata": {},
   "source": [
    "#### К чему мы пришли?\n",
    "\n",
    "В одном из прошлых кейсов мы говорили о квартилях. Здесь мы их явно видим: первый квартиль составляет 1 час 21 минуту. А медиана (второй квартиль) — 3 часа 22 минуты.\n",
    "\n",
    "Таким образом:\n",
    "\n",
    "   + четверть пользователей тратит меньше 1 часа 21 минуту на переход от регистрации к началу обучения;\n",
    "   + половина всех пользователей тратит между регистрацией и началом обучения менее 3 часов 22 минуты.\n",
    "\n",
    "Такая сегментация пользователей может дать нам важные опорные точки для оптимизации времени. Мы можем сосредоточится не на оптимизации среднего времени (поскольку среднее будет увеличено за счёт пользователей, которые долго проходят этап), а на том, чтобы оптимизировать медианное время.\n",
    "\n",
    "Также мы можем отдельно выделить тех пользователей, у которых время больше медианного, чтобы исследовать их детально и понять, что мешает им быстрее дойти до этапа обучения."
   ]
  },
  {
   "cell_type": "markdown",
   "metadata": {},
   "source": [
    "### Измеряем время обучения"
   ]
  },
  {
   "cell_type": "code",
   "execution_count": 74,
   "metadata": {},
   "outputs": [],
   "source": [
    "# Перейдём к определению времени, которое нужно для прохождения обучения.\n",
    "# Сначала сформируем датафрейм tutorial_finish_df, который содержит события окончания обучения.\n",
    "tutorial_finish_df = total_events_df[total_events_df[\"event_type\"] == \"tutorial_finish\"]"
   ]
  },
  {
   "cell_type": "markdown",
   "metadata": {},
   "source": [
    "Перед нами опять встаёт вопрос: какое время окончания обучения брать, если было начато несколько обучений?"
   ]
  },
  {
   "cell_type": "code",
   "execution_count": 75,
   "metadata": {},
   "outputs": [],
   "source": [
    "# Давайте возьмём время окончания первого обучения для тех обучений, которые были закончены.\n",
    "# Для этого сформируем список с идентификаторами первых обучений. Сделать мы это можем, взяв уникальные значения столбца tutorial_id в уже созданном датафрейме\n",
    "# tutorial_start_df_wo_duplicates. Запишем эти обучения в список first_tutorial_ids:\n",
    "first_tutorial_ids = tutorial_start_df_wo_duplicates[\"tutorial_id\"].unique()"
   ]
  },
  {
   "cell_type": "code",
   "execution_count": 76,
   "metadata": {},
   "outputs": [],
   "source": [
    "# Теперь отфильтруем датафрейм tutorial_finish_df, оставив в нём только события для таких обучений, которые были первыми для пользователя. \n",
    "# Мы уже выделили идентификаторы этих обучений, и нам не составит труда отфильтровать датафрейм по этим идентификаторам. \n",
    "tutorial_finish_df = tutorial_finish_df[\n",
    "    tutorial_finish_df[\"tutorial_id\"].isin(first_tutorial_ids)\n",
    "]"
   ]
  },
  {
   "cell_type": "code",
   "execution_count": 77,
   "metadata": {},
   "outputs": [
    {
     "data": {
      "text/plain": [
       "1.0"
      ]
     },
     "execution_count": 77,
     "metadata": {},
     "output_type": "execute_result"
    }
   ],
   "source": [
    "# Проверим, что для каждого пользователя содержится по одному событию завершения обучения:\n",
    "tutorial_finish_df['user_id'].value_counts().mean()"
   ]
  },
  {
   "cell_type": "markdown",
   "metadata": {},
   "source": [
    "А дальше произведём те же манипуляции, что и для предыдущих событий:\n",
    "\n",
    "1.    Объединим датафреймы двух событий.\n",
    "2.    Посчитаем разницу во времени между событиями.\n",
    "3.    Выведем характеристики разницы.\n"
   ]
  },
  {
   "cell_type": "code",
   "execution_count": 78,
   "metadata": {},
   "outputs": [
    {
     "name": "stdout",
     "output_type": "stream",
     "text": [
      "0 days 00:03:53.174160732\n"
     ]
    }
   ],
   "source": [
    "# Получим следующий код:\n",
    "\n",
    "tutorial_finish_df = tutorial_finish_df[[\"user_id\", \"start_time\"]].rename(\n",
    "    columns={\"start_time\": \"tutorial_finish_time\"}\n",
    ")\n",
    "merged_df_2 = tutorial_start_df_wo_duplicates.merge(\n",
    "    tutorial_finish_df, on=\"user_id\", how=\"inner\"\n",
    ")\n",
    "merged_df_2[\"timedelta\"] = (\n",
    "    merged_df_2[\"tutorial_finish_time\"] - merged_df_2[\"tutorial_start_time\"]\n",
    ")\n",
    "merged_df_2.head()\n",
    "print(merged_df_2[\"timedelta\"].mean())\n"
   ]
  },
  {
   "cell_type": "code",
   "execution_count": 79,
   "metadata": {},
   "outputs": [
    {
     "name": "stdout",
     "output_type": "stream",
     "text": [
      "count                         9830\n",
      "mean     0 days 00:03:53.174160732\n",
      "std      0 days 00:01:44.803217992\n",
      "min                0 days 00:00:16\n",
      "25%                0 days 00:02:28\n",
      "50%                0 days 00:03:42\n",
      "75%                0 days 00:05:08\n",
      "max                0 days 00:10:06\n",
      "Name: timedelta, dtype: object\n"
     ]
    }
   ],
   "source": [
    "print(merged_df_2[\"timedelta\"].describe())"
   ]
  },
  {
   "cell_type": "markdown",
   "metadata": {},
   "source": [
    "Какой вывод мы можем сделать?\n",
    "\n",
    "`Таким образом, 75 % пользователей проходят обучение менее чем за 5 минут 8 секунд. Неплохой результат!`"
   ]
  },
  {
   "cell_type": "markdown",
   "metadata": {},
   "source": [
    "Определяем время между registration и level_choice"
   ]
  },
  {
   "cell_type": "code",
   "execution_count": 80,
   "metadata": {},
   "outputs": [
    {
     "name": "stdout",
     "output_type": "stream",
     "text": [
      "1.0\n"
     ]
    }
   ],
   "source": [
    "# По такому же алгоритму рассчитаем время между выбором уровня сложности и регистрацией:\n",
    "level_choice_df = total_events_df[total_events_df[\"event_type\"] == \"level_choice\"]\n",
    "print(level_choice_df[\"user_id\"].value_counts().mean())\n",
    "level_choice_df = level_choice_df[[\"user_id\", \"start_time\"]].rename(\n",
    "    columns={\"start_time\": \"level_choice_time\"}\n",
    ")\n",
    "merged_df_3 = registration_df.merge(level_choice_df, on=\"user_id\", how=\"inner\")\n",
    "merged_df_3[\"timedelta\"] = (\n",
    "    merged_df_3[\"level_choice_time\"] - merged_df_3[\"registration_time\"]\n",
    ")"
   ]
  },
  {
   "cell_type": "code",
   "execution_count": 81,
   "metadata": {},
   "outputs": [
    {
     "name": "stdout",
     "output_type": "stream",
     "text": [
      "0 days 07:10:19.169863342\n"
     ]
    }
   ],
   "source": [
    "print(merged_df_3[\"timedelta\"].mean())"
   ]
  },
  {
   "cell_type": "code",
   "execution_count": 82,
   "metadata": {},
   "outputs": [
    {
     "name": "stdout",
     "output_type": "stream",
     "text": [
      "count                         8342\n",
      "mean     0 days 07:10:19.169863342\n",
      "std      0 days 04:33:51.164488800\n",
      "min                0 days 00:08:15\n",
      "25%         0 days 03:53:16.500000\n",
      "50%                0 days 06:03:28\n",
      "75%         0 days 09:34:58.500000\n",
      "max                1 days 18:48:25\n",
      "Name: timedelta, dtype: object\n"
     ]
    }
   ],
   "source": [
    "print(merged_df_3[\"timedelta\"].describe())"
   ]
  },
  {
   "cell_type": "markdown",
   "metadata": {},
   "source": [
    "### Найдите ответы на следующие вопросы:\n",
    "\n",
    "→ Сколько в среднем для всех пользователей проходит времени между событием выбора уровня сложности тренировки до события выбора набора бесплатных вопросов?\n",
    "\n",
    "→ Сколько в среднем для всех пользователей проходит времени между событием выбора бесплатных вопросов и первой оплатой?\n"
   ]
  },
  {
   "cell_type": "code",
   "execution_count": 87,
   "metadata": {},
   "outputs": [
    {
     "name": "stdout",
     "output_type": "stream",
     "text": [
      "1.0\n"
     ]
    }
   ],
   "source": [
    "pack_choice_df = total_events_df[total_events_df[\"event_type\"] == \"pack_choice\"]\n",
    "print(pack_choice_df[\"user_id\"].value_counts().mean())"
   ]
  },
  {
   "cell_type": "code",
   "execution_count": 88,
   "metadata": {},
   "outputs": [],
   "source": [
    "pack_choice_df = pack_choice_df[[\"user_id\", \"start_time\"]].rename(\n",
    "    columns={\"start_time\": \"pack_choice_time\"}\n",
    ")"
   ]
  },
  {
   "cell_type": "code",
   "execution_count": 90,
   "metadata": {},
   "outputs": [
    {
     "name": "stdout",
     "output_type": "stream",
     "text": [
      "<class 'pandas.core.frame.DataFrame'>\n",
      "Int64Index: 5737 entries, 0 to 5736\n",
      "Data columns (total 3 columns):\n",
      " #   Column             Non-Null Count  Dtype         \n",
      "---  ------             --------------  -----         \n",
      " 0   user_id            5737 non-null   int64         \n",
      " 1   level_choice_time  5737 non-null   datetime64[ns]\n",
      " 2   pack_choice_time   5737 non-null   datetime64[ns]\n",
      "dtypes: datetime64[ns](2), int64(1)\n",
      "memory usage: 179.3 KB\n"
     ]
    }
   ],
   "source": [
    "merged_df_4.info()"
   ]
  },
  {
   "cell_type": "code",
   "execution_count": 91,
   "metadata": {},
   "outputs": [],
   "source": [
    "merged_df_4 = level_choice_df.merge(pack_choice_df, on=\"user_id\", how=\"inner\")\n",
    "merged_df_4[\"timedelta\"] = (\n",
    "    merged_df_4[\"pack_choice_time\"] - merged_df_4[\"level_choice_time\"]\n",
    ")"
   ]
  },
  {
   "cell_type": "code",
   "execution_count": 92,
   "metadata": {},
   "outputs": [
    {
     "name": "stdout",
     "output_type": "stream",
     "text": [
      "0 days 00:05:17.128464354\n"
     ]
    }
   ],
   "source": [
    "print(merged_df_4[\"timedelta\"].mean())"
   ]
  },
  {
   "cell_type": "code",
   "execution_count": 111,
   "metadata": {},
   "outputs": [
    {
     "name": "stdout",
     "output_type": "stream",
     "text": [
      "count                         5737\n",
      "mean     0 days 00:05:17.128464354\n",
      "std      0 days 00:02:43.923107804\n",
      "min                0 days 00:00:19\n",
      "25%                0 days 00:03:05\n",
      "50%                0 days 00:04:57\n",
      "75%                0 days 00:07:08\n",
      "max                0 days 00:15:48\n",
      "Name: timedelta, dtype: object\n"
     ]
    }
   ],
   "source": [
    "print(merged_df_4[\"timedelta\"].describe())"
   ]
  },
  {
   "cell_type": "markdown",
   "metadata": {},
   "source": [
    "### Сколько в среднем для всех пользователей проходит времени между событием выбора бесплатных вопросов и первой оплатой?"
   ]
  },
  {
   "cell_type": "code",
   "execution_count": 105,
   "metadata": {},
   "outputs": [
    {
     "name": "stdout",
     "output_type": "stream",
     "text": [
      "1.0\n"
     ]
    }
   ],
   "source": [
    "purchase_choice_df = total_events_df[total_events_df[\"event_type\"] == \"purchase\"]\n",
    "print(purchase_choice_df[\"user_id\"].value_counts().mean())"
   ]
  },
  {
   "cell_type": "code",
   "execution_count": 107,
   "metadata": {},
   "outputs": [],
   "source": [
    "purchase_choice_df = purchase_choice_df[[\"user_id\", \"event_datetime\"]].rename(\n",
    "    columns={\"event_datetime\": \"purchase_choice_time\"}\n",
    ")"
   ]
  },
  {
   "cell_type": "code",
   "execution_count": 109,
   "metadata": {},
   "outputs": [],
   "source": [
    "merged_df_5 = pack_choice_df.merge(purchase_choice_df, on=\"user_id\", how=\"inner\")\n",
    "merged_df_5[\"timedelta\"] = (\n",
    "    merged_df_5[\"purchase_choice_time\"] - merged_df_5[\"pack_choice_time\"]\n",
    ")"
   ]
  },
  {
   "cell_type": "code",
   "execution_count": 110,
   "metadata": {},
   "outputs": [
    {
     "name": "stdout",
     "output_type": "stream",
     "text": [
      "3 days 17:46:53.403125\n"
     ]
    }
   ],
   "source": [
    "print(merged_df_5[\"timedelta\"].mean())"
   ]
  },
  {
   "cell_type": "code",
   "execution_count": 112,
   "metadata": {},
   "outputs": [
    {
     "name": "stdout",
     "output_type": "stream",
     "text": [
      "count                         1600\n",
      "mean        3 days 17:46:53.403125\n",
      "std      2 days 04:37:20.225124289\n",
      "min                0 days 00:44:50\n",
      "25%         1 days 21:24:13.250000\n",
      "50%         3 days 12:51:25.500000\n",
      "75%         5 days 09:42:13.750000\n",
      "max               10 days 18:33:59\n",
      "Name: timedelta, dtype: object\n"
     ]
    }
   ],
   "source": [
    "print(merged_df_5[\"timedelta\"].describe())"
   ]
  },
  {
   "cell_type": "markdown",
   "metadata": {},
   "source": [
    "## Готовимся к анализу\n",
    "\n",
    "### Настало время понять, на что и каким образом влияет прохождение обучения.\n",
    "\n",
    "#### Определим, существует ли различие в частоте и средней величине оплат между тремя группами пользователей:\n",
    "\n",
    "    * пользователи, которые прошли обучение хотя бы раз;\n",
    "    * пользователи, которые начали обучение, но не прошли его ни разу;\n",
    "    * пользователи, которые не начинали обучение, а сразу же перешли к выбору уровня сложности.\n"
   ]
  },
  {
   "cell_type": "markdown",
   "metadata": {},
   "source": [
    "Ищем пользователей, прошедших обучение хотя бы раз\n",
    "\n",
    "Давайте разобьём наших пользователей на группы.\n",
    "\n",
    "Сначала определим пользователей, которые прошли обучение хотя бы раз. Запишем идентификаторы этих пользователей в переменную users_with_finished_tutorial."
   ]
  },
  {
   "cell_type": "code",
   "execution_count": 113,
   "metadata": {},
   "outputs": [
    {
     "name": "stdout",
     "output_type": "stream",
     "text": [
      "10250\n"
     ]
    }
   ],
   "source": [
    "# Тут всё просто, это пользователи, у которых есть событие tutorial_finish:\n",
    "users_with_finished_tutorial = total_events_df[\n",
    "    total_events_df[\"event_type\"] == \"tutorial_finish\"\n",
    "][\"user_id\"].unique()\n",
    "print(len(users_with_finished_tutorial))"
   ]
  },
  {
   "cell_type": "markdown",
   "metadata": {},
   "source": [
    "#### Ищем пользователей, которые начали, но не закончили обучение\n",
    "\n",
    "Затем найдём пользователей, которые начали обучение, но не прошли его ни разу. Это будут пользователи, у которых есть событие tutorial_start, но нет события tutorial_finish.\n",
    "\n",
    "Проще всего сначала найти пользователей, у которых есть событие tutorial_start, а после убрать из списка таких пользователей, у которых есть событие tutorial_finish."
   ]
  },
  {
   "cell_type": "code",
   "execution_count": 114,
   "metadata": {},
   "outputs": [
    {
     "name": "stdout",
     "output_type": "stream",
     "text": [
      "11858\n"
     ]
    }
   ],
   "source": [
    "# В этом нам поможет работа со множествами:\n",
    "\n",
    "users_with_started_tutorial = total_events_df[\n",
    "    total_events_df[\"event_type\"] == \"tutorial_start\"\n",
    "][\"user_id\"].unique()\n",
    "set_users_with_started_tutorial = set(users_with_started_tutorial)\n",
    "set_users_not_finished_but_started_tutorial = (\n",
    "    set_users_with_started_tutorial.difference(set(users_with_finished_tutorial))\n",
    ")\n",
    "\n",
    "print(len(set_users_with_started_tutorial))"
   ]
  },
  {
   "cell_type": "code",
   "execution_count": 115,
   "metadata": {},
   "outputs": [
    {
     "name": "stdout",
     "output_type": "stream",
     "text": [
      "1608\n"
     ]
    }
   ],
   "source": [
    "print(len(set_users_not_finished_but_started_tutorial))"
   ]
  },
  {
   "cell_type": "code",
   "execution_count": 116,
   "metadata": {},
   "outputs": [
    {
     "name": "stdout",
     "output_type": "stream",
     "text": [
      "True\n"
     ]
    }
   ],
   "source": [
    "print(\n",
    "    len(set_users_with_started_tutorial) - len(set(users_with_finished_tutorial))\n",
    "    == len(set_users_not_finished_but_started_tutorial)\n",
    ")"
   ]
  },
  {
   "cell_type": "markdown",
   "metadata": {},
   "source": [
    "#### Ищем пользователей, сразу выбравших уровень сложности\n",
    "\n",
    "И последняя группа пользователей — те, кто ни разу не проходил обучение."
   ]
  },
  {
   "cell_type": "code",
   "execution_count": 117,
   "metadata": {},
   "outputs": [
    {
     "name": "stdout",
     "output_type": "stream",
     "text": [
      "8068\n"
     ]
    }
   ],
   "source": [
    "# У таких пользователей отсутствует событие tutorial_start. Поэтому мы можем просто взять и убрать из множества всех пользователей множество set_users_with_started_tutorial:\n",
    "all_users = total_events_df[\"user_id\"].unique()\n",
    "set_all_users = set(all_users)\n",
    "set_users_not_started_tutorial = set_all_users.difference(\n",
    "    set_users_with_started_tutorial\n",
    ")\n",
    "print(len(set_users_not_started_tutorial))"
   ]
  },
  {
   "cell_type": "code",
   "execution_count": 118,
   "metadata": {},
   "outputs": [
    {
     "name": "stdout",
     "output_type": "stream",
     "text": [
      "True\n"
     ]
    }
   ],
   "source": [
    "print(\n",
    "    len(set_all_users) - len(set_users_with_started_tutorial)\n",
    "    == len(set_users_not_started_tutorial)\n",
    ")"
   ]
  },
  {
   "cell_type": "markdown",
   "metadata": {},
   "source": [
    "### Проверяем результат\n",
    "\n",
    "Проверим, что мы правильно разбили пользователей на группы.\n",
    "\n",
    "Просуммировав длину всех множеств пользователей, мы должны получить исходное количество всех пользователей:"
   ]
  },
  {
   "cell_type": "code",
   "execution_count": 119,
   "metadata": {},
   "outputs": [
    {
     "data": {
      "text/plain": [
       "True"
      ]
     },
     "execution_count": 119,
     "metadata": {},
     "output_type": "execute_result"
    }
   ],
   "source": [
    "len(set_users_not_finished_but_started_tutorial) + len(set_users_not_started_tutorial) + len(users_with_finished_tutorial) == len(set_all_users)"
   ]
  },
  {
   "cell_type": "markdown",
   "metadata": {},
   "source": [
    "Считаем пользователей, которые завершили обучение и совершили оплату\n",
    "\n",
    "Дело за малым: посчитаем, сколько пользователей, которые завершили обучение, совершили оплату."
   ]
  },
  {
   "cell_type": "code",
   "execution_count": 120,
   "metadata": {},
   "outputs": [],
   "source": [
    "# Сначала сделаем датафрейм purchase_df_1, в котором будут данные по оплатам пользователей, которые завершили обучение.\n",
    "purchase_df_1 = purchase_df[purchase_df[\"user_id\"].isin(users_with_finished_tutorial)]"
   ]
  },
  {
   "cell_type": "code",
   "execution_count": 121,
   "metadata": {},
   "outputs": [
    {
     "data": {
      "text/plain": [
       "1447"
      ]
     },
     "execution_count": 121,
     "metadata": {},
     "output_type": "execute_result"
    }
   ],
   "source": [
    "# Затем посчитаем, сколько пользователей в этом датафрейме.\n",
    "purchase_df_1['user_id'].nunique()"
   ]
  },
  {
   "cell_type": "code",
   "execution_count": 122,
   "metadata": {},
   "outputs": [
    {
     "name": "stdout",
     "output_type": "stream",
     "text": [
      "Процент пользователей, которые оплатили тренировки (от числа пользователей, завершивших обучение): 14.12%\n"
     ]
    }
   ],
   "source": [
    "# Поделив количество пользователей в датафрейме purchase_df_1 на общее количество пользователей, которые завершили обучение, мы получим процент оплативших пользователей в этой группе.\n",
    "\n",
    "percent_of_purchase_1 = purchase_df_1[\"user_id\"].nunique() / len(\n",
    "    users_with_finished_tutorial\n",
    ")\n",
    "print(\n",
    "    \"Процент пользователей, которые оплатили тренировки (от числа пользователей, завершивших обучение): {:.2%}\".format(\n",
    "        percent_of_purchase_1\n",
    "    )\n",
    ")"
   ]
  },
  {
   "cell_type": "markdown",
   "metadata": {},
   "source": [
    "Считаем средний размер платежа разных групп\n",
    "\n",
    "Дальше найдём средний размер платежа для этих пользователей."
   ]
  },
  {
   "cell_type": "code",
   "execution_count": 123,
   "metadata": {},
   "outputs": [
    {
     "data": {
      "text/plain": [
       "110.98825155494126"
      ]
     },
     "execution_count": 123,
     "metadata": {},
     "output_type": "execute_result"
    }
   ],
   "source": [
    "purchase_df_1['amount'].mean()"
   ]
  },
  {
   "cell_type": "markdown",
   "metadata": {},
   "source": [
    "Давайте сделаем датафрейм purchase_df_2, в котором будут оплаты пользователей, начавших, но не закончивших обучение. И найдём, какой процент таких пользователей оплачивает пакеты вопросов, от общего числа пользователей:"
   ]
  },
  {
   "cell_type": "code",
   "execution_count": 124,
   "metadata": {},
   "outputs": [
    {
     "name": "stdout",
     "output_type": "stream",
     "text": [
      "131\n"
     ]
    }
   ],
   "source": [
    "purchase_df_2 = purchase_df[\n",
    "    purchase_df[\"user_id\"].isin(set_users_not_finished_but_started_tutorial)\n",
    "]\n",
    "print(purchase_df_2[\"user_id\"].nunique())\n"
   ]
  },
  {
   "cell_type": "code",
   "execution_count": 125,
   "metadata": {},
   "outputs": [
    {
     "name": "stdout",
     "output_type": "stream",
     "text": [
      "Процент пользователей, которые оплатили тренировки (от числа пользователей, начавших обучение, но не завершивших): 8.15%\n"
     ]
    }
   ],
   "source": [
    "percent_of_purchase_2 = purchase_df_2[\"user_id\"].nunique() / len(\n",
    "    set_users_not_finished_but_started_tutorial\n",
    ")\n",
    "print(\n",
    "    \"Процент пользователей, которые оплатили тренировки (от числа пользователей, начавших обучение, но не завершивших): {:.2%}\".format(\n",
    "        percent_of_purchase_2\n",
    "    )\n",
    ")"
   ]
  },
  {
   "cell_type": "code",
   "execution_count": 126,
   "metadata": {},
   "outputs": [
    {
     "data": {
      "text/plain": [
       "104.9618320610687"
      ]
     },
     "execution_count": 126,
     "metadata": {},
     "output_type": "execute_result"
    }
   ],
   "source": [
    "# А что у нас со средним чеком?\n",
    "purchase_df_2['amount'].mean()"
   ]
  },
  {
   "cell_type": "markdown",
   "metadata": {},
   "source": [
    "как обстоят дела у последней группы — пользователей, которые ни разу не начинали обучение."
   ]
  },
  {
   "cell_type": "code",
   "execution_count": 127,
   "metadata": {},
   "outputs": [],
   "source": [
    "# Сначала сделаем датафрейм purchase_df_3, в котором будут данные по оплатам пользователей, которые не начинали обучение.\n",
    "purchase_df_3 = purchase_df[purchase_df[\"user_id\"].isin(set_users_not_started_tutorial)]"
   ]
  },
  {
   "cell_type": "code",
   "execution_count": 128,
   "metadata": {},
   "outputs": [
    {
     "data": {
      "text/plain": [
       "22"
      ]
     },
     "execution_count": 128,
     "metadata": {},
     "output_type": "execute_result"
    }
   ],
   "source": [
    "# Затем посчитаем, сколько пользователей в этом датафрейме.\n",
    "purchase_df_3['user_id'].nunique()"
   ]
  },
  {
   "cell_type": "code",
   "execution_count": 130,
   "metadata": {},
   "outputs": [
    {
     "name": "stdout",
     "output_type": "stream",
     "text": [
      "Процент пользователей, которые оплатили тренировки (от числа пользователей, завершивших обучение): 0.27%\n"
     ]
    }
   ],
   "source": [
    "percent_of_purchase_3 = purchase_df_3[\"user_id\"].nunique() / len(\n",
    "    set_users_not_started_tutorial\n",
    ")\n",
    "print(\n",
    "    \"Процент пользователей, которые оплатили тренировки (от числа пользователей, завершивших обучение): {:.2%}\".format(\n",
    "        percent_of_purchase_3\n",
    "    )\n",
    ")"
   ]
  },
  {
   "cell_type": "code",
   "execution_count": 131,
   "metadata": {},
   "outputs": [
    {
     "data": {
      "text/plain": [
       "128.4090909090909"
      ]
     },
     "execution_count": 131,
     "metadata": {},
     "output_type": "execute_result"
    }
   ],
   "source": [
    "# Средняя величина оплаты\n",
    "purchase_df_3['amount'].mean()"
   ]
  },
  {
   "cell_type": "markdown",
   "metadata": {},
   "source": [
    "## К чему мы пришли?\n",
    "\n",
    "`Как мы видим, процент пользователей, которые завершили обучение и совершили оплату, выше, чем процент пользователей, которые не начали обучение или не закончили его.`\n",
    "\n",
    "`Это говорит о том, что факт прохождения обучения влияет на дальнейшую мотивацию использовать приложение. Существенной разницы в среднем чеке при этом не наблюдается, то есть обучение увеличивает вовлечённость, но выбор количества платных пакетов зависит индивидуально от пользователя.`"
   ]
  }
 ],
 "metadata": {
  "kernelspec": {
   "display_name": "Python 3.10.5 64-bit",
   "language": "python",
   "name": "python3"
  },
  "language_info": {
   "codemirror_mode": {
    "name": "ipython",
    "version": 3
   },
   "file_extension": ".py",
   "mimetype": "text/x-python",
   "name": "python",
   "nbconvert_exporter": "python",
   "pygments_lexer": "ipython3",
   "version": "3.10.5"
  },
  "orig_nbformat": 4,
  "vscode": {
   "interpreter": {
    "hash": "52bb6d70ef49c02ab2aa43ab31bba4edd1c59a51e59b9fce56cbe4e55ae05671"
   }
  }
 },
 "nbformat": 4,
 "nbformat_minor": 2
}
