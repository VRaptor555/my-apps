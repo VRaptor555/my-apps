{
 "cells": [
  {
   "cell_type": "code",
   "execution_count": 4,
   "metadata": {},
   "outputs": [],
   "source": [
    "from scipy.stats import norm\n",
    "import math"
   ]
  },
  {
   "cell_type": "markdown",
   "metadata": {},
   "source": [
    "Попробуем найти , используя функцию norm.cdf(z).\n",
    "\n",
    "Здесь большая буква  обозначает стандартную нормальную величину, а  — конкретное число."
   ]
  },
  {
   "cell_type": "code",
   "execution_count": 2,
   "metadata": {},
   "outputs": [
    {
     "name": "stdout",
     "output_type": "stream",
     "text": [
      "0.02275013194817921\n"
     ]
    }
   ],
   "source": [
    "st1 = norm.cdf(2)\n",
    "print(1-st1)"
   ]
  },
  {
   "cell_type": "markdown",
   "metadata": {},
   "source": [
    "#### Как находить вероятности и значения для любой нормальной величины?\n",
    "Таким же образом при помощи Python можно находить вероятности и значения для любой нормальной величины, а не только , если известны ее параметры: среднее и стандартное отклонение.\n",
    "\n",
    "Для этого есть функции norm.cdf(x, loc = 0, scale = 1) и norm.ppf(q, loc = 0, scale = 1).\n",
    "\n",
    "Присмотримся к ним чуть внимательнее."
   ]
  },
  {
   "cell_type": "markdown",
   "metadata": {},
   "source": [
    "<table>\n",
    "<tr>\n",
    "<td>norm.cdf(x, loc = 0, scale = 1)</>\n",
    "<td>norm.ppf(q, loc = 0, scale = 1)</>\n",
    "</tr>\n",
    "<tr>\n",
    "<td>где\n",
    "\n",
    "* x — значение, для которого строится распределение;\n",
    "* loc — среднее арифметическое распределения;\n",
    "* scale — стандартное отклонение распределения.\n",
    "* norm.cdf(x, loc = 0, scale = 1) возвращает нормальную функцию распределения для указанного среднего и стандартного отклонения.</>\n",
    "<td>где\n",
    "\n",
    "* q — вероятность, соответствующая нормальному распределению;\n",
    "* loc — среднее арифметическое распределения;\n",
    "* scale — стандартное отклонение распределения.\n",
    "* norm.ppf(q, loc = 0, scale = 1) возвращает обратное нормальное распределение для указанного среднего и стандартного отклонения.</>\n",
    "</tr>\n",
    "</table>"
   ]
  },
  {
   "cell_type": "code",
   "execution_count": 3,
   "metadata": {},
   "outputs": [
    {
     "name": "stdout",
     "output_type": "stream",
     "text": [
      "1.64\n"
     ]
    }
   ],
   "source": [
    "st2 = norm.ppf(1-0.05)\n",
    "print (round(st2, 2))"
   ]
  },
  {
   "cell_type": "code",
   "execution_count": 5,
   "metadata": {},
   "outputs": [
    {
     "name": "stdout",
     "output_type": "stream",
     "text": [
      "0.24263842038561922\n"
     ]
    }
   ],
   "source": [
    "st3 = (1-norm.cdf(730, 700, 120)) - (1 - norm.cdf(820, 700, 120))\n",
    "print(st3)"
   ]
  },
  {
   "cell_type": "code",
   "execution_count": 6,
   "metadata": {},
   "outputs": [
    {
     "name": "stdout",
     "output_type": "stream",
     "text": [
      "180.24939525556113\n"
     ]
    }
   ],
   "source": [
    "st4 = norm.ppf(0.16, 225, 45)\n",
    "print(st4)"
   ]
  },
  {
   "cell_type": "markdown",
   "metadata": {},
   "source": [
    "`51.9.1`\n",
    "Известно, что вес жителя Гонконга распределён нормально, со средним в 70 кг и стандартным отклонением 5 кг. Лифт в одном бизнес-центре может поднять не более 375 кг. Также на нём указана вместимость не более пяти человек. Другими словами, если пять человек входят в лифт, их средний вес не должен превысить 75 кг (как ).\n",
    "\n",
    "Какова вероятность, что средний вес случайно подошедших к лифту пяти человек превысит 75 кг и не позволит лифту подняться?"
   ]
  },
  {
   "cell_type": "code",
   "execution_count": 9,
   "metadata": {},
   "outputs": [
    {
     "name": "stdout",
     "output_type": "stream",
     "text": [
      "0.012673659338734126\n"
     ]
    }
   ],
   "source": [
    "# Задание 51.9.1\n",
    "# 1 - norm.cdf(средний вес; мю; сигма/корень квадратный из n)\n",
    "ver = norm.cdf(70, 75, 5/math.sqrt(5))\n",
    "print(ver)"
   ]
  },
  {
   "cell_type": "markdown",
   "metadata": {},
   "source": [
    "`51.9.2`\n",
    "Известно, что 20 % взрослого населения в городе Пало-Альто, Калифорния, владеют машинами Tesla (другими словами, , истинная пропорция обладателей Tesla, в городе равна 0.2).\n",
    "Допустим, вы берёте выборку из 225 взрослых людей из Пало-Альто.\n",
    "\n",
    "Какова вероятность, что выборочная пропорция не превысит 16 % (то есть вероятность что p`<=0.16)?"
   ]
  },
  {
   "cell_type": "markdown",
   "metadata": {},
   "source": [
    "![Формула][1]\n",
    "\n",
    "[1]: https://files.slack.com/files-pri/T01Q4KX33GW-F03LXJMNZ8D/image.png"
   ]
  },
  {
   "cell_type": "code",
   "execution_count": 10,
   "metadata": {},
   "outputs": [
    {
     "data": {
      "text/plain": [
       "0.067"
      ]
     },
     "execution_count": 10,
     "metadata": {},
     "output_type": "execute_result"
    }
   ],
   "source": [
    "tesla_prop = 0.2\n",
    "people = 225\n",
    "choice_prop = 0.16\n",
    "diff = math.sqrt(tesla_prop * (1 - tesla_prop) / people)\n",
    "proportion_probability = round(norm.cdf(choice_prop, tesla_prop, diff), 3)\n",
    "proportion_probability"
   ]
  }
 ],
 "metadata": {
  "kernelspec": {
   "display_name": "Python 3.10.5 64-bit",
   "language": "python",
   "name": "python3"
  },
  "language_info": {
   "codemirror_mode": {
    "name": "ipython",
    "version": 3
   },
   "file_extension": ".py",
   "mimetype": "text/x-python",
   "name": "python",
   "nbconvert_exporter": "python",
   "pygments_lexer": "ipython3",
   "version": "3.10.5"
  },
  "orig_nbformat": 4,
  "vscode": {
   "interpreter": {
    "hash": "36c6851108447751ff9a78a375ee7b602a45470c5b7394c41491d0df81785d53"
   }
  }
 },
 "nbformat": 4,
 "nbformat_minor": 2
}
