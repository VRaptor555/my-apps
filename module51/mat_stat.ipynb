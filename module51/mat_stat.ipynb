{
 "cells": [
  {
   "cell_type": "code",
   "execution_count": 1,
   "metadata": {},
   "outputs": [],
   "source": [
    "from scipy.stats import norm"
   ]
  },
  {
   "cell_type": "markdown",
   "metadata": {},
   "source": [
    "Попробуем найти , используя функцию norm.cdf(z).\n",
    "\n",
    "Здесь большая буква  обозначает стандартную нормальную величину, а  — конкретное число."
   ]
  },
  {
   "cell_type": "code",
   "execution_count": 6,
   "metadata": {},
   "outputs": [
    {
     "name": "stdout",
     "output_type": "stream",
     "text": [
      "0.02275013194817921\n"
     ]
    }
   ],
   "source": [
    "st1 = norm.cdf(2)\n",
    "print(1-st1)"
   ]
  },
  {
   "cell_type": "markdown",
   "metadata": {},
   "source": [
    "#### Как находить вероятности и значения для любой нормальной величины?\n",
    "Таким же образом при помощи Python можно находить вероятности и значения для любой нормальной величины, а не только , если известны ее параметры: среднее и стандартное отклонение.\n",
    "\n",
    "Для этого есть функции norm.cdf(x, loc = 0, scale = 1) и norm.ppf(q, loc = 0, scale = 1).\n",
    "\n",
    "Присмотримся к ним чуть внимательнее."
   ]
  },
  {
   "cell_type": "markdown",
   "metadata": {},
   "source": [
    "<table>\n",
    "<tr>\n",
    "<td>norm.cdf(x, loc = 0, scale = 1)</>\n",
    "<td>norm.ppf(q, loc = 0, scale = 1)</>\n",
    "</tr>\n",
    "<tr>\n",
    "<td>где\n",
    "\n",
    "* x — значение, для которого строится распределение;\n",
    "* loc — среднее арифметическое распределения;\n",
    "* scale — стандартное отклонение распределения.\n",
    "* norm.cdf(x, loc = 0, scale = 1) возвращает нормальную функцию распределения для указанного среднего и стандартного отклонения.</>\n",
    "<td>где\n",
    "\n",
    "* q — вероятность, соответствующая нормальному распределению;\n",
    "* loc — среднее арифметическое распределения;\n",
    "* scale — стандартное отклонение распределения.\n",
    "* norm.ppf(q, loc = 0, scale = 1) возвращает обратное нормальное распределение для указанного среднего и стандартного отклонения.</>\n",
    "</tr>\n",
    "</table>"
   ]
  },
  {
   "cell_type": "code",
   "execution_count": 17,
   "metadata": {},
   "outputs": [
    {
     "name": "stdout",
     "output_type": "stream",
     "text": [
      "1.64\n"
     ]
    }
   ],
   "source": [
    "st2 = norm.ppf(1-0.05)\n",
    "print (round(st2, 2))"
   ]
  },
  {
   "cell_type": "code",
   "execution_count": 30,
   "metadata": {},
   "outputs": [
    {
     "name": "stdout",
     "output_type": "stream",
     "text": [
      "0.24263842038561922\n"
     ]
    }
   ],
   "source": [
    "st3 = (1-norm.cdf(730, 700, 120)) - (1 - norm.cdf(820, 700, 120))\n",
    "print(st3)"
   ]
  },
  {
   "cell_type": "code",
   "execution_count": 33,
   "metadata": {},
   "outputs": [
    {
     "name": "stdout",
     "output_type": "stream",
     "text": [
      "180.24939525556113\n"
     ]
    }
   ],
   "source": [
    "st4 = norm.ppf(0.16, 225, 45)\n",
    "print(st4)"
   ]
  }
 ],
 "metadata": {
  "kernelspec": {
   "display_name": "Python 3.10.5 64-bit",
   "language": "python",
   "name": "python3"
  },
  "language_info": {
   "codemirror_mode": {
    "name": "ipython",
    "version": 3
   },
   "file_extension": ".py",
   "mimetype": "text/x-python",
   "name": "python",
   "nbconvert_exporter": "python",
   "pygments_lexer": "ipython3",
   "version": "3.10.5"
  },
  "orig_nbformat": 4,
  "vscode": {
   "interpreter": {
    "hash": "52bb6d70ef49c02ab2aa43ab31bba4edd1c59a51e59b9fce56cbe4e55ae05671"
   }
  }
 },
 "nbformat": 4,
 "nbformat_minor": 2
}
