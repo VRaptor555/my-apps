{
 "cells": [
  {
   "cell_type": "code",
   "execution_count": 1,
   "metadata": {},
   "outputs": [],
   "source": [
    "import pandas as pd\n",
    "import zipfile as zip\n",
    "import os"
   ]
  },
  {
   "cell_type": "code",
   "execution_count": 2,
   "metadata": {},
   "outputs": [],
   "source": [
    "catalog = 'data/'"
   ]
  },
  {
   "cell_type": "code",
   "execution_count": 3,
   "metadata": {},
   "outputs": [],
   "source": [
    "def read_write_csv (t_dir, t_file):\n",
    "    pays = pd.read_csv(t_dir + t_file, header=None, sep=';', encoding='Windows-1251')\n",
    "    if len(pays.columns) < 13:\n",
    "        return 'При удалении столбца произошла ошибка, возможно столбец уже удален!'\n",
    "    pays = pays.drop(8, axis=1)\n",
    "    pays.to_csv(t_dir + t_file, header=None, sep=';', encoding='Windows-1251', index=False)\n",
    "    return 'Удаление столбца прошло без ошибок!'\n"
   ]
  },
  {
   "cell_type": "code",
   "execution_count": 17,
   "metadata": {},
   "outputs": [],
   "source": [
    "def read_write_zip(z_dir, z_file):\n",
    "    zipFile = zip.ZipFile(z_dir + z_file, 'r')\n",
    "    if not (os.path.isdir(z_dir+'out/')):\n",
    "        os.mkdir(z_dir+'out/')    \n",
    "    zipFile_out = zip.ZipFile(z_dir+'out/'+z_file, 'w')\n",
    "    list_file = zipFile.namelist()\n",
    "    for txt_file in list_file:\n",
    "        zipFile.extract(txt_file)\n",
    "        read_write_csv('', txt_file)\n",
    "        zipFile_out.write(txt_file)\n",
    "    zipFile.close()\n",
    "    zipFile_out.close()"
   ]
  },
  {
   "cell_type": "code",
   "execution_count": 6,
   "metadata": {},
   "outputs": [],
   "source": [
    "files = os.listdir(catalog)\n",
    "zip_reestr = list(filter(lambda x: x.endswith('.zip'), files))\n",
    "reestry = list(filter(lambda x: x.endswith('.txt'), files))\n"
   ]
  },
  {
   "cell_type": "code",
   "execution_count": 7,
   "metadata": {},
   "outputs": [
    {
     "data": {
      "text/plain": [
       "['4909044901_40702810936000100053_001%_4909044901_40702810936000100053_415_275_19072022.zip']"
      ]
     },
     "execution_count": 7,
     "metadata": {},
     "output_type": "execute_result"
    }
   ],
   "source": [
    "zip_reestr"
   ]
  },
  {
   "cell_type": "code",
   "execution_count": 18,
   "metadata": {},
   "outputs": [
    {
     "name": "stdout",
     "output_type": "stream",
     "text": [
      "SB415_267540_19072022.txt\n",
      "None\n"
     ]
    }
   ],
   "source": [
    "if len(zip_reestr) > 0:\n",
    "    for zipf in zip_reestr:\n",
    "        print(read_write_zip(catalog, zipf))\n"
   ]
  },
  {
   "cell_type": "code",
   "execution_count": 62,
   "metadata": {},
   "outputs": [],
   "source": [
    "if len(reestry) > 0:\n",
    "    for txt_f in reestry:\n",
    "        print(read_write_csv(catalog, reestry))\n"
   ]
  },
  {
   "cell_type": "code",
   "execution_count": 64,
   "metadata": {},
   "outputs": [],
   "source": []
  },
  {
   "cell_type": "code",
   "execution_count": 57,
   "metadata": {},
   "outputs": [
    {
     "data": {
      "text/plain": [
       "265195.75"
      ]
     },
     "execution_count": 57,
     "metadata": {},
     "output_type": "execute_result"
    }
   ],
   "source": []
  }
 ],
 "metadata": {
  "kernelspec": {
   "display_name": "Python 3.10.5 64-bit",
   "language": "python",
   "name": "python3"
  },
  "language_info": {
   "codemirror_mode": {
    "name": "ipython",
    "version": 3
   },
   "file_extension": ".py",
   "mimetype": "text/x-python",
   "name": "python",
   "nbconvert_exporter": "python",
   "pygments_lexer": "ipython3",
   "version": "3.10.5"
  },
  "orig_nbformat": 4,
  "vscode": {
   "interpreter": {
    "hash": "52bb6d70ef49c02ab2aa43ab31bba4edd1c59a51e59b9fce56cbe4e55ae05671"
   }
  }
 },
 "nbformat": 4,
 "nbformat_minor": 2
}
