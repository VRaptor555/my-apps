{
 "cells": [
  {
   "cell_type": "code",
   "execution_count": 58,
   "metadata": {},
   "outputs": [],
   "source": [
    "import pandas as pd"
   ]
  },
  {
   "cell_type": "code",
   "execution_count": 65,
   "metadata": {},
   "outputs": [],
   "source": [
    "pay1 = pd.read_csv('data/SB415_038193_27062022.txt', header=None, sep=';', encoding='Windows-1251')\n",
    "pay2 = pd.read_csv('data/SB415_048325_27062022.txt', header=None, sep=';', encoding='Windows-1251')\n",
    "pay3 = pd.read_csv('data/SB415_055422_27062022.txt', header=None, sep=';', encoding='Windows-1251')\n"
   ]
  },
  {
   "cell_type": "code",
   "execution_count": 68,
   "metadata": {},
   "outputs": [
    {
     "data": {
      "text/plain": [
       "12"
      ]
     },
     "execution_count": 68,
     "metadata": {},
     "output_type": "execute_result"
    }
   ],
   "source": [
    "len(pay1.columns)"
   ]
  },
  {
   "cell_type": "code",
   "execution_count": 60,
   "metadata": {},
   "outputs": [],
   "source": [
    "pay1 = pay1.drop(8, axis=1)\n"
   ]
  },
  {
   "cell_type": "code",
   "execution_count": 61,
   "metadata": {},
   "outputs": [],
   "source": [
    "pay2 = pay2.drop(8, axis=1)\n"
   ]
  },
  {
   "cell_type": "code",
   "execution_count": 62,
   "metadata": {},
   "outputs": [],
   "source": [
    "pay3 = pay3.drop(8, axis=1)\n"
   ]
  },
  {
   "cell_type": "code",
   "execution_count": 64,
   "metadata": {},
   "outputs": [],
   "source": [
    "pay1.to_csv('data/SB415_038193_27062022.txt', header=None, sep=';', encoding='Windows-1251', index=False)\n",
    "pay2.to_csv('data/SB415_048325_27062022.txt', header=None, sep=';', encoding='Windows-1251', index=False)\n",
    "pay3.to_csv('data/SB415_055422_27062022.txt', header=None, sep=';', encoding='Windows-1251', index=False)"
   ]
  },
  {
   "cell_type": "code",
   "execution_count": 44,
   "metadata": {},
   "outputs": [
    {
     "data": {
      "text/plain": [
       "0       True\n",
       "1       True\n",
       "2       True\n",
       "3       True\n",
       "4       True\n",
       "       ...  \n",
       "195     True\n",
       "196     True\n",
       "197     True\n",
       "198     True\n",
       "199    False\n",
       "Name: 9, Length: 200, dtype: bool"
      ]
     },
     "execution_count": 44,
     "metadata": {},
     "output_type": "execute_result"
    }
   ],
   "source": [
    "pay1[9].str.contains(\",\", na=False)"
   ]
  },
  {
   "cell_type": "code",
   "execution_count": 46,
   "metadata": {},
   "outputs": [],
   "source": [
    "pay1[9] = pay1[pay1[9].str.contains(\",\", na=False)][9].apply(lambda t: str(t).replace(',', '.'))\n",
    "pay1[10] = pay1[pay1[10].str.contains(\",\", na=False)][10].apply(lambda t: str(t).replace(',', '.'))\n",
    "pay1[11] = pay1[pay1[11].str.contains(\",\", na=False)][11].apply(lambda t: str(t).replace(',', '.'))"
   ]
  },
  {
   "cell_type": "code",
   "execution_count": 50,
   "metadata": {},
   "outputs": [
    {
     "name": "stdout",
     "output_type": "stream",
     "text": [
      "<class 'pandas.core.frame.DataFrame'>\n",
      "RangeIndex: 200 entries, 0 to 199\n",
      "Data columns (total 12 columns):\n",
      " #   Column  Non-Null Count  Dtype  \n",
      "---  ------  --------------  -----  \n",
      " 0   0       200 non-null    object \n",
      " 1   1       200 non-null    object \n",
      " 2   2       200 non-null    object \n",
      " 3   3       200 non-null    object \n",
      " 4   4       200 non-null    int64  \n",
      " 5   5       200 non-null    object \n",
      " 6   6       199 non-null    object \n",
      " 7   7       199 non-null    object \n",
      " 8   9       199 non-null    float64\n",
      " 9   10      199 non-null    object \n",
      " 10  11      199 non-null    object \n",
      " 11  12      199 non-null    float64\n",
      "dtypes: float64(2), int64(1), object(9)\n",
      "memory usage: 18.9+ KB\n"
     ]
    }
   ],
   "source": [
    "pay1.info()"
   ]
  },
  {
   "cell_type": "code",
   "execution_count": 49,
   "metadata": {},
   "outputs": [],
   "source": [
    "pay1[9] = pd.to_numeric(pay1[9]) #pay1[~pay1[9].isnull()][9]"
   ]
  },
  {
   "cell_type": "code",
   "execution_count": 51,
   "metadata": {},
   "outputs": [],
   "source": [
    "pay1[10] = pd.to_numeric(pay1[10])\n",
    "pay1[11] = pd.to_numeric(pay1[11])\n"
   ]
  },
  {
   "cell_type": "code",
   "execution_count": 52,
   "metadata": {},
   "outputs": [],
   "source": [
    "pay2[9] = pay2[pay2[9].str.contains(\",\", na=False)][9].apply(lambda t: str(t).replace(',', '.'))\n",
    "pay2[10] = pay2[pay2[10].str.contains(\",\", na=False)][10].apply(lambda t: str(t).replace(',', '.'))\n",
    "pay2[11] = pay2[pay2[11].str.contains(\",\", na=False)][11].apply(lambda t: str(t).replace(',', '.'))"
   ]
  },
  {
   "cell_type": "code",
   "execution_count": 53,
   "metadata": {},
   "outputs": [],
   "source": [
    "pay3[9] = pay3[pay3[9].str.contains(\",\", na=False)][9].apply(lambda t: str(t).replace(',', '.'))\n",
    "pay3[10] = pay3[pay3[10].str.contains(\",\", na=False)][10].apply(lambda t: str(t).replace(',', '.'))\n",
    "pay3[11] = pay3[pay3[11].str.contains(\",\", na=False)][11].apply(lambda t: str(t).replace(',', '.'))"
   ]
  },
  {
   "cell_type": "code",
   "execution_count": 54,
   "metadata": {},
   "outputs": [],
   "source": [
    "pay2[9] = pd.to_numeric(pay2[9])\n",
    "pay2[10] = pd.to_numeric(pay2[10])\n",
    "pay2[11] = pd.to_numeric(pay2[11])"
   ]
  },
  {
   "cell_type": "code",
   "execution_count": 55,
   "metadata": {},
   "outputs": [],
   "source": [
    "pay3[9] = pd.to_numeric(pay3[9])\n",
    "pay3[10] = pd.to_numeric(pay3[10])\n",
    "pay3[11] = pd.to_numeric(pay3[11])"
   ]
  },
  {
   "cell_type": "code",
   "execution_count": 57,
   "metadata": {},
   "outputs": [
    {
     "data": {
      "text/plain": [
       "265195.75"
      ]
     },
     "execution_count": 57,
     "metadata": {},
     "output_type": "execute_result"
    }
   ],
   "source": []
  }
 ],
 "metadata": {
  "kernelspec": {
   "display_name": "Python 3.10.5 64-bit",
   "language": "python",
   "name": "python3"
  },
  "language_info": {
   "codemirror_mode": {
    "name": "ipython",
    "version": 3
   },
   "file_extension": ".py",
   "mimetype": "text/x-python",
   "name": "python",
   "nbconvert_exporter": "python",
   "pygments_lexer": "ipython3",
   "version": "3.10.5"
  },
  "orig_nbformat": 4,
  "vscode": {
   "interpreter": {
    "hash": "52bb6d70ef49c02ab2aa43ab31bba4edd1c59a51e59b9fce56cbe4e55ae05671"
   }
  }
 },
 "nbformat": 4,
 "nbformat_minor": 2
}
