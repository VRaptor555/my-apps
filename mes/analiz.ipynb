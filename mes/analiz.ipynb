{
 "cells": [
  {
   "cell_type": "code",
   "execution_count": 1,
   "metadata": {},
   "outputs": [],
   "source": [
    "import pandas as pd\n",
    "import pymssql as psq\n",
    "import psycopg2.extras "
   ]
  },
  {
   "cell_type": "code",
   "execution_count": 2,
   "metadata": {},
   "outputs": [],
   "source": [
    "mes_org = pd.read_csv(\"data/Книга1.csv\", sep=';', encoding='Windows-1251')"
   ]
  },
  {
   "cell_type": "code",
   "execution_count": 3,
   "metadata": {},
   "outputs": [],
   "source": [
    "mes_org = mes_org.dropna(axis=0)"
   ]
  },
  {
   "cell_type": "code",
   "execution_count": 4,
   "metadata": {},
   "outputs": [
    {
     "data": {
      "text/html": [
       "<div>\n",
       "<style scoped>\n",
       "    .dataframe tbody tr th:only-of-type {\n",
       "        vertical-align: middle;\n",
       "    }\n",
       "\n",
       "    .dataframe tbody tr th {\n",
       "        vertical-align: top;\n",
       "    }\n",
       "\n",
       "    .dataframe thead th {\n",
       "        text-align: right;\n",
       "    }\n",
       "</style>\n",
       "<table border=\"1\" class=\"dataframe\">\n",
       "  <thead>\n",
       "    <tr style=\"text-align: right;\">\n",
       "      <th></th>\n",
       "      <th>№</th>\n",
       "      <th>ФИО</th>\n",
       "      <th>Должность</th>\n",
       "      <th>Телефон</th>\n",
       "      <th>Электронный адрес</th>\n",
       "      <th>Название организации</th>\n",
       "    </tr>\n",
       "  </thead>\n",
       "  <tbody>\n",
       "    <tr>\n",
       "      <th>0</th>\n",
       "      <td>1.</td>\n",
       "      <td>Архиепископ Иоанн (Павлихин Александр Владимир...</td>\n",
       "      <td>Епархиальный Архиерей</td>\n",
       "      <td>62-25-68</td>\n",
       "      <td>Eparhia.magadan@mail.ru</td>\n",
       "      <td>Православная религиозная организация – Магадан...</td>\n",
       "    </tr>\n",
       "    <tr>\n",
       "      <th>2</th>\n",
       "      <td>2.</td>\n",
       "      <td>Басанский Антон Александрович</td>\n",
       "      <td>Руководитель регионального штаба</td>\n",
       "      <td>Андрейчук Владислав Дмитриевич</td>\n",
       "      <td>Vladislavandreychuk@mail.ru</td>\n",
       "      <td>Магаданское региональное отделения Всероссийск...</td>\n",
       "    </tr>\n",
       "    <tr>\n",
       "      <th>5</th>\n",
       "      <td>3.</td>\n",
       "      <td>Баргуев Георгий Валерьевич</td>\n",
       "      <td>председатель</td>\n",
       "      <td>89148551735</td>\n",
       "      <td>makintoshgeorg@gmail.com</td>\n",
       "      <td>Магаданская областная общественная организация...</td>\n",
       "    </tr>\n",
       "    <tr>\n",
       "      <th>7</th>\n",
       "      <td>4.</td>\n",
       "      <td>Бережная Елена Александровна</td>\n",
       "      <td>председатель</td>\n",
       "      <td>8924-852-3831</td>\n",
       "      <td>nkhp_magadan@bk.ru</td>\n",
       "      <td>Автономная некоммерческая организация «Центр н...</td>\n",
       "    </tr>\n",
       "    <tr>\n",
       "      <th>8</th>\n",
       "      <td>5.</td>\n",
       "      <td>Бирюков Александр Александрович</td>\n",
       "      <td>руководитель</td>\n",
       "      <td>89148512707</td>\n",
       "      <td>berz21@mail.ru</td>\n",
       "      <td>Автономная некоммерческая организация \"Колыма ...</td>\n",
       "    </tr>\n",
       "  </tbody>\n",
       "</table>\n",
       "</div>"
      ],
      "text/plain": [
       "                       №                                                ФИО  \\\n",
       "0  1.                     Архиепископ Иоанн (Павлихин Александр Владимир...   \n",
       "2  2.                                         Басанский Антон Александрович   \n",
       "5  3.                                            Баргуев Георгий Валерьевич   \n",
       "7  4.                                          Бережная Елена Александровна   \n",
       "8  5.                                       Бирюков Александр Александрович   \n",
       "\n",
       "                          Должность                          Телефон  \\\n",
       "0             Епархиальный Архиерей                         62-25-68   \n",
       "2  Руководитель регионального штаба  Андрейчук Владислав Дмитриевич    \n",
       "5                      председатель                      89148551735   \n",
       "7                      председатель                    8924-852-3831   \n",
       "8                      руководитель                      89148512707   \n",
       "\n",
       "             Электронный адрес  \\\n",
       "0      Eparhia.magadan@mail.ru   \n",
       "2  Vladislavandreychuk@mail.ru   \n",
       "5     makintoshgeorg@gmail.com   \n",
       "7           nkhp_magadan@bk.ru   \n",
       "8              berz21@mail.ru    \n",
       "\n",
       "                                Название организации  \n",
       "0  Православная религиозная организация – Магадан...  \n",
       "2  Магаданское региональное отделения Всероссийск...  \n",
       "5  Магаданская областная общественная организация...  \n",
       "7  Автономная некоммерческая организация «Центр н...  \n",
       "8  Автономная некоммерческая организация \"Колыма ...  "
      ]
     },
     "execution_count": 4,
     "metadata": {},
     "output_type": "execute_result"
    }
   ],
   "source": [
    "mes_org.head()"
   ]
  },
  {
   "cell_type": "code",
   "execution_count": 18,
   "metadata": {},
   "outputs": [],
   "source": [
    "# mes_org.to_csv(\"data/list_org.csv\", sep=\";\")"
   ]
  },
  {
   "cell_type": "code",
   "execution_count": 6,
   "metadata": {},
   "outputs": [],
   "source": [
    "mes_conn = psq.connect(server='192.168.9.10', user='LUBCHANSKIY', password='789456', database='Magadan_stack')\n"
   ]
  },
  {
   "cell_type": "code",
   "execution_count": 7,
   "metadata": {},
   "outputs": [
    {
     "data": {
      "text/plain": [
       "pymssql._pymssql.Connection"
      ]
     },
     "execution_count": 7,
     "metadata": {},
     "output_type": "execute_result"
    }
   ],
   "source": [
    "type(mes_conn)"
   ]
  },
  {
   "cell_type": "code",
   "execution_count": 8,
   "metadata": {},
   "outputs": [
    {
     "ename": "TypeError",
     "evalue": "cannot convert dictionary update sequence element #0 to a sequence",
     "output_type": "error",
     "traceback": [
      "\u001b[1;31m---------------------------------------------------------------------------\u001b[0m",
      "\u001b[1;31mTypeError\u001b[0m                                 Traceback (most recent call last)",
      "\u001b[1;32mc:\\Learn_python\\my-apps\\my-apps\\mes\\analiz.ipynb Cell 8'\u001b[0m in \u001b[0;36m<cell line: 12>\u001b[1;34m()\u001b[0m\n\u001b[0;32m      <a href='vscode-notebook-cell:/c%3A/Learn_python/my-apps/my-apps/mes/analiz.ipynb#ch0000006?line=8'>9</a>\u001b[0m         row \u001b[39m=\u001b[39m cursor\u001b[39m.\u001b[39mfetchone()      \n\u001b[0;32m     <a href='vscode-notebook-cell:/c%3A/Learn_python/my-apps/my-apps/mes/analiz.ipynb#ch0000006?line=9'>10</a>\u001b[0m     \u001b[39mreturn\u001b[39;00m data\n\u001b[1;32m---> <a href='vscode-notebook-cell:/c%3A/Learn_python/my-apps/my-apps/mes/analiz.ipynb#ch0000006?line=11'>12</a>\u001b[0m stack_org \u001b[39m=\u001b[39m organization_data(mes_conn)\n",
      "\u001b[1;32mc:\\Learn_python\\my-apps\\my-apps\\mes\\analiz.ipynb Cell 8'\u001b[0m in \u001b[0;36morganization_data\u001b[1;34m(s_conn)\u001b[0m\n\u001b[0;32m      <a href='vscode-notebook-cell:/c%3A/Learn_python/my-apps/my-apps/mes/analiz.ipynb#ch0000006?line=4'>5</a>\u001b[0m data \u001b[39m=\u001b[39m []\n\u001b[0;32m      <a href='vscode-notebook-cell:/c%3A/Learn_python/my-apps/my-apps/mes/analiz.ipynb#ch0000006?line=5'>6</a>\u001b[0m \u001b[39mwhile\u001b[39;00m row:\n\u001b[1;32m----> <a href='vscode-notebook-cell:/c%3A/Learn_python/my-apps/my-apps/mes/analiz.ipynb#ch0000006?line=6'>7</a>\u001b[0m     data\u001b[39m.\u001b[39mappend(\u001b[39mdict\u001b[39;49m(row))\n\u001b[0;32m      <a href='vscode-notebook-cell:/c%3A/Learn_python/my-apps/my-apps/mes/analiz.ipynb#ch0000006?line=7'>8</a>\u001b[0m     \u001b[39m#print(str(row[0]) + \" \" + str(row[1]) + \" \" + str(row[2]))     \u001b[39;00m\n\u001b[0;32m      <a href='vscode-notebook-cell:/c%3A/Learn_python/my-apps/my-apps/mes/analiz.ipynb#ch0000006?line=8'>9</a>\u001b[0m     row \u001b[39m=\u001b[39m cursor\u001b[39m.\u001b[39mfetchone()      \n",
      "\u001b[1;31mTypeError\u001b[0m: cannot convert dictionary update sequence element #0 to a sequence"
     ]
    }
   ],
   "source": [
    "def organization_data(s_conn):\n",
    "    cursor = s_conn.cursor()\n",
    "    cursor.execute(\"SELECT ROW_ID, email, Наименование FROM stack.Организации where email is not null and email <> '' \")\n",
    "    row = cursor.fetchone()\n",
    "    data = []\n",
    "    while row:\n",
    "        data.append(dict(row))\n",
    "        #print(str(row[0]) + \" \" + str(row[1]) + \" \" + str(row[2]))     \n",
    "        row = cursor.fetchone()      \n",
    "    return data\n",
    "\n",
    "stack_org = organization_data(mes_conn)"
   ]
  },
  {
   "cell_type": "code",
   "execution_count": 21,
   "metadata": {},
   "outputs": [
    {
     "data": {
      "text/plain": [
       "<function __main__.organization_data()>"
      ]
     },
     "execution_count": 21,
     "metadata": {},
     "output_type": "execute_result"
    }
   ],
   "source": [
    "stack_org"
   ]
  }
 ],
 "metadata": {
  "kernelspec": {
   "display_name": "Python 3.10.5 64-bit",
   "language": "python",
   "name": "python3"
  },
  "language_info": {
   "codemirror_mode": {
    "name": "ipython",
    "version": 3
   },
   "file_extension": ".py",
   "mimetype": "text/x-python",
   "name": "python",
   "nbconvert_exporter": "python",
   "pygments_lexer": "ipython3",
   "version": "3.10.5"
  },
  "orig_nbformat": 4,
  "vscode": {
   "interpreter": {
    "hash": "52bb6d70ef49c02ab2aa43ab31bba4edd1c59a51e59b9fce56cbe4e55ae05671"
   }
  }
 },
 "nbformat": 4,
 "nbformat_minor": 2
}
