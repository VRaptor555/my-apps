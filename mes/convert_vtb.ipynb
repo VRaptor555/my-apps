{
 "cells": [
  {
   "cell_type": "code",
   "execution_count": 1,
   "metadata": {},
   "outputs": [],
   "source": [
    "import pandas as pd"
   ]
  },
  {
   "cell_type": "code",
   "execution_count": 2,
   "metadata": {},
   "outputs": [],
   "source": [
    "vtb_data = pd.read_table('vtb/040722_VTB_74177.txt', sep=';', header=None)"
   ]
  },
  {
   "cell_type": "code",
   "execution_count": 3,
   "metadata": {},
   "outputs": [],
   "source": [
    "vtb_itog = vtb_data[vtb_data[0].str.contains('=')]"
   ]
  },
  {
   "cell_type": "code",
   "execution_count": 4,
   "metadata": {},
   "outputs": [],
   "source": [
    "vtb_itog = vtb_itog.drop([6,7,8,9,10,11], axis=1)"
   ]
  },
  {
   "cell_type": "code",
   "execution_count": 5,
   "metadata": {},
   "outputs": [],
   "source": [
    "vtb_itog.columns = ['Количество', 'Сумма операции', 'Сумма перевода', 'Сумма комиссии', '№п/п', 'Дата']"
   ]
  },
  {
   "cell_type": "code",
   "execution_count": 6,
   "metadata": {},
   "outputs": [],
   "source": [
    "vtb_itog['Количество'] = vtb_itog['Количество'].apply(lambda s: s[1:3])"
   ]
  },
  {
   "cell_type": "code",
   "execution_count": 7,
   "metadata": {},
   "outputs": [
    {
     "data": {
      "text/html": [
       "<div>\n",
       "<style scoped>\n",
       "    .dataframe tbody tr th:only-of-type {\n",
       "        vertical-align: middle;\n",
       "    }\n",
       "\n",
       "    .dataframe tbody tr th {\n",
       "        vertical-align: top;\n",
       "    }\n",
       "\n",
       "    .dataframe thead th {\n",
       "        text-align: right;\n",
       "    }\n",
       "</style>\n",
       "<table border=\"1\" class=\"dataframe\">\n",
       "  <thead>\n",
       "    <tr style=\"text-align: right;\">\n",
       "      <th></th>\n",
       "      <th>Количество</th>\n",
       "      <th>Сумма операции</th>\n",
       "      <th>Сумма перевода</th>\n",
       "      <th>Сумма комиссии</th>\n",
       "      <th>№п/п</th>\n",
       "      <th>Дата</th>\n",
       "    </tr>\n",
       "  </thead>\n",
       "  <tbody>\n",
       "    <tr>\n",
       "      <th>92</th>\n",
       "      <td>92</td>\n",
       "      <td>132932.67</td>\n",
       "      <td>132932.67</td>\n",
       "      <td>0.0</td>\n",
       "      <td>129</td>\n",
       "      <td>05-07-2022</td>\n",
       "    </tr>\n",
       "  </tbody>\n",
       "</table>\n",
       "</div>"
      ],
      "text/plain": [
       "   Количество Сумма операции  Сумма перевода  Сумма комиссии №п/п        Дата\n",
       "92         92      132932.67       132932.67             0.0  129  05-07-2022"
      ]
     },
     "execution_count": 7,
     "metadata": {},
     "output_type": "execute_result"
    }
   ],
   "source": [
    "vtb_itog"
   ]
  },
  {
   "cell_type": "code",
   "execution_count": 8,
   "metadata": {},
   "outputs": [],
   "source": [
    "vtb_data = vtb_data[~vtb_data[0].str.contains('=')]"
   ]
  },
  {
   "cell_type": "code",
   "execution_count": 9,
   "metadata": {},
   "outputs": [],
   "source": [
    "vtb_data = vtb_data.drop([1, 2, 3, 4], axis=1)"
   ]
  },
  {
   "cell_type": "code",
   "execution_count": 10,
   "metadata": {},
   "outputs": [],
   "source": [
    "vtb_data.columns = ['Дата платежа', 'ЛС', 'ФИО', 'Адрес', 'Период оплаты', 'Сумма операции', 'Сумма перевода', 'Сумма комиссии']"
   ]
  },
  {
   "cell_type": "code",
   "execution_count": 11,
   "metadata": {},
   "outputs": [],
   "source": [
    "vtb_data['Период оплаты'] = vtb_data['Период оплаты'].astype('str')"
   ]
  },
  {
   "cell_type": "code",
   "execution_count": 12,
   "metadata": {},
   "outputs": [],
   "source": [
    "def period_pay(values):\n",
    "    if len(values)>5:\n",
    "        return values[:4]\n",
    "    else:\n",
    "        return '0'+values[:3]"
   ]
  },
  {
   "cell_type": "code",
   "execution_count": 13,
   "metadata": {},
   "outputs": [],
   "source": [
    "vtb_data['Период оплаты'] = vtb_data['Период оплаты'].apply(period_pay)"
   ]
  },
  {
   "cell_type": "code",
   "execution_count": 14,
   "metadata": {},
   "outputs": [],
   "source": [
    "vtb_data['Дата платежа'] = pd.to_datetime(vtb_data['Дата платежа'], dayfirst=True)"
   ]
  },
  {
   "cell_type": "code",
   "execution_count": 15,
   "metadata": {},
   "outputs": [],
   "source": [
    "vtb_data = vtb_data.sort_values('ЛС')"
   ]
  },
  {
   "cell_type": "code",
   "execution_count": 16,
   "metadata": {},
   "outputs": [],
   "source": [
    "sum_oper = vtb_data['Сумма операции'].sum()\n",
    "sum_pere = vtb_data['Сумма перевода'].sum()\n",
    "sum_komi = vtb_data['Сумма комиссии'].sum()"
   ]
  },
  {
   "cell_type": "code",
   "execution_count": 60,
   "metadata": {},
   "outputs": [
    {
     "data": {
      "text/html": [
       "<div>\n",
       "<style scoped>\n",
       "    .dataframe tbody tr th:only-of-type {\n",
       "        vertical-align: middle;\n",
       "    }\n",
       "\n",
       "    .dataframe tbody tr th {\n",
       "        vertical-align: top;\n",
       "    }\n",
       "\n",
       "    .dataframe thead th {\n",
       "        text-align: right;\n",
       "    }\n",
       "</style>\n",
       "<table border=\"1\" class=\"dataframe\">\n",
       "  <thead>\n",
       "    <tr style=\"text-align: right;\">\n",
       "      <th></th>\n",
       "      <th>Дата платежа</th>\n",
       "      <th>ЛС</th>\n",
       "      <th>ФИО</th>\n",
       "      <th>Адрес</th>\n",
       "      <th>Период оплаты</th>\n",
       "      <th>Сумма операции</th>\n",
       "      <th>Сумма перевода</th>\n",
       "      <th>Сумма комиссии</th>\n",
       "    </tr>\n",
       "  </thead>\n",
       "  <tbody>\n",
       "    <tr>\n",
       "      <th>13</th>\n",
       "      <td>2022-07-04</td>\n",
       "      <td>105124</td>\n",
       "      <td>Будников Сергей Федотович</td>\n",
       "      <td>МАГАДАН,  Космонавтов пл., д.5, кв.24</td>\n",
       "      <td>0622</td>\n",
       "      <td>636.72</td>\n",
       "      <td>636.72</td>\n",
       "      <td>0.0</td>\n",
       "    </tr>\n",
       "    <tr>\n",
       "      <th>84</th>\n",
       "      <td>2022-07-04</td>\n",
       "      <td>105159</td>\n",
       "      <td>Стасевич Александр Георгиевич</td>\n",
       "      <td>МАГАДАН,  Космонавтов пл., д.5, кв.59</td>\n",
       "      <td>0622</td>\n",
       "      <td>1246.34</td>\n",
       "      <td>1246.34</td>\n",
       "      <td>0.0</td>\n",
       "    </tr>\n",
       "    <tr>\n",
       "      <th>86</th>\n",
       "      <td>2022-07-04</td>\n",
       "      <td>111137</td>\n",
       "      <td>Макалинская Ксения Павловна</td>\n",
       "      <td>МАГАДАН,  Карла Маркса, д.50, кв.72</td>\n",
       "      <td>0622</td>\n",
       "      <td>332.21</td>\n",
       "      <td>332.21</td>\n",
       "      <td>0.0</td>\n",
       "    </tr>\n",
       "    <tr>\n",
       "      <th>7</th>\n",
       "      <td>2022-07-04</td>\n",
       "      <td>120986</td>\n",
       "      <td>Киселева Юлия Николаевна</td>\n",
       "      <td>МАГАДАН,  Парковая, д.21корп. 3, кв.15</td>\n",
       "      <td>0622</td>\n",
       "      <td>32.64</td>\n",
       "      <td>32.64</td>\n",
       "      <td>0.0</td>\n",
       "    </tr>\n",
       "    <tr>\n",
       "      <th>22</th>\n",
       "      <td>2022-07-04</td>\n",
       "      <td>121673</td>\n",
       "      <td>Пан Светлана Александровна</td>\n",
       "      <td>МАГАДАН,  Якутская, д.14, кв.64</td>\n",
       "      <td>0622</td>\n",
       "      <td>195.43</td>\n",
       "      <td>195.43</td>\n",
       "      <td>0.0</td>\n",
       "    </tr>\n",
       "    <tr>\n",
       "      <th>...</th>\n",
       "      <td>...</td>\n",
       "      <td>...</td>\n",
       "      <td>...</td>\n",
       "      <td>...</td>\n",
       "      <td>...</td>\n",
       "      <td>...</td>\n",
       "      <td>...</td>\n",
       "      <td>...</td>\n",
       "    </tr>\n",
       "    <tr>\n",
       "      <th>35</th>\n",
       "      <td>2022-07-04</td>\n",
       "      <td>443224</td>\n",
       "      <td>Штефан Татьяна Васильевна</td>\n",
       "      <td>МАГАДАН,  Набережная р. магаданки, д.75корп. 2...</td>\n",
       "      <td>0622</td>\n",
       "      <td>462.67</td>\n",
       "      <td>462.67</td>\n",
       "      <td>0.0</td>\n",
       "    </tr>\n",
       "    <tr>\n",
       "      <th>25</th>\n",
       "      <td>2022-07-04</td>\n",
       "      <td>450755</td>\n",
       "      <td>Лисовская Ирина Викторовна</td>\n",
       "      <td>МАГАДАН,  Цветочная, д.16</td>\n",
       "      <td>0622</td>\n",
       "      <td>1061.20</td>\n",
       "      <td>1061.20</td>\n",
       "      <td>0.0</td>\n",
       "    </tr>\n",
       "    <tr>\n",
       "      <th>39</th>\n",
       "      <td>2022-07-04</td>\n",
       "      <td>460424</td>\n",
       "      <td>Кучинская Елена Викторовна</td>\n",
       "      <td>МАГАДАН,  Спортивная, д.12</td>\n",
       "      <td>0622</td>\n",
       "      <td>12006.72</td>\n",
       "      <td>12006.72</td>\n",
       "      <td>0.0</td>\n",
       "    </tr>\n",
       "    <tr>\n",
       "      <th>67</th>\n",
       "      <td>2022-07-04</td>\n",
       "      <td>463144</td>\n",
       "      <td>Мельникова Светлана Евгеньевна</td>\n",
       "      <td>МАГАДАН,  Набережная р. магаданки, д.61, кв.2а</td>\n",
       "      <td>0622</td>\n",
       "      <td>423.35</td>\n",
       "      <td>423.35</td>\n",
       "      <td>0.0</td>\n",
       "    </tr>\n",
       "    <tr>\n",
       "      <th>55</th>\n",
       "      <td>2022-07-04</td>\n",
       "      <td>464041</td>\n",
       "      <td>Колесникова Инна Владимировна</td>\n",
       "      <td>МАГАДАН,  Пролетарская, д.81, кв.36, ком.1,2,3,4</td>\n",
       "      <td>0622</td>\n",
       "      <td>748.79</td>\n",
       "      <td>748.79</td>\n",
       "      <td>0.0</td>\n",
       "    </tr>\n",
       "  </tbody>\n",
       "</table>\n",
       "<p>92 rows × 8 columns</p>\n",
       "</div>"
      ],
      "text/plain": [
       "   Дата платежа      ЛС                             ФИО  \\\n",
       "13   2022-07-04  105124       Будников Сергей Федотович   \n",
       "84   2022-07-04  105159   Стасевич Александр Георгиевич   \n",
       "86   2022-07-04  111137     Макалинская Ксения Павловна   \n",
       "7    2022-07-04  120986        Киселева Юлия Николаевна   \n",
       "22   2022-07-04  121673      Пан Светлана Александровна   \n",
       "..          ...     ...                             ...   \n",
       "35   2022-07-04  443224       Штефан Татьяна Васильевна   \n",
       "25   2022-07-04  450755      Лисовская Ирина Викторовна   \n",
       "39   2022-07-04  460424      Кучинская Елена Викторовна   \n",
       "67   2022-07-04  463144  Мельникова Светлана Евгеньевна   \n",
       "55   2022-07-04  464041   Колесникова Инна Владимировна   \n",
       "\n",
       "                                                Адрес Период оплаты  \\\n",
       "13              МАГАДАН,  Космонавтов пл., д.5, кв.24          0622   \n",
       "84              МАГАДАН,  Космонавтов пл., д.5, кв.59          0622   \n",
       "86                МАГАДАН,  Карла Маркса, д.50, кв.72          0622   \n",
       "7              МАГАДАН,  Парковая, д.21корп. 3, кв.15          0622   \n",
       "22                    МАГАДАН,  Якутская, д.14, кв.64          0622   \n",
       "..                                                ...           ...   \n",
       "35  МАГАДАН,  Набережная р. магаданки, д.75корп. 2...          0622   \n",
       "25                          МАГАДАН,  Цветочная, д.16          0622   \n",
       "39                         МАГАДАН,  Спортивная, д.12          0622   \n",
       "67     МАГАДАН,  Набережная р. магаданки, д.61, кв.2а          0622   \n",
       "55   МАГАДАН,  Пролетарская, д.81, кв.36, ком.1,2,3,4          0622   \n",
       "\n",
       "    Сумма операции  Сумма перевода  Сумма комиссии  \n",
       "13          636.72          636.72             0.0  \n",
       "84         1246.34         1246.34             0.0  \n",
       "86          332.21          332.21             0.0  \n",
       "7            32.64           32.64             0.0  \n",
       "22          195.43          195.43             0.0  \n",
       "..             ...             ...             ...  \n",
       "35          462.67          462.67             0.0  \n",
       "25         1061.20         1061.20             0.0  \n",
       "39        12006.72        12006.72             0.0  \n",
       "67          423.35          423.35             0.0  \n",
       "55          748.79          748.79             0.0  \n",
       "\n",
       "[92 rows x 8 columns]"
      ]
     },
     "execution_count": 60,
     "metadata": {},
     "output_type": "execute_result"
    }
   ],
   "source": [
    "vtb_data"
   ]
  },
  {
   "cell_type": "code",
   "execution_count": 17,
   "metadata": {},
   "outputs": [],
   "source": [
    "def check_sum_count():\n",
    "    if float(vtb_itog['Сумма операции'].astype('float')) == sum_oper and float(vtb_itog['Сумма перевода'].astype('float')) == sum_pere and \\\n",
    "        float(vtb_itog['Сумма комиссии'].astype('float')) == sum_komi and int(vtb_itog['Количество'].astype('float')) == len(vtb_data):\n",
    "        print('Все в порядке')\n",
    "        return 0\n",
    "    else:\n",
    "        print('Ошибка в суммах или в количестве')\n",
    "        return -1"
   ]
  },
  {
   "cell_type": "code",
   "execution_count": 18,
   "metadata": {},
   "outputs": [
    {
     "name": "stdout",
     "output_type": "stream",
     "text": [
      "Все в порядке\n"
     ]
    }
   ],
   "source": [
    "if check_sum_count() == -1:\n",
    "    print('Error!!!')\n"
   ]
  },
  {
   "cell_type": "code",
   "execution_count": 19,
   "metadata": {},
   "outputs": [
    {
     "data": {
      "text/plain": [
       "'05-07-2022'"
      ]
     },
     "execution_count": 19,
     "metadata": {},
     "output_type": "execute_result"
    }
   ],
   "source": [
    "str(vtb_itog['Дата'].values[0])"
   ]
  },
  {
   "cell_type": "code",
   "execution_count": 22,
   "metadata": {},
   "outputs": [],
   "source": [
    "from xlsxwriter.utility import xl_range"
   ]
  },
  {
   "cell_type": "code",
   "execution_count": 31,
   "metadata": {},
   "outputs": [
    {
     "name": "stdout",
     "output_type": "stream",
     "text": [
      "[{'header': 'Дата платежа', 'format': <xlsxwriter.format.Format object at 0x00000215A88DDAE0>}, {'header': 'ЛС', 'format': <xlsxwriter.format.Format object at 0x00000215A88DDAE0>}, {'header': 'ФИО', 'format': <xlsxwriter.format.Format object at 0x00000215A88DDAE0>}, {'header': 'Адрес', 'format': <xlsxwriter.format.Format object at 0x00000215A88DDAE0>}, {'header': 'Период оплаты', 'format': <xlsxwriter.format.Format object at 0x00000215A88DDAE0>}, {'header': 'Сумма операции', 'format': <xlsxwriter.format.Format object at 0x00000215A88DDAE0>}, {'header': 'Сумма перевода', 'format': <xlsxwriter.format.Format object at 0x00000215A88DDAE0>}, {'header': 'Сумма комиссии', 'format': <xlsxwriter.format.Format object at 0x00000215A88DDAE0>}]\n"
     ]
    }
   ],
   "source": []
  },
  {
   "cell_type": "code",
   "execution_count": 37,
   "metadata": {},
   "outputs": [],
   "source": [
    "sh_name = str(vtb_itog['Дата'].values[0])\n",
    "writer = pd.ExcelWriter('vtb/040722_VTB_74177.xlsx', engine='xlsxwriter', datetime_format='dd.mm.yyyy')\n",
    "vtb_data.to_excel(writer, sheet_name=sh_name, index=False)\n",
    "\n",
    "workbook = writer.book\n",
    "worksheet = writer.sheets[sh_name]\n",
    "money_format = workbook.add_format({'num_format': '# ##0.00'})\n",
    "date_format = workbook.add_format({'num_format': 'dd.mm.yyyy'})\n",
    "highrow_format = workbook.add_format({'fg_color': '#E2EFDA'})\n",
    "sum_format = workbook.add_format({'bold': True})\n",
    "\n",
    "\n",
    "#for col_num, value in enumerate(vtb_data.columns.values):\n",
    "#    worksheet.write(0, col_num, value, header_format)\n",
    "(max_row, max_col) = vtb_data.shape\n",
    "\n",
    "#for i_row in range(0, max_row):\n",
    "#    if i_row % 2 == 0:\n",
    "#        worksheet.set_row(row=i_row+1, cell_format=highrow_format)\n",
    "#header_format = workbook.add_format({'text_wrap': 1})\n",
    "\n",
    "header_columns = []\n",
    "for col_name in vtb_data.columns:\n",
    "    head_dict = dict(header=col_name)\n",
    "    header_columns.append(head_dict)\n",
    "#print(header_columns)\n",
    "\n",
    "worksheet.set_column(0, 0, 12, date_format)\n",
    "worksheet.set_column(5, 7, 15, money_format)\n",
    "worksheet.set_column(2, 3, 50)\n",
    "\n",
    "worksheet.write(max_row+1, 5, '=SUM(F2:F{})'.format(max_row+1), sum_format)\n",
    "worksheet.write(max_row+1, 6, '=SUM(G2:G{})'.format(max_row+1), sum_format)\n",
    "worksheet.write(max_row+1, 7, '=SUM(H2:H{})'.format(max_row+1), sum_format)\n",
    "#cell_range = xl_range(0, 0, max_row, max_col)  # A1:E4\n",
    "worksheet.add_table(0, 0, max_row, max_col-1, {'columns': header_columns})\n",
    "\n",
    "writer.save()\n",
    "writer.close()"
   ]
  },
  {
   "cell_type": "code",
   "execution_count": 169,
   "metadata": {},
   "outputs": [
    {
     "name": "stdout",
     "output_type": "stream",
     "text": [
      "=СУММА(F1:F92)\n"
     ]
    }
   ],
   "source": [
    "print('=СУММА(F1:F{})'.format(max_row))"
   ]
  },
  {
   "cell_type": "code",
   "execution_count": 146,
   "metadata": {},
   "outputs": [
    {
     "data": {
      "text/plain": [
       "0"
      ]
     },
     "execution_count": 146,
     "metadata": {},
     "output_type": "execute_result"
    }
   ],
   "source": [
    "\n",
    "#worksheet.set_column('F:H', len(vtb_data)+1, money_format)"
   ]
  },
  {
   "cell_type": "code",
   "execution_count": 182,
   "metadata": {},
   "outputs": [],
   "source": []
  },
  {
   "cell_type": "code",
   "execution_count": 183,
   "metadata": {},
   "outputs": [
    {
     "name": "stderr",
     "output_type": "stream",
     "text": [
      "c:\\Users\\Lubchanskiy\\AppData\\Local\\Programs\\Python\\Python310\\lib\\site-packages\\xlsxwriter\\workbook.py:339: UserWarning: Calling close() on already closed file.\n",
      "  warn(\"Calling close() on already closed file.\")\n"
     ]
    }
   ],
   "source": []
  }
 ],
 "metadata": {
  "kernelspec": {
   "display_name": "Python 3.10.5 64-bit",
   "language": "python",
   "name": "python3"
  },
  "language_info": {
   "codemirror_mode": {
    "name": "ipython",
    "version": 3
   },
   "file_extension": ".py",
   "mimetype": "text/x-python",
   "name": "python",
   "nbconvert_exporter": "python",
   "pygments_lexer": "ipython3",
   "version": "3.10.5"
  },
  "orig_nbformat": 4,
  "vscode": {
   "interpreter": {
    "hash": "52bb6d70ef49c02ab2aa43ab31bba4edd1c59a51e59b9fce56cbe4e55ae05671"
   }
  }
 },
 "nbformat": 4,
 "nbformat_minor": 2
}
