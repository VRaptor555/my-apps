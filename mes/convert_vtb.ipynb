{
 "cells": [
  {
   "cell_type": "code",
   "execution_count": 38,
   "metadata": {},
   "outputs": [],
   "source": [
    "import pandas as pd"
   ]
  },
  {
   "cell_type": "code",
   "execution_count": 65,
   "metadata": {},
   "outputs": [],
   "source": [
    "vtb_data = pd.read_table('vtb/060722_VTB_74177.txt', sep=';', header=None)"
   ]
  },
  {
   "cell_type": "code",
   "execution_count": 66,
   "metadata": {},
   "outputs": [],
   "source": [
    "vtb_itog = vtb_data[vtb_data[0].str.contains('=')]"
   ]
  },
  {
   "cell_type": "code",
   "execution_count": 67,
   "metadata": {},
   "outputs": [],
   "source": [
    "vtb_itog = vtb_itog.drop([6,7,8,9,10,11], axis=1)"
   ]
  },
  {
   "cell_type": "code",
   "execution_count": 68,
   "metadata": {},
   "outputs": [],
   "source": [
    "vtb_itog.columns = ['Количество', 'Сумма операции', 'Сумма перевода', 'Сумма комиссии', '№п/п', 'Дата']"
   ]
  },
  {
   "cell_type": "code",
   "execution_count": 69,
   "metadata": {},
   "outputs": [],
   "source": [
    "vtb_itog['Количество'] = vtb_itog['Количество'].apply(lambda s: s[1:3])"
   ]
  },
  {
   "cell_type": "code",
   "execution_count": 70,
   "metadata": {},
   "outputs": [
    {
     "data": {
      "text/html": [
       "<div>\n",
       "<style scoped>\n",
       "    .dataframe tbody tr th:only-of-type {\n",
       "        vertical-align: middle;\n",
       "    }\n",
       "\n",
       "    .dataframe tbody tr th {\n",
       "        vertical-align: top;\n",
       "    }\n",
       "\n",
       "    .dataframe thead th {\n",
       "        text-align: right;\n",
       "    }\n",
       "</style>\n",
       "<table border=\"1\" class=\"dataframe\">\n",
       "  <thead>\n",
       "    <tr style=\"text-align: right;\">\n",
       "      <th></th>\n",
       "      <th>Количество</th>\n",
       "      <th>Сумма операции</th>\n",
       "      <th>Сумма перевода</th>\n",
       "      <th>Сумма комиссии</th>\n",
       "      <th>№п/п</th>\n",
       "      <th>Дата</th>\n",
       "    </tr>\n",
       "  </thead>\n",
       "  <tbody>\n",
       "    <tr>\n",
       "      <th>79</th>\n",
       "      <td>79</td>\n",
       "      <td>62756.42</td>\n",
       "      <td>62756.42</td>\n",
       "      <td>0.0</td>\n",
       "      <td>131</td>\n",
       "      <td>07-07-2022</td>\n",
       "    </tr>\n",
       "  </tbody>\n",
       "</table>\n",
       "</div>"
      ],
      "text/plain": [
       "   Количество Сумма операции  Сумма перевода  Сумма комиссии №п/п        Дата\n",
       "79         79       62756.42        62756.42             0.0  131  07-07-2022"
      ]
     },
     "execution_count": 70,
     "metadata": {},
     "output_type": "execute_result"
    }
   ],
   "source": [
    "vtb_itog"
   ]
  },
  {
   "cell_type": "code",
   "execution_count": 71,
   "metadata": {},
   "outputs": [],
   "source": [
    "vtb_data = vtb_data[~vtb_data[0].str.contains('=')]"
   ]
  },
  {
   "cell_type": "code",
   "execution_count": 72,
   "metadata": {},
   "outputs": [],
   "source": [
    "vtb_data = vtb_data.drop([1, 2, 3, 4], axis=1)"
   ]
  },
  {
   "cell_type": "code",
   "execution_count": 73,
   "metadata": {},
   "outputs": [],
   "source": [
    "vtb_data.columns = ['Дата платежа', 'ЛС', 'ФИО', 'Адрес', 'Период оплаты', 'Сумма операции', 'Сумма перевода', 'Сумма комиссии']"
   ]
  },
  {
   "cell_type": "code",
   "execution_count": 74,
   "metadata": {},
   "outputs": [],
   "source": [
    "vtb_data['Период оплаты'] = vtb_data['Период оплаты'].astype('str')"
   ]
  },
  {
   "cell_type": "code",
   "execution_count": 75,
   "metadata": {},
   "outputs": [],
   "source": [
    "def period_pay(values):\n",
    "    if len(values)>5:\n",
    "        return values[:4]\n",
    "    else:\n",
    "        return '0'+values[:3]"
   ]
  },
  {
   "cell_type": "code",
   "execution_count": 76,
   "metadata": {},
   "outputs": [],
   "source": [
    "vtb_data['Период оплаты'] = vtb_data['Период оплаты'].apply(period_pay)"
   ]
  },
  {
   "cell_type": "code",
   "execution_count": 77,
   "metadata": {},
   "outputs": [],
   "source": [
    "vtb_data['Дата платежа'] = pd.to_datetime(vtb_data['Дата платежа'], dayfirst=True)"
   ]
  },
  {
   "cell_type": "code",
   "execution_count": 78,
   "metadata": {},
   "outputs": [],
   "source": [
    "vtb_data = vtb_data.sort_values('ЛС')"
   ]
  },
  {
   "cell_type": "code",
   "execution_count": 83,
   "metadata": {},
   "outputs": [],
   "source": [
    "sum_oper = round(vtb_data['Сумма операции'].sum(), 2)\n",
    "sum_pere = round(vtb_data['Сумма перевода'].sum(), 2)\n",
    "sum_komi = round(vtb_data['Сумма комиссии'].sum(), 2)"
   ]
  },
  {
   "cell_type": "code",
   "execution_count": null,
   "metadata": {},
   "outputs": [],
   "source": []
  },
  {
   "cell_type": "code",
   "execution_count": 84,
   "metadata": {},
   "outputs": [
    {
     "name": "stdout",
     "output_type": "stream",
     "text": [
      "62756.42 62756.42 0.0\n"
     ]
    }
   ],
   "source": [
    "print(sum_oper, sum_pere, sum_komi)"
   ]
  },
  {
   "cell_type": "code",
   "execution_count": 64,
   "metadata": {},
   "outputs": [
    {
     "data": {
      "text/html": [
       "<div>\n",
       "<style scoped>\n",
       "    .dataframe tbody tr th:only-of-type {\n",
       "        vertical-align: middle;\n",
       "    }\n",
       "\n",
       "    .dataframe tbody tr th {\n",
       "        vertical-align: top;\n",
       "    }\n",
       "\n",
       "    .dataframe thead th {\n",
       "        text-align: right;\n",
       "    }\n",
       "</style>\n",
       "<table border=\"1\" class=\"dataframe\">\n",
       "  <thead>\n",
       "    <tr style=\"text-align: right;\">\n",
       "      <th></th>\n",
       "      <th>0</th>\n",
       "      <th>1</th>\n",
       "      <th>2</th>\n",
       "      <th>3</th>\n",
       "      <th>4</th>\n",
       "      <th>5</th>\n",
       "      <th>6</th>\n",
       "      <th>7</th>\n",
       "      <th>8</th>\n",
       "      <th>9</th>\n",
       "      <th>10</th>\n",
       "      <th>11</th>\n",
       "    </tr>\n",
       "  </thead>\n",
       "  <tbody>\n",
       "    <tr>\n",
       "      <th>0</th>\n",
       "      <td>04-07-2022</td>\n",
       "      <td>00-04-47</td>\n",
       "      <td>4.00</td>\n",
       "      <td>4.098804e+09</td>\n",
       "      <td>sdgvklgivl7yonebrj7kplg3w</td>\n",
       "      <td>240401</td>\n",
       "      <td>Крамаренко Ольга Викторовна</td>\n",
       "      <td>МАГАДАН,  Билибина, д.18, кв.17</td>\n",
       "      <td>622.0</td>\n",
       "      <td>415.86</td>\n",
       "      <td>415.86</td>\n",
       "      <td>0.0</td>\n",
       "    </tr>\n",
       "    <tr>\n",
       "      <th>1</th>\n",
       "      <td>04-07-2022</td>\n",
       "      <td>01-11-19</td>\n",
       "      <td>4.00</td>\n",
       "      <td>4.098812e+09</td>\n",
       "      <td>nlhgapfkpvc57c24jcqlato93</td>\n",
       "      <td>254880</td>\n",
       "      <td>Шишкин Евгений Васильевич</td>\n",
       "      <td>МАГАДАН,  Марчеканский пер., д.37, кв.52</td>\n",
       "      <td>622.0</td>\n",
       "      <td>780.74</td>\n",
       "      <td>780.74</td>\n",
       "      <td>0.0</td>\n",
       "    </tr>\n",
       "    <tr>\n",
       "      <th>2</th>\n",
       "      <td>04-07-2022</td>\n",
       "      <td>01-17-10</td>\n",
       "      <td>4.00</td>\n",
       "      <td>4.098813e+09</td>\n",
       "      <td>h4nckq8afwa7kpjnhclaf4vh4</td>\n",
       "      <td>345233</td>\n",
       "      <td>Оноприенко Ксения Александровна</td>\n",
       "      <td>МАГАДАН,  Шандора Шимича, д.3корп. 1, кв.30</td>\n",
       "      <td>622.0</td>\n",
       "      <td>7000.00</td>\n",
       "      <td>7000.00</td>\n",
       "      <td>0.0</td>\n",
       "    </tr>\n",
       "    <tr>\n",
       "      <th>3</th>\n",
       "      <td>04-07-2022</td>\n",
       "      <td>01-17-33</td>\n",
       "      <td>4.00</td>\n",
       "      <td>4.098813e+09</td>\n",
       "      <td>de82zqdtciyg1wa3p3ovf9afk</td>\n",
       "      <td>344931</td>\n",
       "      <td>Оноприенко Ксения Александровна</td>\n",
       "      <td>МАГАДАН,  Берзина, д.17б, кв.31</td>\n",
       "      <td>622.0</td>\n",
       "      <td>3000.00</td>\n",
       "      <td>3000.00</td>\n",
       "      <td>0.0</td>\n",
       "    </tr>\n",
       "    <tr>\n",
       "      <th>4</th>\n",
       "      <td>04-07-2022</td>\n",
       "      <td>01-21-22</td>\n",
       "      <td>4.00</td>\n",
       "      <td>4.098813e+09</td>\n",
       "      <td>o56x5ccgxpqcljvt153ee2iqu</td>\n",
       "      <td>443028</td>\n",
       "      <td>Горбачёв Константин Васильевич</td>\n",
       "      <td>МАГАДАН,  Пролетарская, д.71корп. 1, кв.88</td>\n",
       "      <td>622.0</td>\n",
       "      <td>481.33</td>\n",
       "      <td>481.33</td>\n",
       "      <td>0.0</td>\n",
       "    </tr>\n",
       "    <tr>\n",
       "      <th>...</th>\n",
       "      <td>...</td>\n",
       "      <td>...</td>\n",
       "      <td>...</td>\n",
       "      <td>...</td>\n",
       "      <td>...</td>\n",
       "      <td>...</td>\n",
       "      <td>...</td>\n",
       "      <td>...</td>\n",
       "      <td>...</td>\n",
       "      <td>...</td>\n",
       "      <td>...</td>\n",
       "      <td>...</td>\n",
       "    </tr>\n",
       "    <tr>\n",
       "      <th>88</th>\n",
       "      <td>04-07-2022</td>\n",
       "      <td>22-59-27</td>\n",
       "      <td>4.00</td>\n",
       "      <td>4.099613e+09</td>\n",
       "      <td>28xq8xkj24m887pabqw4ib1wx</td>\n",
       "      <td>312566</td>\n",
       "      <td>Гиззатуллин Альберт Ишхужович</td>\n",
       "      <td>МАГАДАН,  Транспортная, д.14, кв.30</td>\n",
       "      <td>622.0</td>\n",
       "      <td>1765.69</td>\n",
       "      <td>1765.69</td>\n",
       "      <td>0.0</td>\n",
       "    </tr>\n",
       "    <tr>\n",
       "      <th>89</th>\n",
       "      <td>04-07-2022</td>\n",
       "      <td>23-02-56</td>\n",
       "      <td>4.00</td>\n",
       "      <td>4.099614e+09</td>\n",
       "      <td>cpy4c9p69ib8ka4na5zqox5nt</td>\n",
       "      <td>133087</td>\n",
       "      <td>Дулбаева Ираида Аркадьевна</td>\n",
       "      <td>МАГАДАН,  Болдырева, д.2а, кв.33</td>\n",
       "      <td>622.0</td>\n",
       "      <td>827.20</td>\n",
       "      <td>827.20</td>\n",
       "      <td>0.0</td>\n",
       "    </tr>\n",
       "    <tr>\n",
       "      <th>90</th>\n",
       "      <td>04-07-2022</td>\n",
       "      <td>23-34-25</td>\n",
       "      <td>4.00</td>\n",
       "      <td>4.099623e+09</td>\n",
       "      <td>mcyl7bxp9bocmdovcx8mbw6zm</td>\n",
       "      <td>122790</td>\n",
       "      <td>Могилевич Сергей Станиславович</td>\n",
       "      <td>МАГАДАН,  Пролетарская, д.46корп. 2, кв.22</td>\n",
       "      <td>622.0</td>\n",
       "      <td>655.52</td>\n",
       "      <td>655.52</td>\n",
       "      <td>0.0</td>\n",
       "    </tr>\n",
       "    <tr>\n",
       "      <th>91</th>\n",
       "      <td>04-07-2022</td>\n",
       "      <td>23-47-55</td>\n",
       "      <td>4.00</td>\n",
       "      <td>4.099626e+09</td>\n",
       "      <td>1c4nxgqejmjg6ae63kpgtl8ab</td>\n",
       "      <td>431701</td>\n",
       "      <td>Черешнева Марина Георгиевна</td>\n",
       "      <td>МАГАДАН,  Пролетарская, д.65корп. 1, кв.84</td>\n",
       "      <td>622.0</td>\n",
       "      <td>435.85</td>\n",
       "      <td>435.85</td>\n",
       "      <td>0.0</td>\n",
       "    </tr>\n",
       "    <tr>\n",
       "      <th>92</th>\n",
       "      <td>=92</td>\n",
       "      <td>132932.67</td>\n",
       "      <td>132932.67</td>\n",
       "      <td>0.000000e+00</td>\n",
       "      <td>129</td>\n",
       "      <td>05-07-2022</td>\n",
       "      <td>NaN</td>\n",
       "      <td>NaN</td>\n",
       "      <td>NaN</td>\n",
       "      <td>NaN</td>\n",
       "      <td>NaN</td>\n",
       "      <td>NaN</td>\n",
       "    </tr>\n",
       "  </tbody>\n",
       "</table>\n",
       "<p>93 rows × 12 columns</p>\n",
       "</div>"
      ],
      "text/plain": [
       "            0          1          2             3                          4   \\\n",
       "0   04-07-2022   00-04-47       4.00  4.098804e+09  sdgvklgivl7yonebrj7kplg3w   \n",
       "1   04-07-2022   01-11-19       4.00  4.098812e+09  nlhgapfkpvc57c24jcqlato93   \n",
       "2   04-07-2022   01-17-10       4.00  4.098813e+09  h4nckq8afwa7kpjnhclaf4vh4   \n",
       "3   04-07-2022   01-17-33       4.00  4.098813e+09  de82zqdtciyg1wa3p3ovf9afk   \n",
       "4   04-07-2022   01-21-22       4.00  4.098813e+09  o56x5ccgxpqcljvt153ee2iqu   \n",
       "..         ...        ...        ...           ...                        ...   \n",
       "88  04-07-2022   22-59-27       4.00  4.099613e+09  28xq8xkj24m887pabqw4ib1wx   \n",
       "89  04-07-2022   23-02-56       4.00  4.099614e+09  cpy4c9p69ib8ka4na5zqox5nt   \n",
       "90  04-07-2022   23-34-25       4.00  4.099623e+09  mcyl7bxp9bocmdovcx8mbw6zm   \n",
       "91  04-07-2022   23-47-55       4.00  4.099626e+09  1c4nxgqejmjg6ae63kpgtl8ab   \n",
       "92         =92  132932.67  132932.67  0.000000e+00                        129   \n",
       "\n",
       "            5                                6   \\\n",
       "0       240401      Крамаренко Ольга Викторовна   \n",
       "1       254880        Шишкин Евгений Васильевич   \n",
       "2       345233  Оноприенко Ксения Александровна   \n",
       "3       344931  Оноприенко Ксения Александровна   \n",
       "4       443028   Горбачёв Константин Васильевич   \n",
       "..         ...                              ...   \n",
       "88      312566    Гиззатуллин Альберт Ишхужович   \n",
       "89      133087       Дулбаева Ираида Аркадьевна   \n",
       "90      122790   Могилевич Сергей Станиславович   \n",
       "91      431701      Черешнева Марина Георгиевна   \n",
       "92  05-07-2022                              NaN   \n",
       "\n",
       "                                             7      8        9        10   11  \n",
       "0               МАГАДАН,  Билибина, д.18, кв.17  622.0   415.86   415.86  0.0  \n",
       "1      МАГАДАН,  Марчеканский пер., д.37, кв.52  622.0   780.74   780.74  0.0  \n",
       "2   МАГАДАН,  Шандора Шимича, д.3корп. 1, кв.30  622.0  7000.00  7000.00  0.0  \n",
       "3               МАГАДАН,  Берзина, д.17б, кв.31  622.0  3000.00  3000.00  0.0  \n",
       "4    МАГАДАН,  Пролетарская, д.71корп. 1, кв.88  622.0   481.33   481.33  0.0  \n",
       "..                                          ...    ...      ...      ...  ...  \n",
       "88          МАГАДАН,  Транспортная, д.14, кв.30  622.0  1765.69  1765.69  0.0  \n",
       "89             МАГАДАН,  Болдырева, д.2а, кв.33  622.0   827.20   827.20  0.0  \n",
       "90   МАГАДАН,  Пролетарская, д.46корп. 2, кв.22  622.0   655.52   655.52  0.0  \n",
       "91   МАГАДАН,  Пролетарская, д.65корп. 1, кв.84  622.0   435.85   435.85  0.0  \n",
       "92                                          NaN    NaN      NaN      NaN  NaN  \n",
       "\n",
       "[93 rows x 12 columns]"
      ]
     },
     "execution_count": 64,
     "metadata": {},
     "output_type": "execute_result"
    }
   ],
   "source": [
    "vtb_data"
   ]
  },
  {
   "cell_type": "code",
   "execution_count": 17,
   "metadata": {},
   "outputs": [],
   "source": [
    "def check_sum_count():\n",
    "    if float(vtb_itog['Сумма операции'].astype('float')) == sum_oper and float(vtb_itog['Сумма перевода'].astype('float')) == sum_pere and \\\n",
    "        float(vtb_itog['Сумма комиссии'].astype('float')) == sum_komi and int(vtb_itog['Количество'].astype('float')) == len(vtb_data):\n",
    "        print('Все в порядке')\n",
    "        return 0\n",
    "    else:\n",
    "        print('Ошибка в суммах или в количестве')\n",
    "        return -1"
   ]
  },
  {
   "cell_type": "code",
   "execution_count": 18,
   "metadata": {},
   "outputs": [
    {
     "name": "stdout",
     "output_type": "stream",
     "text": [
      "Все в порядке\n"
     ]
    }
   ],
   "source": [
    "if check_sum_count() == -1:\n",
    "    print('Error!!!')\n"
   ]
  },
  {
   "cell_type": "code",
   "execution_count": 19,
   "metadata": {},
   "outputs": [
    {
     "data": {
      "text/plain": [
       "'05-07-2022'"
      ]
     },
     "execution_count": 19,
     "metadata": {},
     "output_type": "execute_result"
    }
   ],
   "source": [
    "str(vtb_itog['Дата'].values[0])"
   ]
  },
  {
   "cell_type": "code",
   "execution_count": 22,
   "metadata": {},
   "outputs": [],
   "source": [
    "from xlsxwriter.utility import xl_range"
   ]
  },
  {
   "cell_type": "code",
   "execution_count": 31,
   "metadata": {},
   "outputs": [
    {
     "name": "stdout",
     "output_type": "stream",
     "text": [
      "[{'header': 'Дата платежа', 'format': <xlsxwriter.format.Format object at 0x00000215A88DDAE0>}, {'header': 'ЛС', 'format': <xlsxwriter.format.Format object at 0x00000215A88DDAE0>}, {'header': 'ФИО', 'format': <xlsxwriter.format.Format object at 0x00000215A88DDAE0>}, {'header': 'Адрес', 'format': <xlsxwriter.format.Format object at 0x00000215A88DDAE0>}, {'header': 'Период оплаты', 'format': <xlsxwriter.format.Format object at 0x00000215A88DDAE0>}, {'header': 'Сумма операции', 'format': <xlsxwriter.format.Format object at 0x00000215A88DDAE0>}, {'header': 'Сумма перевода', 'format': <xlsxwriter.format.Format object at 0x00000215A88DDAE0>}, {'header': 'Сумма комиссии', 'format': <xlsxwriter.format.Format object at 0x00000215A88DDAE0>}]\n"
     ]
    }
   ],
   "source": []
  },
  {
   "cell_type": "code",
   "execution_count": 37,
   "metadata": {},
   "outputs": [],
   "source": [
    "sh_name = str(vtb_itog['Дата'].values[0])\n",
    "writer = pd.ExcelWriter('vtb/040722_VTB_74177.xlsx', engine='xlsxwriter', datetime_format='dd.mm.yyyy')\n",
    "vtb_data.to_excel(writer, sheet_name=sh_name, index=False)\n",
    "\n",
    "workbook = writer.book\n",
    "worksheet = writer.sheets[sh_name]\n",
    "money_format = workbook.add_format({'num_format': '# ##0.00'})\n",
    "date_format = workbook.add_format({'num_format': 'dd.mm.yyyy'})\n",
    "highrow_format = workbook.add_format({'fg_color': '#E2EFDA'})\n",
    "sum_format = workbook.add_format({'bold': True})\n",
    "\n",
    "\n",
    "#for col_num, value in enumerate(vtb_data.columns.values):\n",
    "#    worksheet.write(0, col_num, value, header_format)\n",
    "(max_row, max_col) = vtb_data.shape\n",
    "\n",
    "#for i_row in range(0, max_row):\n",
    "#    if i_row % 2 == 0:\n",
    "#        worksheet.set_row(row=i_row+1, cell_format=highrow_format)\n",
    "#header_format = workbook.add_format({'text_wrap': 1})\n",
    "\n",
    "header_columns = []\n",
    "for col_name in vtb_data.columns:\n",
    "    head_dict = dict(header=col_name)\n",
    "    header_columns.append(head_dict)\n",
    "#print(header_columns)\n",
    "\n",
    "worksheet.set_column(0, 0, 12, date_format)\n",
    "worksheet.set_column(5, 7, 15, money_format)\n",
    "worksheet.set_column(2, 3, 50)\n",
    "\n",
    "worksheet.write(max_row+1, 5, '=SUM(F2:F{})'.format(max_row+1), sum_format)\n",
    "worksheet.write(max_row+1, 6, '=SUM(G2:G{})'.format(max_row+1), sum_format)\n",
    "worksheet.write(max_row+1, 7, '=SUM(H2:H{})'.format(max_row+1), sum_format)\n",
    "#cell_range = xl_range(0, 0, max_row, max_col)  # A1:E4\n",
    "worksheet.add_table(0, 0, max_row, max_col-1, {'columns': header_columns})\n",
    "\n",
    "writer.save()\n",
    "writer.close()"
   ]
  },
  {
   "cell_type": "code",
   "execution_count": 169,
   "metadata": {},
   "outputs": [
    {
     "name": "stdout",
     "output_type": "stream",
     "text": [
      "=СУММА(F1:F92)\n"
     ]
    }
   ],
   "source": [
    "print('=СУММА(F1:F{})'.format(max_row))"
   ]
  },
  {
   "cell_type": "code",
   "execution_count": 146,
   "metadata": {},
   "outputs": [
    {
     "data": {
      "text/plain": [
       "0"
      ]
     },
     "execution_count": 146,
     "metadata": {},
     "output_type": "execute_result"
    }
   ],
   "source": [
    "\n",
    "#worksheet.set_column('F:H', len(vtb_data)+1, money_format)"
   ]
  },
  {
   "cell_type": "code",
   "execution_count": 182,
   "metadata": {},
   "outputs": [],
   "source": []
  },
  {
   "cell_type": "code",
   "execution_count": 183,
   "metadata": {},
   "outputs": [
    {
     "name": "stderr",
     "output_type": "stream",
     "text": [
      "c:\\Users\\Lubchanskiy\\AppData\\Local\\Programs\\Python\\Python310\\lib\\site-packages\\xlsxwriter\\workbook.py:339: UserWarning: Calling close() on already closed file.\n",
      "  warn(\"Calling close() on already closed file.\")\n"
     ]
    }
   ],
   "source": []
  }
 ],
 "metadata": {
  "kernelspec": {
   "display_name": "Python 3.10.5 64-bit",
   "language": "python",
   "name": "python3"
  },
  "language_info": {
   "codemirror_mode": {
    "name": "ipython",
    "version": 3
   },
   "file_extension": ".py",
   "mimetype": "text/x-python",
   "name": "python",
   "nbconvert_exporter": "python",
   "pygments_lexer": "ipython3",
   "version": "3.10.5"
  },
  "orig_nbformat": 4,
  "vscode": {
   "interpreter": {
    "hash": "52bb6d70ef49c02ab2aa43ab31bba4edd1c59a51e59b9fce56cbe4e55ae05671"
   }
  }
 },
 "nbformat": 4,
 "nbformat_minor": 2
}
