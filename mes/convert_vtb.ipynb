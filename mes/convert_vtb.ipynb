{
 "cells": [
  {
   "cell_type": "code",
   "execution_count": 1,
   "metadata": {},
   "outputs": [],
   "source": [
    "import pandas as pd"
   ]
  },
  {
   "cell_type": "code",
   "execution_count": 3,
   "metadata": {},
   "outputs": [],
   "source": [
    "vtb_data = pd.read_table('vtb/040722_VTB_74177.txt', sep=';', header=None)"
   ]
  },
  {
   "cell_type": "code",
   "execution_count": 5,
   "metadata": {},
   "outputs": [],
   "source": [
    "vtb_data = vtb_data.drop([1, 2, 3, 4], axis=1)"
   ]
  },
  {
   "cell_type": "code",
   "execution_count": 7,
   "metadata": {},
   "outputs": [],
   "source": [
    "vtb_data.columns = ['Дата платежа', 'ЛС', 'ФИО', 'Адрес', 'Период оплаты', 'Сумма операции', 'Сумма перевода', 'Сумма комиссии']"
   ]
  },
  {
   "cell_type": "code",
   "execution_count": 12,
   "metadata": {},
   "outputs": [
    {
     "data": {
      "text/html": [
       "<div>\n",
       "<style scoped>\n",
       "    .dataframe tbody tr th:only-of-type {\n",
       "        vertical-align: middle;\n",
       "    }\n",
       "\n",
       "    .dataframe tbody tr th {\n",
       "        vertical-align: top;\n",
       "    }\n",
       "\n",
       "    .dataframe thead th {\n",
       "        text-align: right;\n",
       "    }\n",
       "</style>\n",
       "<table border=\"1\" class=\"dataframe\">\n",
       "  <thead>\n",
       "    <tr style=\"text-align: right;\">\n",
       "      <th></th>\n",
       "      <th>Дата платежа</th>\n",
       "      <th>ЛС</th>\n",
       "      <th>ФИО</th>\n",
       "      <th>Адрес</th>\n",
       "      <th>Период оплаты</th>\n",
       "      <th>Сумма операции</th>\n",
       "      <th>Сумма перевода</th>\n",
       "      <th>Сумма комиссии</th>\n",
       "    </tr>\n",
       "  </thead>\n",
       "  <tbody>\n",
       "    <tr>\n",
       "      <th>0</th>\n",
       "      <td>04-07-2022</td>\n",
       "      <td>240401</td>\n",
       "      <td>Крамаренко Ольга Викторовна</td>\n",
       "      <td>МАГАДАН,  Билибина, д.18, кв.17</td>\n",
       "      <td>622.0</td>\n",
       "      <td>415.86</td>\n",
       "      <td>415.86</td>\n",
       "      <td>0.0</td>\n",
       "    </tr>\n",
       "    <tr>\n",
       "      <th>1</th>\n",
       "      <td>04-07-2022</td>\n",
       "      <td>254880</td>\n",
       "      <td>Шишкин Евгений Васильевич</td>\n",
       "      <td>МАГАДАН,  Марчеканский пер., д.37, кв.52</td>\n",
       "      <td>622.0</td>\n",
       "      <td>780.74</td>\n",
       "      <td>780.74</td>\n",
       "      <td>0.0</td>\n",
       "    </tr>\n",
       "    <tr>\n",
       "      <th>2</th>\n",
       "      <td>04-07-2022</td>\n",
       "      <td>345233</td>\n",
       "      <td>Оноприенко Ксения Александровна</td>\n",
       "      <td>МАГАДАН,  Шандора Шимича, д.3корп. 1, кв.30</td>\n",
       "      <td>622.0</td>\n",
       "      <td>7000.00</td>\n",
       "      <td>7000.00</td>\n",
       "      <td>0.0</td>\n",
       "    </tr>\n",
       "    <tr>\n",
       "      <th>3</th>\n",
       "      <td>04-07-2022</td>\n",
       "      <td>344931</td>\n",
       "      <td>Оноприенко Ксения Александровна</td>\n",
       "      <td>МАГАДАН,  Берзина, д.17б, кв.31</td>\n",
       "      <td>622.0</td>\n",
       "      <td>3000.00</td>\n",
       "      <td>3000.00</td>\n",
       "      <td>0.0</td>\n",
       "    </tr>\n",
       "    <tr>\n",
       "      <th>4</th>\n",
       "      <td>04-07-2022</td>\n",
       "      <td>443028</td>\n",
       "      <td>Горбачёв Константин Васильевич</td>\n",
       "      <td>МАГАДАН,  Пролетарская, д.71корп. 1, кв.88</td>\n",
       "      <td>622.0</td>\n",
       "      <td>481.33</td>\n",
       "      <td>481.33</td>\n",
       "      <td>0.0</td>\n",
       "    </tr>\n",
       "    <tr>\n",
       "      <th>...</th>\n",
       "      <td>...</td>\n",
       "      <td>...</td>\n",
       "      <td>...</td>\n",
       "      <td>...</td>\n",
       "      <td>...</td>\n",
       "      <td>...</td>\n",
       "      <td>...</td>\n",
       "      <td>...</td>\n",
       "    </tr>\n",
       "    <tr>\n",
       "      <th>88</th>\n",
       "      <td>04-07-2022</td>\n",
       "      <td>312566</td>\n",
       "      <td>Гиззатуллин Альберт Ишхужович</td>\n",
       "      <td>МАГАДАН,  Транспортная, д.14, кв.30</td>\n",
       "      <td>622.0</td>\n",
       "      <td>1765.69</td>\n",
       "      <td>1765.69</td>\n",
       "      <td>0.0</td>\n",
       "    </tr>\n",
       "    <tr>\n",
       "      <th>89</th>\n",
       "      <td>04-07-2022</td>\n",
       "      <td>133087</td>\n",
       "      <td>Дулбаева Ираида Аркадьевна</td>\n",
       "      <td>МАГАДАН,  Болдырева, д.2а, кв.33</td>\n",
       "      <td>622.0</td>\n",
       "      <td>827.20</td>\n",
       "      <td>827.20</td>\n",
       "      <td>0.0</td>\n",
       "    </tr>\n",
       "    <tr>\n",
       "      <th>90</th>\n",
       "      <td>04-07-2022</td>\n",
       "      <td>122790</td>\n",
       "      <td>Могилевич Сергей Станиславович</td>\n",
       "      <td>МАГАДАН,  Пролетарская, д.46корп. 2, кв.22</td>\n",
       "      <td>622.0</td>\n",
       "      <td>655.52</td>\n",
       "      <td>655.52</td>\n",
       "      <td>0.0</td>\n",
       "    </tr>\n",
       "    <tr>\n",
       "      <th>91</th>\n",
       "      <td>04-07-2022</td>\n",
       "      <td>431701</td>\n",
       "      <td>Черешнева Марина Георгиевна</td>\n",
       "      <td>МАГАДАН,  Пролетарская, д.65корп. 1, кв.84</td>\n",
       "      <td>622.0</td>\n",
       "      <td>435.85</td>\n",
       "      <td>435.85</td>\n",
       "      <td>0.0</td>\n",
       "    </tr>\n",
       "    <tr>\n",
       "      <th>92</th>\n",
       "      <td>=92</td>\n",
       "      <td>05-07-2022</td>\n",
       "      <td>NaN</td>\n",
       "      <td>NaN</td>\n",
       "      <td>nan</td>\n",
       "      <td>NaN</td>\n",
       "      <td>NaN</td>\n",
       "      <td>NaN</td>\n",
       "    </tr>\n",
       "  </tbody>\n",
       "</table>\n",
       "<p>93 rows × 8 columns</p>\n",
       "</div>"
      ],
      "text/plain": [
       "   Дата платежа          ЛС                              ФИО  \\\n",
       "0    04-07-2022      240401      Крамаренко Ольга Викторовна   \n",
       "1    04-07-2022      254880        Шишкин Евгений Васильевич   \n",
       "2    04-07-2022      345233  Оноприенко Ксения Александровна   \n",
       "3    04-07-2022      344931  Оноприенко Ксения Александровна   \n",
       "4    04-07-2022      443028   Горбачёв Константин Васильевич   \n",
       "..          ...         ...                              ...   \n",
       "88   04-07-2022      312566    Гиззатуллин Альберт Ишхужович   \n",
       "89   04-07-2022      133087       Дулбаева Ираида Аркадьевна   \n",
       "90   04-07-2022      122790   Могилевич Сергей Станиславович   \n",
       "91   04-07-2022      431701      Черешнева Марина Георгиевна   \n",
       "92          =92  05-07-2022                              NaN   \n",
       "\n",
       "                                          Адрес Период оплаты  Сумма операции  \\\n",
       "0               МАГАДАН,  Билибина, д.18, кв.17         622.0          415.86   \n",
       "1      МАГАДАН,  Марчеканский пер., д.37, кв.52         622.0          780.74   \n",
       "2   МАГАДАН,  Шандора Шимича, д.3корп. 1, кв.30         622.0         7000.00   \n",
       "3               МАГАДАН,  Берзина, д.17б, кв.31         622.0         3000.00   \n",
       "4    МАГАДАН,  Пролетарская, д.71корп. 1, кв.88         622.0          481.33   \n",
       "..                                          ...           ...             ...   \n",
       "88          МАГАДАН,  Транспортная, д.14, кв.30         622.0         1765.69   \n",
       "89             МАГАДАН,  Болдырева, д.2а, кв.33         622.0          827.20   \n",
       "90   МАГАДАН,  Пролетарская, д.46корп. 2, кв.22         622.0          655.52   \n",
       "91   МАГАДАН,  Пролетарская, д.65корп. 1, кв.84         622.0          435.85   \n",
       "92                                          NaN           nan             NaN   \n",
       "\n",
       "    Сумма перевода  Сумма комиссии  \n",
       "0           415.86             0.0  \n",
       "1           780.74             0.0  \n",
       "2          7000.00             0.0  \n",
       "3          3000.00             0.0  \n",
       "4           481.33             0.0  \n",
       "..             ...             ...  \n",
       "88         1765.69             0.0  \n",
       "89          827.20             0.0  \n",
       "90          655.52             0.0  \n",
       "91          435.85             0.0  \n",
       "92             NaN             NaN  \n",
       "\n",
       "[93 rows x 8 columns]"
      ]
     },
     "execution_count": 12,
     "metadata": {},
     "output_type": "execute_result"
    }
   ],
   "source": [
    "vtb_data"
   ]
  },
  {
   "cell_type": "code",
   "execution_count": 10,
   "metadata": {},
   "outputs": [],
   "source": [
    "vtb_data['Период оплаты'] = vtb_data['Период оплаты'].astype('str')"
   ]
  },
  {
   "cell_type": "code",
   "execution_count": 13,
   "metadata": {},
   "outputs": [],
   "source": [
    "def period_pay(values):\n",
    "    if len(values)>5:\n",
    "        return values[:4]\n",
    "    else:\n",
    "        return '0'+values[:3]"
   ]
  },
  {
   "cell_type": "code",
   "execution_count": 14,
   "metadata": {},
   "outputs": [
    {
     "name": "stderr",
     "output_type": "stream",
     "text": [
      "C:\\Users\\Lubchanskiy\\AppData\\Local\\Temp\\ipykernel_38432\\532376047.py:1: FutureWarning: The series.append method is deprecated and will be removed from pandas in a future version. Use pandas.concat instead.\n",
      "  vtb_data['Период оплаты'] = vtb_data['Период оплаты'].append(period_pay)\n"
     ]
    },
    {
     "ename": "TypeError",
     "evalue": "cannot concatenate object of type '<class 'function'>'; only Series and DataFrame objs are valid",
     "output_type": "error",
     "traceback": [
      "\u001b[1;31m---------------------------------------------------------------------------\u001b[0m",
      "\u001b[1;31mTypeError\u001b[0m                                 Traceback (most recent call last)",
      "\u001b[1;32mc:\\Learn_python\\my-apps\\my-apps\\mes\\convert_vtb.ipynb Cell 8'\u001b[0m in \u001b[0;36m<cell line: 1>\u001b[1;34m()\u001b[0m\n\u001b[1;32m----> <a href='vscode-notebook-cell:/c%3A/Learn_python/my-apps/my-apps/mes/convert_vtb.ipynb#ch0000006?line=0'>1</a>\u001b[0m vtb_data[\u001b[39m'\u001b[39m\u001b[39mПериод оплаты\u001b[39m\u001b[39m'\u001b[39m] \u001b[39m=\u001b[39m vtb_data[\u001b[39m'\u001b[39;49m\u001b[39mПериод оплаты\u001b[39;49m\u001b[39m'\u001b[39;49m]\u001b[39m.\u001b[39;49mappend(period_pay)\n",
      "File \u001b[1;32mc:\\Users\\Lubchanskiy\\AppData\\Local\\Programs\\Python\\Python310\\lib\\site-packages\\pandas\\core\\series.py:2934\u001b[0m, in \u001b[0;36mSeries.append\u001b[1;34m(self, to_append, ignore_index, verify_integrity)\u001b[0m\n\u001b[0;32m   2853\u001b[0m \u001b[39m\"\"\"\u001b[39;00m\n\u001b[0;32m   2854\u001b[0m \u001b[39mConcatenate two or more Series.\u001b[39;00m\n\u001b[0;32m   2855\u001b[0m \n\u001b[1;32m   (...)\u001b[0m\n\u001b[0;32m   2924\u001b[0m \u001b[39mValueError: Indexes have overlapping values: [0, 1, 2]\u001b[39;00m\n\u001b[0;32m   2925\u001b[0m \u001b[39m\"\"\"\u001b[39;00m\n\u001b[0;32m   2926\u001b[0m warnings\u001b[39m.\u001b[39mwarn(\n\u001b[0;32m   2927\u001b[0m     \u001b[39m\"\u001b[39m\u001b[39mThe series.append method is deprecated \u001b[39m\u001b[39m\"\u001b[39m\n\u001b[0;32m   2928\u001b[0m     \u001b[39m\"\u001b[39m\u001b[39mand will be removed from pandas in a future version. \u001b[39m\u001b[39m\"\u001b[39m\n\u001b[1;32m   (...)\u001b[0m\n\u001b[0;32m   2931\u001b[0m     stacklevel\u001b[39m=\u001b[39mfind_stack_level(),\n\u001b[0;32m   2932\u001b[0m )\n\u001b[1;32m-> 2934\u001b[0m \u001b[39mreturn\u001b[39;00m \u001b[39mself\u001b[39;49m\u001b[39m.\u001b[39;49m_append(to_append, ignore_index, verify_integrity)\n",
      "File \u001b[1;32mc:\\Users\\Lubchanskiy\\AppData\\Local\\Programs\\Python\\Python310\\lib\\site-packages\\pandas\\core\\series.py:2949\u001b[0m, in \u001b[0;36mSeries._append\u001b[1;34m(self, to_append, ignore_index, verify_integrity)\u001b[0m\n\u001b[0;32m   2947\u001b[0m     msg \u001b[39m=\u001b[39m \u001b[39m\"\u001b[39m\u001b[39mto_append should be a Series or list/tuple of Series, got DataFrame\u001b[39m\u001b[39m\"\u001b[39m\n\u001b[0;32m   2948\u001b[0m     \u001b[39mraise\u001b[39;00m \u001b[39mTypeError\u001b[39;00m(msg)\n\u001b[1;32m-> 2949\u001b[0m \u001b[39mreturn\u001b[39;00m concat(\n\u001b[0;32m   2950\u001b[0m     to_concat, ignore_index\u001b[39m=\u001b[39;49mignore_index, verify_integrity\u001b[39m=\u001b[39;49mverify_integrity\n\u001b[0;32m   2951\u001b[0m )\n",
      "File \u001b[1;32mc:\\Users\\Lubchanskiy\\AppData\\Local\\Programs\\Python\\Python310\\lib\\site-packages\\pandas\\util\\_decorators.py:311\u001b[0m, in \u001b[0;36mdeprecate_nonkeyword_arguments.<locals>.decorate.<locals>.wrapper\u001b[1;34m(*args, **kwargs)\u001b[0m\n\u001b[0;32m    305\u001b[0m \u001b[39mif\u001b[39;00m \u001b[39mlen\u001b[39m(args) \u001b[39m>\u001b[39m num_allow_args:\n\u001b[0;32m    306\u001b[0m     warnings\u001b[39m.\u001b[39mwarn(\n\u001b[0;32m    307\u001b[0m         msg\u001b[39m.\u001b[39mformat(arguments\u001b[39m=\u001b[39marguments),\n\u001b[0;32m    308\u001b[0m         \u001b[39mFutureWarning\u001b[39;00m,\n\u001b[0;32m    309\u001b[0m         stacklevel\u001b[39m=\u001b[39mstacklevel,\n\u001b[0;32m    310\u001b[0m     )\n\u001b[1;32m--> 311\u001b[0m \u001b[39mreturn\u001b[39;00m func(\u001b[39m*\u001b[39margs, \u001b[39m*\u001b[39m\u001b[39m*\u001b[39mkwargs)\n",
      "File \u001b[1;32mc:\\Users\\Lubchanskiy\\AppData\\Local\\Programs\\Python\\Python310\\lib\\site-packages\\pandas\\core\\reshape\\concat.py:347\u001b[0m, in \u001b[0;36mconcat\u001b[1;34m(objs, axis, join, ignore_index, keys, levels, names, verify_integrity, sort, copy)\u001b[0m\n\u001b[0;32m    143\u001b[0m \u001b[39m@deprecate_nonkeyword_arguments\u001b[39m(version\u001b[39m=\u001b[39m\u001b[39mNone\u001b[39;00m, allowed_args\u001b[39m=\u001b[39m[\u001b[39m\"\u001b[39m\u001b[39mobjs\u001b[39m\u001b[39m\"\u001b[39m])\n\u001b[0;32m    144\u001b[0m \u001b[39mdef\u001b[39;00m \u001b[39mconcat\u001b[39m(\n\u001b[0;32m    145\u001b[0m     objs: Iterable[NDFrame] \u001b[39m|\u001b[39m Mapping[Hashable, NDFrame],\n\u001b[1;32m   (...)\u001b[0m\n\u001b[0;32m    154\u001b[0m     copy: \u001b[39mbool\u001b[39m \u001b[39m=\u001b[39m \u001b[39mTrue\u001b[39;00m,\n\u001b[0;32m    155\u001b[0m ) \u001b[39m-\u001b[39m\u001b[39m>\u001b[39m DataFrame \u001b[39m|\u001b[39m Series:\n\u001b[0;32m    156\u001b[0m     \u001b[39m\"\"\"\u001b[39;00m\n\u001b[0;32m    157\u001b[0m \u001b[39m    Concatenate pandas objects along a particular axis with optional set logic\u001b[39;00m\n\u001b[0;32m    158\u001b[0m \u001b[39m    along the other axes.\u001b[39;00m\n\u001b[1;32m   (...)\u001b[0m\n\u001b[0;32m    345\u001b[0m \u001b[39m    ValueError: Indexes have overlapping values: ['a']\u001b[39;00m\n\u001b[0;32m    346\u001b[0m \u001b[39m    \"\"\"\u001b[39;00m\n\u001b[1;32m--> 347\u001b[0m     op \u001b[39m=\u001b[39m _Concatenator(\n\u001b[0;32m    348\u001b[0m         objs,\n\u001b[0;32m    349\u001b[0m         axis\u001b[39m=\u001b[39;49maxis,\n\u001b[0;32m    350\u001b[0m         ignore_index\u001b[39m=\u001b[39;49mignore_index,\n\u001b[0;32m    351\u001b[0m         join\u001b[39m=\u001b[39;49mjoin,\n\u001b[0;32m    352\u001b[0m         keys\u001b[39m=\u001b[39;49mkeys,\n\u001b[0;32m    353\u001b[0m         levels\u001b[39m=\u001b[39;49mlevels,\n\u001b[0;32m    354\u001b[0m         names\u001b[39m=\u001b[39;49mnames,\n\u001b[0;32m    355\u001b[0m         verify_integrity\u001b[39m=\u001b[39;49mverify_integrity,\n\u001b[0;32m    356\u001b[0m         copy\u001b[39m=\u001b[39;49mcopy,\n\u001b[0;32m    357\u001b[0m         sort\u001b[39m=\u001b[39;49msort,\n\u001b[0;32m    358\u001b[0m     )\n\u001b[0;32m    360\u001b[0m     \u001b[39mreturn\u001b[39;00m op\u001b[39m.\u001b[39mget_result()\n",
      "File \u001b[1;32mc:\\Users\\Lubchanskiy\\AppData\\Local\\Programs\\Python\\Python310\\lib\\site-packages\\pandas\\core\\reshape\\concat.py:437\u001b[0m, in \u001b[0;36m_Concatenator.__init__\u001b[1;34m(self, objs, axis, join, keys, levels, names, ignore_index, verify_integrity, copy, sort)\u001b[0m\n\u001b[0;32m    432\u001b[0m     \u001b[39mif\u001b[39;00m \u001b[39mnot\u001b[39;00m \u001b[39misinstance\u001b[39m(obj, (ABCSeries, ABCDataFrame)):\n\u001b[0;32m    433\u001b[0m         msg \u001b[39m=\u001b[39m (\n\u001b[0;32m    434\u001b[0m             \u001b[39mf\u001b[39m\u001b[39m\"\u001b[39m\u001b[39mcannot concatenate object of type \u001b[39m\u001b[39m'\u001b[39m\u001b[39m{\u001b[39;00m\u001b[39mtype\u001b[39m(obj)\u001b[39m}\u001b[39;00m\u001b[39m'\u001b[39m\u001b[39m; \u001b[39m\u001b[39m\"\u001b[39m\n\u001b[0;32m    435\u001b[0m             \u001b[39m\"\u001b[39m\u001b[39monly Series and DataFrame objs are valid\u001b[39m\u001b[39m\"\u001b[39m\n\u001b[0;32m    436\u001b[0m         )\n\u001b[1;32m--> 437\u001b[0m         \u001b[39mraise\u001b[39;00m \u001b[39mTypeError\u001b[39;00m(msg)\n\u001b[0;32m    439\u001b[0m     ndims\u001b[39m.\u001b[39madd(obj\u001b[39m.\u001b[39mndim)\n\u001b[0;32m    441\u001b[0m \u001b[39m# get the sample\u001b[39;00m\n\u001b[0;32m    442\u001b[0m \u001b[39m# want the highest ndim that we have, and must be non-empty\u001b[39;00m\n\u001b[0;32m    443\u001b[0m \u001b[39m# unless all objs are empty\u001b[39;00m\n",
      "\u001b[1;31mTypeError\u001b[0m: cannot concatenate object of type '<class 'function'>'; only Series and DataFrame objs are valid"
     ]
    }
   ],
   "source": [
    "vtb_data['Период оплаты'] = vtb_data['Период оплаты'].append(period_pay)"
   ]
  }
 ],
 "metadata": {
  "kernelspec": {
   "display_name": "Python 3.10.5 64-bit",
   "language": "python",
   "name": "python3"
  },
  "language_info": {
   "codemirror_mode": {
    "name": "ipython",
    "version": 3
   },
   "file_extension": ".py",
   "mimetype": "text/x-python",
   "name": "python",
   "nbconvert_exporter": "python",
   "pygments_lexer": "ipython3",
   "version": "3.10.5"
  },
  "orig_nbformat": 4,
  "vscode": {
   "interpreter": {
    "hash": "52bb6d70ef49c02ab2aa43ab31bba4edd1c59a51e59b9fce56cbe4e55ae05671"
   }
  }
 },
 "nbformat": 4,
 "nbformat_minor": 2
}
