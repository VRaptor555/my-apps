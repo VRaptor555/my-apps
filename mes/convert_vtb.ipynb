{
 "cells": [
  {
   "cell_type": "code",
   "execution_count": 2,
   "metadata": {},
   "outputs": [],
   "source": [
    "import pandas as pd"
   ]
  },
  {
   "cell_type": "code",
   "execution_count": 3,
   "metadata": {},
   "outputs": [],
   "source": [
    "vtb_data = pd.read_table('vtb/031022_VTB_74177.txt', sep=';', header=None)"
   ]
  },
  {
   "cell_type": "code",
   "execution_count": 4,
   "metadata": {},
   "outputs": [],
   "source": [
    "vtb_itog = vtb_data[vtb_data[0].str.contains('=')]"
   ]
  },
  {
   "cell_type": "code",
   "execution_count": 6,
   "metadata": {},
   "outputs": [],
   "source": [
    "vtb_itog = vtb_itog.drop([6,7,8,9,10,11], axis=1)"
   ]
  },
  {
   "cell_type": "code",
   "execution_count": 7,
   "metadata": {},
   "outputs": [],
   "source": [
    "vtb_itog.columns = ['Количество', 'Сумма операции', 'Сумма перевода', 'Сумма комиссии', '№п/п', 'Дата']"
   ]
  },
  {
   "cell_type": "code",
   "execution_count": 8,
   "metadata": {},
   "outputs": [],
   "source": [
    "vtb_itog['Количество'] = vtb_itog['Количество'].apply(lambda s: s[1:4])"
   ]
  },
  {
   "cell_type": "code",
   "execution_count": 9,
   "metadata": {},
   "outputs": [
    {
     "data": {
      "text/html": [
       "<div>\n",
       "<style scoped>\n",
       "    .dataframe tbody tr th:only-of-type {\n",
       "        vertical-align: middle;\n",
       "    }\n",
       "\n",
       "    .dataframe tbody tr th {\n",
       "        vertical-align: top;\n",
       "    }\n",
       "\n",
       "    .dataframe thead th {\n",
       "        text-align: right;\n",
       "    }\n",
       "</style>\n",
       "<table border=\"1\" class=\"dataframe\">\n",
       "  <thead>\n",
       "    <tr style=\"text-align: right;\">\n",
       "      <th></th>\n",
       "      <th>Количество</th>\n",
       "      <th>Сумма операции</th>\n",
       "      <th>Сумма перевода</th>\n",
       "      <th>Сумма комиссии</th>\n",
       "      <th>№п/п</th>\n",
       "      <th>Дата</th>\n",
       "    </tr>\n",
       "  </thead>\n",
       "  <tbody>\n",
       "    <tr>\n",
       "      <th>140</th>\n",
       "      <td>14</td>\n",
       "      <td>144998.86</td>\n",
       "      <td>144998.86</td>\n",
       "      <td>0.0</td>\n",
       "      <td>220</td>\n",
       "      <td>04-10-2022</td>\n",
       "    </tr>\n",
       "  </tbody>\n",
       "</table>\n",
       "</div>"
      ],
      "text/plain": [
       "    Количество Сумма операции  Сумма перевода  Сумма комиссии №п/п        Дата\n",
       "140         14      144998.86       144998.86             0.0  220  04-10-2022"
      ]
     },
     "execution_count": 9,
     "metadata": {},
     "output_type": "execute_result"
    }
   ],
   "source": [
    "vtb_itog"
   ]
  },
  {
   "cell_type": "code",
   "execution_count": 10,
   "metadata": {},
   "outputs": [],
   "source": [
    "vtb_data = vtb_data[~vtb_data[0].str.contains('=')]"
   ]
  },
  {
   "cell_type": "code",
   "execution_count": 12,
   "metadata": {},
   "outputs": [],
   "source": [
    "vtb_data = vtb_data.drop([1, 2, 3, 4], axis=1)"
   ]
  },
  {
   "cell_type": "code",
   "execution_count": 13,
   "metadata": {},
   "outputs": [],
   "source": [
    "vtb_data.columns = ['Дата платежа', 'ЛС', 'ФИО', 'Адрес', 'Период оплаты', 'Сумма операции', 'Сумма перевода', 'Сумма комиссии']"
   ]
  },
  {
   "cell_type": "code",
   "execution_count": 14,
   "metadata": {},
   "outputs": [],
   "source": [
    "vtb_data['Период оплаты'] = vtb_data['Период оплаты'].astype('str')"
   ]
  },
  {
   "cell_type": "code",
   "execution_count": 15,
   "metadata": {},
   "outputs": [],
   "source": [
    "def period_pay(values):\n",
    "    if len(values)>5:\n",
    "        return values[:4]\n",
    "    else:\n",
    "        return '0'+values[:3]"
   ]
  },
  {
   "cell_type": "code",
   "execution_count": 16,
   "metadata": {},
   "outputs": [],
   "source": [
    "vtb_data['Период оплаты'] = vtb_data['Период оплаты'].apply(period_pay)"
   ]
  },
  {
   "cell_type": "code",
   "execution_count": 17,
   "metadata": {},
   "outputs": [],
   "source": [
    "vtb_data['Дата платежа'] = pd.to_datetime(vtb_data['Дата платежа'], dayfirst=True)"
   ]
  },
  {
   "cell_type": "code",
   "execution_count": 18,
   "metadata": {},
   "outputs": [],
   "source": [
    "vtb_data = vtb_data.sort_values('ЛС')"
   ]
  },
  {
   "cell_type": "code",
   "execution_count": 19,
   "metadata": {},
   "outputs": [],
   "source": [
    "sum_oper = round(vtb_data['Сумма операции'].sum(), 2)\n",
    "sum_pere = round(vtb_data['Сумма перевода'].sum(), 2)\n",
    "sum_komi = round(vtb_data['Сумма комиссии'].sum(), 2)"
   ]
  },
  {
   "cell_type": "code",
   "execution_count": 21,
   "metadata": {},
   "outputs": [
    {
     "name": "stdout",
     "output_type": "stream",
     "text": [
      "144998.86 144998.86 0.0\n"
     ]
    }
   ],
   "source": [
    "print(sum_oper, sum_pere, sum_komi)"
   ]
  },
  {
   "cell_type": "code",
   "execution_count": 22,
   "metadata": {},
   "outputs": [
    {
     "data": {
      "text/html": [
       "<div>\n",
       "<style scoped>\n",
       "    .dataframe tbody tr th:only-of-type {\n",
       "        vertical-align: middle;\n",
       "    }\n",
       "\n",
       "    .dataframe tbody tr th {\n",
       "        vertical-align: top;\n",
       "    }\n",
       "\n",
       "    .dataframe thead th {\n",
       "        text-align: right;\n",
       "    }\n",
       "</style>\n",
       "<table border=\"1\" class=\"dataframe\">\n",
       "  <thead>\n",
       "    <tr style=\"text-align: right;\">\n",
       "      <th></th>\n",
       "      <th>Дата платежа</th>\n",
       "      <th>ЛС</th>\n",
       "      <th>ФИО</th>\n",
       "      <th>Адрес</th>\n",
       "      <th>Период оплаты</th>\n",
       "      <th>Сумма операции</th>\n",
       "      <th>Сумма перевода</th>\n",
       "      <th>Сумма комиссии</th>\n",
       "    </tr>\n",
       "  </thead>\n",
       "  <tbody>\n",
       "    <tr>\n",
       "      <th>23</th>\n",
       "      <td>2022-10-03</td>\n",
       "      <td>105106</td>\n",
       "      <td>Наумкин Виталий Михайлович</td>\n",
       "      <td>МАГАДАН,  Космонавтов пл., д.5, кв.6</td>\n",
       "      <td>0822</td>\n",
       "      <td>884.25</td>\n",
       "      <td>884.25</td>\n",
       "      <td>0.0</td>\n",
       "    </tr>\n",
       "    <tr>\n",
       "      <th>7</th>\n",
       "      <td>2022-10-03</td>\n",
       "      <td>105113</td>\n",
       "      <td>Кочергин Сергей Валерьевич</td>\n",
       "      <td>МАГАДАН,  Космонавтов пл., д.5, кв.13</td>\n",
       "      <td>0822</td>\n",
       "      <td>1776.36</td>\n",
       "      <td>1776.36</td>\n",
       "      <td>0.0</td>\n",
       "    </tr>\n",
       "    <tr>\n",
       "      <th>69</th>\n",
       "      <td>2022-10-03</td>\n",
       "      <td>110116</td>\n",
       "      <td>Муха Любомир Эдвардович</td>\n",
       "      <td>МАГАДАН,  Ленина, д.5, кв.14</td>\n",
       "      <td>0922</td>\n",
       "      <td>250.00</td>\n",
       "      <td>250.00</td>\n",
       "      <td>0.0</td>\n",
       "    </tr>\n",
       "    <tr>\n",
       "      <th>85</th>\n",
       "      <td>2022-10-03</td>\n",
       "      <td>1102131</td>\n",
       "      <td>Гордейко Анастасия Сергеевна</td>\n",
       "      <td>МАГАДАН,  Ленина, д.7, кв.67</td>\n",
       "      <td>0922</td>\n",
       "      <td>1243.00</td>\n",
       "      <td>1243.00</td>\n",
       "      <td>0.0</td>\n",
       "    </tr>\n",
       "    <tr>\n",
       "      <th>55</th>\n",
       "      <td>2022-10-03</td>\n",
       "      <td>110468</td>\n",
       "      <td>Шушаков Денис Александрович</td>\n",
       "      <td>МАГАДАН,  Пролетарская, д.20а, кв.13</td>\n",
       "      <td>0922</td>\n",
       "      <td>500.00</td>\n",
       "      <td>500.00</td>\n",
       "      <td>0.0</td>\n",
       "    </tr>\n",
       "    <tr>\n",
       "      <th>...</th>\n",
       "      <td>...</td>\n",
       "      <td>...</td>\n",
       "      <td>...</td>\n",
       "      <td>...</td>\n",
       "      <td>...</td>\n",
       "      <td>...</td>\n",
       "      <td>...</td>\n",
       "      <td>...</td>\n",
       "    </tr>\n",
       "    <tr>\n",
       "      <th>68</th>\n",
       "      <td>2022-10-03</td>\n",
       "      <td>442841</td>\n",
       "      <td>Агафонов Иван Андреевич</td>\n",
       "      <td>МАГАДАН,  Пролетарская, д.71корп. 2, кв.41</td>\n",
       "      <td>0922</td>\n",
       "      <td>860.62</td>\n",
       "      <td>860.62</td>\n",
       "      <td>0.0</td>\n",
       "    </tr>\n",
       "    <tr>\n",
       "      <th>42</th>\n",
       "      <td>2022-10-03</td>\n",
       "      <td>443190</td>\n",
       "      <td>Давыденко Борис Юрьевич</td>\n",
       "      <td>МАГАДАН,  Набережная р. магаданки, д.75корп. 2...</td>\n",
       "      <td>0922</td>\n",
       "      <td>751.49</td>\n",
       "      <td>751.49</td>\n",
       "      <td>0.0</td>\n",
       "    </tr>\n",
       "    <tr>\n",
       "      <th>60</th>\n",
       "      <td>2022-10-03</td>\n",
       "      <td>450755</td>\n",
       "      <td>Лисовская Ирина Викторовна</td>\n",
       "      <td>МАГАДАН,  Цветочная, д.16</td>\n",
       "      <td>0922</td>\n",
       "      <td>1803.87</td>\n",
       "      <td>1803.87</td>\n",
       "      <td>0.0</td>\n",
       "    </tr>\n",
       "    <tr>\n",
       "      <th>112</th>\n",
       "      <td>2022-10-03</td>\n",
       "      <td>462353</td>\n",
       "      <td>Пономарева Инна Дмитриевна</td>\n",
       "      <td>МАГАДАН,  Пролетарская, д.61корп. 3, кв.15, ком.2</td>\n",
       "      <td>0922</td>\n",
       "      <td>2110.45</td>\n",
       "      <td>2110.45</td>\n",
       "      <td>0.0</td>\n",
       "    </tr>\n",
       "    <tr>\n",
       "      <th>113</th>\n",
       "      <td>2022-10-03</td>\n",
       "      <td>462353-П</td>\n",
       "      <td>Пономарева Инна Дмитриевна</td>\n",
       "      <td>МАГАДАН,  Пролетарская, д.61корп. 3, кв.15, ком.2</td>\n",
       "      <td>0922</td>\n",
       "      <td>10.23</td>\n",
       "      <td>10.23</td>\n",
       "      <td>0.0</td>\n",
       "    </tr>\n",
       "  </tbody>\n",
       "</table>\n",
       "<p>140 rows × 8 columns</p>\n",
       "</div>"
      ],
      "text/plain": [
       "    Дата платежа        ЛС                           ФИО  \\\n",
       "23    2022-10-03    105106    Наумкин Виталий Михайлович   \n",
       "7     2022-10-03    105113    Кочергин Сергей Валерьевич   \n",
       "69    2022-10-03    110116       Муха Любомир Эдвардович   \n",
       "85    2022-10-03   1102131  Гордейко Анастасия Сергеевна   \n",
       "55    2022-10-03    110468   Шушаков Денис Александрович   \n",
       "..           ...       ...                           ...   \n",
       "68    2022-10-03    442841       Агафонов Иван Андреевич   \n",
       "42    2022-10-03    443190       Давыденко Борис Юрьевич   \n",
       "60    2022-10-03    450755    Лисовская Ирина Викторовна   \n",
       "112   2022-10-03    462353    Пономарева Инна Дмитриевна   \n",
       "113   2022-10-03  462353-П    Пономарева Инна Дмитриевна   \n",
       "\n",
       "                                                 Адрес Период оплаты  \\\n",
       "23                МАГАДАН,  Космонавтов пл., д.5, кв.6          0822   \n",
       "7                МАГАДАН,  Космонавтов пл., д.5, кв.13          0822   \n",
       "69                        МАГАДАН,  Ленина, д.5, кв.14          0922   \n",
       "85                        МАГАДАН,  Ленина, д.7, кв.67          0922   \n",
       "55                МАГАДАН,  Пролетарская, д.20а, кв.13          0922   \n",
       "..                                                 ...           ...   \n",
       "68          МАГАДАН,  Пролетарская, д.71корп. 2, кв.41          0922   \n",
       "42   МАГАДАН,  Набережная р. магаданки, д.75корп. 2...          0922   \n",
       "60                           МАГАДАН,  Цветочная, д.16          0922   \n",
       "112  МАГАДАН,  Пролетарская, д.61корп. 3, кв.15, ком.2          0922   \n",
       "113  МАГАДАН,  Пролетарская, д.61корп. 3, кв.15, ком.2          0922   \n",
       "\n",
       "     Сумма операции  Сумма перевода  Сумма комиссии  \n",
       "23           884.25          884.25             0.0  \n",
       "7           1776.36         1776.36             0.0  \n",
       "69           250.00          250.00             0.0  \n",
       "85          1243.00         1243.00             0.0  \n",
       "55           500.00          500.00             0.0  \n",
       "..              ...             ...             ...  \n",
       "68           860.62          860.62             0.0  \n",
       "42           751.49          751.49             0.0  \n",
       "60          1803.87         1803.87             0.0  \n",
       "112         2110.45         2110.45             0.0  \n",
       "113           10.23           10.23             0.0  \n",
       "\n",
       "[140 rows x 8 columns]"
      ]
     },
     "execution_count": 22,
     "metadata": {},
     "output_type": "execute_result"
    }
   ],
   "source": [
    "vtb_data"
   ]
  },
  {
   "cell_type": "code",
   "execution_count": 23,
   "metadata": {},
   "outputs": [],
   "source": [
    "def check_sum_count():\n",
    "    if float(vtb_itog['Сумма операции'].astype('float')) == sum_oper and float(vtb_itog['Сумма перевода'].astype('float')) == sum_pere and \\\n",
    "        float(vtb_itog['Сумма комиссии'].astype('float')) == sum_komi and int(vtb_itog['Количество'].astype('float')) == len(vtb_data):\n",
    "        print('Все в порядке')\n",
    "        return 0\n",
    "    else:\n",
    "        print('Ошибка в суммах или в количестве')\n",
    "        return -1"
   ]
  },
  {
   "cell_type": "code",
   "execution_count": 33,
   "metadata": {},
   "outputs": [
    {
     "name": "stdout",
     "output_type": "stream",
     "text": [
      "14\n",
      "140\n"
     ]
    }
   ],
   "source": [
    "int(vtb_itog['Количество'].astype('float')) == len(vtb_data)\n",
    "print(int(vtb_itog['Количество'].astype('float')))\n",
    "print(len(vtb_data))"
   ]
  },
  {
   "cell_type": "code",
   "execution_count": 24,
   "metadata": {},
   "outputs": [
    {
     "name": "stdout",
     "output_type": "stream",
     "text": [
      "Ошибка в суммах или в количестве\n",
      "Error!!!\n"
     ]
    }
   ],
   "source": [
    "if check_sum_count() == -1:\n",
    "    print('Error!!!')\n"
   ]
  },
  {
   "cell_type": "code",
   "execution_count": 19,
   "metadata": {},
   "outputs": [
    {
     "data": {
      "text/plain": [
       "'05-07-2022'"
      ]
     },
     "execution_count": 19,
     "metadata": {},
     "output_type": "execute_result"
    }
   ],
   "source": [
    "str(vtb_itog['Дата'].values[0])"
   ]
  },
  {
   "cell_type": "code",
   "execution_count": 22,
   "metadata": {},
   "outputs": [],
   "source": [
    "from xlsxwriter.utility import xl_range"
   ]
  },
  {
   "cell_type": "code",
   "execution_count": 31,
   "metadata": {},
   "outputs": [
    {
     "name": "stdout",
     "output_type": "stream",
     "text": [
      "[{'header': 'Дата платежа', 'format': <xlsxwriter.format.Format object at 0x00000215A88DDAE0>}, {'header': 'ЛС', 'format': <xlsxwriter.format.Format object at 0x00000215A88DDAE0>}, {'header': 'ФИО', 'format': <xlsxwriter.format.Format object at 0x00000215A88DDAE0>}, {'header': 'Адрес', 'format': <xlsxwriter.format.Format object at 0x00000215A88DDAE0>}, {'header': 'Период оплаты', 'format': <xlsxwriter.format.Format object at 0x00000215A88DDAE0>}, {'header': 'Сумма операции', 'format': <xlsxwriter.format.Format object at 0x00000215A88DDAE0>}, {'header': 'Сумма перевода', 'format': <xlsxwriter.format.Format object at 0x00000215A88DDAE0>}, {'header': 'Сумма комиссии', 'format': <xlsxwriter.format.Format object at 0x00000215A88DDAE0>}]\n"
     ]
    }
   ],
   "source": []
  },
  {
   "cell_type": "code",
   "execution_count": 37,
   "metadata": {},
   "outputs": [],
   "source": [
    "sh_name = str(vtb_itog['Дата'].values[0])\n",
    "writer = pd.ExcelWriter('vtb/040722_VTB_74177.xlsx', engine='xlsxwriter', datetime_format='dd.mm.yyyy')\n",
    "vtb_data.to_excel(writer, sheet_name=sh_name, index=False)\n",
    "\n",
    "workbook = writer.book\n",
    "worksheet = writer.sheets[sh_name]\n",
    "money_format = workbook.add_format({'num_format': '# ##0.00'})\n",
    "date_format = workbook.add_format({'num_format': 'dd.mm.yyyy'})\n",
    "highrow_format = workbook.add_format({'fg_color': '#E2EFDA'})\n",
    "sum_format = workbook.add_format({'bold': True})\n",
    "\n",
    "\n",
    "#for col_num, value in enumerate(vtb_data.columns.values):\n",
    "#    worksheet.write(0, col_num, value, header_format)\n",
    "(max_row, max_col) = vtb_data.shape\n",
    "\n",
    "#for i_row in range(0, max_row):\n",
    "#    if i_row % 2 == 0:\n",
    "#        worksheet.set_row(row=i_row+1, cell_format=highrow_format)\n",
    "#header_format = workbook.add_format({'text_wrap': 1})\n",
    "\n",
    "header_columns = []\n",
    "for col_name in vtb_data.columns:\n",
    "    head_dict = dict(header=col_name)\n",
    "    header_columns.append(head_dict)\n",
    "#print(header_columns)\n",
    "\n",
    "worksheet.set_column(0, 0, 12, date_format)\n",
    "worksheet.set_column(5, 7, 15, money_format)\n",
    "worksheet.set_column(2, 3, 50)\n",
    "\n",
    "worksheet.write(max_row+1, 5, '=SUM(F2:F{})'.format(max_row+1), sum_format)\n",
    "worksheet.write(max_row+1, 6, '=SUM(G2:G{})'.format(max_row+1), sum_format)\n",
    "worksheet.write(max_row+1, 7, '=SUM(H2:H{})'.format(max_row+1), sum_format)\n",
    "#cell_range = xl_range(0, 0, max_row, max_col)  # A1:E4\n",
    "worksheet.add_table(0, 0, max_row, max_col-1, {'columns': header_columns})\n",
    "\n",
    "writer.save()\n",
    "writer.close()"
   ]
  },
  {
   "cell_type": "code",
   "execution_count": 169,
   "metadata": {},
   "outputs": [
    {
     "name": "stdout",
     "output_type": "stream",
     "text": [
      "=СУММА(F1:F92)\n"
     ]
    }
   ],
   "source": [
    "print('=СУММА(F1:F{})'.format(max_row))"
   ]
  },
  {
   "cell_type": "code",
   "execution_count": 146,
   "metadata": {},
   "outputs": [
    {
     "data": {
      "text/plain": [
       "0"
      ]
     },
     "execution_count": 146,
     "metadata": {},
     "output_type": "execute_result"
    }
   ],
   "source": [
    "\n",
    "#worksheet.set_column('F:H', len(vtb_data)+1, money_format)"
   ]
  },
  {
   "cell_type": "code",
   "execution_count": 182,
   "metadata": {},
   "outputs": [],
   "source": []
  },
  {
   "cell_type": "code",
   "execution_count": 183,
   "metadata": {},
   "outputs": [
    {
     "name": "stderr",
     "output_type": "stream",
     "text": [
      "c:\\Users\\Lubchanskiy\\AppData\\Local\\Programs\\Python\\Python310\\lib\\site-packages\\xlsxwriter\\workbook.py:339: UserWarning: Calling close() on already closed file.\n",
      "  warn(\"Calling close() on already closed file.\")\n"
     ]
    }
   ],
   "source": []
  }
 ],
 "metadata": {
  "kernelspec": {
   "display_name": "Python 3.10.5 64-bit",
   "language": "python",
   "name": "python3"
  },
  "language_info": {
   "codemirror_mode": {
    "name": "ipython",
    "version": 3
   },
   "file_extension": ".py",
   "mimetype": "text/x-python",
   "name": "python",
   "nbconvert_exporter": "python",
   "pygments_lexer": "ipython3",
   "version": "3.10.5"
  },
  "orig_nbformat": 4,
  "vscode": {
   "interpreter": {
    "hash": "52bb6d70ef49c02ab2aa43ab31bba4edd1c59a51e59b9fce56cbe4e55ae05671"
   }
  }
 },
 "nbformat": 4,
 "nbformat_minor": 2
}
