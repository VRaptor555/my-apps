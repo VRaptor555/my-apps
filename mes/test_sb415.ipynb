{
 "cells": [
  {
   "cell_type": "code",
   "execution_count": 1,
   "metadata": {},
   "outputs": [],
   "source": [
    "import pandas as pd\n",
    "import zipfile as zip\n",
    "import os"
   ]
  },
  {
   "cell_type": "code",
   "execution_count": 40,
   "metadata": {},
   "outputs": [],
   "source": [
    "df = pd.read_csv('data\\SB415_178749_28072022.txt', header=None, sep=';', encoding='Windows-1251')"
   ]
  },
  {
   "cell_type": "code",
   "execution_count": 41,
   "metadata": {},
   "outputs": [],
   "source": [
    "df.columns = ['дата', 'время', 'банк', 'ид_банка', 'транзакция', 'лицевой', 'ФИО.', 'адрес', 'сумма', 'сумма_безкомисcии', 'комиссия', 'канал']\n",
    "df = df[df['дата'].str.contains('=') == False]"
   ]
  },
  {
   "cell_type": "code",
   "execution_count": 42,
   "metadata": {},
   "outputs": [],
   "source": [
    "df['сумма'] = df['сумма'].str.replace(',', '.')\n",
    "df['сумма_безкомисcии'] = df['сумма_безкомисcии'].str.replace(',', '.')\n",
    "df['комиссия'] = df['комиссия'].str.replace(',', '.')"
   ]
  },
  {
   "cell_type": "code",
   "execution_count": 43,
   "metadata": {},
   "outputs": [],
   "source": [
    "df['сумма'] = pd.to_numeric(df['сумма'])\n",
    "df['сумма_безкомисcии'] = pd.to_numeric(df['сумма_безкомисcии'])\n",
    "df['комиссия'] = pd.to_numeric(df['комиссия'])"
   ]
  },
  {
   "cell_type": "code",
   "execution_count": 44,
   "metadata": {},
   "outputs": [
    {
     "name": "stdout",
     "output_type": "stream",
     "text": [
      "<class 'pandas.core.frame.DataFrame'>\n",
      "Int64Index: 235 entries, 0 to 234\n",
      "Data columns (total 12 columns):\n",
      " #   Column             Non-Null Count  Dtype  \n",
      "---  ------             --------------  -----  \n",
      " 0   дата               235 non-null    object \n",
      " 1   время              235 non-null    object \n",
      " 2   банк               235 non-null    object \n",
      " 3   ид_банка           235 non-null    object \n",
      " 4   транзакция         235 non-null    int64  \n",
      " 5   лицевой            235 non-null    object \n",
      " 6   ФИО.               235 non-null    object \n",
      " 7   адрес              235 non-null    object \n",
      " 8   сумма              235 non-null    float64\n",
      " 9   сумма_безкомисcии  235 non-null    float64\n",
      " 10  комиссия           235 non-null    float64\n",
      " 11  канал              235 non-null    float64\n",
      "dtypes: float64(4), int64(1), object(7)\n",
      "memory usage: 23.9+ KB\n"
     ]
    }
   ],
   "source": [
    "df.info()"
   ]
  },
  {
   "cell_type": "code",
   "execution_count": 49,
   "metadata": {},
   "outputs": [],
   "source": [
    "df_g = df.groupby('канал').agg({'сумма':'sum', 'сумма_безкомисcии': 'sum', 'комиссия': 'sum'})"
   ]
  },
  {
   "cell_type": "code",
   "execution_count": 52,
   "metadata": {},
   "outputs": [],
   "source": [
    "df_g.loc['Total',:] = df.sum(axis=0)"
   ]
  },
  {
   "cell_type": "code",
   "execution_count": 53,
   "metadata": {},
   "outputs": [
    {
     "data": {
      "text/html": [
       "<div>\n",
       "<style scoped>\n",
       "    .dataframe tbody tr th:only-of-type {\n",
       "        vertical-align: middle;\n",
       "    }\n",
       "\n",
       "    .dataframe tbody tr th {\n",
       "        vertical-align: top;\n",
       "    }\n",
       "\n",
       "    .dataframe thead th {\n",
       "        text-align: right;\n",
       "    }\n",
       "</style>\n",
       "<table border=\"1\" class=\"dataframe\">\n",
       "  <thead>\n",
       "    <tr style=\"text-align: right;\">\n",
       "      <th></th>\n",
       "      <th>сумма</th>\n",
       "      <th>сумма_безкомисcии</th>\n",
       "      <th>комиссия</th>\n",
       "    </tr>\n",
       "    <tr>\n",
       "      <th>канал</th>\n",
       "      <th></th>\n",
       "      <th></th>\n",
       "      <th></th>\n",
       "    </tr>\n",
       "  </thead>\n",
       "  <tbody>\n",
       "    <tr>\n",
       "      <th>1.0</th>\n",
       "      <td>16070.68</td>\n",
       "      <td>16070.68</td>\n",
       "      <td>0.00</td>\n",
       "    </tr>\n",
       "    <tr>\n",
       "      <th>2.0</th>\n",
       "      <td>10366.02</td>\n",
       "      <td>10366.02</td>\n",
       "      <td>0.00</td>\n",
       "    </tr>\n",
       "    <tr>\n",
       "      <th>5.0</th>\n",
       "      <td>275308.03</td>\n",
       "      <td>272039.70</td>\n",
       "      <td>3268.33</td>\n",
       "    </tr>\n",
       "    <tr>\n",
       "      <th>6.0</th>\n",
       "      <td>576.76</td>\n",
       "      <td>569.84</td>\n",
       "      <td>6.92</td>\n",
       "    </tr>\n",
       "    <tr>\n",
       "      <th>Total</th>\n",
       "      <td>302321.49</td>\n",
       "      <td>299046.24</td>\n",
       "      <td>3275.25</td>\n",
       "    </tr>\n",
       "  </tbody>\n",
       "</table>\n",
       "</div>"
      ],
      "text/plain": [
       "           сумма  сумма_безкомисcии  комиссия\n",
       "канал                                        \n",
       "1.0     16070.68           16070.68      0.00\n",
       "2.0     10366.02           10366.02      0.00\n",
       "5.0    275308.03          272039.70   3268.33\n",
       "6.0       576.76             569.84      6.92\n",
       "Total  302321.49          299046.24   3275.25"
      ]
     },
     "execution_count": 53,
     "metadata": {},
     "output_type": "execute_result"
    }
   ],
   "source": [
    "df_g"
   ]
  }
 ],
 "metadata": {
  "kernelspec": {
   "display_name": "Python 3.10.5 64-bit",
   "language": "python",
   "name": "python3"
  },
  "language_info": {
   "codemirror_mode": {
    "name": "ipython",
    "version": 3
   },
   "file_extension": ".py",
   "mimetype": "text/x-python",
   "name": "python",
   "nbconvert_exporter": "python",
   "pygments_lexer": "ipython3",
   "version": "3.10.5"
  },
  "orig_nbformat": 4,
  "vscode": {
   "interpreter": {
    "hash": "52bb6d70ef49c02ab2aa43ab31bba4edd1c59a51e59b9fce56cbe4e55ae05671"
   }
  }
 },
 "nbformat": 4,
 "nbformat_minor": 2
}
