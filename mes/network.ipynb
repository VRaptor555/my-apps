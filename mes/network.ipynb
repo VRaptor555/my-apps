{
 "cells": [
  {
   "cell_type": "code",
   "execution_count": 7,
   "metadata": {},
   "outputs": [],
   "source": [
    "import pandas as pd\n",
    "from xlsxwriter.utility import xl_range"
   ]
  },
  {
   "cell_type": "code",
   "execution_count": 15,
   "metadata": {},
   "outputs": [],
   "source": [
    "network = pd.read_csv('net/TU_Net.csv', sep='\\t', encoding='Windows-1251')"
   ]
  },
  {
   "cell_type": "code",
   "execution_count": 12,
   "metadata": {},
   "outputs": [],
   "source": [
    "network = network.sort_values(['договор', 'ТУ'])"
   ]
  },
  {
   "cell_type": "code",
   "execution_count": 16,
   "metadata": {},
   "outputs": [
    {
     "data": {
      "text/html": [
       "<div>\n",
       "<style scoped>\n",
       "    .dataframe tbody tr th:only-of-type {\n",
       "        vertical-align: middle;\n",
       "    }\n",
       "\n",
       "    .dataframe tbody tr th {\n",
       "        vertical-align: top;\n",
       "    }\n",
       "\n",
       "    .dataframe thead th {\n",
       "        text-align: right;\n",
       "    }\n",
       "</style>\n",
       "<table border=\"1\" class=\"dataframe\">\n",
       "  <thead>\n",
       "    <tr style=\"text-align: right;\">\n",
       "      <th></th>\n",
       "      <th>договор</th>\n",
       "      <th>ТУ</th>\n",
       "      <th>район</th>\n",
       "      <th>наименование</th>\n",
       "      <th>Сеть</th>\n",
       "    </tr>\n",
       "  </thead>\n",
       "  <tbody>\n",
       "    <tr>\n",
       "      <th>0</th>\n",
       "      <td>1155</td>\n",
       "      <td>211550001</td>\n",
       "      <td>NaN</td>\n",
       "      <td>Нежилое помещение (Радиоконтрольный пункт)</td>\n",
       "      <td>ЮЭС &gt; ПС 110/35/10 \"ЮГО-ВОСТОЧHАЯ\" &gt; ЛЭП-10кВ ...</td>\n",
       "    </tr>\n",
       "    <tr>\n",
       "      <th>1</th>\n",
       "      <td>171</td>\n",
       "      <td>211719002</td>\n",
       "      <td>NaN</td>\n",
       "      <td>Перерасчет по 01710001: 01.2017:  400.00000</td>\n",
       "      <td>ЮЭС &gt; ПС 35/6 \"ДЭС\" &gt; ЛЭП-6кВ \"ТП-12\" &gt; ТП - 5...</td>\n",
       "    </tr>\n",
       "    <tr>\n",
       "      <th>2</th>\n",
       "      <td>171</td>\n",
       "      <td>211719003</td>\n",
       "      <td>NaN</td>\n",
       "      <td>Перерасчет по 01710001: 02.2017: -620.57000</td>\n",
       "      <td>ЮЭС &gt; ПС 35/6 \"ДЭС\" &gt; ЛЭП-6кВ \"ТП-12\" &gt; ТП - 5...</td>\n",
       "    </tr>\n",
       "    <tr>\n",
       "      <th>3</th>\n",
       "      <td>171</td>\n",
       "      <td>211719004</td>\n",
       "      <td>NaN</td>\n",
       "      <td>Перерасчет по 01710001: 02.2017:  400.00000</td>\n",
       "      <td>ЮЭС &gt; ПС 35/6 \"ДЭС\" &gt; ЛЭП-6кВ \"ТП-12\" &gt; ТП - 5...</td>\n",
       "    </tr>\n",
       "    <tr>\n",
       "      <th>4</th>\n",
       "      <td>171</td>\n",
       "      <td>211719005</td>\n",
       "      <td>NaN</td>\n",
       "      <td>Перерасчет по 01710001: 03.2017: -620.57000</td>\n",
       "      <td>ЮЭС &gt; ПС 35/6 \"ДЭС\" &gt; ЛЭП-6кВ \"ТП-12\" &gt; ТП - 5...</td>\n",
       "    </tr>\n",
       "    <tr>\n",
       "      <th>...</th>\n",
       "      <td>...</td>\n",
       "      <td>...</td>\n",
       "      <td>...</td>\n",
       "      <td>...</td>\n",
       "      <td>...</td>\n",
       "    </tr>\n",
       "    <tr>\n",
       "      <th>12709</th>\n",
       "      <td>963</td>\n",
       "      <td>209630005</td>\n",
       "      <td>МЭС - район реализации 5</td>\n",
       "      <td>Др.аб.1439 ОДН 5р-н ул.Гагарина 26</td>\n",
       "      <td>ЮЭС &gt; ПС 110/35/10 \"ЮГО-ВОСТОЧHАЯ\" &gt; ЛЭП-10кВ ...</td>\n",
       "    </tr>\n",
       "    <tr>\n",
       "      <th>12710</th>\n",
       "      <td>97</td>\n",
       "      <td>200970012</td>\n",
       "      <td>МЭС - район реализации 5</td>\n",
       "      <td>Др.аб.л/с э/э при СОИД 5р-н ул.Гагарина 19 кв.22</td>\n",
       "      <td>ЮЭС &gt; ПС 110/35/10 \"ЮГО-ВОСТОЧHАЯ\" &gt; ЛЭП-10кВ ...</td>\n",
       "    </tr>\n",
       "    <tr>\n",
       "      <th>12711</th>\n",
       "      <td>97</td>\n",
       "      <td>200970013</td>\n",
       "      <td>МЭС - район реализации 5</td>\n",
       "      <td>др.аб.л/с Служебная квартира</td>\n",
       "      <td>ЮЭС &gt; ПС 110/35/10 \"ЮГО-ВОСТОЧHАЯ\" &gt; ЛЭП-10кВ ...</td>\n",
       "    </tr>\n",
       "    <tr>\n",
       "      <th>12712</th>\n",
       "      <td>997</td>\n",
       "      <td>209970001</td>\n",
       "      <td>МЭС - район реализации 5</td>\n",
       "      <td>Помещение др.аб.3437</td>\n",
       "      <td>ЮЭС &gt; ПС 110/35/10 \"ЮГО-ВОСТОЧHАЯ\" &gt; ЛЭП-10кВ ...</td>\n",
       "    </tr>\n",
       "    <tr>\n",
       "      <th>12713</th>\n",
       "      <td>997</td>\n",
       "      <td>209970002</td>\n",
       "      <td>МЭС - район реализации 5</td>\n",
       "      <td>др. аб.3437 э/э при СОИД 5р-н ул.Якутская 51в ...</td>\n",
       "      <td>ЮЭС &gt; ПС 110/35/10 \"ЮГО-ВОСТОЧHАЯ\" &gt; ЛЭП-10кВ ...</td>\n",
       "    </tr>\n",
       "  </tbody>\n",
       "</table>\n",
       "<p>12714 rows × 5 columns</p>\n",
       "</div>"
      ],
      "text/plain": [
       "      договор         ТУ                     район  \\\n",
       "0        1155  211550001                       NaN   \n",
       "1         171  211719002                       NaN   \n",
       "2         171  211719003                       NaN   \n",
       "3         171  211719004                       NaN   \n",
       "4         171  211719005                       NaN   \n",
       "...       ...        ...                       ...   \n",
       "12709     963  209630005  МЭС - район реализации 5   \n",
       "12710      97  200970012  МЭС - район реализации 5   \n",
       "12711      97  200970013  МЭС - район реализации 5   \n",
       "12712     997  209970001  МЭС - район реализации 5   \n",
       "12713     997  209970002  МЭС - район реализации 5   \n",
       "\n",
       "                                            наименование  \\\n",
       "0             Нежилое помещение (Радиоконтрольный пункт)   \n",
       "1            Перерасчет по 01710001: 01.2017:  400.00000   \n",
       "2            Перерасчет по 01710001: 02.2017: -620.57000   \n",
       "3            Перерасчет по 01710001: 02.2017:  400.00000   \n",
       "4            Перерасчет по 01710001: 03.2017: -620.57000   \n",
       "...                                                  ...   \n",
       "12709                 Др.аб.1439 ОДН 5р-н ул.Гагарина 26   \n",
       "12710   Др.аб.л/с э/э при СОИД 5р-н ул.Гагарина 19 кв.22   \n",
       "12711                       др.аб.л/с Служебная квартира   \n",
       "12712                               Помещение др.аб.3437   \n",
       "12713  др. аб.3437 э/э при СОИД 5р-н ул.Якутская 51в ...   \n",
       "\n",
       "                                                    Сеть  \n",
       "0      ЮЭС > ПС 110/35/10 \"ЮГО-ВОСТОЧHАЯ\" > ЛЭП-10кВ ...  \n",
       "1      ЮЭС > ПС 35/6 \"ДЭС\" > ЛЭП-6кВ \"ТП-12\" > ТП - 5...  \n",
       "2      ЮЭС > ПС 35/6 \"ДЭС\" > ЛЭП-6кВ \"ТП-12\" > ТП - 5...  \n",
       "3      ЮЭС > ПС 35/6 \"ДЭС\" > ЛЭП-6кВ \"ТП-12\" > ТП - 5...  \n",
       "4      ЮЭС > ПС 35/6 \"ДЭС\" > ЛЭП-6кВ \"ТП-12\" > ТП - 5...  \n",
       "...                                                  ...  \n",
       "12709  ЮЭС > ПС 110/35/10 \"ЮГО-ВОСТОЧHАЯ\" > ЛЭП-10кВ ...  \n",
       "12710  ЮЭС > ПС 110/35/10 \"ЮГО-ВОСТОЧHАЯ\" > ЛЭП-10кВ ...  \n",
       "12711  ЮЭС > ПС 110/35/10 \"ЮГО-ВОСТОЧHАЯ\" > ЛЭП-10кВ ...  \n",
       "12712  ЮЭС > ПС 110/35/10 \"ЮГО-ВОСТОЧHАЯ\" > ЛЭП-10кВ ...  \n",
       "12713  ЮЭС > ПС 110/35/10 \"ЮГО-ВОСТОЧHАЯ\" > ЛЭП-10кВ ...  \n",
       "\n",
       "[12714 rows x 5 columns]"
      ]
     },
     "execution_count": 16,
     "metadata": {},
     "output_type": "execute_result"
    }
   ],
   "source": [
    "network"
   ]
  },
  {
   "cell_type": "code",
   "execution_count": 17,
   "metadata": {},
   "outputs": [
    {
     "name": "stderr",
     "output_type": "stream",
     "text": [
      "c:\\Users\\Lubchanskiy\\AppData\\Local\\Programs\\Python\\Python310\\lib\\site-packages\\xlsxwriter\\workbook.py:339: UserWarning: Calling close() on already closed file.\n",
      "  warn(\"Calling close() on already closed file.\")\n"
     ]
    }
   ],
   "source": [
    "writer = pd.ExcelWriter('net/TU_Net.xlsx', engine='xlsxwriter')\n",
    "network.to_excel(writer, sheet_name='ТУ', index=False)\n",
    "writer.save()\n",
    "writer.close()"
   ]
  }
 ],
 "metadata": {
  "kernelspec": {
   "display_name": "Python 3.10.5 64-bit",
   "language": "python",
   "name": "python3"
  },
  "language_info": {
   "codemirror_mode": {
    "name": "ipython",
    "version": 3
   },
   "file_extension": ".py",
   "mimetype": "text/x-python",
   "name": "python",
   "nbconvert_exporter": "python",
   "pygments_lexer": "ipython3",
   "version": "3.10.5"
  },
  "orig_nbformat": 4,
  "vscode": {
   "interpreter": {
    "hash": "52bb6d70ef49c02ab2aa43ab31bba4edd1c59a51e59b9fce56cbe4e55ae05671"
   }
  }
 },
 "nbformat": 4,
 "nbformat_minor": 2
}
