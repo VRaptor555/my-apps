{
 "cells": [
  {
   "cell_type": "code",
   "execution_count": 1,
   "metadata": {},
   "outputs": [],
   "source": [
    "import pandas as pd"
   ]
  },
  {
   "cell_type": "code",
   "execution_count": 4,
   "metadata": {},
   "outputs": [],
   "source": [
    "log = pd.read_csv(\"data/log.csv\")\n"
   ]
  },
  {
   "cell_type": "code",
   "execution_count": 5,
   "metadata": {},
   "outputs": [],
   "source": [
    "log = log.dropna()\n",
    "log.columns = [\"user_id\", \"time\", \"bet\", \"win\"]\n",
    "log[\"time\"] = log[\"time\"].apply(lambda x: x[1:])\n",
    "log[\"time\"] = pd.to_datetime(log[\"time\"])\n",
    "# Пропущенная строка\n"
   ]
  },
  {
   "cell_type": "code",
   "execution_count": 7,
   "metadata": {},
   "outputs": [],
   "source": [
    "log.time = log.time.apply(lambda x: x.minute)"
   ]
  },
  {
   "cell_type": "code",
   "execution_count": 8,
   "metadata": {},
   "outputs": [
    {
     "data": {
      "text/plain": [
       "13     57\n",
       "28     59\n",
       "150    54\n",
       "188    34\n",
       "204    26\n",
       "Name: time, dtype: int64"
      ]
     },
     "execution_count": 8,
     "metadata": {},
     "output_type": "execute_result"
    }
   ],
   "source": [
    "log[\"time\"].head()"
   ]
  }
 ],
 "metadata": {
  "kernelspec": {
   "display_name": "Python 3.10.5 64-bit",
   "language": "python",
   "name": "python3"
  },
  "language_info": {
   "codemirror_mode": {
    "name": "ipython",
    "version": 3
   },
   "file_extension": ".py",
   "mimetype": "text/x-python",
   "name": "python",
   "nbconvert_exporter": "python",
   "pygments_lexer": "ipython3",
   "version": "3.10.5"
  },
  "orig_nbformat": 4,
  "vscode": {
   "interpreter": {
    "hash": "36c6851108447751ff9a78a375ee7b602a45470c5b7394c41491d0df81785d53"
   }
  }
 },
 "nbformat": 4,
 "nbformat_minor": 2
}
