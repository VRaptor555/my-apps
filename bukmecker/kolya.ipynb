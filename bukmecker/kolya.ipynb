{
 "cells": [
  {
   "cell_type": "code",
   "execution_count": 1,
   "metadata": {},
   "outputs": [],
   "source": [
    "import pandas as pd"
   ]
  },
  {
   "cell_type": "code",
   "execution_count": 2,
   "metadata": {},
   "outputs": [],
   "source": [
    "import numpy as np"
   ]
  },
  {
   "cell_type": "markdown",
   "metadata": {},
   "source": [
    "\n",
    "    header = None — загрузить без строки с заголовком;\n",
    "    skiprows=n — пропустить n строк (часто у документов бывает техническая «шапка»);\n",
    "    encoding — загрузить в конкретной кодировке;\n",
    "    na_values — список значений, который нужно заменить на NaN (специальный объект, обозначающий пропущенное значение).\n"
   ]
  },
  {
   "cell_type": "code",
   "execution_count": 35,
   "metadata": {},
   "outputs": [],
   "source": [
    "log = pd.read_csv(\"data/log.csv\", header = None)"
   ]
  },
  {
   "cell_type": "code",
   "execution_count": 36,
   "metadata": {},
   "outputs": [],
   "source": [
    "users = pd.read_csv(\"data/users.csv\", encoding=\"KOI8-R\", sep=\"\t\")"
   ]
  },
  {
   "cell_type": "code",
   "execution_count": 37,
   "metadata": {},
   "outputs": [],
   "source": [
    "log.columns = ['user_id','time','bet','win']"
   ]
  },
  {
   "cell_type": "code",
   "execution_count": 38,
   "metadata": {},
   "outputs": [],
   "source": [
    "users.columns = ['user_id','email','geo']"
   ]
  },
  {
   "cell_type": "code",
   "execution_count": 39,
   "metadata": {},
   "outputs": [],
   "source": [
    "# Приведём признак user_id к одному формату в обоих датасетах\n",
    "users.user_id = users.user_id.apply(lambda x: x.lower())\n",
    "# Избавимся от ошибок в user_id\n",
    "log = log[log.user_id != \"#error\"]\n",
    "log.user_id = log.user_id.str.split(\" - \").apply(lambda x: x[1])"
   ]
  },
  {
   "cell_type": "code",
   "execution_count": 40,
   "metadata": {},
   "outputs": [],
   "source": [
    "users_log = pd.merge(log, users, on='user_id')"
   ]
  },
  {
   "cell_type": "markdown",
   "metadata": {},
   "source": [
    "В данном случае мы группируем данные по признаку user_id.\n",
    "\n",
    "После этого в каждой группе выбираем признак win.\n",
    "\n",
    "Затем берём медиану по каждой группе по признаку win и на выходе получаем таблицу, где индексом является признак user_id. В этой таблице единственный столбец — медиана по каждой группе (то есть по каждому пользователю).\n",
    "\n",
    "Наконец, последний вызов median() даёт нам медиану по предыдущему столбцу, то есть возвращает одно число."
   ]
  },
  {
   "cell_type": "code",
   "execution_count": 46,
   "metadata": {},
   "outputs": [
    {
     "data": {
      "text/plain": [
       "0.0"
      ]
     },
     "execution_count": 46,
     "metadata": {},
     "output_type": "execute_result"
    }
   ],
   "source": [
    "users_log.groupby('user_id').win.median().median() "
   ]
  },
  {
   "cell_type": "code",
   "execution_count": 45,
   "metadata": {},
   "outputs": [],
   "source": [
    "users_log['bet'] = users_log[\"bet\"].fillna(0)\n",
    "users_log['win'] = users_log[\"win\"].fillna(0)"
   ]
  },
  {
   "cell_type": "code",
   "execution_count": 48,
   "metadata": {},
   "outputs": [],
   "source": [
    "users_log['net'] = users_log.win - users_log.bet"
   ]
  },
  {
   "cell_type": "code",
   "execution_count": 22,
   "metadata": {},
   "outputs": [
    {
     "name": "stdout",
     "output_type": "stream",
     "text": [
      "Процент ставок: 48.21%\n"
     ]
    }
   ],
   "source": [
    "percent_bet = users_log[users_log.bet > 0].bet.shape[0] / users_log.shape[0]\n",
    "print('Процент ставок: {:.2%}'.format(percent_bet))"
   ]
  },
  {
   "cell_type": "code",
   "execution_count": 49,
   "metadata": {},
   "outputs": [
    {
     "data": {
      "text/plain": [
       "1986.0"
      ]
     },
     "execution_count": 49,
     "metadata": {},
     "output_type": "execute_result"
    }
   ],
   "source": [
    "users_log.groupby('user_id').net.sum().median()"
   ]
  },
  {
   "cell_type": "code",
   "execution_count": 18,
   "metadata": {},
   "outputs": [
    {
     "data": {
      "text/html": [
       "<div>\n",
       "<style scoped>\n",
       "    .dataframe tbody tr th:only-of-type {\n",
       "        vertical-align: middle;\n",
       "    }\n",
       "\n",
       "    .dataframe tbody tr th {\n",
       "        vertical-align: top;\n",
       "    }\n",
       "\n",
       "    .dataframe thead th {\n",
       "        text-align: right;\n",
       "    }\n",
       "</style>\n",
       "<table border=\"1\" class=\"dataframe\">\n",
       "  <thead>\n",
       "    <tr style=\"text-align: right;\">\n",
       "      <th></th>\n",
       "      <th>user_id</th>\n",
       "      <th>time</th>\n",
       "      <th>bet</th>\n",
       "      <th>win</th>\n",
       "      <th>email</th>\n",
       "      <th>geo</th>\n",
       "      <th>net</th>\n",
       "    </tr>\n",
       "  </thead>\n",
       "  <tbody>\n",
       "    <tr>\n",
       "      <th>0</th>\n",
       "      <td>user_919</td>\n",
       "      <td>[2019-01-01 14:06:51</td>\n",
       "      <td>0.0</td>\n",
       "      <td>0.0</td>\n",
       "      <td>Chikkaverle@icloud.com</td>\n",
       "      <td>Хабаровск</td>\n",
       "      <td>0.0</td>\n",
       "    </tr>\n",
       "    <tr>\n",
       "      <th>1</th>\n",
       "      <td>user_919</td>\n",
       "      <td>[2019-01-30 10:06:00</td>\n",
       "      <td>0.0</td>\n",
       "      <td>0.0</td>\n",
       "      <td>Chikkaverle@icloud.com</td>\n",
       "      <td>Хабаровск</td>\n",
       "      <td>0.0</td>\n",
       "    </tr>\n",
       "    <tr>\n",
       "      <th>2</th>\n",
       "      <td>user_919</td>\n",
       "      <td>[2019-02-05 14:33:44</td>\n",
       "      <td>0.0</td>\n",
       "      <td>0.0</td>\n",
       "      <td>Chikkaverle@icloud.com</td>\n",
       "      <td>Хабаровск</td>\n",
       "      <td>0.0</td>\n",
       "    </tr>\n",
       "    <tr>\n",
       "      <th>3</th>\n",
       "      <td>user_919</td>\n",
       "      <td>[2019-02-14 11:38:05</td>\n",
       "      <td>0.0</td>\n",
       "      <td>0.0</td>\n",
       "      <td>Chikkaverle@icloud.com</td>\n",
       "      <td>Хабаровск</td>\n",
       "      <td>0.0</td>\n",
       "    </tr>\n",
       "    <tr>\n",
       "      <th>4</th>\n",
       "      <td>user_919</td>\n",
       "      <td>[2019-03-02 4:23:36</td>\n",
       "      <td>300.0</td>\n",
       "      <td>0.0</td>\n",
       "      <td>Chikkaverle@icloud.com</td>\n",
       "      <td>Хабаровск</td>\n",
       "      <td>-300.0</td>\n",
       "    </tr>\n",
       "  </tbody>\n",
       "</table>\n",
       "</div>"
      ],
      "text/plain": [
       "    user_id                  time    bet  win                   email  \\\n",
       "0  user_919  [2019-01-01 14:06:51    0.0  0.0  Chikkaverle@icloud.com   \n",
       "1  user_919  [2019-01-30 10:06:00    0.0  0.0  Chikkaverle@icloud.com   \n",
       "2  user_919  [2019-02-05 14:33:44    0.0  0.0  Chikkaverle@icloud.com   \n",
       "3  user_919  [2019-02-14 11:38:05    0.0  0.0  Chikkaverle@icloud.com   \n",
       "4  user_919   [2019-03-02 4:23:36  300.0  0.0  Chikkaverle@icloud.com   \n",
       "\n",
       "         geo    net  \n",
       "0  Хабаровск    0.0  \n",
       "1  Хабаровск    0.0  \n",
       "2  Хабаровск    0.0  \n",
       "3  Хабаровск    0.0  \n",
       "4  Хабаровск -300.0  "
      ]
     },
     "execution_count": 18,
     "metadata": {},
     "output_type": "execute_result"
    }
   ],
   "source": [
    "users_log.head()"
   ]
  },
  {
   "cell_type": "code",
   "execution_count": null,
   "metadata": {},
   "outputs": [],
   "source": [
    "log_win = log[log['win'] > 0]"
   ]
  },
  {
   "cell_type": "code",
   "execution_count": null,
   "metadata": {},
   "outputs": [],
   "source": [
    "win_count = log_win.shape[0]\n",
    "print(win_count)"
   ]
  },
  {
   "cell_type": "code",
   "execution_count": null,
   "metadata": {},
   "outputs": [],
   "source": [
    "log2 = log.query(\"bet<2000 & win>0\")"
   ]
  },
  {
   "cell_type": "code",
   "execution_count": null,
   "metadata": {},
   "outputs": [],
   "source": [
    "log2"
   ]
  },
  {
   "cell_type": "code",
   "execution_count": null,
   "metadata": {},
   "outputs": [],
   "source": [
    "log.user_id.unique()"
   ]
  },
  {
   "cell_type": "code",
   "execution_count": 171,
   "metadata": {},
   "outputs": [],
   "source": [
    "log = log[~log.user_id.str.contains(\"error\", na=False)]"
   ]
  },
  {
   "cell_type": "code",
   "execution_count": 172,
   "metadata": {},
   "outputs": [],
   "source": [
    "def get_user_id(s):\n",
    "    pos = s.find(\"user\")\n",
    "    if pos > -1:\n",
    "        return s[pos:]\n",
    "    else:\n",
    "        return \"\""
   ]
  },
  {
   "cell_type": "code",
   "execution_count": 173,
   "metadata": {},
   "outputs": [],
   "source": [
    "log['user_id'] = log.user_id.apply(get_user_id)\n"
   ]
  },
  {
   "cell_type": "code",
   "execution_count": 174,
   "metadata": {},
   "outputs": [],
   "source": [
    "#t = log.time[0]\n",
    "log['time'] = log[log.time.str.match(\"\\[\", na=False)]['time'].apply(lambda t: str(t).replace('[', ''))\n",
    "#t = t[1:]"
   ]
  },
  {
   "cell_type": "code",
   "execution_count": 175,
   "metadata": {},
   "outputs": [],
   "source": [
    "log['time'] = pd.to_datetime(log['time'])"
   ]
  },
  {
   "cell_type": "code",
   "execution_count": null,
   "metadata": {},
   "outputs": [],
   "source": [
    "np.isnan(log.time.values).sum()"
   ]
  },
  {
   "cell_type": "code",
   "execution_count": 176,
   "metadata": {},
   "outputs": [],
   "source": [
    "log_backup = log.copy()"
   ]
  },
  {
   "cell_type": "code",
   "execution_count": null,
   "metadata": {},
   "outputs": [],
   "source": [
    "log = log_backup.copy()"
   ]
  },
  {
   "cell_type": "code",
   "execution_count": null,
   "metadata": {},
   "outputs": [],
   "source": [
    "log.isnull()"
   ]
  },
  {
   "cell_type": "code",
   "execution_count": 190,
   "metadata": {},
   "outputs": [
    {
     "data": {
      "text/html": [
       "<div>\n",
       "<style scoped>\n",
       "    .dataframe tbody tr th:only-of-type {\n",
       "        vertical-align: middle;\n",
       "    }\n",
       "\n",
       "    .dataframe tbody tr th {\n",
       "        vertical-align: top;\n",
       "    }\n",
       "\n",
       "    .dataframe thead th {\n",
       "        text-align: right;\n",
       "    }\n",
       "</style>\n",
       "<table border=\"1\" class=\"dataframe\">\n",
       "  <thead>\n",
       "    <tr style=\"text-align: right;\">\n",
       "      <th></th>\n",
       "      <th>user_id</th>\n",
       "      <th>time</th>\n",
       "      <th>bet</th>\n",
       "      <th>win</th>\n",
       "      <th>daytime</th>\n",
       "    </tr>\n",
       "  </thead>\n",
       "  <tbody>\n",
       "    <tr>\n",
       "      <th>0</th>\n",
       "      <td>user_919</td>\n",
       "      <td>2019-01-01 14:06:51</td>\n",
       "      <td>NaN</td>\n",
       "      <td>NaN</td>\n",
       "      <td>day</td>\n",
       "    </tr>\n",
       "    <tr>\n",
       "      <th>1</th>\n",
       "      <td>user_973</td>\n",
       "      <td>2019-01-01 14:51:16</td>\n",
       "      <td>NaN</td>\n",
       "      <td>NaN</td>\n",
       "      <td>day</td>\n",
       "    </tr>\n",
       "    <tr>\n",
       "      <th>2</th>\n",
       "      <td>user_903</td>\n",
       "      <td>2019-01-01 16:31:16</td>\n",
       "      <td>NaN</td>\n",
       "      <td>NaN</td>\n",
       "      <td>day</td>\n",
       "    </tr>\n",
       "    <tr>\n",
       "      <th>3</th>\n",
       "      <td>user_954</td>\n",
       "      <td>2019-01-01 17:17:51</td>\n",
       "      <td>NaN</td>\n",
       "      <td>NaN</td>\n",
       "      <td>day</td>\n",
       "    </tr>\n",
       "    <tr>\n",
       "      <th>4</th>\n",
       "      <td>user_954</td>\n",
       "      <td>2019-01-01 21:31:18</td>\n",
       "      <td>NaN</td>\n",
       "      <td>NaN</td>\n",
       "      <td>elvin</td>\n",
       "    </tr>\n",
       "    <tr>\n",
       "      <th>...</th>\n",
       "      <td>...</td>\n",
       "      <td>...</td>\n",
       "      <td>...</td>\n",
       "      <td>...</td>\n",
       "      <td>...</td>\n",
       "    </tr>\n",
       "    <tr>\n",
       "      <th>991</th>\n",
       "      <td>user_965</td>\n",
       "      <td>2019-04-20 12:55:41</td>\n",
       "      <td>800.0</td>\n",
       "      <td>6927.0</td>\n",
       "      <td>day</td>\n",
       "    </tr>\n",
       "    <tr>\n",
       "      <th>992</th>\n",
       "      <td>user_967</td>\n",
       "      <td>2019-04-20 14:59:36</td>\n",
       "      <td>10154.0</td>\n",
       "      <td>NaN</td>\n",
       "      <td>day</td>\n",
       "    </tr>\n",
       "    <tr>\n",
       "      <th>993</th>\n",
       "      <td>user_973</td>\n",
       "      <td>2019-04-20 17:09:56</td>\n",
       "      <td>10254.0</td>\n",
       "      <td>NaN</td>\n",
       "      <td>day</td>\n",
       "    </tr>\n",
       "    <tr>\n",
       "      <th>994</th>\n",
       "      <td>user_977</td>\n",
       "      <td>2019-04-20 18:10:07</td>\n",
       "      <td>10354.0</td>\n",
       "      <td>NaN</td>\n",
       "      <td>elvin</td>\n",
       "    </tr>\n",
       "    <tr>\n",
       "      <th>995</th>\n",
       "      <td>user_984</td>\n",
       "      <td>2019-04-20 09:59:58</td>\n",
       "      <td>9754.0</td>\n",
       "      <td>NaN</td>\n",
       "      <td>morning</td>\n",
       "    </tr>\n",
       "  </tbody>\n",
       "</table>\n",
       "<p>985 rows × 5 columns</p>\n",
       "</div>"
      ],
      "text/plain": [
       "      user_id                time      bet     win  daytime\n",
       "0    user_919 2019-01-01 14:06:51      NaN     NaN      day\n",
       "1    user_973 2019-01-01 14:51:16      NaN     NaN      day\n",
       "2    user_903 2019-01-01 16:31:16      NaN     NaN      day\n",
       "3    user_954 2019-01-01 17:17:51      NaN     NaN      day\n",
       "4    user_954 2019-01-01 21:31:18      NaN     NaN    elvin\n",
       "..        ...                 ...      ...     ...      ...\n",
       "991  user_965 2019-04-20 12:55:41    800.0  6927.0      day\n",
       "992  user_967 2019-04-20 14:59:36  10154.0     NaN      day\n",
       "993  user_973 2019-04-20 17:09:56  10254.0     NaN      day\n",
       "994  user_977 2019-04-20 18:10:07  10354.0     NaN    elvin\n",
       "995  user_984 2019-04-20 09:59:58   9754.0     NaN  morning\n",
       "\n",
       "[985 rows x 5 columns]"
      ]
     },
     "execution_count": 190,
     "metadata": {},
     "output_type": "execute_result"
    }
   ],
   "source": [
    "log.dropna(axis=0, subset=['user_id', 'time'])"
   ]
  },
  {
   "cell_type": "code",
   "execution_count": null,
   "metadata": {},
   "outputs": [],
   "source": [
    "log = log.drop_duplicates(subset=['user_id', 'time'])"
   ]
  },
  {
   "cell_type": "code",
   "execution_count": null,
   "metadata": {},
   "outputs": [],
   "source": [
    "log.info()"
   ]
  },
  {
   "cell_type": "code",
   "execution_count": null,
   "metadata": {},
   "outputs": [],
   "source": [
    "log.time.max()"
   ]
  },
  {
   "cell_type": "code",
   "execution_count": 193,
   "metadata": {},
   "outputs": [
    {
     "data": {
      "text/html": [
       "<div>\n",
       "<style scoped>\n",
       "    .dataframe tbody tr th:only-of-type {\n",
       "        vertical-align: middle;\n",
       "    }\n",
       "\n",
       "    .dataframe tbody tr th {\n",
       "        vertical-align: top;\n",
       "    }\n",
       "\n",
       "    .dataframe thead th {\n",
       "        text-align: right;\n",
       "    }\n",
       "</style>\n",
       "<table border=\"1\" class=\"dataframe\">\n",
       "  <thead>\n",
       "    <tr style=\"text-align: right;\">\n",
       "      <th></th>\n",
       "      <th>user_id</th>\n",
       "      <th>time</th>\n",
       "      <th>bet</th>\n",
       "      <th>win</th>\n",
       "      <th>daytime</th>\n",
       "      <th>hour</th>\n",
       "    </tr>\n",
       "  </thead>\n",
       "  <tbody>\n",
       "    <tr>\n",
       "      <th>0</th>\n",
       "      <td>user_919</td>\n",
       "      <td>2019-01-01 14:06:51</td>\n",
       "      <td>NaN</td>\n",
       "      <td>NaN</td>\n",
       "      <td>day</td>\n",
       "      <td>14</td>\n",
       "    </tr>\n",
       "    <tr>\n",
       "      <th>1</th>\n",
       "      <td>user_973</td>\n",
       "      <td>2019-01-01 14:51:16</td>\n",
       "      <td>NaN</td>\n",
       "      <td>NaN</td>\n",
       "      <td>day</td>\n",
       "      <td>14</td>\n",
       "    </tr>\n",
       "    <tr>\n",
       "      <th>2</th>\n",
       "      <td>user_903</td>\n",
       "      <td>2019-01-01 16:31:16</td>\n",
       "      <td>NaN</td>\n",
       "      <td>NaN</td>\n",
       "      <td>day</td>\n",
       "      <td>16</td>\n",
       "    </tr>\n",
       "    <tr>\n",
       "      <th>3</th>\n",
       "      <td>user_954</td>\n",
       "      <td>2019-01-01 17:17:51</td>\n",
       "      <td>NaN</td>\n",
       "      <td>NaN</td>\n",
       "      <td>day</td>\n",
       "      <td>17</td>\n",
       "    </tr>\n",
       "    <tr>\n",
       "      <th>4</th>\n",
       "      <td>user_954</td>\n",
       "      <td>2019-01-01 21:31:18</td>\n",
       "      <td>NaN</td>\n",
       "      <td>NaN</td>\n",
       "      <td>elvin</td>\n",
       "      <td>21</td>\n",
       "    </tr>\n",
       "    <tr>\n",
       "      <th>...</th>\n",
       "      <td>...</td>\n",
       "      <td>...</td>\n",
       "      <td>...</td>\n",
       "      <td>...</td>\n",
       "      <td>...</td>\n",
       "      <td>...</td>\n",
       "    </tr>\n",
       "    <tr>\n",
       "      <th>991</th>\n",
       "      <td>user_965</td>\n",
       "      <td>2019-04-20 12:55:41</td>\n",
       "      <td>800.0</td>\n",
       "      <td>6927.0</td>\n",
       "      <td>day</td>\n",
       "      <td>12</td>\n",
       "    </tr>\n",
       "    <tr>\n",
       "      <th>992</th>\n",
       "      <td>user_967</td>\n",
       "      <td>2019-04-20 14:59:36</td>\n",
       "      <td>10154.0</td>\n",
       "      <td>NaN</td>\n",
       "      <td>day</td>\n",
       "      <td>14</td>\n",
       "    </tr>\n",
       "    <tr>\n",
       "      <th>993</th>\n",
       "      <td>user_973</td>\n",
       "      <td>2019-04-20 17:09:56</td>\n",
       "      <td>10254.0</td>\n",
       "      <td>NaN</td>\n",
       "      <td>day</td>\n",
       "      <td>17</td>\n",
       "    </tr>\n",
       "    <tr>\n",
       "      <th>994</th>\n",
       "      <td>user_977</td>\n",
       "      <td>2019-04-20 18:10:07</td>\n",
       "      <td>10354.0</td>\n",
       "      <td>NaN</td>\n",
       "      <td>elvin</td>\n",
       "      <td>18</td>\n",
       "    </tr>\n",
       "    <tr>\n",
       "      <th>995</th>\n",
       "      <td>user_984</td>\n",
       "      <td>2019-04-20 09:59:58</td>\n",
       "      <td>9754.0</td>\n",
       "      <td>NaN</td>\n",
       "      <td>morning</td>\n",
       "      <td>9</td>\n",
       "    </tr>\n",
       "  </tbody>\n",
       "</table>\n",
       "<p>985 rows × 6 columns</p>\n",
       "</div>"
      ],
      "text/plain": [
       "      user_id                time      bet     win  daytime  hour\n",
       "0    user_919 2019-01-01 14:06:51      NaN     NaN      day    14\n",
       "1    user_973 2019-01-01 14:51:16      NaN     NaN      day    14\n",
       "2    user_903 2019-01-01 16:31:16      NaN     NaN      day    16\n",
       "3    user_954 2019-01-01 17:17:51      NaN     NaN      day    17\n",
       "4    user_954 2019-01-01 21:31:18      NaN     NaN    elvin    21\n",
       "..        ...                 ...      ...     ...      ...   ...\n",
       "991  user_965 2019-04-20 12:55:41    800.0  6927.0      day    12\n",
       "992  user_967 2019-04-20 14:59:36  10154.0     NaN      day    14\n",
       "993  user_973 2019-04-20 17:09:56  10254.0     NaN      day    17\n",
       "994  user_977 2019-04-20 18:10:07  10354.0     NaN    elvin    18\n",
       "995  user_984 2019-04-20 09:59:58   9754.0     NaN  morning     9\n",
       "\n",
       "[985 rows x 6 columns]"
      ]
     },
     "execution_count": 193,
     "metadata": {},
     "output_type": "execute_result"
    }
   ],
   "source": [
    "log"
   ]
  },
  {
   "cell_type": "code",
   "execution_count": 187,
   "metadata": {},
   "outputs": [],
   "source": [
    "def hour_to_daytime(hours):\n",
    "    if hours >=0 and hours < 6:\n",
    "        return 'night'\n",
    "    elif hours >= 6 and hours < 12:\n",
    "        return 'morning'\n",
    "    elif hours >= 12 and hours < 18:\n",
    "        return 'day'\n",
    "    else:\n",
    "        return 'elvin'"
   ]
  },
  {
   "cell_type": "code",
   "execution_count": 188,
   "metadata": {},
   "outputs": [],
   "source": [
    "log['daytime'] = log.time.dt.hour.apply(hour_to_daytime)"
   ]
  },
  {
   "cell_type": "code",
   "execution_count": 189,
   "metadata": {},
   "outputs": [
    {
     "data": {
      "text/plain": [
       "elvin      227\n",
       "day        240\n",
       "morning    253\n",
       "night      265\n",
       "Name: daytime, dtype: int64"
      ]
     },
     "execution_count": 189,
     "metadata": {},
     "output_type": "execute_result"
    }
   ],
   "source": [
    "log.daytime.value_counts(ascending=True)"
   ]
  },
  {
   "cell_type": "code",
   "execution_count": 192,
   "metadata": {},
   "outputs": [],
   "source": [
    "log['hour'] = log.time.dt.hour"
   ]
  }
 ],
 "metadata": {
  "kernelspec": {
   "display_name": "Python 3.10.5 64-bit",
   "language": "python",
   "name": "python3"
  },
  "language_info": {
   "codemirror_mode": {
    "name": "ipython",
    "version": 3
   },
   "file_extension": ".py",
   "mimetype": "text/x-python",
   "name": "python",
   "nbconvert_exporter": "python",
   "pygments_lexer": "ipython3",
   "version": "3.10.5"
  },
  "orig_nbformat": 4,
  "vscode": {
   "interpreter": {
    "hash": "52bb6d70ef49c02ab2aa43ab31bba4edd1c59a51e59b9fce56cbe4e55ae05671"
   }
  }
 },
 "nbformat": 4,
 "nbformat_minor": 2
}
