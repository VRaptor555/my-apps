{
 "cells": [
  {
   "cell_type": "markdown",
   "metadata": {},
   "source": [
    "Создадим генеральную совокупность с оценками от 1 до 5 и размером 1000 наблюдений."
   ]
  },
  {
   "cell_type": "code",
   "execution_count": 22,
   "metadata": {},
   "outputs": [],
   "source": [
    "import numpy as np\n",
    "import random\n",
    "import pandas as pd\n",
    "\n",
    "df = []\n",
    "for i in range(0,1000):\n",
    "   r = random.randint(1, 5)\n",
    "   df.append(r)\n",
    "  \n",
    "df = np.array(df) "
   ]
  },
  {
   "cell_type": "markdown",
   "metadata": {},
   "source": [
    "Ради интереса посмотрим настоящее среднее генеральной совокупности."
   ]
  },
  {
   "cell_type": "code",
   "execution_count": 23,
   "metadata": {},
   "outputs": [
    {
     "data": {
      "text/plain": [
       "2.98"
      ]
     },
     "execution_count": 23,
     "metadata": {},
     "output_type": "execute_result"
    }
   ],
   "source": [
    "df.mean()"
   ]
  },
  {
   "cell_type": "markdown",
   "metadata": {},
   "source": [
    "Мы получили генеральную совокупность. Теперь разделим её на две части."
   ]
  },
  {
   "cell_type": "code",
   "execution_count": 24,
   "metadata": {},
   "outputs": [],
   "source": [
    "df_a = df[0:499]\n",
    "df_b = df[500:999]"
   ]
  },
  {
   "cell_type": "markdown",
   "metadata": {},
   "source": [
    "И из каждой части возьмём равные выборки по сто оценок в каждой:"
   ]
  },
  {
   "cell_type": "code",
   "execution_count": 25,
   "metadata": {},
   "outputs": [],
   "source": [
    "sample_a = np.random.choice(df_a, size=100)\n",
    "sample_b = np.random.choice(df_b, size=100)"
   ]
  },
  {
   "cell_type": "markdown",
   "metadata": {},
   "source": [
    "Теперь проверим нулевую гипотезу о том, что средний балл группы A равен среднему баллу группы B.\n",
    "\n",
    "`Важно!\n",
    "Методу ttest_ind можно передать и третий параметр — equal_var. Этот параметр не является обязательным; он передаёт булевы значения, сообщающие методу информацию о том, считать ли дисперсию выборок равной. Если его не указывать, то по умолчанию он задаётся как True. Данный параметр даёт более точные результаты теста. `"
   ]
  },
  {
   "cell_type": "markdown",
   "metadata": {},
   "source": [
    "Для начала импортируем необходимые библиотеки:"
   ]
  },
  {
   "cell_type": "code",
   "execution_count": 26,
   "metadata": {},
   "outputs": [],
   "source": [
    "from scipy import stats as st #\n"
   ]
  },
  {
   "cell_type": "markdown",
   "metadata": {},
   "source": [
    "Задаём желаемый уровень статистической значимости: "
   ]
  },
  {
   "cell_type": "code",
   "execution_count": 27,
   "metadata": {},
   "outputs": [],
   "source": [
    "alpha = .05"
   ]
  },
  {
   "cell_type": "markdown",
   "metadata": {},
   "source": [
    "Запускаем метод, чтобы получить p-value, которое будем сравнивать с a:"
   ]
  },
  {
   "cell_type": "code",
   "execution_count": 28,
   "metadata": {},
   "outputs": [
    {
     "name": "stdout",
     "output_type": "stream",
     "text": [
      "Ttest_indResult(statistic=-0.764968387302328, pvalue=0.4452011632819767)\n"
     ]
    }
   ],
   "source": [
    "results = st.ttest_ind(sample_a, sample_b, equal_var = True)\n",
    "print(results)"
   ]
  },
  {
   "cell_type": "markdown",
   "metadata": {},
   "source": [
    "Мы видим что, p-value равно 0.84 — это значительно больше желаемого уровня статистической значимости.\n",
    "\n",
    "Давайте пропишем это в коде:"
   ]
  },
  {
   "cell_type": "code",
   "execution_count": 29,
   "metadata": {},
   "outputs": [
    {
     "name": "stdout",
     "output_type": "stream",
     "text": [
      "p-value 0.4452011632819767\n",
      "Не отвергаем нулевую гипотезу - Средние баллы обеих групп равны\n"
     ]
    }
   ],
   "source": [
    "print('p-value', results.pvalue)\n",
    "\n",
    "if (results.pvalue < alpha):\n",
    "   print(\"Отвергаем нулевую гипотезы - Cредние баллы не равны\")\n",
    "else:\n",
    "   print(\"Не отвергаем нулевую гипотезу - Средние баллы обеих групп равны\")"
   ]
  },
  {
   "cell_type": "markdown",
   "metadata": {},
   "source": [
    "#### ГИПОТЕЗА О РАВЕНСТВЕ СРЕДНЕГО ГЕНЕРАЛЬНОЙ СОВОКУПНОСТИ КОНКРЕТНОМУ ЗНАЧЕНИЮ\n",
    "Теперь на основе тех же данных проверим гипотезу о равенстве среднего балла одной из выборок и известного нам среднего значения генеральной совокупности.  \n",
    "\n",
    "Напомним, чему равно среднее всей генеральной совокупности."
   ]
  },
  {
   "cell_type": "code",
   "execution_count": 30,
   "metadata": {},
   "outputs": [
    {
     "data": {
      "text/plain": [
       "2.98"
      ]
     },
     "execution_count": 30,
     "metadata": {},
     "output_type": "execute_result"
    }
   ],
   "source": [
    "df.mean()"
   ]
  },
  {
   "cell_type": "markdown",
   "metadata": {},
   "source": [
    "Для примера сравним выборку группы A со средним генеральной совокупности.\n",
    "\n",
    "Среднее группы A равно: "
   ]
  },
  {
   "cell_type": "code",
   "execution_count": 31,
   "metadata": {},
   "outputs": [
    {
     "data": {
      "text/plain": [
       "2.83"
      ]
     },
     "execution_count": 31,
     "metadata": {},
     "output_type": "execute_result"
    }
   ],
   "source": [
    "sample_a.mean()"
   ]
  },
  {
   "cell_type": "markdown",
   "metadata": {},
   "source": [
    "Зададим нулевую и альтернативную гипотезы. \n",
    "\n",
    "H0: Выборочное среднее равно 2.98.\n",
    "\n",
    "H1: Выборочное среднее меньше 2.98.\n",
    "\n",
    "Для сравнения используем метод ttest_1samp (на вход ему передаются значения выборки и значение, с которым мы хотим провести сравнение):"
   ]
  },
  {
   "cell_type": "code",
   "execution_count": 33,
   "metadata": {},
   "outputs": [
    {
     "name": "stdout",
     "output_type": "stream",
     "text": [
      "pvalue:  0.15169379317942425\n",
      "Не отвергаем нулевую гипотезу\n"
     ]
    }
   ],
   "source": [
    "alpha = .05\n",
    "\n",
    "t_test = st.ttest_1samp(sample_a, df.mean())\n",
    "\n",
    "\n",
    "print('pvalue: ', t_test.pvalue / 2)\n",
    "\n",
    "if (t_test.pvalue / 2 < alpha) and (sample_a.mean() < df.mean()):\n",
    "   print(\"Отвергаем нулевую гипотезу\")\n",
    "else:\n",
    "   print(\"Не отвергаем нулевую гипотезу\")"
   ]
  },
  {
   "cell_type": "markdown",
   "metadata": {},
   "source": [
    "Так как тест односторонний, то полученное значение p-value делится на два, а для того чтобы отвергнуть нулевую гипотезу, среднее значение также должно быть меньше того, с которым проводится сравнение.\n",
    "\n",
    "Если бы альтернативная гипотеза звучала так: выборочное среднее больше 3.0029, тогда p-value также делилось бы на два, но во втором условии выборочное среднее было бы больше значения, с которым проводится сравнение.\n",
    "\n",
    "Если задача — сравнить равенство выборочно среднего и сравниваемого значений, без учёта больше оно или меньше, тогда делить p-value на два нет необходимости. Второе условие также не требуется."
   ]
  }
 ],
 "metadata": {
  "kernelspec": {
   "display_name": "Python 3.10.5 64-bit",
   "language": "python",
   "name": "python3"
  },
  "language_info": {
   "codemirror_mode": {
    "name": "ipython",
    "version": 3
   },
   "file_extension": ".py",
   "mimetype": "text/x-python",
   "name": "python",
   "nbconvert_exporter": "python",
   "pygments_lexer": "ipython3",
   "version": "3.10.5"
  },
  "orig_nbformat": 4,
  "vscode": {
   "interpreter": {
    "hash": "36c6851108447751ff9a78a375ee7b602a45470c5b7394c41491d0df81785d53"
   }
  }
 },
 "nbformat": 4,
 "nbformat_minor": 2
}
