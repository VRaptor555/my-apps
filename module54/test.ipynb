{
 "cells": [
  {
   "cell_type": "code",
   "execution_count": 1,
   "metadata": {},
   "outputs": [],
   "source": [
    "import math"
   ]
  },
  {
   "cell_type": "code",
   "execution_count": 5,
   "metadata": {},
   "outputs": [
    {
     "name": "stdout",
     "output_type": "stream",
     "text": [
      "0.1855\n"
     ]
    }
   ],
   "source": [
    "# Вероятность ошибки при A/B тестировании \"k\" групп\n",
    "alpha = 0.05 # Уровень значимости\n",
    "k = 4\n",
    "ver = 1-(1-alpha)**k\n",
    "print(round(ver, 4))"
   ]
  },
  {
   "cell_type": "markdown",
   "metadata": {},
   "source": [
    "* Поправка Бонферрони `a=a/m`, где m - число групп\n",
    "* Метод Холма `a1=a/m` - для первой группы, `a2=a/(m-1)` - для второй группы, `a3=a/(m-2)` - для третьей группы .... `am=a` последнее сравнение\n",
    "* Метод Шидака `a=1-(1-a)^1/m`"
   ]
  },
  {
   "cell_type": "code",
   "execution_count": 8,
   "metadata": {},
   "outputs": [
    {
     "name": "stdout",
     "output_type": "stream",
     "text": [
      "Бонферрони: 0.0491 0.0125\n",
      "Шидака: 0.05 0.0127\n"
     ]
    }
   ],
   "source": [
    "a = 0.05\n",
    "m = 4\n",
    "# Метод Бонферрони\n",
    "alpha = a/m\n",
    "ver = 1-(1-alpha)**m\n",
    "print(\"Бонферрони:\",round(ver, 4), round(alpha,4))\n",
    "# Метод Шидака\n",
    "alpha = 1-(1-a)**(1/m)\n",
    "ver = 1-(1-alpha)**m\n",
    "print(\"Шидака:\",round(ver, 4), round(alpha,4))"
   ]
  }
 ],
 "metadata": {
  "kernelspec": {
   "display_name": "Python 3.10.5 64-bit",
   "language": "python",
   "name": "python3"
  },
  "language_info": {
   "codemirror_mode": {
    "name": "ipython",
    "version": 3
   },
   "file_extension": ".py",
   "mimetype": "text/x-python",
   "name": "python",
   "nbconvert_exporter": "python",
   "pygments_lexer": "ipython3",
   "version": "3.10.5"
  },
  "orig_nbformat": 4,
  "vscode": {
   "interpreter": {
    "hash": "52bb6d70ef49c02ab2aa43ab31bba4edd1c59a51e59b9fce56cbe4e55ae05671"
   }
  }
 },
 "nbformat": 4,
 "nbformat_minor": 2
}
