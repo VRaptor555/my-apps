{
 "cells": [
  {
   "cell_type": "markdown",
   "metadata": {},
   "source": [
    "# THEORY. Тест Манна-Уитни\n",
    "До этого мы изучали параметрические тесты — тесты, которые по выборке судят о параметрах генеральной совокупности. \n",
    "\n",
    "Для распределений, которые не являются нормальными (то есть содержат выбросы), используются непараметрические тесты.\n",
    "\n",
    "Критерий Манна-Уитни (он же U-тест) также встроен в библиотеку scipy.stats. Его суть заключается в том, что значения в обеих выборках сортируются по убыванию и каждому значению присваивается ранг — порядковое место числа в списке.\n",
    "\n",
    "Работа с рангами позволяет игнорировать выбросы в выборках. \n",
    "\n",
    "Проверим гипотезу о количестве лайков двух блогеров. Один из них утверждает, что они получают одинаковое количество лайков по дням. Давайте выясним, так ли это.\n",
    "\n",
    "    Примечание. Это абстрактный пример, за ним не стоит реальный датасет. Порядок действий, описанный ниже, призван показать общую логику решения задачи.\n",
    "\n",
    "Импортируем необходимые библиотеки и загрузим датафрейм: "
   ]
  },
  {
   "cell_type": "code",
   "execution_count": null,
   "metadata": {},
   "outputs": [],
   "source": [
    "import pandas as pd\n",
    "import scipy.stats as st \n",
    "\n",
    "df = pd.read_excel('blogger_likes.xlsx')"
   ]
  },
  {
   "cell_type": "markdown",
   "metadata": {},
   "source": [
    "Построим график и посмотрим на распределение:"
   ]
  },
  {
   "cell_type": "code",
   "execution_count": null,
   "metadata": {},
   "outputs": [],
   "source": [
    "df[df['group'] == 'A']['likes'].hist()\n",
    "df[df['group'] == 'B']['likes'].hist(alpha=0.4)"
   ]
  },
  {
   "cell_type": "markdown",
   "metadata": {},
   "source": [
    "Такое распределение сложно назвать нормальным: в одни дни лайков было мало, в другие, наоборот, много.\n",
    "\n",
    "Давайте проверим гипотезу!\n",
    "\n",
    "Запишем количество лайков каждого блогера в отдельную переменную:"
   ]
  },
  {
   "cell_type": "code",
   "execution_count": null,
   "metadata": {},
   "outputs": [],
   "source": [
    "blogger_1 = df[df['group'] == 'A']['likes']\n",
    "blogger_2 = df[df['group'] == 'B']['likes']"
   ]
  },
  {
   "cell_type": "markdown",
   "metadata": {},
   "source": [
    "Зададим уровень значимости и применим теста Манна-Уитни:"
   ]
  },
  {
   "cell_type": "code",
   "execution_count": null,
   "metadata": {},
   "outputs": [],
   "source": [
    "alpha = .05\n",
    "results = st.mannwhitneyu(blogger_1, blogger_2)\n",
    "print(results)"
   ]
  },
  {
   "cell_type": "code",
   "execution_count": null,
   "metadata": {},
   "outputs": [],
   "source": [
    "results.pvalue < alpha"
   ]
  },
  {
   "cell_type": "markdown",
   "metadata": {},
   "source": [
    "Статистически значимой разницы нет. Отвергнуть нулевую гипотезу не получилось. Похоже, что количество лайков, получаемых в сутки, одинаково."
   ]
  }
 ],
 "metadata": {
  "kernelspec": {
   "display_name": "Python 3.10.5 64-bit",
   "language": "python",
   "name": "python3"
  },
  "language_info": {
   "name": "python",
   "version": "3.10.5"
  },
  "orig_nbformat": 4,
  "vscode": {
   "interpreter": {
    "hash": "36c6851108447751ff9a78a375ee7b602a45470c5b7394c41491d0df81785d53"
   }
  }
 },
 "nbformat": 4,
 "nbformat_minor": 2
}
