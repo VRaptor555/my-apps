{
 "cells": [
  {
   "cell_type": "code",
   "execution_count": 1,
   "metadata": {},
   "outputs": [],
   "source": [
    "# !pip3 install mathjax"
   ]
  },
  {
   "cell_type": "markdown",
   "metadata": {},
   "source": [
    "В модулях по статистике вы уже изучали Z-тест и даже применяли его на практике для проверки средних значений при известной дисперсии генеральной совокупности. Сегодня мы изучим, как применять Z-тест для проверки равенства двух долей.\n",
    "\n",
    "Мы научимся сравнивать, например, долю пользователей, которая совершила покупку на сайте, от всех пользователей этой группы A/B-теста, зашедших на сайт. Одна из самых популярных задач сравнения долей — сравнение показателя конверсии сайта для группы A и B. \n",
    "\n",
    "Чтобы объяснения были понятнее, мы будем разбирать тему на примере конверсии сайта, но это не значит, что данный тест можно применять только к конверсии. Например, так же можно оценивать долю больных людей, долю просроченных кредитов и т. д.\n",
    "\n",
    "По конверсии выборки мы так же, как и в случае со средним, можем сделать вывод о конверсии генеральной совокупности: выборочные доли будут нормально распределены вокруг настоящей доли генеральной совокупности.\n",
    "\n",
    "Ниже представлена формула для расчёта Z-теста со стандартным нормальным распределением: со средним, равным нулю, и стандартным отклонением, равным единице. \n",
    "\n",
    "\n",
    "$$Z\\approx\\frac{(P_1-P_2)-(\\pi_1-\\pi_2)}{\\sqrt{P(1-P)(\\frac{1}{n_1}+\\frac{1}{n_2})}}\\sim N(0,1)$$ \n",
    "\n",
    "где $n$ — размер каждой выборки, $P_1, P_2$ — пропорции в выборках, $P$ — совокупная пропорция в обеих выборках, $\\pi_1, \\pi_2$ — реальная пропорция в генеральной совокупности.\n"
   ]
  },
  {
   "cell_type": "markdown",
   "metadata": {},
   "source": [
    "Мы уже знаем, что нулевая гипотеза всегда предполагает, что средние исследуемых генеральных совокупностей равны, то есть\n",
    "$$H_0: \\pi_1 = \\pi_2$$\n",
    "$$H_1: \\pi_1 \\neq \\pi_2$$\n",
    "\n",
    "В таком случае, если нулевая гипотеза верна, то выражение $\\pi_1 - \\pi_2$ из формулы выше будет равняться нулю, а критерий будет рассчитываться по известным нам выборочным данным.\n",
    "\n",
    "Прежде чем мы приступим к анализу в Python, рассмотрим формулу на примере."
   ]
  },
  {
   "cell_type": "markdown",
   "metadata": {},
   "source": [
    "#### ПРАКТИКА\n",
    "В группе А и B — 400 посетителей сайта; трафик распределился равномерно — 50/50.<br>\n",
    "В группе А было совершено 64 конверсии, а в группе B — 92;<br>\n",
    "Принятый уровень статистической значимости — 5%.<br>\n",
    "\n",
    "Дано:<br>\n",
    "$n_1 = 200$<br>\n",
    "$n_2 = 200$\n",
    "<br><br>\n",
    "$X_1 = 64$<br>\n",
    "$X_2 = 92$\n",
    "<br><br>\n",
    "$P_1 = \\frac{64}{200}$<br><br>\n",
    "$P_2 = \\frac{92}{200}$<br><br>\n",
    "$P = \\frac{X_1+X_2}{n_1+n_2} = \\frac{64+92}{200+200}$\n",
    "\n"
   ]
  },
  {
   "cell_type": "code",
   "execution_count": 3,
   "metadata": {},
   "outputs": [],
   "source": [
    "from scipy import stats as st\n",
    "import numpy as np\n",
    "import math\n"
   ]
  },
  {
   "cell_type": "code",
   "execution_count": 4,
   "metadata": {},
   "outputs": [
    {
     "name": "stdout",
     "output_type": "stream",
     "text": [
      "-2.870323288366554\n"
     ]
    }
   ],
   "source": [
    "n1 = 200\n",
    "n2 = 200\n",
    "x1 = 64\n",
    "x2 = 92\n",
    "p1 = x1/n1\n",
    "p2 = x2/n2\n",
    "p = (x1+x2) / (n1+n2)\n",
    "z = (p1-p2) / math.sqrt(p*(1-p)*(1/n1+1/n2))\n",
    "print(z)"
   ]
  },
  {
   "cell_type": "markdown",
   "metadata": {},
   "source": [
    "Зададим критический уровень статистической значимости:"
   ]
  },
  {
   "cell_type": "code",
   "execution_count": 5,
   "metadata": {},
   "outputs": [],
   "source": [
    "a = .05"
   ]
  },
  {
   "cell_type": "markdown",
   "metadata": {},
   "source": [
    "Запишем в переменные значения из условия: "
   ]
  },
  {
   "cell_type": "code",
   "execution_count": 6,
   "metadata": {},
   "outputs": [],
   "source": [
    "x1 = 64\n",
    "x2 = 92\n",
    "\n",
    "n1 = 200\n",
    "n2 = 200\n",
    "\n",
    "p1 = x1 / n1\n",
    "p2 = x2 / n2\n",
    "\n",
    "p = (x1 + x2) / (n1 + n2)"
   ]
  },
  {
   "cell_type": "markdown",
   "metadata": {},
   "source": [
    "Посчитаем разницу в пропорциях: "
   ]
  },
  {
   "cell_type": "code",
   "execution_count": 7,
   "metadata": {},
   "outputs": [],
   "source": [
    "diff = p1 - p2"
   ]
  },
  {
   "cell_type": "markdown",
   "metadata": {},
   "source": [
    "Рассчитаем Z-статистику:"
   ]
  },
  {
   "cell_type": "code",
   "execution_count": 9,
   "metadata": {},
   "outputs": [
    {
     "name": "stdout",
     "output_type": "stream",
     "text": [
      "-2.870323288366554\n"
     ]
    }
   ],
   "source": [
    "z = diff / math.sqrt(p * (1 - p) * (1/n1 + 1/n2))\n",
    "print(z)"
   ]
  },
  {
   "cell_type": "markdown",
   "metadata": {},
   "source": [
    "Теперь из полученной Z-статистики рассчитаем p-value при нормальном стандартном распределении.\n",
    "\n",
    "Зададим нормальное стандартное распределение со средним, равным нулю, и стандартным отклонением, равным единице:"
   ]
  },
  {
   "cell_type": "code",
   "execution_count": 10,
   "metadata": {},
   "outputs": [],
   "source": [
    "distr = st.norm(0, 1)"
   ]
  },
  {
   "cell_type": "code",
   "execution_count": 11,
   "metadata": {},
   "outputs": [
    {
     "data": {
      "text/plain": [
       "0.004100523215951446"
      ]
     },
     "execution_count": 11,
     "metadata": {},
     "output_type": "execute_result"
    }
   ],
   "source": [
    "p_val = (1 - distr.cdf(abs(z))) * 2\n",
    "p_val"
   ]
  },
  {
   "cell_type": "markdown",
   "metadata": {},
   "source": [
    "Значение P меньше принятого уровня значимости: "
   ]
  },
  {
   "cell_type": "code",
   "execution_count": 12,
   "metadata": {},
   "outputs": [
    {
     "data": {
      "text/plain": [
       "True"
      ]
     },
     "execution_count": 12,
     "metadata": {},
     "output_type": "execute_result"
    }
   ],
   "source": [
    "p_val < a"
   ]
  },
  {
   "cell_type": "markdown",
   "metadata": {},
   "source": [
    "Отвергаем нулевую гипотезу, так как между долями есть значимая разница."
   ]
  }
 ],
 "metadata": {
  "kernelspec": {
   "display_name": "Python 3.10.5 64-bit",
   "language": "python",
   "name": "python3"
  },
  "language_info": {
   "codemirror_mode": {
    "name": "ipython",
    "version": 3
   },
   "file_extension": ".py",
   "mimetype": "text/x-python",
   "name": "python",
   "nbconvert_exporter": "python",
   "pygments_lexer": "ipython3",
   "version": "3.10.5"
  },
  "orig_nbformat": 4,
  "vscode": {
   "interpreter": {
    "hash": "52bb6d70ef49c02ab2aa43ab31bba4edd1c59a51e59b9fce56cbe4e55ae05671"
   }
  }
 },
 "nbformat": 4,
 "nbformat_minor": 2
}
