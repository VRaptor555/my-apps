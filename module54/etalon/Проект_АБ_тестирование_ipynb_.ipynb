{
  "nbformat": 4,
  "nbformat_minor": 5,
  "metadata": {
    "kernelspec": {
      "display_name": "Python 3",
      "language": "python",
      "name": "python3"
    },
    "language_info": {
      "codemirror_mode": {
        "name": "ipython",
        "version": 3
      },
      "file_extension": ".py",
      "mimetype": "text/x-python",
      "name": "python",
      "nbconvert_exporter": "python",
      "pygments_lexer": "ipython3",
      "version": "3.9.1"
    },
    "colab": {
      "name": "Копия блокнота \"Проект АБ тестирование.ipynb\"",
      "provenance": [],
      "collapsed_sections": [
        "tamil-moscow",
        "animal-fitness",
        "conceptual-former",
        "solid-guess",
        "false-cattle",
        "removed-faculty"
      ]
    }
  },
  "cells": [
    {
      "cell_type": "markdown",
      "metadata": {
        "id": "literary-fusion"
      },
      "source": [
        "# Проект: Анализ результатов А/Б теста.\n",
        "\n",
        "Вы аналитик в туристической фирме. Вы запустили новую акцию, чтобы продать как можно больше туров и разработали два варианта посадочной страницы. \n",
        "\n",
        "Стоимость туров:\n",
        "\n",
        "- Тайланд - 100 000 рублей;\n",
        "- Турция - 60 000 рублей;\n",
        "- Мальдивы - 200 000 рублей;\n",
        "- Санкт-Петербург - 10 000 рублей;\n",
        "- Камчатка - 150 000 рублей;\n",
        "\n",
        "Проверьте, какая из страниц приносит больше покупок.\n",
        "\n",
        "# Задача:\n",
        "- [ ] Провести первичный анализ датасет:\n",
        "    - [ ] Приведите столбцы к корректным типам данных;\n",
        "    - [ ] Убедиться, что данные по обеим группам представлены за одинаковый период; (Визуализировать)\n",
        "    - [ ] Проверить корректность распределения участников теста;\n",
        "    - [ ] Проверить различие в группах;\n",
        "    - [ ] Проверить пересечение аудитори в группах;\n",
        "    - [ ] Определить по группам:\n",
        "        - [ ] Количество пользователей;\n",
        "        - [ ] Количество покупок;\n",
        "        - [ ] Выручку;\n",
        "        - [ ] Конверсию;\n",
        "        - [ ] Cредний чек;\n",
        "    - [ ] Посмотите распределяются сумм покупок (визуализируйте);   \n",
        "    - [ ] Сделайте первичные выводы;\n",
        "- [ ] Куммулятивные метрики:  \n",
        "    - [ ] Постройте график конверсии в группах по дням;\n",
        "    - [ ] Постройте график среднего чека в группах по дням;\n",
        "    - [ ] Постройте граффик куммулятивных метрик:\n",
        "        - [ ] По конверсии;\n",
        "        - [ ] По среднему чеку;\n",
        "        - [ ] Сделайте выводы;\n",
        "- [ ] Статистическая проверка гипотез:\n",
        "    - [ ] Проверка гипотезы о равенстве конверсии;\n",
        "    - [ ] Проверка гипотезы о равенстве выручки;\n",
        "    - [ ] Проверка гипотезы о равенсте средних чеков по дням\n",
        "- [ ] Вывод"
      ],
      "id": "literary-fusion"
    },
    {
      "cell_type": "code",
      "metadata": {
        "id": "consistent-voltage"
      },
      "source": [
        "import pandas as pd\n",
        "import matplotlib.pyplot as plt\n",
        "import scipy.stats as st\n",
        "import random\n",
        "import numpy as np\n",
        "import math as mth"
      ],
      "id": "consistent-voltage",
      "execution_count": null,
      "outputs": []
    },
    {
      "cell_type": "code",
      "metadata": {
        "id": "indie-render"
      },
      "source": [
        "# Прочитаем файл:\n",
        "df = pd.read_csv('/Users/maksimkiricenko/Downloads/ab_data.csv')"
      ],
      "id": "indie-render",
      "execution_count": null,
      "outputs": []
    },
    {
      "cell_type": "code",
      "metadata": {
        "id": "entire-charity",
        "outputId": "eec9c892-a96d-4432-fcac-e5b87b798b13"
      },
      "source": [
        "# Выведем 1-е пять строк файла\n",
        "df.head()"
      ],
      "id": "entire-charity",
      "execution_count": null,
      "outputs": [
        {
          "data": {
            "text/html": [
              "<div>\n",
              "<style scoped>\n",
              "    .dataframe tbody tr th:only-of-type {\n",
              "        vertical-align: middle;\n",
              "    }\n",
              "\n",
              "    .dataframe tbody tr th {\n",
              "        vertical-align: top;\n",
              "    }\n",
              "\n",
              "    .dataframe thead th {\n",
              "        text-align: right;\n",
              "    }\n",
              "</style>\n",
              "<table border=\"1\" class=\"dataframe\">\n",
              "  <thead>\n",
              "    <tr style=\"text-align: right;\">\n",
              "      <th></th>\n",
              "      <th>Unnamed: 0</th>\n",
              "      <th>user_id</th>\n",
              "      <th>date</th>\n",
              "      <th>group</th>\n",
              "      <th>purchase</th>\n",
              "      <th>price</th>\n",
              "    </tr>\n",
              "  </thead>\n",
              "  <tbody>\n",
              "    <tr>\n",
              "      <th>0</th>\n",
              "      <td>0</td>\n",
              "      <td>851104</td>\n",
              "      <td>2021-01-21</td>\n",
              "      <td>A</td>\n",
              "      <td>0</td>\n",
              "      <td>0</td>\n",
              "    </tr>\n",
              "    <tr>\n",
              "      <th>1</th>\n",
              "      <td>1</td>\n",
              "      <td>804228</td>\n",
              "      <td>2021-01-12</td>\n",
              "      <td>A</td>\n",
              "      <td>0</td>\n",
              "      <td>0</td>\n",
              "    </tr>\n",
              "    <tr>\n",
              "      <th>2</th>\n",
              "      <td>2</td>\n",
              "      <td>661590</td>\n",
              "      <td>2021-01-11</td>\n",
              "      <td>B</td>\n",
              "      <td>0</td>\n",
              "      <td>0</td>\n",
              "    </tr>\n",
              "    <tr>\n",
              "      <th>3</th>\n",
              "      <td>3</td>\n",
              "      <td>853541</td>\n",
              "      <td>2021-01-08</td>\n",
              "      <td>B</td>\n",
              "      <td>0</td>\n",
              "      <td>0</td>\n",
              "    </tr>\n",
              "    <tr>\n",
              "      <th>4</th>\n",
              "      <td>4</td>\n",
              "      <td>864975</td>\n",
              "      <td>2021-01-21</td>\n",
              "      <td>A</td>\n",
              "      <td>1</td>\n",
              "      <td>150000</td>\n",
              "    </tr>\n",
              "  </tbody>\n",
              "</table>\n",
              "</div>"
            ],
            "text/plain": [
              "   Unnamed: 0  user_id        date group  purchase   price\n",
              "0           0   851104  2021-01-21     A         0       0\n",
              "1           1   804228  2021-01-12     A         0       0\n",
              "2           2   661590  2021-01-11     B         0       0\n",
              "3           3   853541  2021-01-08     B         0       0\n",
              "4           4   864975  2021-01-21     A         1  150000"
            ]
          },
          "execution_count": 3,
          "metadata": {},
          "output_type": "execute_result"
        }
      ]
    },
    {
      "cell_type": "code",
      "metadata": {
        "id": "varying-edition",
        "outputId": "57cf737c-3081-4de4-ee4b-6b8c2d218064"
      },
      "source": [
        "# Воспользуемся методом info и выведем информацию о датасете\n",
        "df.info()"
      ],
      "id": "varying-edition",
      "execution_count": null,
      "outputs": [
        {
          "name": "stdout",
          "output_type": "stream",
          "text": [
            "<class 'pandas.core.frame.DataFrame'>\n",
            "RangeIndex: 294478 entries, 0 to 294477\n",
            "Data columns (total 6 columns):\n",
            " #   Column      Non-Null Count   Dtype \n",
            "---  ------      --------------   ----- \n",
            " 0   Unnamed: 0  294478 non-null  int64 \n",
            " 1   user_id     294478 non-null  int64 \n",
            " 2   date        294478 non-null  object\n",
            " 3   group       294478 non-null  object\n",
            " 4   purchase    294478 non-null  int64 \n",
            " 5   price       294478 non-null  int64 \n",
            "dtypes: int64(4), object(2)\n",
            "memory usage: 13.5+ MB\n"
          ]
        }
      ]
    },
    {
      "cell_type": "markdown",
      "metadata": {
        "id": "invalid-mattress"
      },
      "source": [
        "В Датасете всего 293 478 строк. Пропущенные значения отсутствуют. \n",
        "Столбец 'date' имеет типа данных object , необходимо привести его к типу данных datetime для дальнейшей корректной работы с ним."
      ],
      "id": "invalid-mattress"
    },
    {
      "cell_type": "code",
      "metadata": {
        "id": "demographic-metabolism"
      },
      "source": [
        "df['date'] = pd.to_datetime(df['date'], format='%Y-%m-%d')"
      ],
      "id": "demographic-metabolism",
      "execution_count": null,
      "outputs": []
    },
    {
      "cell_type": "code",
      "metadata": {
        "scrolled": false,
        "id": "loved-navigator",
        "outputId": "cebfc275-b3e5-4931-ed08-04b4a020fcea"
      },
      "source": [
        "# Построим гистограмму по столбцу date для каждой из групп;\n",
        "\n",
        "ax = df[df['group'] == 'A'].hist('date', alpha=0.9)\n",
        "\n",
        "df[df['group'] == 'B'].hist('date', ax=ax, alpha=0.3)\n",
        "plt.xticks(rotation=50)\n",
        "plt.show()\n",
        "\n",
        "df['date'].describe()"
      ],
      "id": "loved-navigator",
      "execution_count": null,
      "outputs": [
        {
          "data": {
            "image/png": "[encoded data removed]",
            "text/plain": [
              "<Figure size 432x288 with 1 Axes>"
            ]
          },
          "metadata": {
            "needs_background": "light"
          },
          "output_type": "display_data"
        },
        {
          "name": "stderr",
          "output_type": "stream",
          "text": [
            "<ipython-input-6-14f0c0534adc>:9: FutureWarning: Treating datetime data as categorical rather than numeric in `.describe` is deprecated and will be removed in a future version of pandas. Specify `datetime_is_numeric=True` to silence this warning and adopt the future behavior now.\n",
            "  df['date'].describe()\n"
          ]
        },
        {
          "data": {
            "text/plain": [
              "count                  294478\n",
              "unique                     23\n",
              "top       2021-01-08 00:00:00\n",
              "freq                    13564\n",
              "first     2021-01-02 00:00:00\n",
              "last      2021-01-24 00:00:00\n",
              "Name: date, dtype: object"
            ]
          },
          "execution_count": 6,
          "metadata": {},
          "output_type": "execute_result"
        }
      ]
    },
    {
      "cell_type": "markdown",
      "metadata": {
        "id": "becoming-copyright"
      },
      "source": [
        "На гистограмме видно, что тест проводился co 2 по 24 января. "
      ],
      "id": "becoming-copyright"
    },
    {
      "cell_type": "code",
      "metadata": {
        "id": "stone-participant",
        "outputId": "d12e3053-29a4-4c44-b8b2-90712817697c"
      },
      "source": [
        "# проверим корректность распределения трафика по группам\n",
        "df['group'].value_counts()"
      ],
      "id": "stone-participant",
      "execution_count": null,
      "outputs": [
        {
          "data": {
            "text/plain": [
              "B    147276\n",
              "A    147202\n",
              "Name: group, dtype: int64"
            ]
          },
          "execution_count": 7,
          "metadata": {},
          "output_type": "execute_result"
        }
      ]
    },
    {
      "cell_type": "markdown",
      "metadata": {
        "id": "desperate-aggregate"
      },
      "source": [
        "Трафик распределен практически равномерно. "
      ],
      "id": "desperate-aggregate"
    },
    {
      "cell_type": "code",
      "metadata": {
        "id": "smooth-tuition",
        "outputId": "26b3191e-23d1-495b-ea5b-f71f138ae59d"
      },
      "source": [
        "#Проверим разницу в различии\n",
        "print('Разница между группами составляет {:.2%}'.format((df['group'].value_counts().B - df['group'].value_counts().A) / df['group'].value_counts().A))"
      ],
      "id": "smooth-tuition",
      "execution_count": null,
      "outputs": [
        {
          "name": "stdout",
          "output_type": "stream",
          "text": [
            "Разница между группами составляет 0.05%\n"
          ]
        }
      ]
    },
    {
      "cell_type": "markdown",
      "metadata": {
        "id": "significant-anger"
      },
      "source": [
        "Трафик отличается менее чем на 1 процент. Можно считать распределение корректным."
      ],
      "id": "significant-anger"
    },
    {
      "cell_type": "code",
      "metadata": {
        "id": "protective-objective"
      },
      "source": [
        "# Проверить пересечение аудитории в группах\n",
        "# Создадим сводную таблицу\n",
        "cross = df.pivot_table(index='user_id',\n",
        "              columns='group',\n",
        "              values='date',\n",
        "              aggfunc='max')"
      ],
      "id": "protective-objective",
      "execution_count": null,
      "outputs": []
    },
    {
      "cell_type": "code",
      "metadata": {
        "id": "opened-decrease",
        "outputId": "b18b817a-2116-44fd-c77a-1f130da0396d"
      },
      "source": [
        "# Из получившейся выше сводной таблицы выведем столбцы, где А и Б заполнены\n",
        "cross[(~cross['A'].isna()) & (~cross['B'].isna())]"
      ],
      "id": "opened-decrease",
      "execution_count": null,
      "outputs": [
        {
          "data": {
            "text/html": [
              "<div>\n",
              "<style scoped>\n",
              "    .dataframe tbody tr th:only-of-type {\n",
              "        vertical-align: middle;\n",
              "    }\n",
              "\n",
              "    .dataframe tbody tr th {\n",
              "        vertical-align: top;\n",
              "    }\n",
              "\n",
              "    .dataframe thead th {\n",
              "        text-align: right;\n",
              "    }\n",
              "</style>\n",
              "<table border=\"1\" class=\"dataframe\">\n",
              "  <thead>\n",
              "    <tr style=\"text-align: right;\">\n",
              "      <th>group</th>\n",
              "      <th>A</th>\n",
              "      <th>B</th>\n",
              "    </tr>\n",
              "    <tr>\n",
              "      <th>user_id</th>\n",
              "      <th></th>\n",
              "      <th></th>\n",
              "    </tr>\n",
              "  </thead>\n",
              "  <tbody>\n",
              "    <tr>\n",
              "      <th>630320</th>\n",
              "      <td>2021-01-07</td>\n",
              "      <td>2021-01-12</td>\n",
              "    </tr>\n",
              "    <tr>\n",
              "      <th>630805</th>\n",
              "      <td>2021-01-22</td>\n",
              "      <td>2021-01-12</td>\n",
              "    </tr>\n",
              "    <tr>\n",
              "      <th>630871</th>\n",
              "      <td>2021-01-08</td>\n",
              "      <td>2021-01-03</td>\n",
              "    </tr>\n",
              "    <tr>\n",
              "      <th>630887</th>\n",
              "      <td>2021-01-07</td>\n",
              "      <td>2021-01-22</td>\n",
              "    </tr>\n",
              "    <tr>\n",
              "      <th>631008</th>\n",
              "      <td>2021-01-21</td>\n",
              "      <td>2021-01-22</td>\n",
              "    </tr>\n",
              "    <tr>\n",
              "      <th>...</th>\n",
              "      <td>...</td>\n",
              "      <td>...</td>\n",
              "    </tr>\n",
              "    <tr>\n",
              "      <th>945272</th>\n",
              "      <td>2021-01-14</td>\n",
              "      <td>2021-01-18</td>\n",
              "    </tr>\n",
              "    <tr>\n",
              "      <th>945308</th>\n",
              "      <td>2021-01-20</td>\n",
              "      <td>2021-01-03</td>\n",
              "    </tr>\n",
              "    <tr>\n",
              "      <th>945369</th>\n",
              "      <td>2021-01-15</td>\n",
              "      <td>2021-01-24</td>\n",
              "    </tr>\n",
              "    <tr>\n",
              "      <th>945387</th>\n",
              "      <td>2021-01-20</td>\n",
              "      <td>2021-01-03</td>\n",
              "    </tr>\n",
              "    <tr>\n",
              "      <th>945627</th>\n",
              "      <td>2021-01-06</td>\n",
              "      <td>2021-01-17</td>\n",
              "    </tr>\n",
              "  </tbody>\n",
              "</table>\n",
              "<p>1895 rows × 2 columns</p>\n",
              "</div>"
            ],
            "text/plain": [
              "group            A          B\n",
              "user_id                      \n",
              "630320  2021-01-07 2021-01-12\n",
              "630805  2021-01-22 2021-01-12\n",
              "630871  2021-01-08 2021-01-03\n",
              "630887  2021-01-07 2021-01-22\n",
              "631008  2021-01-21 2021-01-22\n",
              "...            ...        ...\n",
              "945272  2021-01-14 2021-01-18\n",
              "945308  2021-01-20 2021-01-03\n",
              "945369  2021-01-15 2021-01-24\n",
              "945387  2021-01-20 2021-01-03\n",
              "945627  2021-01-06 2021-01-17\n",
              "\n",
              "[1895 rows x 2 columns]"
            ]
          },
          "execution_count": 10,
          "metadata": {},
          "output_type": "execute_result"
        }
      ]
    },
    {
      "cell_type": "markdown",
      "metadata": {
        "id": "future-administrator"
      },
      "source": [
        " Мы получили 1 895 идентификаторов пользователей, которые видели оба варианта теста; Так как мы не можем определить какая из версий сайта повлияла на принятие ими решения, исключим этих пользователей;"
      ],
      "id": "future-administrator"
    },
    {
      "cell_type": "code",
      "metadata": {
        "id": "exciting-radar"
      },
      "source": [
        "df1 = df[~df['user_id'].isin(cross[(~cross['A'].isna()) & (~cross['B'].isna())].index)]"
      ],
      "id": "exciting-radar",
      "execution_count": null,
      "outputs": []
    },
    {
      "cell_type": "code",
      "metadata": {
        "id": "matched-nebraska",
        "outputId": "77f9ba3b-05d7-4f2e-a127-5787662a05c3"
      },
      "source": [
        "# Проверим как изменилось соотношение пользователей в группах после очистки:\n",
        "df1['group'].value_counts()"
      ],
      "id": "matched-nebraska",
      "execution_count": null,
      "outputs": [
        {
          "data": {
            "text/plain": [
              "B    145381\n",
              "A    145307\n",
              "Name: group, dtype: int64"
            ]
          },
          "execution_count": 12,
          "metadata": {},
          "output_type": "execute_result"
        }
      ]
    },
    {
      "cell_type": "code",
      "metadata": {
        "id": "offensive-trial",
        "outputId": "83b39b91-bb0c-482d-bc7c-2e20dc03c966"
      },
      "source": [
        "(df1['group'].value_counts()[0] - df1['group'].value_counts()[1]) / df1['group'].value_counts()[0] * 100"
      ],
      "id": "offensive-trial",
      "execution_count": null,
      "outputs": [
        {
          "data": {
            "text/plain": [
              "0.05090073668498634"
            ]
          },
          "execution_count": 13,
          "metadata": {},
          "output_type": "execute_result"
        }
      ]
    },
    {
      "cell_type": "markdown",
      "metadata": {
        "id": "international-atlantic"
      },
      "source": [
        "Группы по-прежнему отличаются не более чем на 1 процент. Можем продолжать исследование."
      ],
      "id": "international-atlantic"
    },
    {
      "cell_type": "code",
      "metadata": {
        "id": "minor-passport"
      },
      "source": [
        "# Определить количество покупок, выручку и средний чек по группам;\n",
        "total_data = df1.groupby('group').agg({'user_id':'count', 'purchase':'sum', 'price':'sum'}).reset_index()"
      ],
      "id": "minor-passport",
      "execution_count": null,
      "outputs": []
    },
    {
      "cell_type": "code",
      "metadata": {
        "id": "partial-offense",
        "outputId": "a2742f46-63b6-42e5-f5d6-f4421e62b927"
      },
      "source": [
        "total_data"
      ],
      "id": "partial-offense",
      "execution_count": null,
      "outputs": [
        {
          "data": {
            "text/html": [
              "<div>\n",
              "<style scoped>\n",
              "    .dataframe tbody tr th:only-of-type {\n",
              "        vertical-align: middle;\n",
              "    }\n",
              "\n",
              "    .dataframe tbody tr th {\n",
              "        vertical-align: top;\n",
              "    }\n",
              "\n",
              "    .dataframe thead th {\n",
              "        text-align: right;\n",
              "    }\n",
              "</style>\n",
              "<table border=\"1\" class=\"dataframe\">\n",
              "  <thead>\n",
              "    <tr style=\"text-align: right;\">\n",
              "      <th></th>\n",
              "      <th>group</th>\n",
              "      <th>user_id</th>\n",
              "      <th>purchase</th>\n",
              "      <th>price</th>\n",
              "    </tr>\n",
              "  </thead>\n",
              "  <tbody>\n",
              "    <tr>\n",
              "      <th>0</th>\n",
              "      <td>A</td>\n",
              "      <td>145307</td>\n",
              "      <td>17487</td>\n",
              "      <td>1417780000</td>\n",
              "    </tr>\n",
              "    <tr>\n",
              "      <th>1</th>\n",
              "      <td>B</td>\n",
              "      <td>145381</td>\n",
              "      <td>17290</td>\n",
              "      <td>1533010000</td>\n",
              "    </tr>\n",
              "  </tbody>\n",
              "</table>\n",
              "</div>"
            ],
            "text/plain": [
              "  group  user_id  purchase       price\n",
              "0     A   145307     17487  1417780000\n",
              "1     B   145381     17290  1533010000"
            ]
          },
          "execution_count": 15,
          "metadata": {},
          "output_type": "execute_result"
        }
      ]
    },
    {
      "cell_type": "code",
      "metadata": {
        "id": "pursuant-touch"
      },
      "source": [
        "# Посчитаем конверсию по группам\n",
        "total_data['conversion'] = round(total_data['purchase'] / total_data['user_id'] * 100, 2)"
      ],
      "id": "pursuant-touch",
      "execution_count": null,
      "outputs": []
    },
    {
      "cell_type": "code",
      "metadata": {
        "id": "partial-jewel"
      },
      "source": [
        "# Посчитаем средний чек\n",
        "total_data['ave_price'] = round(total_data['price'] / total_data['purchase'], 2)"
      ],
      "id": "partial-jewel",
      "execution_count": null,
      "outputs": []
    },
    {
      "cell_type": "code",
      "metadata": {
        "id": "played-bracelet",
        "outputId": "c0d37791-9e57-456f-d39c-effb2221d5d1"
      },
      "source": [
        "total_data"
      ],
      "id": "played-bracelet",
      "execution_count": null,
      "outputs": [
        {
          "data": {
            "text/html": [
              "<div>\n",
              "<style scoped>\n",
              "    .dataframe tbody tr th:only-of-type {\n",
              "        vertical-align: middle;\n",
              "    }\n",
              "\n",
              "    .dataframe tbody tr th {\n",
              "        vertical-align: top;\n",
              "    }\n",
              "\n",
              "    .dataframe thead th {\n",
              "        text-align: right;\n",
              "    }\n",
              "</style>\n",
              "<table border=\"1\" class=\"dataframe\">\n",
              "  <thead>\n",
              "    <tr style=\"text-align: right;\">\n",
              "      <th></th>\n",
              "      <th>group</th>\n",
              "      <th>user_id</th>\n",
              "      <th>purchase</th>\n",
              "      <th>price</th>\n",
              "      <th>conversion</th>\n",
              "      <th>ave_price</th>\n",
              "    </tr>\n",
              "  </thead>\n",
              "  <tbody>\n",
              "    <tr>\n",
              "      <th>0</th>\n",
              "      <td>A</td>\n",
              "      <td>145307</td>\n",
              "      <td>17487</td>\n",
              "      <td>1417780000</td>\n",
              "      <td>12.03</td>\n",
              "      <td>81076.23</td>\n",
              "    </tr>\n",
              "    <tr>\n",
              "      <th>1</th>\n",
              "      <td>B</td>\n",
              "      <td>145381</td>\n",
              "      <td>17290</td>\n",
              "      <td>1533010000</td>\n",
              "      <td>11.89</td>\n",
              "      <td>88664.55</td>\n",
              "    </tr>\n",
              "  </tbody>\n",
              "</table>\n",
              "</div>"
            ],
            "text/plain": [
              "  group  user_id  purchase       price  conversion  ave_price\n",
              "0     A   145307     17487  1417780000       12.03   81076.23\n",
              "1     B   145381     17290  1533010000       11.89   88664.55"
            ]
          },
          "execution_count": 18,
          "metadata": {},
          "output_type": "execute_result"
        }
      ]
    },
    {
      "cell_type": "code",
      "metadata": {
        "id": "expanded-small",
        "outputId": "b6191f4a-21a6-4867-dedf-27c5e5775375"
      },
      "source": [
        "# Гистограмма для группы А\n",
        "df1[(df1['purchase'] == 1) & (df1['group'] == 'A')]['price'].hist()\n",
        "\n"
      ],
      "id": "expanded-small",
      "execution_count": null,
      "outputs": [
        {
          "data": {
            "text/plain": [
              "<AxesSubplot:>"
            ]
          },
          "execution_count": 19,
          "metadata": {},
          "output_type": "execute_result"
        },
        {
          "data": {
            "image/png": "[encoded data removed]",
            "text/plain": [
              "<Figure size 432x288 with 1 Axes>"
            ]
          },
          "metadata": {
            "needs_background": "light"
          },
          "output_type": "display_data"
        }
      ]
    },
    {
      "cell_type": "code",
      "metadata": {
        "id": "nonprofit-curve",
        "outputId": "b0d49697-8adf-4dc7-dd5d-60b51bf43e9f"
      },
      "source": [
        "# Гистограмма для группы Б\n",
        "df1[(df1['purchase'] == 1) & (df1['group'] == 'B')]['price'].hist()"
      ],
      "id": "nonprofit-curve",
      "execution_count": null,
      "outputs": [
        {
          "data": {
            "text/plain": [
              "<AxesSubplot:>"
            ]
          },
          "execution_count": 20,
          "metadata": {},
          "output_type": "execute_result"
        },
        {
          "data": {
            "image/png": "[encoded data removed]",
            "text/plain": [
              "<Figure size 432x288 with 1 Axes>"
            ]
          },
          "metadata": {
            "needs_background": "light"
          },
          "output_type": "display_data"
        }
      ]
    },
    {
      "cell_type": "markdown",
      "metadata": {
        "id": "tamil-moscow"
      },
      "source": [
        "### Сделайте первичные выводы:\n",
        "Не смотря на то, что в группе Б было больше посетителей, конверсия в группе Б меньше на 1.16% (относительная). За счет меньшей конверсии в группе Б было меньше покупок, однако выручка группы Б больше выручки группы А на 115 230 000 единиц  или 7,5%. Большая выручка в группе Б складывается за счет того, что средний чек группы Б, выше чека группы А.\n",
        "\n",
        "Участники группы А чаще покупают туры за 50 000 рублей, при этом реже покупают туры за 100 000 рублей. В остальном покупательская способность обоих групп похожа."
      ],
      "id": "tamil-moscow"
    },
    {
      "cell_type": "markdown",
      "metadata": {
        "id": "animal-fitness"
      },
      "source": [
        "# Куммулятивные метрики:"
      ],
      "id": "animal-fitness"
    },
    {
      "cell_type": "code",
      "metadata": {
        "id": "female-numbers"
      },
      "source": [
        "# Для начала сгруппируем имеющуюся таблицу по дням и группам:\n",
        "df_daily = df1.groupby(['date', 'group']).agg({'user_id':'count', 'purchase':'sum', 'price':'sum'}).reset_index()"
      ],
      "id": "female-numbers",
      "execution_count": null,
      "outputs": []
    },
    {
      "cell_type": "code",
      "metadata": {
        "id": "exclusive-squad"
      },
      "source": [
        "# для удобства переименуем столбцы\n",
        "df_daily = df_daily.rename({'user_id':'users'}, axis=1)"
      ],
      "id": "exclusive-squad",
      "execution_count": null,
      "outputs": []
    },
    {
      "cell_type": "code",
      "metadata": {
        "id": "clear-racing",
        "outputId": "3669a59d-3f76-4ba3-a92d-bb0279e5dbd1"
      },
      "source": [
        "df_daily.head()"
      ],
      "id": "clear-racing",
      "execution_count": null,
      "outputs": [
        {
          "data": {
            "text/html": [
              "<div>\n",
              "<style scoped>\n",
              "    .dataframe tbody tr th:only-of-type {\n",
              "        vertical-align: middle;\n",
              "    }\n",
              "\n",
              "    .dataframe tbody tr th {\n",
              "        vertical-align: top;\n",
              "    }\n",
              "\n",
              "    .dataframe thead th {\n",
              "        text-align: right;\n",
              "    }\n",
              "</style>\n",
              "<table border=\"1\" class=\"dataframe\">\n",
              "  <thead>\n",
              "    <tr style=\"text-align: right;\">\n",
              "      <th></th>\n",
              "      <th>date</th>\n",
              "      <th>group</th>\n",
              "      <th>users</th>\n",
              "      <th>purchase</th>\n",
              "      <th>price</th>\n",
              "    </tr>\n",
              "  </thead>\n",
              "  <tbody>\n",
              "    <tr>\n",
              "      <th>0</th>\n",
              "      <td>2021-01-02</td>\n",
              "      <td>A</td>\n",
              "      <td>2854</td>\n",
              "      <td>359</td>\n",
              "      <td>29410000</td>\n",
              "    </tr>\n",
              "    <tr>\n",
              "      <th>1</th>\n",
              "      <td>2021-01-02</td>\n",
              "      <td>B</td>\n",
              "      <td>2861</td>\n",
              "      <td>345</td>\n",
              "      <td>29660000</td>\n",
              "    </tr>\n",
              "    <tr>\n",
              "      <th>2</th>\n",
              "      <td>2021-01-03</td>\n",
              "      <td>A</td>\n",
              "      <td>6596</td>\n",
              "      <td>748</td>\n",
              "      <td>62000000</td>\n",
              "    </tr>\n",
              "    <tr>\n",
              "      <th>3</th>\n",
              "      <td>2021-01-03</td>\n",
              "      <td>B</td>\n",
              "      <td>6619</td>\n",
              "      <td>754</td>\n",
              "      <td>65960000</td>\n",
              "    </tr>\n",
              "    <tr>\n",
              "      <th>4</th>\n",
              "      <td>2021-01-04</td>\n",
              "      <td>A</td>\n",
              "      <td>6566</td>\n",
              "      <td>799</td>\n",
              "      <td>64250000</td>\n",
              "    </tr>\n",
              "  </tbody>\n",
              "</table>\n",
              "</div>"
            ],
            "text/plain": [
              "        date group  users  purchase     price\n",
              "0 2021-01-02     A   2854       359  29410000\n",
              "1 2021-01-02     B   2861       345  29660000\n",
              "2 2021-01-03     A   6596       748  62000000\n",
              "3 2021-01-03     B   6619       754  65960000\n",
              "4 2021-01-04     A   6566       799  64250000"
            ]
          },
          "execution_count": 23,
          "metadata": {},
          "output_type": "execute_result"
        }
      ]
    },
    {
      "cell_type": "code",
      "metadata": {
        "id": "fifteen-contract"
      },
      "source": [
        "# Рассчитаем по дням средний чек и конверсию:\n",
        "df_daily['ave_price'] = round(df_daily['price'] / df_daily['purchase'], 2)\n",
        "df_daily['conversion'] = round(df_daily['purchase'] / df_daily['users'], 2)"
      ],
      "id": "fifteen-contract",
      "execution_count": null,
      "outputs": []
    },
    {
      "cell_type": "code",
      "metadata": {
        "id": "expanded-raising",
        "outputId": "0accb74c-c881-4333-e5eb-0198cfdc325e"
      },
      "source": [
        "df_daily.head()"
      ],
      "id": "expanded-raising",
      "execution_count": null,
      "outputs": [
        {
          "data": {
            "text/html": [
              "<div>\n",
              "<style scoped>\n",
              "    .dataframe tbody tr th:only-of-type {\n",
              "        vertical-align: middle;\n",
              "    }\n",
              "\n",
              "    .dataframe tbody tr th {\n",
              "        vertical-align: top;\n",
              "    }\n",
              "\n",
              "    .dataframe thead th {\n",
              "        text-align: right;\n",
              "    }\n",
              "</style>\n",
              "<table border=\"1\" class=\"dataframe\">\n",
              "  <thead>\n",
              "    <tr style=\"text-align: right;\">\n",
              "      <th></th>\n",
              "      <th>date</th>\n",
              "      <th>group</th>\n",
              "      <th>users</th>\n",
              "      <th>purchase</th>\n",
              "      <th>price</th>\n",
              "      <th>ave_price</th>\n",
              "      <th>conversion</th>\n",
              "    </tr>\n",
              "  </thead>\n",
              "  <tbody>\n",
              "    <tr>\n",
              "      <th>0</th>\n",
              "      <td>2021-01-02</td>\n",
              "      <td>A</td>\n",
              "      <td>2854</td>\n",
              "      <td>359</td>\n",
              "      <td>29410000</td>\n",
              "      <td>81922.01</td>\n",
              "      <td>0.13</td>\n",
              "    </tr>\n",
              "    <tr>\n",
              "      <th>1</th>\n",
              "      <td>2021-01-02</td>\n",
              "      <td>B</td>\n",
              "      <td>2861</td>\n",
              "      <td>345</td>\n",
              "      <td>29660000</td>\n",
              "      <td>85971.01</td>\n",
              "      <td>0.12</td>\n",
              "    </tr>\n",
              "    <tr>\n",
              "      <th>2</th>\n",
              "      <td>2021-01-03</td>\n",
              "      <td>A</td>\n",
              "      <td>6596</td>\n",
              "      <td>748</td>\n",
              "      <td>62000000</td>\n",
              "      <td>82887.70</td>\n",
              "      <td>0.11</td>\n",
              "    </tr>\n",
              "    <tr>\n",
              "      <th>3</th>\n",
              "      <td>2021-01-03</td>\n",
              "      <td>B</td>\n",
              "      <td>6619</td>\n",
              "      <td>754</td>\n",
              "      <td>65960000</td>\n",
              "      <td>87480.11</td>\n",
              "      <td>0.11</td>\n",
              "    </tr>\n",
              "    <tr>\n",
              "      <th>4</th>\n",
              "      <td>2021-01-04</td>\n",
              "      <td>A</td>\n",
              "      <td>6566</td>\n",
              "      <td>799</td>\n",
              "      <td>64250000</td>\n",
              "      <td>80413.02</td>\n",
              "      <td>0.12</td>\n",
              "    </tr>\n",
              "  </tbody>\n",
              "</table>\n",
              "</div>"
            ],
            "text/plain": [
              "        date group  users  purchase     price  ave_price  conversion\n",
              "0 2021-01-02     A   2854       359  29410000   81922.01        0.13\n",
              "1 2021-01-02     B   2861       345  29660000   85971.01        0.12\n",
              "2 2021-01-03     A   6596       748  62000000   82887.70        0.11\n",
              "3 2021-01-03     B   6619       754  65960000   87480.11        0.11\n",
              "4 2021-01-04     A   6566       799  64250000   80413.02        0.12"
            ]
          },
          "execution_count": 25,
          "metadata": {},
          "output_type": "execute_result"
        }
      ]
    },
    {
      "cell_type": "code",
      "metadata": {
        "id": "wired-protein",
        "outputId": "db1c3b18-3527-413a-8e62-94fa1224396d"
      },
      "source": [
        "# график среднего чека по дням\n",
        "plt.plot(df_daily[df_daily['group'] == 'A']['date'], df_daily[df_daily['group'] == 'A']['ave_price'], label='A')\n",
        "plt.plot(df_daily[df_daily['group'] == 'B']['date'], df_daily[df_daily['group'] == 'B']['ave_price'], label='B')\n",
        "plt.title('График Среднего Чека по дням') #Название графика\n",
        "plt.xticks(rotation = 45) # Разворот названия дат на оси X на 45 градусов\n",
        "plt.legend() \n",
        "plt.show() \n"
      ],
      "id": "wired-protein",
      "execution_count": null,
      "outputs": [
        {
          "data": {
            "image/png": "[encoded data removed]",
            "text/plain": [
              "<Figure size 432x288 with 1 Axes>"
            ]
          },
          "metadata": {
            "needs_background": "light"
          },
          "output_type": "display_data"
        }
      ]
    },
    {
      "cell_type": "code",
      "metadata": {
        "id": "protecting-accused",
        "outputId": "fa9c9e75-cf02-4c66-9ff8-e83c8d509265"
      },
      "source": [
        "# график конверсии по дням\n",
        "plt.plot(df_daily[df_daily['group'] == 'A']['date'], df_daily[df_daily['group'] == 'A']['conversion'], label='A')\n",
        "plt.plot(df_daily[df_daily['group'] == 'B']['date'], df_daily[df_daily['group'] == 'B']['conversion'], label='B')\n",
        "plt.title('График Конверсии по дням') #Название графика\n",
        "plt.xticks(rotation = 45) # Разворот названия дат на оси X на 45 градусов\n",
        "plt.legend() \n",
        "plt.show() \n",
        "\n"
      ],
      "id": "protecting-accused",
      "execution_count": null,
      "outputs": [
        {
          "data": {
            "image/png": "[encoded data removed]",
            "text/plain": [
              "<Figure size 432x288 with 1 Axes>"
            ]
          },
          "metadata": {
            "needs_background": "light"
          },
          "output_type": "display_data"
        }
      ]
    },
    {
      "cell_type": "markdown",
      "metadata": {
        "id": "distinct-manhattan"
      },
      "source": [
        "Средний чек и конверсия по дням сильно скачут. Но каких-то выбросов не замечено."
      ],
      "id": "distinct-manhattan"
    },
    {
      "cell_type": "code",
      "metadata": {
        "id": "political-patent"
      },
      "source": [
        "# Напишем функцию для создания куммулятивной таблицы\n",
        "def cummulative_table(data, group): \n",
        "    df_cumm = [] \n",
        "    for i in data['date'].unique(): \n",
        "        out = data[(data['date'] <= i) & (data['group'] == group)].groupby('group')\\\n",
        "                .agg({'date':'max', 'users':'sum', 'purchase':'sum', 'price':'sum'}) \n",
        "        df_cumm.append(out) \n",
        "    return pd.concat(df_cumm).reset_index() "
      ],
      "id": "political-patent",
      "execution_count": null,
      "outputs": []
    },
    {
      "cell_type": "code",
      "metadata": {
        "id": "fluid-welcome"
      },
      "source": [
        "cumm_a = cummulative_table(df_daily, 'A') \n",
        "cumm_b = cummulative_table(df_daily, 'B') "
      ],
      "id": "fluid-welcome",
      "execution_count": null,
      "outputs": []
    },
    {
      "cell_type": "code",
      "metadata": {
        "id": "visible-principle"
      },
      "source": [
        "cumm_a['ave_price'] = round(cumm_a['price'] / cumm_a['purchase'], 2)\n",
        "cumm_a['conversion'] = round(cumm_a['purchase'] / cumm_a['users'], 5)\n",
        "\n",
        "cumm_b['ave_price'] = round(cumm_b['price'] / cumm_b['purchase'], 2)\n",
        "cumm_b['conversion'] = round(cumm_b['purchase'] / cumm_b['users'], 5)"
      ],
      "id": "visible-principle",
      "execution_count": null,
      "outputs": []
    },
    {
      "cell_type": "code",
      "metadata": {
        "id": "north-wesley",
        "outputId": "28b5bb86-5be5-4d4f-a1f8-f8d386a28c06"
      },
      "source": [
        "# Куммулятивный график среднего чека по дням\n",
        "plt.plot(cumm_a['date'], cumm_a['ave_price'], label='A')\n",
        "plt.plot(cumm_b['date'], cumm_b['ave_price'], label='B')\n",
        "plt.title('График куммулятивного Среднего Чека по дням') #Название графика\n",
        "plt.xticks(rotation = 45) # Разворот названия дат на оси X на 45 градусов\n",
        "plt.legend() \n",
        "plt.show() \n",
        "\n"
      ],
      "id": "north-wesley",
      "execution_count": null,
      "outputs": [
        {
          "data": {
            "image/png": "[encoded data removed]",
            "text/plain": [
              "<Figure size 432x288 with 1 Axes>"
            ]
          },
          "metadata": {
            "needs_background": "light"
          },
          "output_type": "display_data"
        }
      ]
    },
    {
      "cell_type": "markdown",
      "metadata": {
        "id": "appreciated-expansion"
      },
      "source": [
        "Средний чек группы Б стабильно выше чека группы А. В начале были колебания, но потом данные стабилизировались."
      ],
      "id": "appreciated-expansion"
    },
    {
      "cell_type": "code",
      "metadata": {
        "id": "coordinate-moisture",
        "outputId": "db158426-6ebf-4347-8b58-9675d4e916e4"
      },
      "source": [
        "# Куммулятивный график среднего чека по дням\n",
        "plt.plot(cumm_a['date'], cumm_a['conversion'], label='A')\n",
        "plt.plot(cumm_b['date'], cumm_b['conversion'], label='B')\n",
        "plt.title('График куммулятивной конверсии по дням') #Название графика\n",
        "plt.xticks(rotation = 45) # Разворот названия дат на оси X на 45 градусов\n",
        "plt.legend() \n",
        "plt.show() \n",
        "\n"
      ],
      "id": "coordinate-moisture",
      "execution_count": null,
      "outputs": [
        {
          "data": {
            "image/png": "[encoded data removed]",
            "text/plain": [
              "<Figure size 432x288 with 1 Axes>"
            ]
          },
          "metadata": {
            "needs_background": "light"
          },
          "output_type": "display_data"
        }
      ]
    },
    {
      "cell_type": "markdown",
      "metadata": {
        "id": "posted-moment"
      },
      "source": [
        "На графике видно, что в начале были скачки, но потом конверсия стабилизировалась. Конверсия группы А стабильно выше группы Б."
      ],
      "id": "posted-moment"
    },
    {
      "cell_type": "markdown",
      "metadata": {
        "id": "conceptual-former"
      },
      "source": [
        "# Проверка гипотезы о равенстве конверсии"
      ],
      "id": "conceptual-former"
    },
    {
      "cell_type": "code",
      "metadata": {
        "id": "instant-background"
      },
      "source": [
        "# Проверим распределение конверсии в группах"
      ],
      "id": "instant-background",
      "execution_count": null,
      "outputs": []
    },
    {
      "cell_type": "code",
      "metadata": {
        "id": "varying-hawaiian",
        "outputId": "2ce5583e-ac9c-4dd9-af9a-cafed79e823a"
      },
      "source": [
        "df_daily[df_daily['group'] == 'A']['conversion'].hist()"
      ],
      "id": "varying-hawaiian",
      "execution_count": null,
      "outputs": [
        {
          "data": {
            "text/plain": [
              "<AxesSubplot:>"
            ]
          },
          "execution_count": 34,
          "metadata": {},
          "output_type": "execute_result"
        },
        {
          "data": {
            "image/png": "[encoded data removed]",
            "text/plain": [
              "<Figure size 432x288 with 1 Axes>"
            ]
          },
          "metadata": {
            "needs_background": "light"
          },
          "output_type": "display_data"
        }
      ]
    },
    {
      "cell_type": "code",
      "metadata": {
        "scrolled": true,
        "id": "medium-detector",
        "outputId": "5f09cb50-1692-49f4-919d-995258ede6bd"
      },
      "source": [
        "df_daily[df_daily['group'] == 'B']['conversion'].hist()"
      ],
      "id": "medium-detector",
      "execution_count": null,
      "outputs": [
        {
          "data": {
            "text/plain": [
              "<AxesSubplot:>"
            ]
          },
          "execution_count": 35,
          "metadata": {},
          "output_type": "execute_result"
        },
        {
          "data": {
            "image/png": "[encoded data removed]",
            "text/plain": [
              "<Figure size 432x288 with 1 Axes>"
            ]
          },
          "metadata": {
            "needs_background": "light"
          },
          "output_type": "display_data"
        }
      ]
    },
    {
      "cell_type": "markdown",
      "metadata": {
        "id": "present-indication"
      },
      "source": [
        "Распределение похоже на нормальное. Применим Z-тест"
      ],
      "id": "present-indication"
    },
    {
      "cell_type": "code",
      "metadata": {
        "id": "criminal-shark",
        "outputId": "1f11ca4c-ba01-4132-8214-b33e2a1cdc50"
      },
      "source": [
        "a = .05\n",
        "\n",
        "x_A = 17487\n",
        "x_B = 17290\n",
        "\n",
        "n_A = 145307\n",
        "n_B = 145381\n",
        "\n",
        "p_A = x_A / n_A\n",
        "\n",
        "p_B = x_B / n_B\n",
        "\n",
        "p = (x_A + x_B) / (n_A + n_B)\n",
        "\n",
        "diff = p_A - p_B\n",
        "\n",
        "z = diff / mth.sqrt(p * (1 - p) * (1/n_A + 1/n_B))\n",
        "\n",
        "distr = st.norm(0, 1)\n",
        "\n",
        "z_p_val = (1 - distr.cdf(abs(z))) * 2\n",
        "print('P-value равен', z_p_val)\n",
        "\n",
        "\n"
      ],
      "id": "criminal-shark",
      "execution_count": null,
      "outputs": [
        {
          "name": "stdout",
          "output_type": "stream",
          "text": [
            "P-value равен 0.23940749849829834\n"
          ]
        }
      ]
    },
    {
      "cell_type": "code",
      "metadata": {
        "id": "physical-leave",
        "outputId": "441ddc09-7595-4e97-f063-f2029978857d"
      },
      "source": [
        "z_p_val < a"
      ],
      "id": "physical-leave",
      "execution_count": null,
      "outputs": [
        {
          "data": {
            "text/plain": [
              "False"
            ]
          },
          "execution_count": 37,
          "metadata": {},
          "output_type": "execute_result"
        }
      ]
    },
    {
      "cell_type": "markdown",
      "metadata": {
        "id": "charming-thermal"
      },
      "source": [
        "p-value Больше принятого уровня значимости, следовательно статистически значимая разница между конверсиями отсутствует. "
      ],
      "id": "charming-thermal"
    },
    {
      "cell_type": "markdown",
      "metadata": {
        "id": "solid-guess"
      },
      "source": [
        "# Проверка гипотезы о равенстве среднего чека"
      ],
      "id": "solid-guess"
    },
    {
      "cell_type": "markdown",
      "metadata": {
        "id": "available-riverside"
      },
      "source": [
        "Сформулируем нулевую гипотезу:\n",
        "Н0: Средние чеки групп равны\n",
        "Н1: Средние чеки групп не равны"
      ],
      "id": "available-riverside"
    },
    {
      "cell_type": "code",
      "metadata": {
        "scrolled": true,
        "id": "elegant-hartford",
        "outputId": "0fc3c10d-f25c-4d3c-8001-b7d284f2b1ec"
      },
      "source": [
        "# Посмотрим на распределение\n",
        "plt.hist(df1[(df1['group'] == 'A') & (df1['purchase'] == 1)]['price'], label='A')\n",
        "plt.hist(df1[(df1['group'] == 'B') & (df1['purchase'] == 1)]['price'], label='B', alpha=0.3)\n",
        "plt.legend() \n",
        "plt.show() \n"
      ],
      "id": "elegant-hartford",
      "execution_count": null,
      "outputs": [
        {
          "data": {
            "image/png": "[encoded data removed]",
            "text/plain": [
              "<Figure size 432x288 with 1 Axes>"
            ]
          },
          "metadata": {
            "needs_background": "light"
          },
          "output_type": "display_data"
        }
      ]
    },
    {
      "cell_type": "markdown",
      "metadata": {
        "id": "moving-hurricane"
      },
      "source": [
        "Распределение не похоже на нормальное. Применим тест Манна-Уитни"
      ],
      "id": "moving-hurricane"
    },
    {
      "cell_type": "code",
      "metadata": {
        "id": "aquatic-mouth",
        "outputId": "be29433a-0c73-4860-feca-043ff7ed7fbe"
      },
      "source": [
        "alpha = .05\n",
        "\n",
        "results = st.mannwhitneyu(df1[(df1['group'] == 'A') & (df1['purchase'] == 1)]['price'].values, \n",
        "                       df1[(df1['group'] == 'B') & (df1['purchase'] == 1)]['price'].values)\n",
        "\n",
        "print('p-value', results.pvalue)\n",
        "\n",
        "if (results.pvalue < alpha):\n",
        "   print(\"Отвергаем нулевую гипотезы - средние чеки не равны\")\n",
        "else:\n",
        "   print(\"Не отвергаем нулевую гипотезу - Средний чеки обеих групп равны\")"
      ],
      "id": "aquatic-mouth",
      "execution_count": null,
      "outputs": [
        {
          "name": "stdout",
          "output_type": "stream",
          "text": [
            "p-value 1.412680672643368e-37\n",
            "Отвергаем нулевую гипотезы - средние чеки не равны\n"
          ]
        }
      ]
    },
    {
      "cell_type": "markdown",
      "metadata": {
        "id": "false-cattle"
      },
      "source": [
        "# Проверим средние чеки по дням"
      ],
      "id": "false-cattle"
    },
    {
      "cell_type": "markdown",
      "metadata": {
        "id": "touched-vision"
      },
      "source": [
        "Сформулируем нулевую гипотезу:\n",
        "\n",
        "Н0: Средние чеки групп равны\n",
        "\n",
        "Н1: Средние чеки групп не равны"
      ],
      "id": "touched-vision"
    },
    {
      "cell_type": "code",
      "metadata": {
        "id": "protected-flashing",
        "outputId": "0298360a-e59f-43b5-95fe-434750df9c90"
      },
      "source": [
        "# Посмотрим на распределение\n",
        "plt.hist(df_daily[df_daily['group'] == 'A']['ave_price'], label='A')\n",
        "plt.hist(df_daily[df_daily['group'] == 'B']['ave_price'], label='B', alpha=0.3)\n",
        "plt.legend() \n",
        "plt.show() \n",
        "\n"
      ],
      "id": "protected-flashing",
      "execution_count": null,
      "outputs": [
        {
          "data": {
            "image/png": "[encoded data removed]",
            "text/plain": [
              "<Figure size 432x288 with 1 Axes>"
            ]
          },
          "metadata": {
            "needs_background": "light"
          },
          "output_type": "display_data"
        }
      ]
    },
    {
      "cell_type": "code",
      "metadata": {
        "scrolled": true,
        "id": "possible-disease",
        "outputId": "82a51fa6-dd71-4179-f687-1c634621b6a3"
      },
      "source": [
        "alpha = .05\n",
        "results = st.ttest_ind(df_daily[df_daily['group'] == 'A']['ave_price'].values, \n",
        "                       df_daily[df_daily['group'] == 'B']['ave_price'].values)\n",
        "\n",
        "print('p-value', results.pvalue)\n",
        "\n",
        "if (results.pvalue < alpha):\n",
        "   print(\"Отвергаем нулевую гипотезы - Между средними чеками есть разница\")\n",
        "else:\n",
        "   print(\"Не отвергаем нулевую гипотезу - разницы нет\")"
      ],
      "id": "possible-disease",
      "execution_count": null,
      "outputs": [
        {
          "name": "stdout",
          "output_type": "stream",
          "text": [
            "p-value 2.2523650297552113e-12\n",
            "Отвергаем нулевую гипотезы - Между средними чеками есть разница\n"
          ]
        }
      ]
    },
    {
      "cell_type": "markdown",
      "metadata": {
        "id": "removed-faculty"
      },
      "source": [
        "# Вывод"
      ],
      "id": "removed-faculty"
    },
    {
      "cell_type": "markdown",
      "metadata": {
        "id": "dated-grammar"
      },
      "source": [
        "Не смотря на то, что конверсия группы Б ниже, статистической значимости в конверсии не достигнуто, соответственно считать конверсии разными оснований нет.\n",
        "Зато Средний чек группы Б значительно выше, среднего чека группы А. Статистическая значимость достигнута.\n",
        "\n",
        "Рекомендуем признать, что вариант Б, лучше, чем вариант А"
      ],
      "id": "dated-grammar"
    }
  ]
}