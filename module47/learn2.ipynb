{
 "cells": [
  {
   "cell_type": "code",
   "execution_count": 1,
   "metadata": {},
   "outputs": [],
   "source": [
    "token_puch399 = 'AQAAAAAFcthMAAhJih03yzJOEUPqsHijSQ6cJKw'\n",
    "\n",
    "ids_ym = 30177909 # Идентификатор счётчика Яндекс.Метрики сайта: \n",
    "ids_naim = '137595631' # Идентификатор достижения цели «Найм клинеров»: 137595631\n",
    "yandex_address_get = 'https://api-metrika.yandex.net/stat/v1/data'\n",
    "headers = {'Authorization': 'OAuth ' + token_puch399}"
   ]
  },
  {
   "cell_type": "code",
   "execution_count": 2,
   "metadata": {},
   "outputs": [],
   "source": [
    "import json \n",
    "import requests\n",
    "from pprint import pprint\n",
    "import pandas as pd"
   ]
  },
  {
   "cell_type": "markdown",
   "metadata": {},
   "source": [
    "В нашем запросе этот лимит вряд ли актуален, но давайте для примера зададим 100000 строк. Период анализа: с 1 сентября 2020 года по 30 сентября 2020 года, то есть дата начала сбора статистики date1 — 2020-09-01, дата окончания сбора статистики date2 — 2020-09-30.\n",
    "Все эти параметры мы можем передавать в составе одного словаря. Назовём этот словарь params. Ключ словаря — это наименование параметра запроса (например, metrics), а значение по ключу — значение этого параметра (например, ym:s:visits)."
   ]
  },
  {
   "cell_type": "code",
   "execution_count": 3,
   "metadata": {},
   "outputs": [],
   "source": [
    "params = {'metrics': 'ym:s:visits,ym:s:goal'+ids_naim+'reaches',\n",
    "          'dimensions': 'ym:s:lastsignTrafficSource',  \n",
    "          'date1': '2020-10-07',  \n",
    "          'date2': '2020-10-09',     \n",
    "          'ids': 30177909,\n",
    "          'accuracy':'full',\n",
    "          'limit':100000}"
   ]
  },
  {
   "cell_type": "markdown",
   "metadata": {},
   "source": [
    "#### Делаем запрос\n",
    "- Строка print (response.status_code) нужна для того, чтобы возвратить код ответа, полученный от API. Если этот код 200 — значит, запрос был составлен корректно и API передал ответ."
   ]
  },
  {
   "cell_type": "code",
   "execution_count": 4,
   "metadata": {},
   "outputs": [
    {
     "name": "stdout",
     "output_type": "stream",
     "text": [
      "200\n"
     ]
    }
   ],
   "source": [
    "response = requests.get(yandex_address_get, params=params, headers=headers)\n",
    "print (response.status_code)"
   ]
  },
  {
   "cell_type": "markdown",
   "metadata": {},
   "source": [
    "Запишем данные ответа в переменную metrika_data:"
   ]
  },
  {
   "cell_type": "code",
   "execution_count": 5,
   "metadata": {},
   "outputs": [],
   "source": [
    "metrika_data = response.json()"
   ]
  },
  {
   "cell_type": "markdown",
   "metadata": {},
   "source": [
    "Посмотрим, какого типа данные хранятся в объекте metrika_data:"
   ]
  },
  {
   "cell_type": "code",
   "execution_count": 6,
   "metadata": {},
   "outputs": [
    {
     "name": "stdout",
     "output_type": "stream",
     "text": [
      "<class 'dict'>\n"
     ]
    }
   ],
   "source": [
    "print(type(metrika_data))"
   ]
  },
  {
   "cell_type": "markdown",
   "metadata": {},
   "source": [
    "Это словарь! Давайте посмотрим, какие ключи есть в словаре metrika_data:"
   ]
  },
  {
   "cell_type": "code",
   "execution_count": 7,
   "metadata": {},
   "outputs": [
    {
     "name": "stdout",
     "output_type": "stream",
     "text": [
      "dict_keys(['query', 'data', 'total_rows', 'total_rows_rounded', 'sampled', 'contains_sensitive_data', 'sample_share', 'sample_size', 'sample_space', 'data_lag', 'totals', 'min', 'max'])\n"
     ]
    }
   ],
   "source": [
    "print(metrika_data.keys())"
   ]
  },
  {
   "cell_type": "markdown",
   "metadata": {},
   "source": [
    "Прежде всего нас интересует значение по ключу data. Именно там содержатся данные статистики посещаемости, полученные от API Яндекс.Метрики.\n",
    "\n",
    "Но есть и другие полезные параметры, например total_rows. В нём содержится количество строк, которые соответствуют нашему запросу:"
   ]
  },
  {
   "cell_type": "code",
   "execution_count": 8,
   "metadata": {},
   "outputs": [
    {
     "data": {
      "text/plain": [
       "5"
      ]
     },
     "execution_count": 8,
     "metadata": {},
     "output_type": "execute_result"
    }
   ],
   "source": [
    "metrika_data['total_rows']"
   ]
  },
  {
   "cell_type": "markdown",
   "metadata": {},
   "source": [
    "Давайте посмотрим на данные статистики. Для этого с помощью pprint выведем значение по ключу data в словаре metrika_data:"
   ]
  },
  {
   "cell_type": "code",
   "execution_count": 9,
   "metadata": {},
   "outputs": [
    {
     "name": "stdout",
     "output_type": "stream",
     "text": [
      "[{'dimensions': [{'icon_id': '2',\n",
      "                  'icon_type': 'traffic-source',\n",
      "                  'id': 'organic',\n",
      "                  'name': 'Search engine traffic'}],\n",
      "  'metrics': [345.0, 10.0]},\n",
      " {'dimensions': [{'icon_id': '0',\n",
      "                  'icon_type': 'traffic-source',\n",
      "                  'id': 'direct',\n",
      "                  'name': 'Direct traffic'}],\n",
      "  'metrics': [113.0, 5.0]},\n",
      " {'dimensions': [{'icon_id': '1',\n",
      "                  'icon_type': 'traffic-source',\n",
      "                  'id': 'referral',\n",
      "                  'name': 'Link traffic'}],\n",
      "  'metrics': [16.0, 1.0]},\n",
      " {'dimensions': [{'icon_id': '8',\n",
      "                  'icon_type': 'traffic-source',\n",
      "                  'id': 'social',\n",
      "                  'name': 'Social network traffic'}],\n",
      "  'metrics': [12.0, 1.0]},\n",
      " {'dimensions': [{'icon_id': '-1',\n",
      "                  'icon_type': 'traffic-source',\n",
      "                  'id': 'internal',\n",
      "                  'name': 'Internal traffic'}],\n",
      "  'metrics': [2.0, 0.0]}]\n"
     ]
    }
   ],
   "source": [
    "pprint(metrika_data['data'][0:5])"
   ]
  },
  {
   "cell_type": "markdown",
   "metadata": {},
   "source": [
    "создаём датафрейм metrika_df из данных статистики metrika_data['data']"
   ]
  },
  {
   "cell_type": "code",
   "execution_count": 10,
   "metadata": {},
   "outputs": [
    {
     "data": {
      "text/html": [
       "<div>\n",
       "<style scoped>\n",
       "    .dataframe tbody tr th:only-of-type {\n",
       "        vertical-align: middle;\n",
       "    }\n",
       "\n",
       "    .dataframe tbody tr th {\n",
       "        vertical-align: top;\n",
       "    }\n",
       "\n",
       "    .dataframe thead th {\n",
       "        text-align: right;\n",
       "    }\n",
       "</style>\n",
       "<table border=\"1\" class=\"dataframe\">\n",
       "  <thead>\n",
       "    <tr style=\"text-align: right;\">\n",
       "      <th></th>\n",
       "      <th>dimensions</th>\n",
       "      <th>metrics</th>\n",
       "    </tr>\n",
       "  </thead>\n",
       "  <tbody>\n",
       "    <tr>\n",
       "      <th>0</th>\n",
       "      <td>[{'icon_id': '2', 'icon_type': 'traffic-source...</td>\n",
       "      <td>[345.0, 10.0]</td>\n",
       "    </tr>\n",
       "    <tr>\n",
       "      <th>1</th>\n",
       "      <td>[{'icon_id': '0', 'icon_type': 'traffic-source...</td>\n",
       "      <td>[113.0, 5.0]</td>\n",
       "    </tr>\n",
       "    <tr>\n",
       "      <th>2</th>\n",
       "      <td>[{'icon_id': '1', 'icon_type': 'traffic-source...</td>\n",
       "      <td>[16.0, 1.0]</td>\n",
       "    </tr>\n",
       "    <tr>\n",
       "      <th>3</th>\n",
       "      <td>[{'icon_id': '8', 'icon_type': 'traffic-source...</td>\n",
       "      <td>[12.0, 1.0]</td>\n",
       "    </tr>\n",
       "    <tr>\n",
       "      <th>4</th>\n",
       "      <td>[{'icon_id': '-1', 'icon_type': 'traffic-sourc...</td>\n",
       "      <td>[2.0, 0.0]</td>\n",
       "    </tr>\n",
       "  </tbody>\n",
       "</table>\n",
       "</div>"
      ],
      "text/plain": [
       "                                          dimensions        metrics\n",
       "0  [{'icon_id': '2', 'icon_type': 'traffic-source...  [345.0, 10.0]\n",
       "1  [{'icon_id': '0', 'icon_type': 'traffic-source...   [113.0, 5.0]\n",
       "2  [{'icon_id': '1', 'icon_type': 'traffic-source...    [16.0, 1.0]\n",
       "3  [{'icon_id': '8', 'icon_type': 'traffic-source...    [12.0, 1.0]\n",
       "4  [{'icon_id': '-1', 'icon_type': 'traffic-sourc...     [2.0, 0.0]"
      ]
     },
     "metadata": {},
     "output_type": "display_data"
    }
   ],
   "source": [
    "metrika_df = pd.DataFrame(metrika_data['data'])\n",
    "display(metrika_df.head(10)) # Функция .head(10) позволяет выбрать только 10 первые строк датафрейма "
   ]
  },
  {
   "cell_type": "markdown",
   "metadata": {},
   "source": [
    "Избавляемся от вложенных словарей"
   ]
  },
  {
   "cell_type": "code",
   "execution_count": 11,
   "metadata": {},
   "outputs": [],
   "source": [
    "def getMetrikaDataInListOfDicts(metrika_data):\n",
    "    list_of_dicts = []\n",
    "    dimensions_list = metrika_data['query']['dimensions']\n",
    "    metrics_list = metrika_data['query']['metrics']\n",
    "    for data_item in metrika_data['data']:\n",
    "        d = {}\n",
    "        for i,dimension in enumerate(data_item['dimensions']):\n",
    "            d[dimensions_list[i]] = dimension['name']\n",
    "        for i,metric in enumerate(data_item['metrics']):\n",
    "            d[metrics_list[i]] = metric\n",
    "        list_of_dicts.append(d)\n",
    "    return list_of_dicts"
   ]
  },
  {
   "cell_type": "markdown",
   "metadata": {},
   "source": [
    "### Важно!\n",
    "Обратите внимание на использование функции enumerate(). Она позволяет сделать цикл по списку, при этом возвращая сам элемент списка, а также его индекс в этом списке. Это может быть удобно, если нужно сделать вывод информационного сообщения о количестве пройденных итераций цикла. Также эта функция бывает полезна, если нужно параллельно обращаться к соответствующему элементу другого списка, как в случае нашей функции getMetrikaDataInListOfDicts().\n",
    "\n",
    "Преобразуем наши данные с помощью этой функции и запишем в переменную metrika_list_of_dicts:"
   ]
  },
  {
   "cell_type": "code",
   "execution_count": 12,
   "metadata": {},
   "outputs": [
    {
     "name": "stdout",
     "output_type": "stream",
     "text": [
      "[{'ym:s:goal137595631reaches': 10.0,\n",
      "  'ym:s:lastsignTrafficSource': 'Search engine traffic',\n",
      "  'ym:s:visits': 345.0},\n",
      " {'ym:s:goal137595631reaches': 5.0,\n",
      "  'ym:s:lastsignTrafficSource': 'Direct traffic',\n",
      "  'ym:s:visits': 113.0},\n",
      " {'ym:s:goal137595631reaches': 1.0,\n",
      "  'ym:s:lastsignTrafficSource': 'Link traffic',\n",
      "  'ym:s:visits': 16.0},\n",
      " {'ym:s:goal137595631reaches': 1.0,\n",
      "  'ym:s:lastsignTrafficSource': 'Social network traffic',\n",
      "  'ym:s:visits': 12.0},\n",
      " {'ym:s:goal137595631reaches': 0.0,\n",
      "  'ym:s:lastsignTrafficSource': 'Internal traffic',\n",
      "  'ym:s:visits': 2.0}]\n"
     ]
    }
   ],
   "source": [
    "metrika_list_of_dicts = getMetrikaDataInListOfDicts(metrika_data)\n",
    "pprint(metrika_list_of_dicts[0:5])"
   ]
  },
  {
   "cell_type": "code",
   "execution_count": 13,
   "metadata": {},
   "outputs": [
    {
     "data": {
      "text/html": [
       "<div>\n",
       "<style scoped>\n",
       "    .dataframe tbody tr th:only-of-type {\n",
       "        vertical-align: middle;\n",
       "    }\n",
       "\n",
       "    .dataframe tbody tr th {\n",
       "        vertical-align: top;\n",
       "    }\n",
       "\n",
       "    .dataframe thead th {\n",
       "        text-align: right;\n",
       "    }\n",
       "</style>\n",
       "<table border=\"1\" class=\"dataframe\">\n",
       "  <thead>\n",
       "    <tr style=\"text-align: right;\">\n",
       "      <th></th>\n",
       "      <th>ym:s:lastsignTrafficSource</th>\n",
       "      <th>ym:s:visits</th>\n",
       "      <th>ym:s:goal137595631reaches</th>\n",
       "    </tr>\n",
       "  </thead>\n",
       "  <tbody>\n",
       "    <tr>\n",
       "      <th>0</th>\n",
       "      <td>Search engine traffic</td>\n",
       "      <td>345.0</td>\n",
       "      <td>10.0</td>\n",
       "    </tr>\n",
       "    <tr>\n",
       "      <th>1</th>\n",
       "      <td>Direct traffic</td>\n",
       "      <td>113.0</td>\n",
       "      <td>5.0</td>\n",
       "    </tr>\n",
       "    <tr>\n",
       "      <th>2</th>\n",
       "      <td>Link traffic</td>\n",
       "      <td>16.0</td>\n",
       "      <td>1.0</td>\n",
       "    </tr>\n",
       "    <tr>\n",
       "      <th>3</th>\n",
       "      <td>Social network traffic</td>\n",
       "      <td>12.0</td>\n",
       "      <td>1.0</td>\n",
       "    </tr>\n",
       "    <tr>\n",
       "      <th>4</th>\n",
       "      <td>Internal traffic</td>\n",
       "      <td>2.0</td>\n",
       "      <td>0.0</td>\n",
       "    </tr>\n",
       "  </tbody>\n",
       "</table>\n",
       "</div>"
      ],
      "text/plain": [
       "  ym:s:lastsignTrafficSource  ym:s:visits  ym:s:goal137595631reaches\n",
       "0      Search engine traffic        345.0                       10.0\n",
       "1             Direct traffic        113.0                        5.0\n",
       "2               Link traffic         16.0                        1.0\n",
       "3     Social network traffic         12.0                        1.0\n",
       "4           Internal traffic          2.0                        0.0"
      ]
     },
     "metadata": {},
     "output_type": "display_data"
    }
   ],
   "source": [
    "metrika_df = pd.DataFrame(metrika_list_of_dicts)\n",
    "display(metrika_df.head(10))"
   ]
  },
  {
   "cell_type": "markdown",
   "metadata": {},
   "source": [
    "Для удобства переименуем столбцы и сразу же добавим новый столбец с расчётом."
   ]
  },
  {
   "cell_type": "code",
   "execution_count": 14,
   "metadata": {},
   "outputs": [
    {
     "data": {
      "text/html": [
       "<div>\n",
       "<style scoped>\n",
       "    .dataframe tbody tr th:only-of-type {\n",
       "        vertical-align: middle;\n",
       "    }\n",
       "\n",
       "    .dataframe tbody tr th {\n",
       "        vertical-align: top;\n",
       "    }\n",
       "\n",
       "    .dataframe thead th {\n",
       "        text-align: right;\n",
       "    }\n",
       "</style>\n",
       "<table border=\"1\" class=\"dataframe\">\n",
       "  <thead>\n",
       "    <tr style=\"text-align: right;\">\n",
       "      <th></th>\n",
       "      <th>Source</th>\n",
       "      <th>Visits</th>\n",
       "      <th>Conversions</th>\n",
       "      <th>Last non-direct CR%</th>\n",
       "    </tr>\n",
       "  </thead>\n",
       "  <tbody>\n",
       "    <tr>\n",
       "      <th>0</th>\n",
       "      <td>Search engine traffic</td>\n",
       "      <td>345.0</td>\n",
       "      <td>10.0</td>\n",
       "      <td>0.028986</td>\n",
       "    </tr>\n",
       "    <tr>\n",
       "      <th>1</th>\n",
       "      <td>Direct traffic</td>\n",
       "      <td>113.0</td>\n",
       "      <td>5.0</td>\n",
       "      <td>0.044248</td>\n",
       "    </tr>\n",
       "    <tr>\n",
       "      <th>2</th>\n",
       "      <td>Link traffic</td>\n",
       "      <td>16.0</td>\n",
       "      <td>1.0</td>\n",
       "      <td>0.062500</td>\n",
       "    </tr>\n",
       "    <tr>\n",
       "      <th>3</th>\n",
       "      <td>Social network traffic</td>\n",
       "      <td>12.0</td>\n",
       "      <td>1.0</td>\n",
       "      <td>0.083333</td>\n",
       "    </tr>\n",
       "    <tr>\n",
       "      <th>4</th>\n",
       "      <td>Internal traffic</td>\n",
       "      <td>2.0</td>\n",
       "      <td>0.0</td>\n",
       "      <td>0.000000</td>\n",
       "    </tr>\n",
       "  </tbody>\n",
       "</table>\n",
       "</div>"
      ],
      "text/plain": [
       "                   Source  Visits  Conversions  Last non-direct CR%\n",
       "0   Search engine traffic   345.0         10.0             0.028986\n",
       "1          Direct traffic   113.0          5.0             0.044248\n",
       "2            Link traffic    16.0          1.0             0.062500\n",
       "3  Social network traffic    12.0          1.0             0.083333\n",
       "4        Internal traffic     2.0          0.0             0.000000"
      ]
     },
     "metadata": {},
     "output_type": "display_data"
    }
   ],
   "source": [
    "metrika_df.columns=['Source','Visits','Conversions']\n",
    "metrika_df['Last non-direct CR%'] = metrika_df['Conversions']/metrika_df['Visits']\n",
    "display(metrika_df.head(10))"
   ]
  },
  {
   "cell_type": "markdown",
   "metadata": {},
   "source": [
    "Посчитайте, какая конверсия (в процентах) будет у Direct traffic в случае применения модели «Последний источник»?"
   ]
  },
  {
   "cell_type": "code",
   "execution_count": 15,
   "metadata": {},
   "outputs": [
    {
     "name": "stdout",
     "output_type": "stream",
     "text": [
      "200\n"
     ]
    }
   ],
   "source": [
    "params2 = {'metrics': 'ym:s:visits,ym:s:goal'+ids_naim+'reaches',\n",
    "          'dimensions': 'ym:s:lastTrafficSource',  \n",
    "          'date1': '2020-10-07',  \n",
    "          'date2': '2020-10-09',    \n",
    "          'ids': 30177909,\n",
    "          'accuracy':'full',\n",
    "          'limit':100000}\n",
    "response = requests.get(yandex_address_get, params=params2, headers=headers)\n",
    "print (response.status_code)\n"
   ]
  },
  {
   "cell_type": "code",
   "execution_count": 16,
   "metadata": {},
   "outputs": [
    {
     "data": {
      "text/html": [
       "<div>\n",
       "<style scoped>\n",
       "    .dataframe tbody tr th:only-of-type {\n",
       "        vertical-align: middle;\n",
       "    }\n",
       "\n",
       "    .dataframe tbody tr th {\n",
       "        vertical-align: top;\n",
       "    }\n",
       "\n",
       "    .dataframe thead th {\n",
       "        text-align: right;\n",
       "    }\n",
       "</style>\n",
       "<table border=\"1\" class=\"dataframe\">\n",
       "  <thead>\n",
       "    <tr style=\"text-align: right;\">\n",
       "      <th></th>\n",
       "      <th>Source</th>\n",
       "      <th>Visits</th>\n",
       "      <th>Conversions</th>\n",
       "      <th>Last click CR%</th>\n",
       "    </tr>\n",
       "  </thead>\n",
       "  <tbody>\n",
       "    <tr>\n",
       "      <th>0</th>\n",
       "      <td>Search engine traffic</td>\n",
       "      <td>317.0</td>\n",
       "      <td>10.0</td>\n",
       "      <td>0.031546</td>\n",
       "    </tr>\n",
       "    <tr>\n",
       "      <th>1</th>\n",
       "      <td>Direct traffic</td>\n",
       "      <td>144.0</td>\n",
       "      <td>6.0</td>\n",
       "      <td>0.041667</td>\n",
       "    </tr>\n",
       "    <tr>\n",
       "      <th>2</th>\n",
       "      <td>Link traffic</td>\n",
       "      <td>15.0</td>\n",
       "      <td>1.0</td>\n",
       "      <td>0.066667</td>\n",
       "    </tr>\n",
       "    <tr>\n",
       "      <th>3</th>\n",
       "      <td>Social network traffic</td>\n",
       "      <td>10.0</td>\n",
       "      <td>0.0</td>\n",
       "      <td>0.000000</td>\n",
       "    </tr>\n",
       "    <tr>\n",
       "      <th>4</th>\n",
       "      <td>Internal traffic</td>\n",
       "      <td>2.0</td>\n",
       "      <td>0.0</td>\n",
       "      <td>0.000000</td>\n",
       "    </tr>\n",
       "  </tbody>\n",
       "</table>\n",
       "</div>"
      ],
      "text/plain": [
       "                   Source  Visits  Conversions  Last click CR%\n",
       "0   Search engine traffic   317.0         10.0        0.031546\n",
       "1          Direct traffic   144.0          6.0        0.041667\n",
       "2            Link traffic    15.0          1.0        0.066667\n",
       "3  Social network traffic    10.0          0.0        0.000000\n",
       "4        Internal traffic     2.0          0.0        0.000000"
      ]
     },
     "metadata": {},
     "output_type": "display_data"
    }
   ],
   "source": [
    "metrika_data2 = response.json()\n",
    "metrika_df2 = pd.DataFrame(metrika_data2['data'])\n",
    "metrika_list_of_dicts2 = getMetrikaDataInListOfDicts(metrika_data2)\n",
    "metrika_df2 = pd.DataFrame(metrika_list_of_dicts2)\n",
    "metrika_df2.columns=['Source','Visits','Conversions']\n",
    "metrika_df2['Last click CR%'] = metrika_df2['Conversions']/metrika_df2['Visits']\n",
    "display(metrika_df2.head(10))"
   ]
  },
  {
   "cell_type": "markdown",
   "metadata": {},
   "source": [
    "К какому каналу была отнесена конверсия из источника Direct в модели Last non-direct?"
   ]
  },
  {
   "cell_type": "code",
   "execution_count": 17,
   "metadata": {},
   "outputs": [
    {
     "data": {
      "text/html": [
       "<div>\n",
       "<style scoped>\n",
       "    .dataframe tbody tr th:only-of-type {\n",
       "        vertical-align: middle;\n",
       "    }\n",
       "\n",
       "    .dataframe tbody tr th {\n",
       "        vertical-align: top;\n",
       "    }\n",
       "\n",
       "    .dataframe thead th {\n",
       "        text-align: right;\n",
       "    }\n",
       "</style>\n",
       "<table border=\"1\" class=\"dataframe\">\n",
       "  <thead>\n",
       "    <tr style=\"text-align: right;\">\n",
       "      <th></th>\n",
       "      <th>Source</th>\n",
       "      <th>Last non-direct CR%</th>\n",
       "      <th>Last click CR%</th>\n",
       "      <th>Last click to Last non-direct Difference</th>\n",
       "    </tr>\n",
       "  </thead>\n",
       "  <tbody>\n",
       "    <tr>\n",
       "      <th>0</th>\n",
       "      <td>Search engine traffic</td>\n",
       "      <td>0.028986</td>\n",
       "      <td>0.031546</td>\n",
       "      <td>0.088328</td>\n",
       "    </tr>\n",
       "    <tr>\n",
       "      <th>1</th>\n",
       "      <td>Direct traffic</td>\n",
       "      <td>0.044248</td>\n",
       "      <td>0.041667</td>\n",
       "      <td>-0.058333</td>\n",
       "    </tr>\n",
       "    <tr>\n",
       "      <th>2</th>\n",
       "      <td>Link traffic</td>\n",
       "      <td>0.062500</td>\n",
       "      <td>0.066667</td>\n",
       "      <td>0.066667</td>\n",
       "    </tr>\n",
       "    <tr>\n",
       "      <th>3</th>\n",
       "      <td>Social network traffic</td>\n",
       "      <td>0.083333</td>\n",
       "      <td>0.000000</td>\n",
       "      <td>-1.000000</td>\n",
       "    </tr>\n",
       "    <tr>\n",
       "      <th>4</th>\n",
       "      <td>Internal traffic</td>\n",
       "      <td>0.000000</td>\n",
       "      <td>0.000000</td>\n",
       "      <td>NaN</td>\n",
       "    </tr>\n",
       "  </tbody>\n",
       "</table>\n",
       "</div>"
      ],
      "text/plain": [
       "                   Source  Last non-direct CR%  Last click CR%  \\\n",
       "0   Search engine traffic             0.028986        0.031546   \n",
       "1          Direct traffic             0.044248        0.041667   \n",
       "2            Link traffic             0.062500        0.066667   \n",
       "3  Social network traffic             0.083333        0.000000   \n",
       "4        Internal traffic             0.000000        0.000000   \n",
       "\n",
       "   Last click to Last non-direct Difference  \n",
       "0                                  0.088328  \n",
       "1                                 -0.058333  \n",
       "2                                  0.066667  \n",
       "3                                 -1.000000  \n",
       "4                                       NaN  "
      ]
     },
     "execution_count": 17,
     "metadata": {},
     "output_type": "execute_result"
    }
   ],
   "source": [
    "df1 = metrika_df.loc[:,['Source','Last non-direct CR%']]\n",
    "df2 = metrika_df2.loc[:,['Source','Last click CR%']]\n",
    "attribution_compare_df = df1.merge(df2, on='Source')\n",
    "attribution_compare_df['Last click to Last non-direct Difference'] = attribution_compare_df['Last click CR%']/attribution_compare_df['Last non-direct CR%'] -1\n",
    "attribution_compare_df"
   ]
  }
 ],
 "metadata": {
  "kernelspec": {
   "display_name": "Python 3.10.5 64-bit",
   "language": "python",
   "name": "python3"
  },
  "language_info": {
   "codemirror_mode": {
    "name": "ipython",
    "version": 3
   },
   "file_extension": ".py",
   "mimetype": "text/x-python",
   "name": "python",
   "nbconvert_exporter": "python",
   "pygments_lexer": "ipython3",
   "version": "3.10.5"
  },
  "orig_nbformat": 4,
  "vscode": {
   "interpreter": {
    "hash": "36c6851108447751ff9a78a375ee7b602a45470c5b7394c41491d0df81785d53"
   }
  }
 },
 "nbformat": 4,
 "nbformat_minor": 2
}
