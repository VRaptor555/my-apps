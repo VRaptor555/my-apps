{
 "cells": [
  {
   "cell_type": "code",
   "execution_count": 1,
   "metadata": {},
   "outputs": [],
   "source": [
    "token_puch399 = 'AQAAAAAFcthMAAhJih03yzJOEUPqsHijSQ6cJKw'\n",
    "\n",
    "ids_ym = 30177909 # Идентификатор счётчика Яндекс.Метрики сайта: \n",
    "ids_naim = '137595631' # Идентификатор достижения цели «Найм клинеров»: 137595631\n",
    "yandex_address_get = 'https://api-metrika.yandex.net/stat/v1/data'\n",
    "headers = {'Authorization': 'OAuth ' + token_puch399}"
   ]
  },
  {
   "cell_type": "code",
   "execution_count": 2,
   "metadata": {},
   "outputs": [],
   "source": [
    "import json \n",
    "import requests\n",
    "from pprint import pprint\n",
    "import pandas as pd"
   ]
  },
  {
   "cell_type": "code",
   "execution_count": 9,
   "metadata": {},
   "outputs": [],
   "source": [
    "params = {'metrics': 'ym:s:robotPercentage',\n",
    "          'dimensions': 'ym:s:lastTrafficSource,ym:s:hour',  \n",
    "          'date1': '2020-10-07',  \n",
    "          'date2': '2020-10-09',     \n",
    "          'ids': 30177909,\n",
    "          'accuracy':'full',\n",
    "          'limit':100000}"
   ]
  },
  {
   "cell_type": "code",
   "execution_count": 10,
   "metadata": {},
   "outputs": [
    {
     "name": "stdout",
     "output_type": "stream",
     "text": [
      "200\n"
     ]
    }
   ],
   "source": [
    "response = requests.get(yandex_address_get, params=params, headers=headers)\n",
    "print (response.status_code)"
   ]
  },
  {
   "cell_type": "code",
   "execution_count": 11,
   "metadata": {},
   "outputs": [],
   "source": [
    "metrika_data = response.json()"
   ]
  },
  {
   "cell_type": "code",
   "execution_count": 12,
   "metadata": {},
   "outputs": [
    {
     "data": {
      "text/plain": [
       "69"
      ]
     },
     "execution_count": 12,
     "metadata": {},
     "output_type": "execute_result"
    }
   ],
   "source": [
    "metrika_data['total_rows']"
   ]
  },
  {
   "cell_type": "code",
   "execution_count": 13,
   "metadata": {},
   "outputs": [
    {
     "data": {
      "text/html": [
       "<div>\n",
       "<style scoped>\n",
       "    .dataframe tbody tr th:only-of-type {\n",
       "        vertical-align: middle;\n",
       "    }\n",
       "\n",
       "    .dataframe tbody tr th {\n",
       "        vertical-align: top;\n",
       "    }\n",
       "\n",
       "    .dataframe thead th {\n",
       "        text-align: right;\n",
       "    }\n",
       "</style>\n",
       "<table border=\"1\" class=\"dataframe\">\n",
       "  <thead>\n",
       "    <tr style=\"text-align: right;\">\n",
       "      <th></th>\n",
       "      <th>dimensions</th>\n",
       "      <th>metrics</th>\n",
       "    </tr>\n",
       "  </thead>\n",
       "  <tbody>\n",
       "    <tr>\n",
       "      <th>0</th>\n",
       "      <td>[{'icon_id': '0', 'icon_type': 'traffic-source...</td>\n",
       "      <td>[100.0]</td>\n",
       "    </tr>\n",
       "    <tr>\n",
       "      <th>1</th>\n",
       "      <td>[{'icon_id': '1', 'icon_type': 'traffic-source...</td>\n",
       "      <td>[100.0]</td>\n",
       "    </tr>\n",
       "    <tr>\n",
       "      <th>2</th>\n",
       "      <td>[{'icon_id': '1', 'icon_type': 'traffic-source...</td>\n",
       "      <td>[100.0]</td>\n",
       "    </tr>\n",
       "    <tr>\n",
       "      <th>3</th>\n",
       "      <td>[{'icon_id': '8', 'icon_type': 'traffic-source...</td>\n",
       "      <td>[50.0]</td>\n",
       "    </tr>\n",
       "    <tr>\n",
       "      <th>4</th>\n",
       "      <td>[{'icon_id': '2', 'icon_type': 'traffic-source...</td>\n",
       "      <td>[45.45454545]</td>\n",
       "    </tr>\n",
       "    <tr>\n",
       "      <th>5</th>\n",
       "      <td>[{'icon_id': '2', 'icon_type': 'traffic-source...</td>\n",
       "      <td>[38.88888889]</td>\n",
       "    </tr>\n",
       "    <tr>\n",
       "      <th>6</th>\n",
       "      <td>[{'icon_id': '0', 'icon_type': 'traffic-source...</td>\n",
       "      <td>[33.33333333]</td>\n",
       "    </tr>\n",
       "    <tr>\n",
       "      <th>7</th>\n",
       "      <td>[{'icon_id': '1', 'icon_type': 'traffic-source...</td>\n",
       "      <td>[33.33333333]</td>\n",
       "    </tr>\n",
       "    <tr>\n",
       "      <th>8</th>\n",
       "      <td>[{'icon_id': '2', 'icon_type': 'traffic-source...</td>\n",
       "      <td>[32.0]</td>\n",
       "    </tr>\n",
       "    <tr>\n",
       "      <th>9</th>\n",
       "      <td>[{'icon_id': '2', 'icon_type': 'traffic-source...</td>\n",
       "      <td>[31.03448276]</td>\n",
       "    </tr>\n",
       "  </tbody>\n",
       "</table>\n",
       "</div>"
      ],
      "text/plain": [
       "                                          dimensions        metrics\n",
       "0  [{'icon_id': '0', 'icon_type': 'traffic-source...        [100.0]\n",
       "1  [{'icon_id': '1', 'icon_type': 'traffic-source...        [100.0]\n",
       "2  [{'icon_id': '1', 'icon_type': 'traffic-source...        [100.0]\n",
       "3  [{'icon_id': '8', 'icon_type': 'traffic-source...         [50.0]\n",
       "4  [{'icon_id': '2', 'icon_type': 'traffic-source...  [45.45454545]\n",
       "5  [{'icon_id': '2', 'icon_type': 'traffic-source...  [38.88888889]\n",
       "6  [{'icon_id': '0', 'icon_type': 'traffic-source...  [33.33333333]\n",
       "7  [{'icon_id': '1', 'icon_type': 'traffic-source...  [33.33333333]\n",
       "8  [{'icon_id': '2', 'icon_type': 'traffic-source...         [32.0]\n",
       "9  [{'icon_id': '2', 'icon_type': 'traffic-source...  [31.03448276]"
      ]
     },
     "metadata": {},
     "output_type": "display_data"
    }
   ],
   "source": [
    "metrika_df = pd.DataFrame(metrika_data['data'])\n",
    "display(metrika_df.head(10)) # Функция .head(10) позволяет выбрать только 10 первые строк датафрейма "
   ]
  }
 ],
 "metadata": {
  "kernelspec": {
   "display_name": "Python 3.10.5 64-bit",
   "language": "python",
   "name": "python3"
  },
  "language_info": {
   "codemirror_mode": {
    "name": "ipython",
    "version": 3
   },
   "file_extension": ".py",
   "mimetype": "text/x-python",
   "name": "python",
   "nbconvert_exporter": "python",
   "pygments_lexer": "ipython3",
   "version": "3.10.5"
  },
  "orig_nbformat": 4,
  "vscode": {
   "interpreter": {
    "hash": "36c6851108447751ff9a78a375ee7b602a45470c5b7394c41491d0df81785d53"
   }
  }
 },
 "nbformat": 4,
 "nbformat_minor": 2
}
