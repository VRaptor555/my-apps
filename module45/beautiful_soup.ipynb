{
 "cells": [
  {
   "cell_type": "code",
   "execution_count": 2,
   "metadata": {},
   "outputs": [],
   "source": [
    "# Устанавливаем библиотеку BeautifulSoup\n",
    "#!pip3 install beautifulsoup4 "
   ]
  },
  {
   "cell_type": "code",
   "execution_count": 3,
   "metadata": {},
   "outputs": [],
   "source": [
    "from bs4 import BeautifulSoup # Импортируем библиотеку BeautifulSoup"
   ]
  },
  {
   "cell_type": "code",
   "execution_count": 4,
   "metadata": {},
   "outputs": [
    {
     "name": "stdout",
     "output_type": "stream",
     "text": [
      "<title>Премию Нобеля по экономике присудили за исследования экономики труда и причинно-следственных связей</title>\n",
      "Премию Нобеля по экономике присудили за исследования экономики труда и причинно-следственных связей\n"
     ]
    }
   ],
   "source": [
    "import requests # Импортируем библиотеку requests\n",
    "from bs4 import BeautifulSoup # Импортируем библиотеку BeautifulSoup\n",
    "url = 'https://nplus1.ru/news/2021/10/11/econobel2021' # Определяем адрес страницы\n",
    "response = requests.get(url) # Выполняем GET-запрос, содержимое ответа присваивается переменной response\n",
    "page = BeautifulSoup(response.text, 'html.parser') # Создаём объект BeautifulSoup, указывая html-парсер\n",
    "print(page.title) # Получаем тег title, отображающийся на вкладке браузера\n",
    "print(page.title.text) # Выводим текст из полученного тега, который содержится в атрибуте text"
   ]
  },
  {
   "cell_type": "code",
   "execution_count": 5,
   "metadata": {},
   "outputs": [
    {
     "name": "stdout",
     "output_type": "stream",
     "text": [
      "Премию Нобеля по экономике присудили за исследования экономики труда и причинно-следственных связей\n"
     ]
    }
   ],
   "source": [
    "print(page.find('h1').text) # Применяем метод find() к объекту и выводим результат на экран"
   ]
  },
  {
   "cell_type": "code",
   "execution_count": 6,
   "metadata": {},
   "outputs": [
    {
     "name": "stdout",
     "output_type": "stream",
     "text": [
      "\n",
      "13:04\n",
      "11 Окт. 2021\n",
      "\n"
     ]
    }
   ],
   "source": [
    "print(page.find('time').text) # Выводим на экран содержимое атрибута text тега time"
   ]
  },
  {
   "cell_type": "code",
   "execution_count": 7,
   "metadata": {},
   "outputs": [],
   "source": [
    "def wiki_header(url_wiki):\n",
    "    resp = requests.get(url_wiki)\n",
    "    page = BeautifulSoup(resp.text, 'html.parser')\n",
    "    return page.find('h1').text"
   ]
  },
  {
   "cell_type": "code",
   "execution_count": 8,
   "metadata": {},
   "outputs": [
    {
     "data": {
      "text/plain": [
       "'Operating system'"
      ]
     },
     "execution_count": 8,
     "metadata": {},
     "output_type": "execute_result"
    }
   ],
   "source": [
    "wiki_header('https://en.wikipedia.org/wiki/Operating_system')"
   ]
  },
  {
   "cell_type": "code",
   "execution_count": 9,
   "metadata": {},
   "outputs": [
    {
     "name": "stdout",
     "output_type": "stream",
     "text": [
      "\n",
      "\n",
      "\n",
      "\n",
      "\n",
      "\n",
      "\n",
      "\n",
      "Премия Шведского национального банка по экономическим наукам памяти Альфреда Нобеля за 2021 год присуждена Дэвиду Карду (David Card) за его вклад в эмпирические исследования экономики рынка труда, а также Джошуа Энгристу (Joshua Angrist) и Гвидо Имбенсу (Guido Imbens) за их вклад в методологию анализа причинно-следственных связей. Прямая трансляция церемонии объявления лауреатов шла на официальном сайте Нобелевской премии.\n",
      "\n",
      "\n",
      "\n",
      "\n",
      "\n",
      "\n",
      "\n",
      "\n",
      "\n",
      "Слева направо: Дэвид Карт, Джошуа Энгрист и Гвидо Имбенс.\n",
      "Niklas Elmehed © Nobel Prize Outreach\n",
      "\n",
      "\n",
      "\n",
      "Поделиться\n",
      "\n",
      "\n",
      "\n",
      "\n",
      "\n",
      "\n",
      "\n",
      "\n",
      "\n",
      "\n",
      "\n",
      "\n",
      "\n",
      "\n",
      "\n",
      "\n",
      "\n",
      "Премия по экономике, в отличие от Нобелевских премий по физиологии и медицине, физике, химии и литературе, а также премии мира, была учреждена не самим Альфредом Нобелем, а Банком Швеции в 1968 году. Ее размер равен размеру остальных премий.Лауреаты этого года награждены за их исследования причинно-следственных связей в области социальных наук. В частности, Дэвид Кард из университета Калифорнии в Беркли начиная с 1990-х годов исследовал, как именно на рынок труда влияют изменения минимальных зарплат, уровень иммиграции и образовательный уровень населения. Полученные им результаты, в частности, указывали, что повышение уровня минимальных зарплат не обязательно влечет за собой сокращение количества рабочих мест.Два других лауреата - Джошуа Ангрист из Массачусетского технологического института и Гвидо Имбенс из Стэнфордского университета исследовали, как можно установить наличие причинно-следственных связей в естественных экспериментах, связанных с поисками отношения между уровнем образования и доходами.Компания Clarivate, которая составляет списки потенциальных нобелевских лауреатов на основе наукометрических данных, в 2021 году предположила, что в экономической номинации премию могут присудить Дэвиду Одречу (David Audretsch) и Дэвиду Тису (David Teece) за исследование инноваций.\n",
      "Кроме того, в списке этого года были Джоэл Мокир (Joel Mokyr), который исследует культурные истоки промышленной революции, а также Кармен Рейнхарт (Carmen Reinhart) и Кеннет Рогофф (Kenneth Rogoff) — авторы гипотезы «90-процентного порога»., согласно которой, когда внешний долг государства достигает 90 процентов от ВВП, скорость роста ВВП падает вдвое.\n",
      "В 2020 году премию по экономике присудили Полу Милгрому и Роберту Уилсону за развитие теории аукционов и изобретение новых форматов аукционов. Лауреаты исследовали, как работают аукционы, и разрабатывали новые форматы проведения аукционов для продажи товаров и услуг, которые трудно продавать с помощью традиционных методов. Читайте об их работах в нашем материале «Тонкости молотка».\n",
      "В 2019 году премии памяти Нобеля по экономике были удостоены Абхиджит Банерджи, Эстер Дюфло и Майкл Кремер — «за экспериментальный подход к искоренению глобальной бедности». Подробнее о заслугах лауреатов можно прочесть в нашем материале «Опыты на бедных». В 2018 года награда была присуждена Уильяму Нордхаусу за «интеграцию изменения климата в долгосрочный макроэкономический анализ» и Полу Ромеру за «интеграцию технологических инноваций в долгосрочный макроэкономический анализ». Об их работах можно прочитать в материале «Почем знания для природы».\n",
      "Сергей Кузнецов\n",
      "\n"
     ]
    }
   ],
   "source": [
    "print(page.find('div', class_='body').text) # Выводим содержимое атрибута text тега div"
   ]
  },
  {
   "cell_type": "code",
   "execution_count": 10,
   "metadata": {},
   "outputs": [
    {
     "name": "stdout",
     "output_type": "stream",
     "text": [
      "<a id=\"top\"></a>\n"
     ]
    }
   ],
   "source": [
    "url = 'https://en.wikipedia.org/wiki/List_of_programming_languages' # Задаём адрес ресурса\n",
    "response = requests.get(url) # Делаем GET-запрос к ресурсу\n",
    "page = BeautifulSoup(response.text, 'html.parser') # Создаём объект BeautifulSoup\n",
    "print(page.find('a')) # Ищем ссылку по тегу <a> и выводим её на экран"
   ]
  },
  {
   "cell_type": "code",
   "execution_count": 11,
   "metadata": {},
   "outputs": [
    {
     "name": "stdout",
     "output_type": "stream",
     "text": [
      "939\n"
     ]
    }
   ],
   "source": [
    "links = page.find_all('a') # Ищем все ссылки на странице и сохраняем в переменной links в виде списка\n",
    "print(len(links)) # Выводим количество найденных ссылок"
   ]
  },
  {
   "cell_type": "code",
   "execution_count": 12,
   "metadata": {},
   "outputs": [
    {
     "name": "stdout",
     "output_type": "stream",
     "text": [
      "['Open Programming Language', 'OpenCL', 'OpenEdge Advanced Business Language', 'OpenVera', 'OpenQASM', 'OPS5', 'OptimJ', 'Orc', 'ORCA/Modula-2', 'Oriel']\n"
     ]
    }
   ],
   "source": [
    "print([link.text for link in links[500:510]]) # Выводим ссылки с 500 по 509 включительно"
   ]
  },
  {
   "cell_type": "code",
   "execution_count": 13,
   "metadata": {},
   "outputs": [
    {
     "name": "stdout",
     "output_type": "stream",
     "text": [
      "['', 'Jump to navigation', 'Jump to search', 'Programming languagelists', 'Alphabetical', 'Categorical', 'Chronological', 'Generational', 'v', 't']\n"
     ]
    }
   ],
   "source": [
    "print([link.text for link in links[0:10]]) # Выводим ссылки с первой по девятую включительно"
   ]
  }
 ],
 "metadata": {
  "kernelspec": {
   "display_name": "Python 3.10.5 64-bit",
   "language": "python",
   "name": "python3"
  },
  "language_info": {
   "codemirror_mode": {
    "name": "ipython",
    "version": 3
   },
   "file_extension": ".py",
   "mimetype": "text/x-python",
   "name": "python",
   "nbconvert_exporter": "python",
   "pygments_lexer": "ipython3",
   "version": "3.10.5"
  },
  "orig_nbformat": 4,
  "vscode": {
   "interpreter": {
    "hash": "36c6851108447751ff9a78a375ee7b602a45470c5b7394c41491d0df81785d53"
   }
  }
 },
 "nbformat": 4,
 "nbformat_minor": 2
}
