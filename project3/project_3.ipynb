{
 "cells": [
  {
   "cell_type": "markdown",
   "metadata": {},
   "source": [
    "# Описание гипотезы\n",
    "### Проверим предположения\n",
    "1. Определить, насколько обучение сокращает время прохождения этапов игры.\n",
    "2. Доказать, что успешное обучение само по себе влияет на оплату и не имеет значения то, каким этапом оно шло.\n",
    "3. Проверить, насколько прозрачен процесс взаимодействия с игрой.\n",
    "#### Проверять будем на данных пользователей, зарегистрированных в 2018 году (1 января 2018 - 31 декабря 2018)"
   ]
  },
  {
   "cell_type": "markdown",
   "metadata": {},
   "source": [
    "Импротируем нужные библиотеки"
   ]
  },
  {
   "cell_type": "code",
   "execution_count": 1,
   "metadata": {},
   "outputs": [],
   "source": [
    "import pandas as pd\n",
    "import numpy as np\n",
    "import seaborn as sns\n",
    "import matplotlib.pyplot as plt\n",
    "%matplotlib inline"
   ]
  },
  {
   "cell_type": "markdown",
   "metadata": {},
   "source": [
    "Загружаем данные"
   ]
  },
  {
   "cell_type": "code",
   "execution_count": 2,
   "metadata": {},
   "outputs": [],
   "source": [
    "events_df = pd.read_csv('data/7_4_Events.csv', sep=',')\n",
    "purchase_df = pd.read_csv('data/purchase.csv', sep=',')"
   ]
  },
  {
   "cell_type": "markdown",
   "metadata": {},
   "source": [
    "## Производим предобработку данных"
   ]
  },
  {
   "cell_type": "markdown",
   "metadata": {},
   "source": [
    "Выделяем пользователей зарегистрирванных в 2018 году и загружаем данные по ним в отдельные датафреймы"
   ]
  },
  {
   "cell_type": "code",
   "execution_count": 3,
   "metadata": {},
   "outputs": [],
   "source": [
    "# Создаем фильтр по пользователям, зарегистрировавшихся в 2018 году\n",
    "mask = (events_df['start_time'] >= '2018-01-01') & (events_df['start_time'] < '2019-01-01') & (events_df['event_type'] == 'registration')\n",
    "\n",
    "regist_2018 = events_df[mask]['user_id'].to_list() # список пользователей зарегистрировавшихся в 2018 году \n",
    "\n",
    "events_2018 = events_df[events_df['user_id'].isin(regist_2018)].copy() # отбираем все записи с этими пользователями в таблице events\n",
    "purchase_2018 = purchase_df[purchase_df['user_id'].isin(regist_2018)].copy() # отбираем все записи с этими пользователями в таблице purchase\n"
   ]
  },
  {
   "cell_type": "markdown",
   "metadata": {},
   "source": [
    "Преобразуем даты в полученых датафреймах"
   ]
  },
  {
   "cell_type": "code",
   "execution_count": 4,
   "metadata": {},
   "outputs": [],
   "source": [
    "purchase_2018['event_datetime'] = pd.to_datetime(purchase_2018['event_datetime'])\n",
    "events_2018['start_time'] = pd.to_datetime(events_2018['start_time'])"
   ]
  },
  {
   "cell_type": "markdown",
   "metadata": {},
   "source": [
    "Перед объединением датафреймов, переименуем колонки идентификаторов"
   ]
  },
  {
   "cell_type": "code",
   "execution_count": 5,
   "metadata": {},
   "outputs": [],
   "source": [
    "events_2018 = events_2018.rename(columns={'id':'event_id'})\n",
    "purchase_2018 = purchase_2018.rename(columns={'id':'purchase_id'})\n",
    "purchase_2018['start_time'] = purchase_2018['event_datetime']\n",
    "purchase_2018['event_type'] = 'purchase'"
   ]
  },
  {
   "cell_type": "markdown",
   "metadata": {},
   "source": [
    "Вычисляем время после обучения и до выбора уровня или наоборот, понадобится во 2-й гипотезе"
   ]
  },
  {
   "cell_type": "code",
   "execution_count": 6,
   "metadata": {},
   "outputs": [],
   "source": [
    "events_2018['time_diff_tutlevel'] = events_2018[(events_2018['event_type']=='tutorial_finish') | (events_2018['event_type']=='level_choice')].groupby(by=['user_id'])['start_time'].diff()"
   ]
  },
  {
   "cell_type": "markdown",
   "metadata": {},
   "source": [
    "Сделаем объединенный датафрейм из событий и оплат"
   ]
  },
  {
   "cell_type": "code",
   "execution_count": 7,
   "metadata": {},
   "outputs": [],
   "source": [
    "total_events_df = pd.concat([events_2018,purchase_2018],sort=False)\n",
    "total_events_df = total_events_df.reset_index(drop=True).sort_values('start_time')"
   ]
  },
  {
   "cell_type": "markdown",
   "metadata": {},
   "source": [
    "### Проверим 1-ю гипотезу\n",
    "* Насколько обучение сокращает время прохождения этапов игры"
   ]
  },
  {
   "cell_type": "markdown",
   "metadata": {},
   "source": [
    "Сформируем группы пользователей, которые проходили обучение и которые не проходили"
   ]
  },
  {
   "cell_type": "code",
   "execution_count": 8,
   "metadata": {},
   "outputs": [
    {
     "name": "stdout",
     "output_type": "stream",
     "text": [
      "Количество пользователей завершивших обучение: 10250\n",
      "Количество пользователей не проходивших обучение: 9676\n"
     ]
    }
   ],
   "source": [
    "mask_tutorial = total_events_df['event_type']=='tutorial_finish'\n",
    "mask_first_tutorial = (total_events_df['event_type']=='level_choice') & (total_events_df['time_diff_tutlevel'] > '00:00:00')\n",
    "mask_second_tutorial = (total_events_df['event_type']=='tutorial_finish') & (total_events_df['time_diff_tutlevel'] > '00:00:00')\n",
    "# Пользователи которые прошли обучение\n",
    "users_tutorial_finish = total_events_df[mask_tutorial]['user_id'].unique()\n",
    "print('Количество пользователей завершивших обучение: {}'.format(len(users_tutorial_finish)))\n",
    "# Пользователи которые проходили обучение до прохождения всех этапов\n",
    "users_tutorial_finish_before = total_events_df[(total_events_df['user_id'].isin(users_tutorial_finish)) & (mask_first_tutorial)]['user_id'].unique()\n",
    "users_tutorial_finish_after = total_events_df[(total_events_df['user_id'].isin(users_tutorial_finish)) & (mask_second_tutorial)]['user_id'].unique()\n",
    "# Пользователи которые не проходили обучение\n",
    "users_not_tutorial = total_events_df[~(total_events_df['user_id'].isin(users_tutorial_finish))]['user_id'].unique()\n",
    "print('Количество пользователей не проходивших обучение: {}'.format(len(users_not_tutorial)))"
   ]
  },
  {
   "cell_type": "code",
   "execution_count": 9,
   "metadata": {},
   "outputs": [
    {
     "name": "stdout",
     "output_type": "stream",
     "text": [
      "Из пользователей которые прошли обучение:\n",
      "Прошли обучение, затем остальные этапы игры: 7501\n",
      "Прошли обучение после выбора уровня: 2235\n",
      "Всего: 9736\n"
     ]
    }
   ],
   "source": [
    "print('Из пользователей которые прошли обучение:')\n",
    "print('Прошли обучение, затем остальные этапы игры: {}'.format(len(users_tutorial_finish_before)))\n",
    "print('Прошли обучение после выбора уровня: {}'.format(len(users_tutorial_finish_after)))\n",
    "print('Всего: {}'.format(len(users_tutorial_finish_before)+len(users_tutorial_finish_after)))"
   ]
  },
  {
   "cell_type": "markdown",
   "metadata": {},
   "source": [
    "Как видим, пользователей которые выбирали этапы игры после или до обучения меньше, чем всего пользователей прошедших обучение, значит не все пользователи которые проходили обучение продолжали игру дальше."
   ]
  },
  {
   "cell_type": "markdown",
   "metadata": {},
   "source": [
    "Разобьем пользователей на группы"
   ]
  },
  {
   "cell_type": "code",
   "execution_count": 10,
   "metadata": {},
   "outputs": [],
   "source": [
    "total_events_df['groups'] = total_events_df.apply(lambda x: 1 if x['user_id'] in users_tutorial_finish else 0, axis=1)"
   ]
  },
  {
   "cell_type": "markdown",
   "metadata": {},
   "source": [
    "Сформируем сводную таблицу прохождения этапов игры"
   ]
  },
  {
   "cell_type": "code",
   "execution_count": 11,
   "metadata": {},
   "outputs": [],
   "source": [
    "users_etap = total_events_df.pivot_table(\n",
    "    values='start_time',\n",
    "    index=['user_id','groups'],\n",
    "    columns='event_type',\n",
    "    aggfunc='min'\n",
    ")"
   ]
  },
  {
   "cell_type": "markdown",
   "metadata": {},
   "source": [
    "Вычислим разницу во времени прохождения этапов игры"
   ]
  },
  {
   "cell_type": "code",
   "execution_count": 12,
   "metadata": {},
   "outputs": [],
   "source": [
    "users_etap['level_diff'] = users_etap['level_choice'] - users_etap['registration']\n",
    "users_etap['pack_diff'] = users_etap['pack_choice'] - users_etap['level_choice']\n",
    "users_etap['purchase_diff'] = users_etap['purchase'] - users_etap['pack_choice']"
   ]
  },
  {
   "cell_type": "markdown",
   "metadata": {},
   "source": [
    "Вычислим среднее время прохождения по группам"
   ]
  },
  {
   "cell_type": "code",
   "execution_count": 13,
   "metadata": {},
   "outputs": [],
   "source": [
    "group_avg = users_etap.groupby(by='groups')[['level_diff','pack_diff','purchase_diff']].mean()\n",
    "group_avg['time_diff'] = group_avg['level_diff'] + group_avg['pack_diff'] + group_avg['purchase_diff']"
   ]
  },
  {
   "cell_type": "markdown",
   "metadata": {},
   "source": [
    "Переводим timedelta64 (которая исчесляется в наносекундах) в часы"
   ]
  },
  {
   "cell_type": "code",
   "execution_count": 14,
   "metadata": {},
   "outputs": [],
   "source": [
    "group_avg['time_diff'] = group_avg['time_diff'] / np.timedelta64(1, 'h')"
   ]
  },
  {
   "cell_type": "markdown",
   "metadata": {},
   "source": [
    "Строим график"
   ]
  },
  {
   "cell_type": "code",
   "execution_count": 15,
   "metadata": {},
   "outputs": [
    {
     "data": {
      "image/png": "[encoded data removed]",
      "text/plain": [
       "<Figure size 432x288 with 1 Axes>"
      ]
     },
     "metadata": {
      "needs_background": "light"
     },
     "output_type": "display_data"
    }
   ],
   "source": [
    "x1 = np.array(['Без обучения','С обучением'])\n",
    "fig_tg = sns.barplot(\n",
    "    x=group_avg.index,\n",
    "    y='time_diff',\n",
    "    data=group_avg,\n",
    "    dodge=False,\n",
    ")\n",
    "for container in fig_tg.containers:\n",
    "    fig_tg.bar_label(container)\n",
    "\n",
    "fig_tg.set_title('Среднее прохождение всех этапов игры');\n",
    "fig_tg.set_xlabel('Группа');\n",
    "fig_tg.set_ylabel('Время прохождения, часов');\n",
    "fig_tg.set_xticklabels(x1)\n",
    "fig_tg.grid()\n"
   ]
  },
  {
   "cell_type": "markdown",
   "metadata": {},
   "source": [
    "### Вывод:\n",
    "`Прохождение обучения положительно сказывается на времени прохождения этапов игры.`\n",
    "\n",
    "* `Среднее время прохождения этапов игры у игроков без обучения 102,3 часа.`\n",
    "* `Среднее время прохождения этапов игры у игроков прошедших обучение 96,5 часов, что почти на 6 часов меньше!`\n",
    "\n",
    "***"
   ]
  },
  {
   "cell_type": "markdown",
   "metadata": {},
   "source": [
    "### Проверим 2-ю гипотезу\n",
    "* Доказать, что успешное обучение само по себе влияет на оплату и не имеет значения то, каким этапом оно шло."
   ]
  },
  {
   "cell_type": "markdown",
   "metadata": {},
   "source": [
    "Проверим количество игроков сделавших покупку, которые прошли обучение и которые не проходили обучение"
   ]
  },
  {
   "cell_type": "code",
   "execution_count": 16,
   "metadata": {},
   "outputs": [],
   "source": [
    "purchase_count_df = total_events_df[total_events_df['event_type']=='purchase'].groupby(by=['groups'])['user_id'].count()\n",
    "purchase_amount_df = total_events_df[total_events_df['event_type']=='purchase'].groupby(by=['groups'])['amount'].sum()"
   ]
  },
  {
   "cell_type": "markdown",
   "metadata": {},
   "source": [
    "Выводим график по количеству пользователей сделавших оплату и суммам оплат"
   ]
  },
  {
   "cell_type": "code",
   "execution_count": 17,
   "metadata": {},
   "outputs": [
    {
     "data": {
      "image/png": "[encoded data removed]",
      "text/plain": [
       "<Figure size 1008x504 with 2 Axes>"
      ]
     },
     "metadata": {},
     "output_type": "display_data"
    }
   ],
   "source": [
    "colors = sns.color_palette('pastel')\n",
    "# Кол-во пользователей\n",
    "fig = plt.figure(figsize=(14,7), facecolor='white', edgecolor='black')\n",
    "\n",
    "pie1_axes = fig.add_axes([0,0,0.45,1])\n",
    "pie1_axes.pie(\n",
    "    data=purchase_count_df,\n",
    "    x=purchase_count_df,\n",
    "    labels=purchase_count_df,\n",
    "    colors=colors,\n",
    "    autopct = '%0.2f%%',\n",
    "    textprops = {'color': 'black','fontsize':12}\n",
    "    \n",
    ");\n",
    "pie1_axes.set_title('Количество пользователей оплативших игру')\n",
    "pie1_axes.legend(x1);\n",
    "# Суммы оплат\n",
    "pie2_axes = fig.add_axes([0.55,0,0.45,1])\n",
    "pie2_axes.pie(\n",
    "    data=purchase_amount_df,\n",
    "    x=purchase_amount_df,\n",
    "    labels=purchase_amount_df,\n",
    "    colors=colors,\n",
    "    autopct = '%0.2f%%',\n",
    "    textprops = {'color': 'black','fontsize':12}\n",
    ");\n",
    "pie2_axes.set_title('Сумма оплат пользователей')\n",
    "pie2_axes.legend(x1);"
   ]
  },
  {
   "cell_type": "markdown",
   "metadata": {},
   "source": [
    "### Вывод:\n",
    "- `Количество пользователей сделавших оплату примерно в 10 раз больше, среди пользователей прошедших обучение. Примерно такое же соотношение в суммах сделаных оплат.\n",
    "Из этого следует, что само по себе обучение положительно влияет на последующую оплату.`\n"
   ]
  },
  {
   "cell_type": "markdown",
   "metadata": {},
   "source": [
    "Проверим, какой процент оплат среди пользователей которые сначала прошли обучение, а затем другие этапы игры и наоборот"
   ]
  },
  {
   "cell_type": "markdown",
   "metadata": {},
   "source": [
    "* Выделяем пользователей и разбиваем по группам"
   ]
  },
  {
   "cell_type": "code",
   "execution_count": 18,
   "metadata": {},
   "outputs": [
    {
     "name": "stderr",
     "output_type": "stream",
     "text": [
      "C:\\Users\\Raptor\\AppData\\Local\\Temp\\ipykernel_17616\\3765863053.py:2: SettingWithCopyWarning: \n",
      "A value is trying to be set on a copy of a slice from a DataFrame.\n",
      "Try using .loc[row_indexer,col_indexer] = value instead\n",
      "\n",
      "See the caveats in the documentation: https://pandas.pydata.org/pandas-docs/stable/user_guide/indexing.html#returning-a-view-versus-a-copy\n",
      "  total_tutorial_users['tutor_after'] = total_tutorial_users.apply(lambda x: 1 if x['user_id'] in users_tutorial_finish_after else 0, axis=1)\n"
     ]
    }
   ],
   "source": [
    "total_tutorial_users = total_events_df[total_events_df['groups']==1]\n",
    "total_tutorial_users['tutor_after'] = total_tutorial_users.apply(lambda x: 1 if x['user_id'] in users_tutorial_finish_after else 0, axis=1)"
   ]
  },
  {
   "cell_type": "code",
   "execution_count": 19,
   "metadata": {},
   "outputs": [],
   "source": [
    "# Считаем \n",
    "tutor_df = total_tutorial_users.groupby('tutor_after')['amount'].sum() / total_tutorial_users.groupby('tutor_after')['amount'].count()"
   ]
  },
  {
   "cell_type": "markdown",
   "metadata": {},
   "source": [
    "Выводим график"
   ]
  },
  {
   "cell_type": "code",
   "execution_count": 20,
   "metadata": {},
   "outputs": [
    {
     "data": {
      "image/png": "[encoded data removed]",
      "text/plain": [
       "<Figure size 432x288 with 1 Axes>"
      ]
     },
     "metadata": {
      "needs_background": "light"
     },
     "output_type": "display_data"
    }
   ],
   "source": [
    "x2 = np.array(['Сначала обучение','Потом обучение'])\n",
    "fig_tutor = sns.barplot(\n",
    "    x=tutor_df.index,\n",
    "    y=tutor_df.values,\n",
    "    data=tutor_df,\n",
    "    dodge=False,\n",
    ")\n",
    "for container in fig_tutor.containers:\n",
    "    fig_tutor.bar_label(container)\n",
    "\n",
    "fig_tutor.set_title('Средний доход с пользователя');\n",
    "fig_tutor.set_xlabel('Группа');\n",
    "fig_tutor.set_ylabel('Оплата с чел., руб.');\n",
    "fig_tutor.set_xticklabels(x2)\n",
    "fig_tutor.grid()"
   ]
  },
  {
   "cell_type": "markdown",
   "metadata": {},
   "source": [
    "### Вывод:\n",
    "- `Как видим, сумма оплат практически не зависит от того, проходил пользователь сначала обучение, потом другие этапы игры или сначала попробовал играть, а затем прошел обучение.`"
   ]
  },
  {
   "cell_type": "markdown",
   "metadata": {},
   "source": [
    "***\n",
    "### Проверим 3-ю гипотезу\n",
    "#### Проверить, насколько прозрачен процесс взаимодействия с игрой."
   ]
  },
  {
   "cell_type": "markdown",
   "metadata": {},
   "source": [
    "- Для этого посчитаем процент тех пользователей, которые возвращались в обучение после выбора уровня сложности, от игроков которые не проходили обучение и не возвращались к нему."
   ]
  },
  {
   "cell_type": "code",
   "execution_count": 28,
   "metadata": {},
   "outputs": [
    {
     "name": "stdout",
     "output_type": "stream",
     "text": [
      "Процент пользователей, которые возвращались к обучению после выбора уровня: 18.76%\n"
     ]
    }
   ],
   "source": [
    "p_users_back2tutorial = len(users_tutorial_finish_after) / (len(users_not_tutorial) + len(users_tutorial_finish_after))\n",
    "print('Процент пользователей, которые возвращались к обучению после выбора уровня: {:.2%}'.format(p_users_back2tutorial))"
   ]
  },
  {
   "cell_type": "markdown",
   "metadata": {},
   "source": [
    "### Вывод:\n",
    "- `Процент пользователей прошедших обучение после того, как сначала выбрали уроевень равна около 19%, что означает, что процесс взаимодействия с игрой достаточно прозрачен!`"
   ]
  },
  {
   "cell_type": "markdown",
   "metadata": {},
   "source": [
    "## Подведем итоги\n",
    "1. Прохождение обучения положительно сказывается на времени прохождения этапов игры.\n",
    "2. Обучение положительно влияет на последующую оплату и не важно каким этапом проходило обучение.\n",
    "3. Процесс взаимодействия с игрой достаточно прозрачен."
   ]
  }
 ],
 "metadata": {
  "kernelspec": {
   "display_name": "Python 3.10.5 64-bit",
   "language": "python",
   "name": "python3"
  },
  "language_info": {
   "codemirror_mode": {
    "name": "ipython",
    "version": 3
   },
   "file_extension": ".py",
   "mimetype": "text/x-python",
   "name": "python",
   "nbconvert_exporter": "python",
   "pygments_lexer": "ipython3",
   "version": "3.10.5"
  },
  "orig_nbformat": 4,
  "vscode": {
   "interpreter": {
    "hash": "36c6851108447751ff9a78a375ee7b602a45470c5b7394c41491d0df81785d53"
   }
  }
 },
 "nbformat": 4,
 "nbformat_minor": 2
}
