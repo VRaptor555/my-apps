{
 "cells": [
  {
   "cell_type": "markdown",
   "metadata": {},
   "source": [
    "# Описание гипотезы\n",
    "### Проверим предположения\n",
    "1. Определить, насколько обучение сокращает время прохождения этапов игры.\n",
    "2. Доказать, что успешное обучение само по себе влияет на оплату и не имеет значения то, каким этапом оно шло.\n",
    "3. Проверить, насколько прозрачен процесс взаимодействия с игрой.\n",
    "#### Проверять будем на данных пользователей, зарегистрированных в 2018 году (1 января 2018 - 31 декабря 2018)"
   ]
  },
  {
   "cell_type": "markdown",
   "metadata": {},
   "source": [
    "Импротируем нужные библиотеки"
   ]
  },
  {
   "cell_type": "code",
   "execution_count": 44,
   "metadata": {},
   "outputs": [],
   "source": [
    "import pandas as pd\n",
    "import numpy as np\n",
    "import seaborn as sns\n",
    "import matplotlib.pyplot as plt"
   ]
  },
  {
   "cell_type": "markdown",
   "metadata": {},
   "source": [
    "Загружаем данные"
   ]
  },
  {
   "cell_type": "code",
   "execution_count": 45,
   "metadata": {},
   "outputs": [],
   "source": [
    "events_df = pd.read_csv('data/7_4_Events.csv', sep=',')\n",
    "purchase_df = pd.read_csv('data/purchase.csv', sep=',')"
   ]
  },
  {
   "cell_type": "markdown",
   "metadata": {},
   "source": [
    "## Производим предобработку данных"
   ]
  },
  {
   "cell_type": "markdown",
   "metadata": {},
   "source": [
    "Выделяем пользователей зарегистрирванных в 2018 году и загружаем данные по ним в отдельные датафреймы"
   ]
  },
  {
   "cell_type": "code",
   "execution_count": 46,
   "metadata": {},
   "outputs": [],
   "source": [
    "# Создаем фильтр по пользователям, зарегистрировавшихся в 2018 году\n",
    "mask = (events_df['start_time'] >= '2018-01-01') & (events_df['start_time'] < '2019-01-01') & (events_df['event_type'] == 'registration')\n",
    "\n",
    "regist_2018 = events_df[mask]['user_id'].to_list() # список пользователей зарегистрировавшихся в 2018 году \n",
    "\n",
    "events_2018 = events_df[events_df['user_id'].isin(regist_2018)].copy() # отбираем все записи с этими пользователями в таблице events\n",
    "purchase_2018 = purchase_df[purchase_df['user_id'].isin(regist_2018)].copy() # отбираем все записи с этими пользователями в таблице purchase\n"
   ]
  },
  {
   "cell_type": "markdown",
   "metadata": {},
   "source": [
    "Преобразуем даты в полученых датафреймах"
   ]
  },
  {
   "cell_type": "code",
   "execution_count": 47,
   "metadata": {},
   "outputs": [],
   "source": [
    "purchase_2018['event_datetime'] = pd.to_datetime(purchase_2018['event_datetime'])\n",
    "events_2018['start_time'] = pd.to_datetime(events_2018['start_time'])"
   ]
  },
  {
   "cell_type": "markdown",
   "metadata": {},
   "source": [
    "Перед объединением датафреймов, переименуем колонки идентификаторов"
   ]
  },
  {
   "cell_type": "code",
   "execution_count": 48,
   "metadata": {},
   "outputs": [],
   "source": [
    "events_2018 = events_2018.rename(columns={'id':'event_id'})\n",
    "purchase_2018 = purchase_2018.rename(columns={'id':'purchase_id'})\n",
    "purchase_2018['start_time'] = purchase_2018['event_datetime']\n",
    "purchase_2018['event_type'] = 'purchase'"
   ]
  },
  {
   "cell_type": "markdown",
   "metadata": {},
   "source": [
    "Сделаем объединенный датафрейм из событий и оплат"
   ]
  },
  {
   "cell_type": "code",
   "execution_count": 49,
   "metadata": {},
   "outputs": [],
   "source": [
    "total_events_df = pd.concat([events_2018,purchase_2018],sort=False)\n",
    "total_events_df = total_events_df.reset_index(drop=True).sort_values('start_time')"
   ]
  },
  {
   "cell_type": "markdown",
   "metadata": {},
   "source": [
    "### Проверим 1-ю гипотезу\n",
    "* Насколько обучение сокращает время прохождения этапов игры"
   ]
  },
  {
   "cell_type": "markdown",
   "metadata": {},
   "source": [
    "Сформируем группы пользователей, которые проходили обучение и которые не проходили"
   ]
  },
  {
   "cell_type": "code",
   "execution_count": 50,
   "metadata": {},
   "outputs": [
    {
     "name": "stdout",
     "output_type": "stream",
     "text": [
      "Количество пользователей завершивших обучение: 10250\n",
      "Количество пользователей не проходивших обучение: 9676\n"
     ]
    }
   ],
   "source": [
    "# Пользователи которые прошли обучение\n",
    "users_tutorial_finish = total_events_df[total_events_df['event_type'] == 'tutorial_finish']['user_id'].unique()\n",
    "print('Количество пользователей завершивших обучение: {}'.format(len(users_tutorial_finish)))\n",
    "# Пользователи которые не проходили обучение\n",
    "users_not_tutorial = total_events_df[~(total_events_df['user_id'].isin(users_tutorial_finish))]['user_id'].unique()\n",
    "print('Количество пользователей не проходивших обучение: {}'.format(len(users_not_tutorial)))"
   ]
  },
  {
   "cell_type": "markdown",
   "metadata": {},
   "source": [
    "Разобьем пользователей на группы"
   ]
  },
  {
   "cell_type": "code",
   "execution_count": 51,
   "metadata": {},
   "outputs": [],
   "source": [
    "#total_events_df['groups'] = total_events_df.apply(lambda x: 'С обучением' if x['user_id'] in users_tutorial_finish else 'Без обучения', axis=1)\n",
    "total_events_df['groups'] = total_events_df.apply(lambda x: 1 if x['user_id'] in users_tutorial_finish else 0, axis=1)"
   ]
  },
  {
   "cell_type": "markdown",
   "metadata": {},
   "source": [
    "Сформируем сводную таблицу прохождения этапов игры"
   ]
  },
  {
   "cell_type": "code",
   "execution_count": 52,
   "metadata": {},
   "outputs": [],
   "source": [
    "# оставляем только интерисующие нас эвенты\n",
    "#users_etap = total_events_df[(total_events_df['event_type'] == 'pack_choice') | (total_events_df['event_type'] == 'registration')]"
   ]
  },
  {
   "cell_type": "code",
   "execution_count": 53,
   "metadata": {},
   "outputs": [],
   "source": [
    "users_etap = total_events_df.pivot_table(\n",
    "    values='start_time',\n",
    "    index=['user_id','groups'],\n",
    "    columns='event_type',\n",
    "    aggfunc='min'\n",
    ")"
   ]
  },
  {
   "cell_type": "markdown",
   "metadata": {},
   "source": [
    "Вычислим разницу во времени прохождения этапов игры"
   ]
  },
  {
   "cell_type": "code",
   "execution_count": 54,
   "metadata": {},
   "outputs": [],
   "source": [
    "users_etap['level_diff'] = users_etap['level_choice'] - users_etap['registration']\n",
    "users_etap['pack_diff'] = users_etap['pack_choice'] - users_etap['level_choice']\n",
    "users_etap['purchase_diff'] = users_etap['purchase'] - users_etap['pack_choice']\n",
    "#users_etap['time_diff'] = (users_etap['level_diff'] + users_etap['pack_diff'] + users_etap['purchase_diff']).mean()"
   ]
  },
  {
   "cell_type": "markdown",
   "metadata": {},
   "source": [
    "Вычислим среднее время прохождения по группам"
   ]
  },
  {
   "cell_type": "code",
   "execution_count": 55,
   "metadata": {},
   "outputs": [],
   "source": [
    "group_avg = users_etap.groupby(by='groups')[['level_diff','pack_diff','purchase_diff']].mean()"
   ]
  },
  {
   "cell_type": "code",
   "execution_count": 56,
   "metadata": {},
   "outputs": [
    {
     "name": "stdout",
     "output_type": "stream",
     "text": [
      "<built-in method index of str object at 0x000002135399E8B0>\n",
      "<class 'str'>\n",
      "<built-in method index of str object at 0x000002135399E570>\n",
      "<class 'str'>\n",
      "<built-in method index of str object at 0x000002135398F770>\n",
      "<class 'str'>\n",
      "<built-in method index of str object at 0x000002134A685270>\n",
      "<class 'str'>\n"
     ]
    }
   ],
   "source": [
    "group_avg['time_diff'] = group_avg['level_diff'] + group_avg['pack_diff'] + group_avg['purchase_diff']\n",
    "for fin_ar in group_avg:\n",
    "    print(fin_ar.index)\n",
    "    print(type(fin_ar))\n"
   ]
  },
  {
   "cell_type": "markdown",
   "metadata": {},
   "source": [
    "Строим график"
   ]
  },
  {
   "cell_type": "code",
   "execution_count": 57,
   "metadata": {},
   "outputs": [
    {
     "ename": "SyntaxError",
     "evalue": "keyword argument repeated: hue (2139122326.py, line 7)",
     "output_type": "error",
     "traceback": [
      "\u001b[1;36m  Input \u001b[1;32mIn [57]\u001b[1;36m\u001b[0m\n\u001b[1;33m    hue=x1\u001b[0m\n\u001b[1;37m    ^\u001b[0m\n\u001b[1;31mSyntaxError\u001b[0m\u001b[1;31m:\u001b[0m keyword argument repeated: hue\n"
     ]
    }
   ],
   "source": [
    "x1 = np.array(['Без обучения','С обучением'])\n",
    "fig_tg = sns.barplot(\n",
    "    x=group_avg.index,\n",
    "    hue=x1,\n",
    "    y='time_diff',\n",
    "    data=group_avg,\n",
    "    hue=x1\n",
    ")\n",
    "plt.show()"
   ]
  },
  {
   "cell_type": "markdown",
   "metadata": {},
   "source": [
    "### Вывод:\n",
    "Прохождение обучения положительно сказывается на времени прохождения этапов игры.\n",
    "\n",
    "* Среднее время прохождения этапов игры у игроков без обучение 4 дня 6 часов 17 минут.\n",
    "* Среднее время прохождения этапов игры у игроков прошедших обучение 4 дня 28 минут, что на почти 6 часов меньше!\n",
    "\n",
    "***"
   ]
  },
  {
   "cell_type": "markdown",
   "metadata": {},
   "source": [
    "### Проверим 2-ю гипотезу\n",
    "* Доказать, что успешное обучение само по себе влияет на оплату и не имеет значения то, каким этапом оно шло."
   ]
  },
  {
   "cell_type": "markdown",
   "metadata": {},
   "source": [
    "Проверим количество игроков сделавших покупку, которые прошли обучение и которые не проходили обучение"
   ]
  },
  {
   "cell_type": "code",
   "execution_count": null,
   "metadata": {},
   "outputs": [],
   "source": [
    "purchase_count_df = total_events_df[total_events_df['event_type']=='purchase'].groupby(by=['groups'])['user_id'].count()\n",
    "purchase_amount_df = total_events_df[total_events_df['event_type']=='purchase'].groupby(by=['groups'])['amount'].sum()"
   ]
  },
  {
   "cell_type": "markdown",
   "metadata": {},
   "source": [
    "Выводим график по количеству пользователей сделавших оплату и суммам оплат"
   ]
  },
  {
   "cell_type": "code",
   "execution_count": null,
   "metadata": {},
   "outputs": [],
   "source": [
    "# Кол-во пользователей\n",
    "fig1 = px.pie(\n",
    "    data_frame=purchase_count_df,\n",
    "    values='user_id',\n",
    "    names=purchase_count_df.index,\n",
    "    height=500,\n",
    "    width=500,\n",
    "    title='Количество пользователей оплативших игру',\n",
    "    labels={'user_id':'Количество пользователей', 'groups':'Группа'}\n",
    "    )\n",
    "# Суммы оплат\n",
    "fig2 = px.pie(\n",
    "    data_frame=purchase_amount_df,\n",
    "    values='amount',\n",
    "    names=purchase_amount_df.index,\n",
    "    height=500,\n",
    "    width=500,\n",
    "    title='Сумма оплат',\n",
    "    labels={'amount':'Сумма', 'groups':'Группа'}\n",
    "    )\n",
    "#fig.update_traces(hoverinfo='label+percent', textinfo='value')\n",
    "fig1.update_traces(textposition='inside', textinfo='percent+value')\n",
    "fig2.update_traces(textposition='inside', textinfo='percent+value')\n",
    "\n",
    "fig1.show()\n",
    "fig2.show()\n"
   ]
  },
  {
   "cell_type": "markdown",
   "metadata": {},
   "source": [
    "### Вывод\n",
    "#### Количество пользователей сделавших оплату примерно в 10 раз больше, среди пользователей прошедших обучение. Примерно такое же соотношение в суммах сделаных оплат.\n",
    "Из этого следует, что само по себе обучение влияет на последующую оплату и уже совершенно не важно каким этапом оно шло"
   ]
  },
  {
   "cell_type": "markdown",
   "metadata": {},
   "source": [
    "***\n",
    "### Проверим 3-ю гипотезу\n",
    "* Проверить, насколько прозрачен процесс взаимодействия с игрой."
   ]
  },
  {
   "cell_type": "code",
   "execution_count": null,
   "metadata": {},
   "outputs": [],
   "source": []
  },
  {
   "cell_type": "markdown",
   "metadata": {},
   "source": [
    "Выводим график "
   ]
  },
  {
   "cell_type": "markdown",
   "metadata": {},
   "source": [
    "Выведим график"
   ]
  },
  {
   "cell_type": "code",
   "execution_count": null,
   "metadata": {},
   "outputs": [],
   "source": [
    "fig = px.bar(\n",
    "    data_frame=purchase_count_df,\n",
    "    x=purchase_count_df.index,\n",
    "    y='user_id',\n",
    "    color='user_id',\n",
    "    orientation='v',\n",
    "    height=500,\n",
    "    width=500,\n",
    "    title='Количество пользователей оплативших игру',\n",
    "    labels={'user_id':'Количество пользователей', 'groups':'Группы'},\n",
    ")\n",
    "fig.show()"
   ]
  },
  {
   "cell_type": "markdown",
   "metadata": {},
   "source": [
    "### Вывод по гипотезе №1\n",
    "* "
   ]
  },
  {
   "cell_type": "code",
   "execution_count": null,
   "metadata": {},
   "outputs": [],
   "source": [
    "total_events_df"
   ]
  },
  {
   "cell_type": "code",
   "execution_count": null,
   "metadata": {},
   "outputs": [],
   "source": [
    "group_avg"
   ]
  },
  {
   "cell_type": "code",
   "execution_count": null,
   "metadata": {},
   "outputs": [],
   "source": [
    "groups_df"
   ]
  },
  {
   "cell_type": "code",
   "execution_count": null,
   "metadata": {},
   "outputs": [],
   "source": [
    "group_avg.columns"
   ]
  },
  {
   "cell_type": "code",
   "execution_count": null,
   "metadata": {},
   "outputs": [],
   "source": [
    "level_choise_total"
   ]
  }
 ],
 "metadata": {
  "kernelspec": {
   "display_name": "Python 3.10.5 64-bit",
   "language": "python",
   "name": "python3"
  },
  "language_info": {
   "codemirror_mode": {
    "name": "ipython",
    "version": 3
   },
   "file_extension": ".py",
   "mimetype": "text/x-python",
   "name": "python",
   "nbconvert_exporter": "python",
   "pygments_lexer": "ipython3",
   "version": "3.10.5"
  },
  "orig_nbformat": 4,
  "vscode": {
   "interpreter": {
    "hash": "36c6851108447751ff9a78a375ee7b602a45470c5b7394c41491d0df81785d53"
   }
  }
 },
 "nbformat": 4,
 "nbformat_minor": 2
}
