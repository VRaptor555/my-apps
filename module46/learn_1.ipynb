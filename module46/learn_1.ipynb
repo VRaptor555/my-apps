{
 "cells": [
  {
   "cell_type": "code",
   "execution_count": 1,
   "metadata": {},
   "outputs": [],
   "source": [
    "from my_token import token_puch399\n"
   ]
  },
  {
   "cell_type": "code",
   "execution_count": 5,
   "metadata": {},
   "outputs": [],
   "source": [
    "import json \n",
    "import requests\n",
    "from pprint import pprint"
   ]
  },
  {
   "cell_type": "code",
   "execution_count": 6,
   "metadata": {},
   "outputs": [],
   "source": [
    "yandex_address_get = 'https://api-metrika.yandex.net/stat/v1/data'\n"
   ]
  },
  {
   "cell_type": "code",
   "execution_count": 7,
   "metadata": {},
   "outputs": [],
   "source": [
    "headers = {'Authorization': 'OAuth ' + token_puch399}"
   ]
  },
  {
   "cell_type": "code",
   "execution_count": 4,
   "metadata": {},
   "outputs": [],
   "source": [
    "# сформируем словарь параметров для получения информации о количестве визитов и просмотров страниц для разных источников трафика за период\n",
    "# с начала лета 2019 года до вчерашнего дня включительно. В случае если данных в отчёте много, предусмотрим загрузку первых 10000 строк отчёта:\n",
    "#params = {'metrics': 'ym:s:visits,ym:s:pageviews', #Суммарное количество визитов., Число просмотров страниц на сайте за отчетный период.\n",
    "#          'dimensions': 'ym:s:referer', #URL реферера\n",
    "#          'date1': '2019-06-01', # Начальная дата отчета\n",
    "#          'date2': 'yesterday', # Конечная дата отчета\n",
    "#          'limit': 10000, # Лимит строк\n",
    "#          'ids': 30177909} # Это идентификатор тестового счётчика Яндекс.Метрики"
   ]
  },
  {
   "cell_type": "code",
   "execution_count": 8,
   "metadata": {},
   "outputs": [],
   "source": [
    "params = {'metrics': 'ym:s:visits,ym:s:pageviews', \n",
    "          'dimensions': 'ym:s:referer',  \n",
    "          'date1': '2019-06-01',  \n",
    "          'date2': '2019-06-10',     \n",
    "          'ids': 30177909}"
   ]
  },
  {
   "cell_type": "code",
   "execution_count": 10,
   "metadata": {},
   "outputs": [
    {
     "name": "stdout",
     "output_type": "stream",
     "text": [
      "403\n"
     ]
    }
   ],
   "source": [
    "response = requests.get(yandex_address_get, params=params, headers=headers)\n",
    "print (response.status_code)"
   ]
  },
  {
   "cell_type": "code",
   "execution_count": null,
   "metadata": {},
   "outputs": [],
   "source": [
    "metrika_data = response.json()"
   ]
  }
 ],
 "metadata": {
  "kernelspec": {
   "display_name": "Python 3.10.5 64-bit",
   "language": "python",
   "name": "python3"
  },
  "language_info": {
   "codemirror_mode": {
    "name": "ipython",
    "version": 3
   },
   "file_extension": ".py",
   "mimetype": "text/x-python",
   "name": "python",
   "nbconvert_exporter": "python",
   "pygments_lexer": "ipython3",
   "version": "3.10.5"
  },
  "orig_nbformat": 4,
  "vscode": {
   "interpreter": {
    "hash": "52bb6d70ef49c02ab2aa43ab31bba4edd1c59a51e59b9fce56cbe4e55ae05671"
   }
  }
 },
 "nbformat": 4,
 "nbformat_minor": 2
}
