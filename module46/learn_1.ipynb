{
 "cells": [
  {
   "cell_type": "code",
   "execution_count": 1,
   "metadata": {},
   "outputs": [],
   "source": [
    "from my_token import token_puch399\n"
   ]
  },
  {
   "cell_type": "code",
   "execution_count": 16,
   "metadata": {},
   "outputs": [],
   "source": [
    "import json \n",
    "import requests\n",
    "from pprint import pprint\n",
    "import pandas as pd"
   ]
  },
  {
   "cell_type": "code",
   "execution_count": 3,
   "metadata": {},
   "outputs": [],
   "source": [
    "yandex_address_get = 'https://api-metrika.yandex.net/stat/v1/data'\n"
   ]
  },
  {
   "cell_type": "code",
   "execution_count": 4,
   "metadata": {},
   "outputs": [],
   "source": [
    "headers = {'Authorization': 'OAuth ' + token_puch399}"
   ]
  },
  {
   "cell_type": "code",
   "execution_count": 5,
   "metadata": {},
   "outputs": [],
   "source": [
    "# сформируем словарь параметров для получения информации о количестве визитов и просмотров страниц для разных источников трафика за период\n",
    "# с начала лета 2019 года до вчерашнего дня включительно. В случае если данных в отчёте много, предусмотрим загрузку первых 10000 строк отчёта:\n",
    "#params = {'metrics': 'ym:s:visits,ym:s:pageviews', #Суммарное количество визитов., Число просмотров страниц на сайте за отчетный период.\n",
    "#          'dimensions': 'ym:s:referer', #URL реферера\n",
    "#          'date1': '2019-06-01', # Начальная дата отчета\n",
    "#          'date2': 'yesterday', # Конечная дата отчета\n",
    "#          'limit': 10000, # Лимит строк\n",
    "#          'ids': 30177909} # Это идентификатор тестового счётчика Яндекс.Метрики"
   ]
  },
  {
   "cell_type": "code",
   "execution_count": 6,
   "metadata": {},
   "outputs": [],
   "source": [
    "params = {'metrics': 'ym:s:visits,ym:s:pageviews', \n",
    "          'dimensions': 'ym:s:referer',  \n",
    "          'date1': '2019-06-01',  \n",
    "          'date2': '2019-06-10',     \n",
    "          'ids': 30177909}"
   ]
  },
  {
   "cell_type": "code",
   "execution_count": 7,
   "metadata": {},
   "outputs": [
    {
     "name": "stdout",
     "output_type": "stream",
     "text": [
      "200\n"
     ]
    }
   ],
   "source": [
    "response = requests.get(yandex_address_get, params=params, headers=headers)\n",
    "print (response.status_code)"
   ]
  },
  {
   "cell_type": "code",
   "execution_count": 8,
   "metadata": {},
   "outputs": [],
   "source": [
    "metrika_data = response.json()"
   ]
  },
  {
   "cell_type": "code",
   "execution_count": 9,
   "metadata": {},
   "outputs": [
    {
     "name": "stdout",
     "output_type": "stream",
     "text": [
      "dict_keys(['query', 'data', 'total_rows', 'total_rows_rounded', 'sampled', 'contains_sensitive_data', 'sample_share', 'sample_size', 'sample_space', 'data_lag', 'totals', 'min', 'max'])\n"
     ]
    }
   ],
   "source": [
    "print (metrika_data.keys())"
   ]
  },
  {
   "cell_type": "code",
   "execution_count": 10,
   "metadata": {},
   "outputs": [
    {
     "name": "stdout",
     "output_type": "stream",
     "text": [
      "112\n"
     ]
    }
   ],
   "source": [
    "print (metrika_data['total_rows'])"
   ]
  },
  {
   "cell_type": "code",
   "execution_count": 23,
   "metadata": {},
   "outputs": [
    {
     "data": {
      "text/plain": [
       "[{'dimensions': [{'name': 'https://google.com/', 'favicon': 'google.com'}],\n",
       "  'metrics': [384.0, 444.0]},\n",
       " {'dimensions': [{'name': 'https://yandex.ru/', 'favicon': 'yandex.ru'}],\n",
       "  'metrics': [128.0, 146.0]},\n",
       " {'dimensions': [{'name': 'https://google.ru/', 'favicon': 'google.ru'}],\n",
       "  'metrics': [59.0, 65.0]},\n",
       " {'dimensions': [{'name': 'http://google.com/', 'favicon': 'google.com'}],\n",
       "  'metrics': [10.0, 10.0]},\n",
       " {'dimensions': [{'name': 'http://toolmark.ru/sokrovichica-analitika/',\n",
       "    'favicon': 'toolmark.ru'}],\n",
       "  'metrics': [8.0, 13.0]},\n",
       " {'dimensions': [{'name': 'https://yandex.kz/', 'favicon': 'yandex.kz'}],\n",
       "  'metrics': [8.0, 11.0]},\n",
       " {'dimensions': [{'name': 'https://yandex.by/', 'favicon': 'yandex.by'}],\n",
       "  'metrics': [5.0, 5.0]},\n",
       " {'dimensions': [{'name': 'android-app://org.telegram.messenger',\n",
       "    'favicon': 'android-app'}],\n",
       "  'metrics': [4.0, 7.0]},\n",
       " {'dimensions': [{'name': 'https://seonews.ru/', 'favicon': 'seonews.ru'}],\n",
       "  'metrics': [4.0, 5.0]},\n",
       " {'dimensions': [{'name': 'https://yandex.ua/', 'favicon': 'yandex.ua'}],\n",
       "  'metrics': [4.0, 5.0]},\n",
       " {'dimensions': [{'name': 'http://allmetrics.ru/threads/instrumenty-dlja-vygruzki-iz-metriki-v-excel.615/',\n",
       "    'favicon': 'allmetrics.ru'}],\n",
       "  'metrics': [3.0, 4.0]},\n",
       " {'dimensions': [{'name': 'android-app://com.Slack',\n",
       "    'favicon': 'android-app'}],\n",
       "  'metrics': [2.0, 2.0]},\n",
       " {'dimensions': [{'name': 'http://away.vk.com/away.php',\n",
       "    'favicon': 'away.vk.com'}],\n",
       "  'metrics': [2.0, 2.0]},\n",
       " {'dimensions': [{'name': 'http://datalytics.ru/',\n",
       "    'favicon': 'datalytics.ru'}],\n",
       "  'metrics': [2.0, 2.0]},\n",
       " {'dimensions': [{'name': 'http://datalytics.ru/all/stanovyas-guru-api-yandeks-metriki/',\n",
       "    'favicon': 'datalytics.ru'}],\n",
       "  'metrics': [2.0, 3.0]},\n",
       " {'dimensions': [{'name': 'http://localhost:8888/notebooks/VkusVill.ipynb',\n",
       "    'favicon': 'localhost'}],\n",
       "  'metrics': [2.0, 2.0]},\n",
       " {'dimensions': [{'name': 'http://yandex.ru/searchapp?text=',\n",
       "    'favicon': 'yandex.ru'}],\n",
       "  'metrics': [2.0, 2.0]},\n",
       " {'dimensions': [{'name': 'https://dangry.ru/', 'favicon': 'dangry.ru'}],\n",
       "  'metrics': [2.0, 3.0]},\n",
       " {'dimensions': [{'name': 'https://google.com.ua/',\n",
       "    'favicon': 'google.com.ua'}],\n",
       "  'metrics': [2.0, 2.0]},\n",
       " {'dimensions': [{'name': 'https://nova.rambler.ru/search?query=как забрать данные из clickhouse',\n",
       "    'favicon': 'nova.rambler.ru'}],\n",
       "  'metrics': [2.0, 5.0]},\n",
       " {'dimensions': [{'name': 'https://yandex.ru/clck/jsredir?bu=8sv7&from=yandex.ru;search%2F;web;;&text=&etext=2171&&l10n=ru&rp=1&hdtime=44304',\n",
       "    'favicon': 'yandex.ru'}],\n",
       "  'metrics': [2.0, 2.0]},\n",
       " {'dimensions': [{'name': 'https://yandex.ru/clck/jsredir?bu=8zfd&from=yandex.ru;search%2F;web;;&text=&etext=2174&&l10n',\n",
       "    'favicon': 'yandex.ru'}],\n",
       "  'metrics': [2.0, 2.0]},\n",
       " {'dimensions': [{'name': 'https://yandex.ru/clck/jsredir?bu=abj4&from=yandex.ru;search%2F;web;;&text=&etext=2177&&l10n=ru&rp=1&hdtime=3894.6',\n",
       "    'favicon': 'yandex.ru'}],\n",
       "  'metrics': [2.0, 2.0]},\n",
       " {'dimensions': [{'name': 'https://yandex.ru/clck/jsredir?bu=h24i&from=yandex.ru;search%2F;web;;&text=&etext=2175',\n",
       "    'favicon': 'yandex.ru'}],\n",
       "  'metrics': [2.0, 4.0]},\n",
       " {'dimensions': [{'name': 'http://datalytics.ru/all/rabotaem-s-api-google-drive-s-pomoschyu-python/',\n",
       "    'favicon': 'datalytics.ru'}],\n",
       "  'metrics': [1.0, 1.0]},\n",
       " {'dimensions': [{'name': 'http://datalytics.ru/all/s-chego-analitiku-nachat-izuchenie-python/',\n",
       "    'favicon': 'datalytics.ru'}],\n",
       "  'metrics': [1.0, 1.0]},\n",
       " {'dimensions': [{'name': 'http://datalytics.ru/all/spisok-stop-slov-yandeks-direkta/',\n",
       "    'favicon': 'datalytics.ru'}],\n",
       "  'metrics': [1.0, 2.0]},\n",
       " {'dimensions': [{'name': 'http://toolmark.ru/sokrovichica-analitika/?fbclid=IwAR0TxNzsNpq5iQ86h9axHCH7BcNXgiSOhY0GIEqk3gC_QCEKAv_pmzK168E',\n",
       "    'favicon': 'toolmark.ru'}],\n",
       "  'metrics': [1.0, 2.0]},\n",
       " {'dimensions': [{'name': 'http://toolmark.ru/sokrovichica-analitika/?fbclid=IwAR0kG3HdOkDqBIpnIknN1U3RQdCKhOweIPNgv11DFNfKfdJY2bmNeBcsa3g&_utl_t=tm',\n",
       "    'favicon': 'toolmark.ru'}],\n",
       "  'metrics': [1.0, 1.0]},\n",
       " {'dimensions': [{'name': 'http://toolmark.ru/sokrovichica-analitika/?fbclid=IwAR2EwNMezshXyceyRpH7Hl0-YLzCxOMkioYmO7he_AY1oKw47fA5uxLh6V0',\n",
       "    'favicon': 'toolmark.ru'}],\n",
       "  'metrics': [1.0, 1.0]},\n",
       " {'dimensions': [{'name': 'http://toolmark.ru/sokrovichica-analitika/?fbclid=IwAR3C9AzUoJBX4h9vTTaMDBpn4mNqCz0D8CWPTZT-aCKKi053Q3lavt3vVow',\n",
       "    'favicon': 'toolmark.ru'}],\n",
       "  'metrics': [1.0, 1.0]},\n",
       " {'dimensions': [{'name': 'http://yandex.ru/clck/jsredir?bu=2o6o&from=yandex.ru;search%2F;web;;&text=&etext=2175&&l10n=ru',\n",
       "    'favicon': 'yandex.ru'}],\n",
       "  'metrics': [1.0, 1.0]},\n",
       " {'dimensions': [{'name': 'http://yandex.ru/clck/jsredir?bu=9ue2&from=yandex.ru;search%2F;web;;&text=&etext=2172&&l10n=ru',\n",
       "    'favicon': 'yandex.ru'}],\n",
       "  'metrics': [1.0, 1.0]},\n",
       " {'dimensions': [{'name': 'http://yandex.ru/clck/jsredir?bu=jl9n&from=yandex.ru;search%2Fpad%2F;web;;&text=&etext=2175&&l10n=ru&hdtime=225979',\n",
       "    'favicon': 'yandex.ru'}],\n",
       "  'metrics': [1.0, 1.0]},\n",
       " {'dimensions': [{'name': 'https://facebook.com/', 'favicon': 'facebook.com'}],\n",
       "  'metrics': [1.0, 1.0]},\n",
       " {'dimensions': [{'name': 'https://google.by/', 'favicon': 'google.by'}],\n",
       "  'metrics': [1.0, 1.0]},\n",
       " {'dimensions': [{'name': 'https://google.ch/', 'favicon': 'google.ch'}],\n",
       "  'metrics': [1.0, 1.0]},\n",
       " {'dimensions': [{'name': 'https://google.co.uk/', 'favicon': 'google.co.uk'}],\n",
       "  'metrics': [1.0, 1.0]},\n",
       " {'dimensions': [{'name': 'https://l.facebook.com/',\n",
       "    'favicon': 'l.facebook.com'}],\n",
       "  'metrics': [1.0, 2.0]},\n",
       " {'dimensions': [{'name': 'https://t.co/AfZMl4Vgy9', 'favicon': 't.co'}],\n",
       "  'metrics': [1.0, 1.0]},\n",
       " {'dimensions': [{'name': 'https://yandex.kz/clck/jsredir?bu=245s&from=yandex.kz;search%2F;web;;&text=&etext=2176&&l10n=ru&rp=1&hdtime=59874.765',\n",
       "    'favicon': 'yandex.kz'}],\n",
       "  'metrics': [1.0, 1.0]},\n",
       " {'dimensions': [{'name': 'https://yandex.ru/clck/jsredir?bu=14pr&from=www.yandex.ru;yandsearch;web;;&text=&etext=2170',\n",
       "    'favicon': 'yandex.ru'}],\n",
       "  'metrics': [1.0, 1.0]},\n",
       " {'dimensions': [{'name': 'https://yandex.ru/clck/jsredir?bu=174k&from=yandex.ru;search%2F;web;;&text=&etext=2179&&l10n=ru&rp=1&hdtime=6104',\n",
       "    'favicon': 'yandex.ru'}],\n",
       "  'metrics': [1.0, 1.0]},\n",
       " {'dimensions': [{'name': 'https://yandex.ru/clck/jsredir?bu=1fpn&from=yandex.ru;search%2F;web;;&text=&etext=2179&&l10n=ru&rp=1&hdtime=15911.88',\n",
       "    'favicon': 'yandex.ru'}],\n",
       "  'metrics': [1.0, 1.0]},\n",
       " {'dimensions': [{'name': 'https://yandex.ru/clck/jsredir?bu=1g1s&from=yandex.ru;yandsearch;web;;&text=&etext=2174&&l10n=ru&rp=1&hdtime=2636.535',\n",
       "    'favicon': 'yandex.ru'}],\n",
       "  'metrics': [1.0, 2.0]},\n",
       " {'dimensions': [{'name': 'https://yandex.ru/clck/jsredir?bu=1mkh&from=yandex.ru;search%2F;web;;&text=&etext=2174&&l10n=ru&hdtime=343340',\n",
       "    'favicon': 'yandex.ru'}],\n",
       "  'metrics': [1.0, 1.0]},\n",
       " {'dimensions': [{'name': 'https://yandex.ru/clck/jsredir?bu=1mkh&from=yandex.ru;search%2F;web;;&text=&etext=2174&&l10n=ru&hdtime=3801344',\n",
       "    'favicon': 'yandex.ru'}],\n",
       "  'metrics': [1.0, 2.0]},\n",
       " {'dimensions': [{'name': 'https://yandex.ru/clck/jsredir?bu=1mwt&from=yandex.ru;padsearch;web;;&text=&etext=2179&&l10n=ru&hdtime=9539.37',\n",
       "    'favicon': 'yandex.ru'}],\n",
       "  'metrics': [1.0, 1.0]},\n",
       " {'dimensions': [{'name': 'https://yandex.ru/clck/jsredir?bu=1osg&from=yandex.ru;search%2F;web;;&text=&etext=2176&&l10n=ru&rp=1&hdtime=7528.81',\n",
       "    'favicon': 'yandex.ru'}],\n",
       "  'metrics': [1.0, 1.0]},\n",
       " {'dimensions': [{'name': 'https://yandex.ru/clck/jsredir?bu=2akn&from=yandex.ru;search%2F;web;;&text=&etext=2174&&l10n=ru&rp=1&hdtime=10050.245',\n",
       "    'favicon': 'yandex.ru'}],\n",
       "  'metrics': [1.0, 1.0]},\n",
       " {'dimensions': [{'name': 'https://yandex.ru/clck/jsredir?bu=3fn5&from=yandex.ru;search%2F;web;;&text=&etext=2171&&l10n=ru&rp=1&hdtime=3820.615',\n",
       "    'favicon': 'yandex.ru'}],\n",
       "  'metrics': [1.0, 1.0]},\n",
       " {'dimensions': [{'name': 'https://yandex.ru/clck/jsredir?bu=4emf&from=yandex.ru;search%2F;web;;&text=&etext=2175&&l10n=ru&rp=1&hdtime=58720.185',\n",
       "    'favicon': 'yandex.ru'}],\n",
       "  'metrics': [1.0, 1.0]},\n",
       " {'dimensions': [{'name': 'https://yandex.ru/clck/jsredir?bu=4l2l&from=yandex.ru;search%2F;web;;&text=&etext=2173',\n",
       "    'favicon': 'yandex.ru'}],\n",
       "  'metrics': [1.0, 1.0]},\n",
       " {'dimensions': [{'name': 'https://yandex.ru/clck/jsredir?bu=4suy&from=www.yandex.ru;search%2F;web;;&text=&etext=2179&&l10n=ru&rp=1&hdtime=105856',\n",
       "    'favicon': 'yandex.ru'}],\n",
       "  'metrics': [1.0, 1.0]},\n",
       " {'dimensions': [{'name': 'https://yandex.ru/clck/jsredir?bu=55ax&from=yandex.ru;search%2F;web;;&text=&etext=2174&&l10n=ru&rp=1&hdtime=417140.55',\n",
       "    'favicon': 'yandex.ru'}],\n",
       "  'metrics': [1.0, 1.0]},\n",
       " {'dimensions': [{'name': 'https://yandex.ru/clck/jsredir?bu=5bv1&from=yandex.ru;search%2F;web;;&text=&etext=2171&&l10n=ru&rp=1&hdtime=29291.595',\n",
       "    'favicon': 'yandex.ru'}],\n",
       "  'metrics': [1.0, 1.0]},\n",
       " {'dimensions': [{'name': 'https://yandex.ru/clck/jsredir?bu=5nh6&from=yandex.ru;search%2F;web;;&text=&etext=2176',\n",
       "    'favicon': 'yandex.ru'}],\n",
       "  'metrics': [1.0, 1.0]},\n",
       " {'dimensions': [{'name': 'https://yandex.ru/clck/jsredir?bu=65p2&from=yandex.ru;search%2F;web;;&text=&etext=2173&&l10n=ru&rp=1&hdtime=19791.64',\n",
       "    'favicon': 'yandex.ru'}],\n",
       "  'metrics': [1.0, 1.0]},\n",
       " {'dimensions': [{'name': 'https://yandex.ru/clck/jsredir?bu=65zz&from=www.yandex.ru;search%2F;web;;&text=&etext=2171&&l10n=ru&rp=1&hdtime=2677.8',\n",
       "    'favicon': 'yandex.ru'}],\n",
       "  'metrics': [1.0, 1.0]},\n",
       " {'dimensions': [{'name': 'https://yandex.ru/clck/jsredir?bu=68p7&from=yandex.ru;search%2F;web;;&text=&etext=2176&&l10n=ru&rp=1&hdtime=3696.34',\n",
       "    'favicon': 'yandex.ru'}],\n",
       "  'metrics': [1.0, 1.0]},\n",
       " {'dimensions': [{'name': 'https://yandex.ru/clck/jsredir?bu=6cb1&from=yandex.ru;search%2F;web;;&text=&etext=2173&&l10n=ru&rp=1&hdtime=15694.3',\n",
       "    'favicon': 'yandex.ru'}],\n",
       "  'metrics': [1.0, 1.0]},\n",
       " {'dimensions': [{'name': 'https://yandex.ru/clck/jsredir?bu=6pkh&from=yandex.ru;search%2F;web;;&text=&etext=2174',\n",
       "    'favicon': 'yandex.ru'}],\n",
       "  'metrics': [1.0, 3.0]},\n",
       " {'dimensions': [{'name': 'https://yandex.ru/clck/jsredir?bu=6rg6&from=www.yandex.ru;search%2F;web;;&text=&etext=2174&&l10n=ru&hdtime=2780.095',\n",
       "    'favicon': 'yandex.ru'}],\n",
       "  'metrics': [1.0, 2.0]},\n",
       " {'dimensions': [{'name': 'https://yandex.ru/clck/jsredir?bu=6w8&from=yandex.ru;search%2F;web;;&text=&etext=2177&&l10n=ru&rp=1&hdtime=7101.135',\n",
       "    'favicon': 'yandex.ru'}],\n",
       "  'metrics': [1.0, 1.0]},\n",
       " {'dimensions': [{'name': 'https://yandex.ru/clck/jsredir?bu=77nj&from=yandex.ru;search%2F;web;;&text=&etext=2174&&l10n=ru&rp=1&hdtime=12118.185',\n",
       "    'favicon': 'yandex.ru'}],\n",
       "  'metrics': [1.0, 1.0]},\n",
       " {'dimensions': [{'name': 'https://yandex.ru/clck/jsredir?bu=7cg4&from=yandex.ru;search%2F;web;;&text=&etext=2171&&l10n=ru&rp=1&hdtime=3338.41',\n",
       "    'favicon': 'yandex.ru'}],\n",
       "  'metrics': [1.0, 1.0]},\n",
       " {'dimensions': [{'name': 'https://yandex.ru/clck/jsredir?bu=7qrm&from=yandex.ru;search%2F;web;;&text=&etext=2175&&l10n=ru&rp=1&hdtime=410437.93',\n",
       "    'favicon': 'yandex.ru'}],\n",
       "  'metrics': [1.0, 1.0]},\n",
       " {'dimensions': [{'name': 'https://yandex.ru/clck/jsredir?bu=7tps&from=yandex.ru;search%2F;web;;&text=&etext=2170&&l10n=ru&rp=1',\n",
       "    'favicon': 'yandex.ru'}],\n",
       "  'metrics': [1.0, 1.0]},\n",
       " {'dimensions': [{'name': 'https://yandex.ru/clck/jsredir?bu=7u76&from=yandex.ru;search%2F;web;;&text=&etext=2174&&l10n=ru&rp=1&hdtime=489858',\n",
       "    'favicon': 'yandex.ru'}],\n",
       "  'metrics': [1.0, 1.0]},\n",
       " {'dimensions': [{'name': 'https://yandex.ru/clck/jsredir?bu=8b1s&from=yandex.ru;search%2F;web;;&text=&etext=2174&&l10n=ru&rp=1&hdtime=26672.485',\n",
       "    'favicon': 'yandex.ru'}],\n",
       "  'metrics': [1.0, 2.0]},\n",
       " {'dimensions': [{'name': 'https://yandex.ru/clck/jsredir?bu=8f0k&from=yandex.ru;search%2F;web;;&text=&etext=2175&&l10n=ru&rp=1&hdtime=32577.2',\n",
       "    'favicon': 'yandex.ru'}],\n",
       "  'metrics': [1.0, 1.0]},\n",
       " {'dimensions': [{'name': 'https://yandex.ru/clck/jsredir?bu=8poo&from=yandex.ru;search%2F;web;;&text=&etext=2170&&l10n=ru&rp=1&hdtime=97508.965',\n",
       "    'favicon': 'yandex.ru'}],\n",
       "  'metrics': [1.0, 1.0]},\n",
       " {'dimensions': [{'name': 'https://yandex.ru/clck/jsredir?bu=8rbl&from=yandex.ru;search%2F;web;;&text=&etext=2176&&l10n=ru&rp=1&hdtime=730836',\n",
       "    'favicon': 'yandex.ru'}],\n",
       "  'metrics': [1.0, 1.0]},\n",
       " {'dimensions': [{'name': 'https://yandex.ru/clck/jsredir?bu=9ax&from=yandex.ru;search%2F;web;;&text=&etext=2174&&l10n=ru&rp=1&hdtime=1443.085',\n",
       "    'favicon': 'yandex.ru'}],\n",
       "  'metrics': [1.0, 2.0]},\n",
       " {'dimensions': [{'name': 'https://yandex.ru/clck/jsredir?bu=9b5l&from=yandex.ru;search%2F;web;;&text=&etext=2173&&l10n=ru&rp=1&hdtime=40769',\n",
       "    'favicon': 'yandex.ru'}],\n",
       "  'metrics': [1.0, 1.0]},\n",
       " {'dimensions': [{'name': 'https://yandex.ru/clck/jsredir?bu=9box&from=yandex.ru;search%2F;web;;&text=&etext=2177&&l10n=ru&rp=1&hdtime=196633.415',\n",
       "    'favicon': 'yandex.ru'}],\n",
       "  'metrics': [1.0, 1.0]},\n",
       " {'dimensions': [{'name': 'https://yandex.ru/clck/jsredir?bu=9z17&from=yandex.ru;search%2F;web;;&text=&etext=2172&&l10n=ru&rp=1&hdtime=25473.51',\n",
       "    'favicon': 'yandex.ru'}],\n",
       "  'metrics': [1.0, 1.0]},\n",
       " {'dimensions': [{'name': 'https://yandex.ru/clck/jsredir?bu=a077&from=yandex.ru;search%2F;web;;&text=&etext=2174&&l10n=ru&hdtime=2500',\n",
       "    'favicon': 'yandex.ru'}],\n",
       "  'metrics': [1.0, 1.0]},\n",
       " {'dimensions': [{'name': 'https://yandex.ru/clck/jsredir?bu=a0sz&from=yandex.ru;search%2F;web;;&text=&etext=2175&&l10n=ru&rp=1&hdtime=65714',\n",
       "    'favicon': 'yandex.ru'}],\n",
       "  'metrics': [1.0, 1.0]},\n",
       " {'dimensions': [{'name': 'https://yandex.ru/clck/jsredir?bu=b4tr&from=yandex.ru;search%2F;web;;&text=&etext=2174&&l10n=ru&rp=1&hdtime=7094.15',\n",
       "    'favicon': 'yandex.ru'}],\n",
       "  'metrics': [1.0, 1.0]},\n",
       " {'dimensions': [{'name': 'https://yandex.ru/clck/jsredir?bu=bam0&from=yandex.ru;yandsearch;web;;&text=&etext=2171&&l10n=ru&rp=1',\n",
       "    'favicon': 'yandex.ru'}],\n",
       "  'metrics': [1.0, 1.0]},\n",
       " {'dimensions': [{'name': 'https://yandex.ru/clck/jsredir?bu=br2a&from=yandex.ru;search%2Fpad%2F;web;;&text=&etext=2174&&l10n=ru&hdtime=2104.1',\n",
       "    'favicon': 'yandex.ru'}],\n",
       "  'metrics': [1.0, 1.0]},\n",
       " {'dimensions': [{'name': 'https://yandex.ru/clck/jsredir?bu=c35d&from=yandex.ru;search%2F;web;;&text=&etext=2174&&l10n=ru&rp=1&hdtime=8200.795',\n",
       "    'favicon': 'yandex.ru'}],\n",
       "  'metrics': [1.0, 1.0]},\n",
       " {'dimensions': [{'name': 'https://yandex.ru/clck/jsredir?bu=cttt&from=yandex.ru;search%2F;web;;&text=&etext=2175&&l10n=ru&rp=1&hdtime=440246.86',\n",
       "    'favicon': 'yandex.ru'}],\n",
       "  'metrics': [1.0, 4.0]},\n",
       " {'dimensions': [{'name': 'https://yandex.ru/clck/jsredir?bu=czig&from=yandex.ru;search%2F;web;;&text=&etext=2178&&l10n=ru&rp=1&hdtime=41562.435',\n",
       "    'favicon': 'yandex.ru'}],\n",
       "  'metrics': [1.0, 1.0]},\n",
       " {'dimensions': [{'name': 'https://yandex.ru/clck/jsredir?bu=dgjp&from=yandex.ru;search%2F;web;;&text=&etext=2172&&l10n=ru&rp=1&hdtime=14262.835',\n",
       "    'favicon': 'yandex.ru'}],\n",
       "  'metrics': [1.0, 1.0]},\n",
       " {'dimensions': [{'name': 'https://yandex.ru/clck/jsredir?bu=djf&from=yandex.ru;search%2F;web;;&text=&etext=2179&&l10n=ru&rp=1&hdtime=8448.26',\n",
       "    'favicon': 'yandex.ru'}],\n",
       "  'metrics': [1.0, 1.0]},\n",
       " {'dimensions': [{'name': 'https://yandex.ru/clck/jsredir?bu=e18w&from=yandex.ru;search%2F;web;;&text=&etext=2169&&l10n=ru&rp=1&hdtime=16076.31',\n",
       "    'favicon': 'yandex.ru'}],\n",
       "  'metrics': [1.0, 1.0]},\n",
       " {'dimensions': [{'name': 'https://yandex.ru/clck/jsredir?bu=e6uk&from=yandex.ru;search%2F;web;;&text=&etext=2175&&l10n=ru&rp=1&hdtime=5461.555',\n",
       "    'favicon': 'yandex.ru'}],\n",
       "  'metrics': [1.0, 1.0]},\n",
       " {'dimensions': [{'name': 'https://yandex.ru/clck/jsredir?bu=eb0k&from=yandex.ru;search%2F;web;;&text=&etext=2174&&l10n=ru&rp=1&hdtime=4778.675',\n",
       "    'favicon': 'yandex.ru'}],\n",
       "  'metrics': [1.0, 1.0]},\n",
       " {'dimensions': [{'name': 'https://yandex.ru/clck/jsredir?bu=egy4&from=yandex.ru;search%2F;web;;&text=&etext=2177&&l10n=ru&rp=1&hdtime=24397',\n",
       "    'favicon': 'yandex.ru'}],\n",
       "  'metrics': [1.0, 1.0]},\n",
       " {'dimensions': [{'name': 'https://yandex.ru/clck/jsredir?bu=fi1c&from=www.yandex.ru;search%2F;web;;&text=&etext=2173',\n",
       "    'favicon': 'yandex.ru'}],\n",
       "  'metrics': [1.0, 1.0]},\n",
       " {'dimensions': [{'name': 'https://yandex.ru/clck/jsredir?bu=gcz7&from=www.yandex.ru;search%2F;web;;&text=&etext=2175&&l10n=ru&rp=1&hdtime=7161',\n",
       "    'favicon': 'yandex.ru'}],\n",
       "  'metrics': [1.0, 1.0]},\n",
       " {'dimensions': [{'name': 'https://yandex.ru/clck/jsredir?bu=gunv&from=yandex.ru;search%2F;web;;&text=&etext=2174&&l10n=ru&rp=1&hdtime=1764.6',\n",
       "    'favicon': 'yandex.ru'}],\n",
       "  'metrics': [1.0, 1.0]},\n",
       " {'dimensions': [{'name': 'https://yandex.ru/clck/jsredir?bu=gy35&from=yandex.ru;search%2F;web;;&text=&etext=2174&&l10n=ru&rp=1&hdtime=26162',\n",
       "    'favicon': 'yandex.ru'}],\n",
       "  'metrics': [1.0, 1.0]},\n",
       " {'dimensions': [{'name': 'https://yandex.ru/clck/jsredir?bu=ham&from=yandex.ru;search%2F;web;;&text=&etext=2171&&l10n=ru&rp=1&hdtime=44743.435',\n",
       "    'favicon': 'yandex.ru'}],\n",
       "  'metrics': [1.0, 1.0]},\n",
       " {'dimensions': [{'name': 'https://yandex.ru/clck/jsredir?bu=hcs5&from=yandex.ru;search%2F;web;;&text=&etext=2174',\n",
       "    'favicon': 'yandex.ru'}],\n",
       "  'metrics': [1.0, 1.0]},\n",
       " {'dimensions': [{'name': 'https://yandex.ru/clck/jsredir?bu=hdxj&from=yandex.ru;search%2F;web;;&text=&etext=2171&&l10n=ru&rp=1',\n",
       "    'favicon': 'yandex.ru'}],\n",
       "  'metrics': [1.0, 2.0]},\n",
       " {'dimensions': [{'name': 'https://yandex.ru/clck/jsredir?bu=im6t&from=yandex.ru;search%2F;web;;&text=&etext=2172&&l10n=ru&rp=1&hdtime=5210',\n",
       "    'favicon': 'yandex.ru'}],\n",
       "  'metrics': [1.0, 2.0]},\n",
       " {'dimensions': [{'name': 'https://yandex.ru/clck/jsredir?bu=jyy9&from=yandex.ru;search%2F;web;;&text=&etext=2170&&l10n=ru&rp=1&hdtime=3662.245',\n",
       "    'favicon': 'yandex.ru'}],\n",
       "  'metrics': [1.0, 1.0]}]"
      ]
     },
     "execution_count": 23,
     "metadata": {},
     "output_type": "execute_result"
    }
   ],
   "source": [
    "metrika_data['data']"
   ]
  },
  {
   "cell_type": "code",
   "execution_count": 42,
   "metadata": {},
   "outputs": [],
   "source": [
    "visits = []\n",
    "metrik_dt = []\n",
    "for ind in range(len(metrika_data['data'])):\n",
    "    search_text = metrika_data['data'][ind]['dimensions'][0]['name'].lower()\n",
    "    favicon = metrika_data['data'][ind]['dimensions'][0]['favicon'].lower()\n",
    "    count = metrika_data['data'][ind]['metrics'][0]\n",
    "    pview = metrika_data['data'][ind]['metrics'][1]\n",
    "    visits.append([search_text, count, pview, favicon])\n",
    "    metrik_dt.append({'ym:s:referer': search_text, 'ym:s:visits': count, 'ym:s:pageviews': pview})"
   ]
  },
  {
   "cell_type": "code",
   "execution_count": 37,
   "metadata": {},
   "outputs": [],
   "source": [
    "visits_df = pd.DataFrame(visits)"
   ]
  },
  {
   "cell_type": "code",
   "execution_count": 38,
   "metadata": {},
   "outputs": [],
   "source": [
    "visits_df.columns = ['referer', 'visits','pageview','favicon']"
   ]
  },
  {
   "cell_type": "code",
   "execution_count": 39,
   "metadata": {},
   "outputs": [
    {
     "data": {
      "text/plain": [
       "array(['allmetrics.ru', 'android-app', 'away.vk.com', 'dangry.ru',\n",
       "       'datalytics.ru', 'facebook.com', 'google.by', 'google.ch',\n",
       "       'google.co.uk', 'google.com', 'google.com.ua', 'google.ru',\n",
       "       'l.facebook.com', 'localhost', 'nova.rambler.ru', 'seonews.ru',\n",
       "       't.co', 'toolmark.ru', 'yandex.by', 'yandex.kz', 'yandex.ru',\n",
       "       'yandex.ua'], dtype=object)"
      ]
     },
     "execution_count": 39,
     "metadata": {},
     "output_type": "execute_result"
    }
   ],
   "source": [
    "visits_df.favicon.sort_values().unique()"
   ]
  },
  {
   "cell_type": "code",
   "execution_count": 41,
   "metadata": {},
   "outputs": [
    {
     "data": {
      "text/plain": [
       "64"
      ]
     },
     "execution_count": 41,
     "metadata": {},
     "output_type": "execute_result"
    }
   ],
   "source": [
    "visits_df[visits_df['pageview']==1]['referer'].unique().shape[0]"
   ]
  },
  {
   "cell_type": "code",
   "execution_count": 44,
   "metadata": {},
   "outputs": [],
   "source": [
    "metrik_df = pd.DataFrame(metrik_dt)"
   ]
  },
  {
   "cell_type": "code",
   "execution_count": 45,
   "metadata": {},
   "outputs": [
    {
     "name": "stdout",
     "output_type": "stream",
     "text": [
      "200\n"
     ]
    }
   ],
   "source": [
    "params = {'metrics': 'ym:s:users', \n",
    "          'dimensions': 'ym:s:date',  \n",
    "          'date1': '2019-05-01',  \n",
    "          'date2': '2019-05-31',     \n",
    "          'ids': 30177909}\n",
    "response = requests.get(yandex_address_get, params=params, headers=headers)\n",
    "print (response.status_code)"
   ]
  },
  {
   "cell_type": "code",
   "execution_count": 46,
   "metadata": {},
   "outputs": [],
   "source": [
    "user_may = response.json()"
   ]
  },
  {
   "cell_type": "code",
   "execution_count": 47,
   "metadata": {},
   "outputs": [
    {
     "name": "stdout",
     "output_type": "stream",
     "text": [
      "{'contains_sensitive_data': False,\n",
      " 'data': [{'dimensions': [{'name': '2019-05-16'}], 'metrics': [121.0]},\n",
      "          {'dimensions': [{'name': '2019-05-20'}], 'metrics': [111.0]},\n",
      "          {'dimensions': [{'name': '2019-05-13'}], 'metrics': [110.0]},\n",
      "          {'dimensions': [{'name': '2019-05-22'}], 'metrics': [106.0]},\n",
      "          {'dimensions': [{'name': '2019-05-15'}], 'metrics': [104.0]},\n",
      "          {'dimensions': [{'name': '2019-05-23'}], 'metrics': [102.0]},\n",
      "          {'dimensions': [{'name': '2019-05-14'}], 'metrics': [101.0]},\n",
      "          {'dimensions': [{'name': '2019-05-30'}], 'metrics': [94.0]},\n",
      "          {'dimensions': [{'name': '2019-05-21'}], 'metrics': [93.0]},\n",
      "          {'dimensions': [{'name': '2019-05-31'}], 'metrics': [93.0]},\n",
      "          {'dimensions': [{'name': '2019-05-06'}], 'metrics': [90.0]},\n",
      "          {'dimensions': [{'name': '2019-05-29'}], 'metrics': [90.0]},\n",
      "          {'dimensions': [{'name': '2019-05-07'}], 'metrics': [89.0]},\n",
      "          {'dimensions': [{'name': '2019-05-08'}], 'metrics': [88.0]},\n",
      "          {'dimensions': [{'name': '2019-05-24'}], 'metrics': [87.0]},\n",
      "          {'dimensions': [{'name': '2019-05-28'}], 'metrics': [87.0]},\n",
      "          {'dimensions': [{'name': '2019-05-17'}], 'metrics': [84.0]},\n",
      "          {'dimensions': [{'name': '2019-05-27'}], 'metrics': [78.0]},\n",
      "          {'dimensions': [{'name': '2019-05-19'}], 'metrics': [57.0]},\n",
      "          {'dimensions': [{'name': '2019-05-26'}], 'metrics': [56.0]},\n",
      "          {'dimensions': [{'name': '2019-05-25'}], 'metrics': [55.0]},\n",
      "          {'dimensions': [{'name': '2019-05-12'}], 'metrics': [54.0]},\n",
      "          {'dimensions': [{'name': '2019-05-09'}], 'metrics': [53.0]},\n",
      "          {'dimensions': [{'name': '2019-05-18'}], 'metrics': [51.0]},\n",
      "          {'dimensions': [{'name': '2019-05-02'}], 'metrics': [50.0]},\n",
      "          {'dimensions': [{'name': '2019-05-10'}], 'metrics': [50.0]},\n",
      "          {'dimensions': [{'name': '2019-05-11'}], 'metrics': [49.0]},\n",
      "          {'dimensions': [{'name': '2019-05-03'}], 'metrics': [44.0]},\n",
      "          {'dimensions': [{'name': '2019-05-04'}], 'metrics': [44.0]},\n",
      "          {'dimensions': [{'name': '2019-05-01'}], 'metrics': [31.0]},\n",
      "          {'dimensions': [{'name': '2019-05-05'}], 'metrics': [29.0]}],\n",
      " 'data_lag': 0,\n",
      " 'max': [121.0],\n",
      " 'min': [29.0],\n",
      " 'query': {'adfox_event_id': '0',\n",
      "           'attr_name': '',\n",
      "           'attribution': 'LastSign',\n",
      "           'auto_group_size': '1',\n",
      "           'currency': 'RUB',\n",
      "           'date1': '2019-05-01',\n",
      "           'date2': '2019-05-31',\n",
      "           'dimensions': ['ym:s:date'],\n",
      "           'group': 'Week',\n",
      "           'ids': [30177909],\n",
      "           'limit': 100,\n",
      "           'metrics': ['ym:s:users'],\n",
      "           'offline_window': '21',\n",
      "           'offset': 1,\n",
      "           'quantile': '50',\n",
      "           'sort': ['-ym:s:users']},\n",
      " 'sample_share': 1.0,\n",
      " 'sample_size': 2711,\n",
      " 'sample_space': 2711,\n",
      " 'sampled': False,\n",
      " 'total_rows': 31,\n",
      " 'total_rows_rounded': False,\n",
      " 'totals': [2033.0]}\n"
     ]
    }
   ],
   "source": [
    "pprint(user_may)"
   ]
  },
  {
   "cell_type": "code",
   "execution_count": 50,
   "metadata": {},
   "outputs": [],
   "source": [
    "usersm = []\n",
    "for ind in range(len(user_may['data'])):\n",
    "    day_visit = user_may['data'][ind]['dimensions'][0]['name']\n",
    "    count = user_may['data'][ind]['metrics'][0]\n",
    "    usersm.append({'data': day_visit, 'visits': count})\n",
    "usersm_df = pd.DataFrame(usersm)"
   ]
  },
  {
   "cell_type": "code",
   "execution_count": 52,
   "metadata": {},
   "outputs": [
    {
     "data": {
      "text/plain": [
       "75.83870967741936"
      ]
     },
     "execution_count": 52,
     "metadata": {},
     "output_type": "execute_result"
    }
   ],
   "source": [
    "usersm_df['visits'].mean()"
   ]
  },
  {
   "cell_type": "code",
   "execution_count": 71,
   "metadata": {},
   "outputs": [
    {
     "name": "stdout",
     "output_type": "stream",
     "text": [
      "200\n"
     ]
    }
   ],
   "source": [
    "params = {'metrics': 'ym:s:visits', \n",
    "          'dimensions': 'ym:s:lastSearchPhrase',  \n",
    "          'date1': '2019-05-01',  \n",
    "          'date2': '2019-05-31', \n",
    "          'limit': 10000,\n",
    "          'ids': 30177909}\n",
    "response = requests.get(yandex_address_get, params=params, headers=headers)\n",
    "print (response.status_code)"
   ]
  },
  {
   "cell_type": "code",
   "execution_count": 72,
   "metadata": {},
   "outputs": [],
   "source": [
    "word_python = response.json()"
   ]
  },
  {
   "cell_type": "code",
   "execution_count": 73,
   "metadata": {},
   "outputs": [
    {
     "name": "stdout",
     "output_type": "stream",
     "text": [
      "python обновление файла google диск 8.0\n",
      "python bigquery 4.0\n",
      "python идентификация сессии по логам 2.0\n",
      "python сохранить таблицу в bigqwery 2.0\n",
      "python3 and bigquerry 2.0\n",
      "анализ данных с помощью python 2.0\n",
      "аналитика на python 2.0\n",
      "bigquery api python 1.0\n",
      "bigquery python 1.0\n",
      "data mining python anaconda 1.0\n",
      "google docs api python 1.0\n",
      "google drive api python 1.0\n",
      "google drive python api 1.0\n",
      "google drive python upload permission s 1.0\n",
      "google drive python пример 1.0\n",
      "google drive как работать из python 1.0\n",
      "google sheets python отправить через get api 1.0\n",
      "googledrive modules for python 1.0\n",
      "python 3 google drive 1.0\n",
      "python connect to google drive 1.0\n",
      "python google api list q 1.0\n",
      "python google disk 1.0\n",
      "python google drive api 1.0\n",
      "python google drive client 1.0\n",
      "python pandas разделить столбец 1.0\n",
      "python with google disc 1.0\n",
      "python анализ интернет 1.0\n",
      "python в аналитике 1.0\n",
      "python для bigquery 1.0\n",
      "python для аналитиков 1.0\n",
      "python для аналитиков данных 1.0\n",
      "python для бизнес-аналитиков 1.0\n",
      "python для экспорта логов в clickhause 1.0\n",
      "python загрузить данные из google диска 1.0\n",
      "python запись в гуглдок 1.0\n",
      "python разделить колонку 1.0\n",
      "python снять google 1.0\n",
      "rest api google drive python 1.0\n",
      "аналитик данных на python 1.0\n",
      "аналитика при помози python примеры 1.0\n",
      "аналитика с python 1.0\n",
      "выгрузка api analytics python 1.0\n",
      "для чего python аналитику 1.0\n",
      "доступ к google диску из python 1.0\n",
      "знание python для аналитика 1.0\n",
      "обязанности аналитика данных python 1.0\n",
      "поведенческая аналитика сайта при помощи python 1.0\n",
      "преобразование json в excel python 1.0\n",
      "примеры программ на python для аналитиков 1.0\n",
      "работаем на python в google cloud sql 1.0\n",
      "финансовая аналитка python 1.0\n",
      "яндекс метрика последний переход python 1.0\n",
      "67\n"
     ]
    }
   ],
   "source": [
    "visits_py = []\n",
    "for elem in word_python['data']:\n",
    "    search_text = elem['dimensions'][0]['name'].lower()\n",
    "    count = elem['metrics'][0]\n",
    "    if 'python' in search_text:\n",
    "        print(search_text, count)\n",
    "        visits_py.append(count)\n",
    "print(round(sum(visits_py)))\n",
    "\n"
   ]
  },
  {
   "cell_type": "code",
   "execution_count": 64,
   "metadata": {},
   "outputs": [
    {
     "data": {
      "text/plain": [
       "33.0"
      ]
     },
     "execution_count": 64,
     "metadata": {},
     "output_type": "execute_result"
    }
   ],
   "source": [
    "sum(visits_py)"
   ]
  }
 ],
 "metadata": {
  "kernelspec": {
   "display_name": "Python 3.10.5 64-bit",
   "language": "python",
   "name": "python3"
  },
  "language_info": {
   "codemirror_mode": {
    "name": "ipython",
    "version": 3
   },
   "file_extension": ".py",
   "mimetype": "text/x-python",
   "name": "python",
   "nbconvert_exporter": "python",
   "pygments_lexer": "ipython3",
   "version": "3.10.5"
  },
  "orig_nbformat": 4,
  "vscode": {
   "interpreter": {
    "hash": "36c6851108447751ff9a78a375ee7b602a45470c5b7394c41491d0df81785d53"
   }
  }
 },
 "nbformat": 4,
 "nbformat_minor": 2
}
